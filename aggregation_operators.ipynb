{
 "cells": [
  {
   "cell_type": "markdown",
   "id": "6b98145d",
   "metadata": {},
   "source": [
    "# Opérateurs d'agrégation\n",
    "\n",
    "les opérations d'agrégations permettent de:\n",
    "- Rassembler les valeurs de plusieurs documents ensemble.\n",
    "- Effectuer des opérations sur plusieurs documents et returner une seul valeur.\n",
    "\n",
    "\n",
    "les agrégateurs peuvent-etre utilisé dans une pipeline."
   ]
  },
  {
   "cell_type": "code",
   "execution_count": 1,
   "id": "d948256d",
   "metadata": {},
   "outputs": [],
   "source": [
    "from pymongo import MongoClient\n",
    "from pandas import DataFrame as df\n",
    "import dotenv\n",
    "import os\n",
    "\n",
    "def connect_to_db(url=None):\n",
    "    return MongoClient(url)\n",
    "\n",
    "dotenv.load_dotenv()\n",
    "\n",
    "connection = connect_to_db(os.getenv(\"MONGO_URI\"))\n",
    "db = connection[\"update_operation\"]\n",
    "collection = db[\"aggregators\"]\n",
    "\n",
    "def display_collection(collection):\n",
    "    display(df(collection).drop(\"_id\", axis=1))"
   ]
  },
  {
   "cell_type": "code",
   "execution_count": 2,
   "id": "857d8273",
   "metadata": {},
   "outputs": [
    {
     "data": {
      "text/html": [
       "<div>\n",
       "<style scoped>\n",
       "    .dataframe tbody tr th:only-of-type {\n",
       "        vertical-align: middle;\n",
       "    }\n",
       "\n",
       "    .dataframe tbody tr th {\n",
       "        vertical-align: top;\n",
       "    }\n",
       "\n",
       "    .dataframe thead th {\n",
       "        text-align: right;\n",
       "    }\n",
       "</style>\n",
       "<table border=\"1\" class=\"dataframe\">\n",
       "  <thead>\n",
       "    <tr style=\"text-align: right;\">\n",
       "      <th></th>\n",
       "      <th>name</th>\n",
       "      <th>job</th>\n",
       "      <th>people_saved</th>\n",
       "      <th>power</th>\n",
       "    </tr>\n",
       "  </thead>\n",
       "  <tbody>\n",
       "    <tr>\n",
       "      <th>0</th>\n",
       "      <td>Superman</td>\n",
       "      <td>Hero</td>\n",
       "      <td>3000000</td>\n",
       "      <td>[Oui]</td>\n",
       "    </tr>\n",
       "    <tr>\n",
       "      <th>1</th>\n",
       "      <td>Batman</td>\n",
       "      <td>Hero</td>\n",
       "      <td>15994000</td>\n",
       "      <td>[Money, Arts martiaux, Technology]</td>\n",
       "    </tr>\n",
       "    <tr>\n",
       "      <th>2</th>\n",
       "      <td>Mr Terrific</td>\n",
       "      <td>Hero</td>\n",
       "      <td>302002</td>\n",
       "      <td>[Cerveau, Technology]</td>\n",
       "    </tr>\n",
       "    <tr>\n",
       "      <th>3</th>\n",
       "      <td>Silver Surfer</td>\n",
       "      <td>Heraut</td>\n",
       "      <td>16000000000</td>\n",
       "      <td>[Silver, Surfer]</td>\n",
       "    </tr>\n",
       "    <tr>\n",
       "      <th>4</th>\n",
       "      <td>Docteur Doom</td>\n",
       "      <td>Villain</td>\n",
       "      <td>0</td>\n",
       "      <td>[]</td>\n",
       "    </tr>\n",
       "    <tr>\n",
       "      <th>5</th>\n",
       "      <td>Posion Ivy</td>\n",
       "      <td>Villain</td>\n",
       "      <td>-560</td>\n",
       "      <td>[Nature]</td>\n",
       "    </tr>\n",
       "    <tr>\n",
       "      <th>6</th>\n",
       "      <td>Jean Michel</td>\n",
       "      <td>Comptable</td>\n",
       "      <td>1</td>\n",
       "      <td>[Mathématiques]</td>\n",
       "    </tr>\n",
       "  </tbody>\n",
       "</table>\n",
       "</div>"
      ],
      "text/plain": [
       "            name        job  people_saved                               power\n",
       "0       Superman       Hero       3000000                               [Oui]\n",
       "1         Batman       Hero      15994000  [Money, Arts martiaux, Technology]\n",
       "2    Mr Terrific       Hero        302002               [Cerveau, Technology]\n",
       "3  Silver Surfer     Heraut   16000000000                    [Silver, Surfer]\n",
       "4   Docteur Doom    Villain             0                                  []\n",
       "5     Posion Ivy    Villain          -560                            [Nature]\n",
       "6    Jean Michel  Comptable             1                     [Mathématiques]"
      ]
     },
     "metadata": {},
     "output_type": "display_data"
    }
   ],
   "source": [
    "# Données de tests\n",
    "\n",
    "def create_people(name, profession, people_saved, power):\n",
    "    return ({\n",
    "        \"name\": name,\n",
    "        \"job\": profession,\n",
    "        \"people_saved\": people_saved,\n",
    "        \"power\": power,\n",
    "    })\n",
    "\n",
    "collection.delete_many({}) \n",
    "\n",
    "collection.insert_many([\n",
    "    create_people(\"Superman\", \"Hero\", 3_000_000, [\"Oui\"]),\n",
    "    create_people(\"Batman\", \"Hero\", 15_994_000, [\"Money\", \"Arts martiaux\", \"Technology\"]),\n",
    "    create_people(\"Mr Terrific\", \"Hero\", 302_002, [\"Cerveau\", \"Technology\"]),\n",
    "    create_people(\"Silver Surfer\", \"Heraut\", 16_000_000_000, [\"Silver\", \"Surfer\"]),\n",
    "    create_people(\"Docteur Doom\", \"Villain\", 0, []),\n",
    "    create_people(\"Posion Ivy\", \"Villain\", -560, [\"Nature\"]),\n",
    "    create_people(\"Jean Michel\", \"Comptable\", 1, [\"Mathématiques\"]),\n",
    "])\n",
    "\n",
    "display_collection(collection.find())"
   ]
  },
  {
   "cell_type": "markdown",
   "id": "dca37dd5",
   "metadata": {},
   "source": [
    "## `$match`\n",
    "\n",
    "Filtre les documents avec le prédicat de requetes spécifié.  \n",
    "Un prédicat de requete est une expression qui retourne un booléen. La syntax du prédicat est la meme que pour un requete `find()`. Les opérateurs de comparaisons peuvent donc etre utilisé."
   ]
  },
  {
   "cell_type": "code",
   "execution_count": 7,
   "id": "c05199a2",
   "metadata": {},
   "outputs": [
    {
     "name": "stdout",
     "output_type": "stream",
     "text": [
      "Toutes les personnes ayant pour profession 'Hero':\n"
     ]
    },
    {
     "data": {
      "text/html": [
       "<div>\n",
       "<style scoped>\n",
       "    .dataframe tbody tr th:only-of-type {\n",
       "        vertical-align: middle;\n",
       "    }\n",
       "\n",
       "    .dataframe tbody tr th {\n",
       "        vertical-align: top;\n",
       "    }\n",
       "\n",
       "    .dataframe thead th {\n",
       "        text-align: right;\n",
       "    }\n",
       "</style>\n",
       "<table border=\"1\" class=\"dataframe\">\n",
       "  <thead>\n",
       "    <tr style=\"text-align: right;\">\n",
       "      <th></th>\n",
       "      <th>name</th>\n",
       "      <th>job</th>\n",
       "      <th>people_saved</th>\n",
       "      <th>power</th>\n",
       "    </tr>\n",
       "  </thead>\n",
       "  <tbody>\n",
       "    <tr>\n",
       "      <th>0</th>\n",
       "      <td>Superman</td>\n",
       "      <td>Hero</td>\n",
       "      <td>Beaucoup</td>\n",
       "      <td>[Oui]</td>\n",
       "    </tr>\n",
       "    <tr>\n",
       "      <th>1</th>\n",
       "      <td>Batman</td>\n",
       "      <td>Hero</td>\n",
       "      <td>15999994</td>\n",
       "      <td>[Money, Arts martiaux, Technology]</td>\n",
       "    </tr>\n",
       "    <tr>\n",
       "      <th>2</th>\n",
       "      <td>Mr Terrific</td>\n",
       "      <td>Hero</td>\n",
       "      <td>302002</td>\n",
       "      <td>[Cerveau, Technology]</td>\n",
       "    </tr>\n",
       "  </tbody>\n",
       "</table>\n",
       "</div>"
      ],
      "text/plain": [
       "          name   job people_saved                               power\n",
       "0     Superman  Hero     Beaucoup                               [Oui]\n",
       "1       Batman  Hero     15999994  [Money, Arts martiaux, Technology]\n",
       "2  Mr Terrific  Hero       302002               [Cerveau, Technology]"
      ]
     },
     "metadata": {},
     "output_type": "display_data"
    }
   ],
   "source": [
    "# On souhaite recupérer seulement les personnes dans les professions sont 'Hero'\n",
    "res = collection.aggregate([{ '$match': {'job': {'$eq': 'Hero'}} }])\n",
    "print(\"Toutes les personnes ayant pour profession 'Hero':\")\n",
    "display_collection(res)\n"
   ]
  },
  {
   "cell_type": "markdown",
   "id": "eaf6ee4e",
   "metadata": {},
   "source": [
    "## `$group`\n",
    "Combine plusieurs documents en fonction d'un champs défini.  \n",
    "On peut utiliser des operateurs d'accumulation tel que `min`, `max`, `count`, `avg`, `first`, `last` et bien d'autres. La liste complète est disponible [ici](https://www.mongodb.com/docs/manual/reference/operator/aggregation/group/)"
   ]
  },
  {
   "cell_type": "code",
   "execution_count": 8,
   "id": "95678733",
   "metadata": {},
   "outputs": [
    {
     "name": "stdout",
     "output_type": "stream",
     "text": [
      "Liste des personnes en fonction de leur métier:\n"
     ]
    },
    {
     "data": {
      "text/html": [
       "<div>\n",
       "<style scoped>\n",
       "    .dataframe tbody tr th:only-of-type {\n",
       "        vertical-align: middle;\n",
       "    }\n",
       "\n",
       "    .dataframe tbody tr th {\n",
       "        vertical-align: top;\n",
       "    }\n",
       "\n",
       "    .dataframe thead th {\n",
       "        text-align: right;\n",
       "    }\n",
       "</style>\n",
       "<table border=\"1\" class=\"dataframe\">\n",
       "  <thead>\n",
       "    <tr style=\"text-align: right;\">\n",
       "      <th></th>\n",
       "      <th>job</th>\n",
       "      <th>names</th>\n",
       "    </tr>\n",
       "  </thead>\n",
       "  <tbody>\n",
       "    <tr>\n",
       "      <th>0</th>\n",
       "      <td>Hero</td>\n",
       "      <td>[Superman, Batman, Mr Terrific, Silver Surfer,...</td>\n",
       "    </tr>\n",
       "  </tbody>\n",
       "</table>\n",
       "</div>"
      ],
      "text/plain": [
       "    job                                              names\n",
       "0  Hero  [Superman, Batman, Mr Terrific, Silver Surfer,..."
      ]
     },
     "metadata": {},
     "output_type": "display_data"
    }
   ],
   "source": [
    "# On souhaite récupérer une liste de toutes les personnes en fonction de leur métier.\n",
    "res = collection.aggregate([\n",
    "    { \"$group\": {\n",
    "        \"_id\": \"$profession\",\n",
    "        \"job\": {\"$first\": \"$job\"},\n",
    "        \"names\": {\"$push\": \"$name\"},\n",
    "    }}\n",
    "])\n",
    "print(\"Liste des personnes en fonction de leur métier:\")\n",
    "display_collection(res)"
   ]
  },
  {
   "cell_type": "markdown",
   "id": "979bd657",
   "metadata": {},
   "source": [
    "## `$project`\n",
    "Crée un nouveau document, à partir des documents entrants.\n",
    "Permet de créer de nouveau champs.  \n",
    "Permet d'inclure ou d'exclure des champs d'un document/requete."
   ]
  },
  {
   "cell_type": "code",
   "execution_count": null,
   "id": "811ab6e0",
   "metadata": {},
   "outputs": [
    {
     "name": "stdout",
     "output_type": "stream",
     "text": [
      "Liste des noms des personnes :\n"
     ]
    },
    {
     "data": {
      "text/html": [
       "<div>\n",
       "<style scoped>\n",
       "    .dataframe tbody tr th:only-of-type {\n",
       "        vertical-align: middle;\n",
       "    }\n",
       "\n",
       "    .dataframe tbody tr th {\n",
       "        vertical-align: top;\n",
       "    }\n",
       "\n",
       "    .dataframe thead th {\n",
       "        text-align: right;\n",
       "    }\n",
       "</style>\n",
       "<table border=\"1\" class=\"dataframe\">\n",
       "  <thead>\n",
       "    <tr style=\"text-align: right;\">\n",
       "      <th></th>\n",
       "      <th>people_saved</th>\n",
       "      <th>secret_name</th>\n",
       "    </tr>\n",
       "  </thead>\n",
       "  <tbody>\n",
       "    <tr>\n",
       "      <th>0</th>\n",
       "      <td>3000000</td>\n",
       "      <td>Supermen</td>\n",
       "    </tr>\n",
       "    <tr>\n",
       "      <th>1</th>\n",
       "      <td>15994000</td>\n",
       "      <td>Betmen</td>\n",
       "    </tr>\n",
       "    <tr>\n",
       "      <th>2</th>\n",
       "      <td>302002</td>\n",
       "      <td>Mr Terrific</td>\n",
       "    </tr>\n",
       "    <tr>\n",
       "      <th>3</th>\n",
       "      <td>16000000000</td>\n",
       "      <td>Silver Surfer</td>\n",
       "    </tr>\n",
       "    <tr>\n",
       "      <th>4</th>\n",
       "      <td>0</td>\n",
       "      <td>Docteur Doom</td>\n",
       "    </tr>\n",
       "    <tr>\n",
       "      <th>5</th>\n",
       "      <td>-560</td>\n",
       "      <td>Posion Ivy</td>\n",
       "    </tr>\n",
       "    <tr>\n",
       "      <th>6</th>\n",
       "      <td>1</td>\n",
       "      <td>Jeen Michel</td>\n",
       "    </tr>\n",
       "  </tbody>\n",
       "</table>\n",
       "</div>"
      ],
      "text/plain": [
       "   people_saved    secret_name\n",
       "0       3000000       Supermen\n",
       "1      15994000         Betmen\n",
       "2        302002    Mr Terrific\n",
       "3   16000000000  Silver Surfer\n",
       "4             0   Docteur Doom\n",
       "5          -560     Posion Ivy\n",
       "6             1    Jeen Michel"
      ]
     },
     "metadata": {},
     "output_type": "display_data"
    }
   ],
   "source": [
    "res = collection.aggregate([{\n",
    "    \"$project\": {\n",
    "        \"power\": 1,\n",
    "        \"people_saved\": 1,\n",
    "        \"secret_name\": { \"$replaceAll\": \n",
    "            {\"input\": \"$name\",  \"find\": \"a\", \"replacement\": \"e\"}\n",
    "        },\n",
    "    }},\n",
    "    {\"$project\": { \"power\": 0 }}, \n",
    "])\n",
    "print(\"Liste des noms des personnes :\")\n",
    "display_collection(res)"
   ]
  },
  {
   "cell_type": "markdown",
   "id": "c8ec8e0c",
   "metadata": {},
   "source": [
    "## `$sort`\n",
    "Trie les documents selon le champs spécifié"
   ]
  },
  {
   "cell_type": "code",
   "execution_count": 10,
   "id": "cc223eff",
   "metadata": {},
   "outputs": [
    {
     "name": "stdout",
     "output_type": "stream",
     "text": [
      "Personne ayant sauvé le plus de personnes par ordre croissant :\n"
     ]
    },
    {
     "data": {
      "text/html": [
       "<div>\n",
       "<style scoped>\n",
       "    .dataframe tbody tr th:only-of-type {\n",
       "        vertical-align: middle;\n",
       "    }\n",
       "\n",
       "    .dataframe tbody tr th {\n",
       "        vertical-align: top;\n",
       "    }\n",
       "\n",
       "    .dataframe thead th {\n",
       "        text-align: right;\n",
       "    }\n",
       "</style>\n",
       "<table border=\"1\" class=\"dataframe\">\n",
       "  <thead>\n",
       "    <tr style=\"text-align: right;\">\n",
       "      <th></th>\n",
       "      <th>name</th>\n",
       "      <th>job</th>\n",
       "      <th>people_saved</th>\n",
       "      <th>power</th>\n",
       "    </tr>\n",
       "  </thead>\n",
       "  <tbody>\n",
       "    <tr>\n",
       "      <th>0</th>\n",
       "      <td>Posion Ivy</td>\n",
       "      <td>Villain</td>\n",
       "      <td>-560</td>\n",
       "      <td>[Nature]</td>\n",
       "    </tr>\n",
       "    <tr>\n",
       "      <th>1</th>\n",
       "      <td>Docteur Doom</td>\n",
       "      <td>Villain</td>\n",
       "      <td>0</td>\n",
       "      <td>[]</td>\n",
       "    </tr>\n",
       "    <tr>\n",
       "      <th>2</th>\n",
       "      <td>Jean Michel</td>\n",
       "      <td>Comptable</td>\n",
       "      <td>1</td>\n",
       "      <td>[Mathématiques]</td>\n",
       "    </tr>\n",
       "    <tr>\n",
       "      <th>3</th>\n",
       "      <td>Mr Terrific</td>\n",
       "      <td>Hero</td>\n",
       "      <td>302002</td>\n",
       "      <td>[Cerveau, Technology]</td>\n",
       "    </tr>\n",
       "    <tr>\n",
       "      <th>4</th>\n",
       "      <td>Batman</td>\n",
       "      <td>Hero</td>\n",
       "      <td>15999994</td>\n",
       "      <td>[Money, Arts martiaux, Technology]</td>\n",
       "    </tr>\n",
       "    <tr>\n",
       "      <th>5</th>\n",
       "      <td>Silver Surfer</td>\n",
       "      <td>Heraut</td>\n",
       "      <td>16000000000</td>\n",
       "      <td>[Silver, Surfer]</td>\n",
       "    </tr>\n",
       "    <tr>\n",
       "      <th>6</th>\n",
       "      <td>Superman</td>\n",
       "      <td>Hero</td>\n",
       "      <td>Beaucoup</td>\n",
       "      <td>[Oui]</td>\n",
       "    </tr>\n",
       "  </tbody>\n",
       "</table>\n",
       "</div>"
      ],
      "text/plain": [
       "            name        job people_saved                               power\n",
       "0     Posion Ivy    Villain         -560                            [Nature]\n",
       "1   Docteur Doom    Villain            0                                  []\n",
       "2    Jean Michel  Comptable            1                     [Mathématiques]\n",
       "3    Mr Terrific       Hero       302002               [Cerveau, Technology]\n",
       "4         Batman       Hero     15999994  [Money, Arts martiaux, Technology]\n",
       "5  Silver Surfer     Heraut  16000000000                    [Silver, Surfer]\n",
       "6       Superman       Hero     Beaucoup                               [Oui]"
      ]
     },
     "metadata": {},
     "output_type": "display_data"
    },
    {
     "name": "stdout",
     "output_type": "stream",
     "text": [
      "Nom des personnes par ordre alphabétique inversé :\n"
     ]
    },
    {
     "data": {
      "text/html": [
       "<div>\n",
       "<style scoped>\n",
       "    .dataframe tbody tr th:only-of-type {\n",
       "        vertical-align: middle;\n",
       "    }\n",
       "\n",
       "    .dataframe tbody tr th {\n",
       "        vertical-align: top;\n",
       "    }\n",
       "\n",
       "    .dataframe thead th {\n",
       "        text-align: right;\n",
       "    }\n",
       "</style>\n",
       "<table border=\"1\" class=\"dataframe\">\n",
       "  <thead>\n",
       "    <tr style=\"text-align: right;\">\n",
       "      <th></th>\n",
       "      <th>name</th>\n",
       "      <th>job</th>\n",
       "      <th>people_saved</th>\n",
       "      <th>power</th>\n",
       "    </tr>\n",
       "  </thead>\n",
       "  <tbody>\n",
       "    <tr>\n",
       "      <th>0</th>\n",
       "      <td>Superman</td>\n",
       "      <td>Hero</td>\n",
       "      <td>Beaucoup</td>\n",
       "      <td>[Oui]</td>\n",
       "    </tr>\n",
       "    <tr>\n",
       "      <th>1</th>\n",
       "      <td>Silver Surfer</td>\n",
       "      <td>Heraut</td>\n",
       "      <td>16000000000</td>\n",
       "      <td>[Silver, Surfer]</td>\n",
       "    </tr>\n",
       "    <tr>\n",
       "      <th>2</th>\n",
       "      <td>Posion Ivy</td>\n",
       "      <td>Villain</td>\n",
       "      <td>-560</td>\n",
       "      <td>[Nature]</td>\n",
       "    </tr>\n",
       "    <tr>\n",
       "      <th>3</th>\n",
       "      <td>Mr Terrific</td>\n",
       "      <td>Hero</td>\n",
       "      <td>302002</td>\n",
       "      <td>[Cerveau, Technology]</td>\n",
       "    </tr>\n",
       "    <tr>\n",
       "      <th>4</th>\n",
       "      <td>Jean Michel</td>\n",
       "      <td>Comptable</td>\n",
       "      <td>1</td>\n",
       "      <td>[Mathématiques]</td>\n",
       "    </tr>\n",
       "    <tr>\n",
       "      <th>5</th>\n",
       "      <td>Docteur Doom</td>\n",
       "      <td>Villain</td>\n",
       "      <td>0</td>\n",
       "      <td>[]</td>\n",
       "    </tr>\n",
       "    <tr>\n",
       "      <th>6</th>\n",
       "      <td>Batman</td>\n",
       "      <td>Hero</td>\n",
       "      <td>15999994</td>\n",
       "      <td>[Money, Arts martiaux, Technology]</td>\n",
       "    </tr>\n",
       "  </tbody>\n",
       "</table>\n",
       "</div>"
      ],
      "text/plain": [
       "            name        job people_saved                               power\n",
       "0       Superman       Hero     Beaucoup                               [Oui]\n",
       "1  Silver Surfer     Heraut  16000000000                    [Silver, Surfer]\n",
       "2     Posion Ivy    Villain         -560                            [Nature]\n",
       "3    Mr Terrific       Hero       302002               [Cerveau, Technology]\n",
       "4    Jean Michel  Comptable            1                     [Mathématiques]\n",
       "5   Docteur Doom    Villain            0                                  []\n",
       "6         Batman       Hero     15999994  [Money, Arts martiaux, Technology]"
      ]
     },
     "metadata": {},
     "output_type": "display_data"
    }
   ],
   "source": [
    "res = collection.aggregate([{\"$sort\": {\"people_saved\": 1}}])\n",
    "print(\"Personne ayant sauvé le plus de personnes par ordre croissant :\")\n",
    "display_collection(res)\n",
    "\n",
    "res = collection.aggregate([{\"$sort\": {\"name\": -1}}])\n",
    "print(\"Nom des personnes par ordre alphabétique inversé :\")\n",
    "display_collection(res)"
   ]
  },
  {
   "cell_type": "markdown",
   "id": "9bfc5d55",
   "metadata": {},
   "source": [
    "## `$limit`\n",
    "Limite le nombre de documents retours."
   ]
  },
  {
   "cell_type": "code",
   "execution_count": 11,
   "id": "0ab6c536",
   "metadata": {},
   "outputs": [
    {
     "name": "stdout",
     "output_type": "stream",
     "text": [
      "Les 3 personnes qui ont sauvé le plus de monde\n"
     ]
    },
    {
     "data": {
      "text/html": [
       "<div>\n",
       "<style scoped>\n",
       "    .dataframe tbody tr th:only-of-type {\n",
       "        vertical-align: middle;\n",
       "    }\n",
       "\n",
       "    .dataframe tbody tr th {\n",
       "        vertical-align: top;\n",
       "    }\n",
       "\n",
       "    .dataframe thead th {\n",
       "        text-align: right;\n",
       "    }\n",
       "</style>\n",
       "<table border=\"1\" class=\"dataframe\">\n",
       "  <thead>\n",
       "    <tr style=\"text-align: right;\">\n",
       "      <th></th>\n",
       "      <th>name</th>\n",
       "      <th>job</th>\n",
       "      <th>people_saved</th>\n",
       "      <th>power</th>\n",
       "    </tr>\n",
       "  </thead>\n",
       "  <tbody>\n",
       "    <tr>\n",
       "      <th>0</th>\n",
       "      <td>Superman</td>\n",
       "      <td>Hero</td>\n",
       "      <td>Beaucoup</td>\n",
       "      <td>[Oui]</td>\n",
       "    </tr>\n",
       "    <tr>\n",
       "      <th>1</th>\n",
       "      <td>Silver Surfer</td>\n",
       "      <td>Heraut</td>\n",
       "      <td>16000000000</td>\n",
       "      <td>[Silver, Surfer]</td>\n",
       "    </tr>\n",
       "    <tr>\n",
       "      <th>2</th>\n",
       "      <td>Batman</td>\n",
       "      <td>Hero</td>\n",
       "      <td>15999994</td>\n",
       "      <td>[Money, Arts martiaux, Technology]</td>\n",
       "    </tr>\n",
       "  </tbody>\n",
       "</table>\n",
       "</div>"
      ],
      "text/plain": [
       "            name     job people_saved                               power\n",
       "0       Superman    Hero     Beaucoup                               [Oui]\n",
       "1  Silver Surfer  Heraut  16000000000                    [Silver, Surfer]\n",
       "2         Batman    Hero     15999994  [Money, Arts martiaux, Technology]"
      ]
     },
     "metadata": {},
     "output_type": "display_data"
    }
   ],
   "source": [
    "res = collection.aggregate([\n",
    "    {\"$sort\": {\"people_saved\": -1}},\n",
    "    {\"$limit\": 3}\n",
    "])\n",
    "print(\"Les 3 personnes qui ont sauvé le plus de monde\")\n",
    "display_collection(res)"
   ]
  },
  {
   "cell_type": "markdown",
   "id": "553a7e40",
   "metadata": {},
   "source": [
    "## `$skip`\n",
    "Saute un nombre d'élément défini."
   ]
  },
  {
   "cell_type": "code",
   "execution_count": 12,
   "id": "13467fe6",
   "metadata": {},
   "outputs": [
    {
     "name": "stdout",
     "output_type": "stream",
     "text": [
      "Le reste du leaderboard\n"
     ]
    },
    {
     "data": {
      "text/html": [
       "<div>\n",
       "<style scoped>\n",
       "    .dataframe tbody tr th:only-of-type {\n",
       "        vertical-align: middle;\n",
       "    }\n",
       "\n",
       "    .dataframe tbody tr th {\n",
       "        vertical-align: top;\n",
       "    }\n",
       "\n",
       "    .dataframe thead th {\n",
       "        text-align: right;\n",
       "    }\n",
       "</style>\n",
       "<table border=\"1\" class=\"dataframe\">\n",
       "  <thead>\n",
       "    <tr style=\"text-align: right;\">\n",
       "      <th></th>\n",
       "      <th>name</th>\n",
       "      <th>job</th>\n",
       "      <th>people_saved</th>\n",
       "      <th>power</th>\n",
       "    </tr>\n",
       "  </thead>\n",
       "  <tbody>\n",
       "    <tr>\n",
       "      <th>0</th>\n",
       "      <td>Mr Terrific</td>\n",
       "      <td>Hero</td>\n",
       "      <td>302002</td>\n",
       "      <td>[Cerveau, Technology]</td>\n",
       "    </tr>\n",
       "    <tr>\n",
       "      <th>1</th>\n",
       "      <td>Jean Michel</td>\n",
       "      <td>Comptable</td>\n",
       "      <td>1</td>\n",
       "      <td>[Mathématiques]</td>\n",
       "    </tr>\n",
       "    <tr>\n",
       "      <th>2</th>\n",
       "      <td>Docteur Doom</td>\n",
       "      <td>Villain</td>\n",
       "      <td>0</td>\n",
       "      <td>[]</td>\n",
       "    </tr>\n",
       "    <tr>\n",
       "      <th>3</th>\n",
       "      <td>Posion Ivy</td>\n",
       "      <td>Villain</td>\n",
       "      <td>-560</td>\n",
       "      <td>[Nature]</td>\n",
       "    </tr>\n",
       "  </tbody>\n",
       "</table>\n",
       "</div>"
      ],
      "text/plain": [
       "           name        job  people_saved                  power\n",
       "0   Mr Terrific       Hero        302002  [Cerveau, Technology]\n",
       "1   Jean Michel  Comptable             1        [Mathématiques]\n",
       "2  Docteur Doom    Villain             0                     []\n",
       "3    Posion Ivy    Villain          -560               [Nature]"
      ]
     },
     "metadata": {},
     "output_type": "display_data"
    }
   ],
   "source": [
    "res = collection.aggregate([\n",
    "    {\"$sort\": {\"people_saved\": -1}},\n",
    "    {\"$skip\": 3}\n",
    "])\n",
    "print(\"Le reste du leaderboard\")\n",
    "display_collection(res)"
   ]
  },
  {
   "cell_type": "markdown",
   "id": "f900db8c",
   "metadata": {},
   "source": [
    "## `$count`\n",
    "Compte le nombre de document."
   ]
  },
  {
   "cell_type": "code",
   "execution_count": 13,
   "id": "7f292288",
   "metadata": {},
   "outputs": [
    {
     "name": "stdout",
     "output_type": "stream",
     "text": [
      "Nombre de héros: 3\n"
     ]
    }
   ],
   "source": [
    "res = collection.aggregate([\n",
    "    {\"$match\": {\"job\": {\"$eq\": \"Hero\"}}},\n",
    "    {\"$count\": \"hero_count\"}\n",
    "])\n",
    "print(f'Nombre de héros: {res.to_list()[0]['hero_count']}')"
   ]
  },
  {
   "cell_type": "markdown",
   "id": "3a539a0c",
   "metadata": {},
   "source": [
    "## `$lookup`\n",
    "Union ensembliste ou jointure externe"
   ]
  },
  {
   "cell_type": "code",
   "execution_count": 14,
   "id": "1e0bda92",
   "metadata": {},
   "outputs": [
    {
     "name": "stdout",
     "output_type": "stream",
     "text": [
      "les operations menés par les heros\n"
     ]
    },
    {
     "data": {
      "text/html": [
       "<div>\n",
       "<style scoped>\n",
       "    .dataframe tbody tr th:only-of-type {\n",
       "        vertical-align: middle;\n",
       "    }\n",
       "\n",
       "    .dataframe tbody tr th {\n",
       "        vertical-align: top;\n",
       "    }\n",
       "\n",
       "    .dataframe thead th {\n",
       "        text-align: right;\n",
       "    }\n",
       "</style>\n",
       "<table border=\"1\" class=\"dataframe\">\n",
       "  <thead>\n",
       "    <tr style=\"text-align: right;\">\n",
       "      <th></th>\n",
       "      <th>name</th>\n",
       "      <th>job</th>\n",
       "      <th>people_saved</th>\n",
       "      <th>power</th>\n",
       "      <th>operations</th>\n",
       "    </tr>\n",
       "  </thead>\n",
       "  <tbody>\n",
       "    <tr>\n",
       "      <th>0</th>\n",
       "      <td>Superman</td>\n",
       "      <td>Hero</td>\n",
       "      <td>Beaucoup</td>\n",
       "      <td>[Oui]</td>\n",
       "      <td>[{'superhero': 'Superman', 'name': 'Invasion e...</td>\n",
       "    </tr>\n",
       "    <tr>\n",
       "      <th>1</th>\n",
       "      <td>Batman</td>\n",
       "      <td>Hero</td>\n",
       "      <td>15999994</td>\n",
       "      <td>[Money, Arts martiaux, Technology]</td>\n",
       "      <td>[{'superhero': 'Batman', 'name': 'Evasion d'As...</td>\n",
       "    </tr>\n",
       "  </tbody>\n",
       "</table>\n",
       "</div>"
      ],
      "text/plain": [
       "       name   job people_saved                               power  \\\n",
       "0  Superman  Hero     Beaucoup                               [Oui]   \n",
       "1    Batman  Hero     15999994  [Money, Arts martiaux, Technology]   \n",
       "\n",
       "                                          operations  \n",
       "0  [{'superhero': 'Superman', 'name': 'Invasion e...  \n",
       "1  [{'superhero': 'Batman', 'name': 'Evasion d'As...  "
      ]
     },
     "metadata": {},
     "output_type": "display_data"
    }
   ],
   "source": [
    "operations = db['operations']\n",
    "operations.insert_many([\n",
    "    {'superhero': 'Superman', 'name': 'Invasion extra-terrestre','location': 'Metropolis, USA'},\n",
    "    {'superhero': 'Batman', 'name': \"Evasion d'Asylum\", 'location': 'Arkham city, USA'}\n",
    "])\n",
    "\n",
    "res = collection.aggregate([\n",
    "    { \"$lookup\": {\n",
    "        \"from\": \"operations\",\n",
    "        \"localField\": \"name\",\n",
    "        \"foreignField\": \"superhero\",\n",
    "        \"as\": \"operations\",\n",
    "        \"pipeline\": [{\n",
    "            \"$project\" : {\"_id\": 0}\n",
    "        }]\n",
    "    }},\n",
    "    { \"$match\" : { \"operations\" : {\"$not\" : { \"$size\": 0}}}}\n",
    "])\n",
    "print(\"les operations menés par les heros\")\n",
    "display_collection(res)"
   ]
  },
  {
   "cell_type": "markdown",
   "id": "8b2f5a2b",
   "metadata": {},
   "source": [
    "## `$unwind`\n",
    "Deroule un array et crée un document pour chaque valeur déroulé."
   ]
  },
  {
   "cell_type": "code",
   "execution_count": 15,
   "id": "9608b822",
   "metadata": {},
   "outputs": [
    {
     "name": "stdout",
     "output_type": "stream",
     "text": [
      "tous les pouvoirs par ordre alphabétiques:\n"
     ]
    },
    {
     "data": {
      "text/html": [
       "<div>\n",
       "<style scoped>\n",
       "    .dataframe tbody tr th:only-of-type {\n",
       "        vertical-align: middle;\n",
       "    }\n",
       "\n",
       "    .dataframe tbody tr th {\n",
       "        vertical-align: top;\n",
       "    }\n",
       "\n",
       "    .dataframe thead th {\n",
       "        text-align: right;\n",
       "    }\n",
       "</style>\n",
       "<table border=\"1\" class=\"dataframe\">\n",
       "  <thead>\n",
       "    <tr style=\"text-align: right;\">\n",
       "      <th></th>\n",
       "      <th>power</th>\n",
       "    </tr>\n",
       "  </thead>\n",
       "  <tbody>\n",
       "    <tr>\n",
       "      <th>0</th>\n",
       "      <td>Arts martiaux</td>\n",
       "    </tr>\n",
       "    <tr>\n",
       "      <th>1</th>\n",
       "      <td>Cerveau</td>\n",
       "    </tr>\n",
       "    <tr>\n",
       "      <th>2</th>\n",
       "      <td>Mathématiques</td>\n",
       "    </tr>\n",
       "    <tr>\n",
       "      <th>3</th>\n",
       "      <td>Money</td>\n",
       "    </tr>\n",
       "    <tr>\n",
       "      <th>4</th>\n",
       "      <td>Nature</td>\n",
       "    </tr>\n",
       "    <tr>\n",
       "      <th>5</th>\n",
       "      <td>Oui</td>\n",
       "    </tr>\n",
       "    <tr>\n",
       "      <th>6</th>\n",
       "      <td>Silver</td>\n",
       "    </tr>\n",
       "    <tr>\n",
       "      <th>7</th>\n",
       "      <td>Surfer</td>\n",
       "    </tr>\n",
       "    <tr>\n",
       "      <th>8</th>\n",
       "      <td>Technology</td>\n",
       "    </tr>\n",
       "  </tbody>\n",
       "</table>\n",
       "</div>"
      ],
      "text/plain": [
       "           power\n",
       "0  Arts martiaux\n",
       "1        Cerveau\n",
       "2  Mathématiques\n",
       "3          Money\n",
       "4         Nature\n",
       "5            Oui\n",
       "6         Silver\n",
       "7         Surfer\n",
       "8     Technology"
      ]
     },
     "metadata": {},
     "output_type": "display_data"
    }
   ],
   "source": [
    "res = collection.aggregate([\n",
    "    {\"$unwind\": \"$power\"},\n",
    "    {\"$group\": {\n",
    "        \"_id\": \"$power\",\n",
    "        \"power\": {\"$first\": \"$power\"}\n",
    "    }},\n",
    "    {\"$sort\": {\"power\": 1}}\n",
    "])\n",
    "print(\"tous les pouvoirs par ordre alphabétiques:\")\n",
    "display_collection(res)"
   ]
  }
 ],
 "metadata": {
  "kernelspec": {
   "display_name": ".venv",
   "language": "python",
   "name": "python3"
  },
  "language_info": {
   "codemirror_mode": {
    "name": "ipython",
    "version": 3
   },
   "file_extension": ".py",
   "mimetype": "text/x-python",
   "name": "python",
   "nbconvert_exporter": "python",
   "pygments_lexer": "ipython3",
   "version": "3.12.3"
  }
 },
 "nbformat": 4,
 "nbformat_minor": 5
}
