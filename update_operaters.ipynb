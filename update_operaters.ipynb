{
 "cells": [
  {
   "cell_type": "markdown",
   "id": "dc92da64",
   "metadata": {},
   "source": [
    "# Opérations de mis-à-jour"
   ]
  },
  {
   "cell_type": "code",
   "execution_count": 1,
   "id": "5b4607f7",
   "metadata": {},
   "outputs": [],
   "source": [
    "from pymongo import MongoClient\n",
    "\n",
    "def connect_to_db(url=None):\n",
    "    return MongoClient(url)\n",
    "\n",
    "connection = connect_to_db(\"localhost:27017\")\n",
    "db = connection[\"update_operation\"]"
   ]
  },
  {
   "cell_type": "markdown",
   "id": "2761b2ce",
   "metadata": {},
   "source": [
    "## $set\n",
    "\n",
    "Modifie un dictionnaire avec la valeur associé.   \n",
    "Si certains champs n'existe pas ils seront crées.  "
   ]
  },
  {
   "cell_type": "code",
   "execution_count": null,
   "id": "6965561b",
   "metadata": {},
   "outputs": [
    {
     "name": "stdout",
     "output_type": "stream",
     "text": [
      "Notre glace : [{'_id': ObjectId('688773a03d4b6070c15657c9'), 'id': 30, 'dessert': 'Glace à la vanille'}, {'_id': ObjectId('688773d73d4b6070c15657ca'), 'id': 30, 'dessert': 'Glace à la vanille'}]\n",
      "est devenu Mousse au chocolat [{'_id': ObjectId('688773a03d4b6070c15657c9'), 'id': 30, 'dessert': 'Mousse au chocolat'}, {'_id': ObjectId('688773d73d4b6070c15657ca'), 'id': 30, 'dessert': 'Glace à la vanille'}]\n",
      "Notre nouveau dessert : [{'_id': ObjectId('688773a03d4b6070c15657c9'), 'id': 30, 'dessert': 'Mousse au chocolat', 'accompagnement': 'Copeau de chocolat blanc'}, {'_id': ObjectId('688773d73d4b6070c15657ca'), 'id': 30, 'dessert': 'Glace à la vanille'}]\n"
     ]
    }
   ],
   "source": [
    "collection = db[\"set\"]\n",
    "collection.insert_one({\"id\": 30, \"dessert\": \"Glace à la vanille\"})\n",
    "\n",
    "print(\"Notre glace :\", collection.find().to_list())\n",
    "\n",
    "# on change la description du dessert pour une mousse\n",
    "collection.update_one({\"id\": 30}, {\"$set\": {\"dessert\": \"Mousse au chocolat\"}})\n",
    "print(\"Maintenant, mousse au chocolat : \", collection.find().to_list())\n",
    "\n",
    "# $set va aussi créer les champs si besoin\n",
    "collection.update_one(\n",
    "    {\"id\": 30}, {\"$set\": {\"accompagnement\": \"Copeaux de chocolat blanc\"}}\n",
    ")\n",
    "print(\"Se transforme en un nouveau dessert :\", collection.find().to_list())"
   ]
  },
  {
   "cell_type": "markdown",
   "id": "57062ceb",
   "metadata": {},
   "source": [
    "## $unset\n",
    "Supprime un champs s'il existe."
   ]
  },
  {
   "cell_type": "code",
   "execution_count": null,
   "id": "84cc53af",
   "metadata": {},
   "outputs": [
    {
     "name": "stdout",
     "output_type": "stream",
     "text": [
      "Oh non, Superman à perdu ça cape : [{'_id': ObjectId('688776473d4b6070c15657cb'), 'personnage': 'superman'}, {'_id': ObjectId('688776723d4b6070c15657cc'), 'personnage': 'superman', 'accessoire': 'Cape rouge'}]\n"
     ]
    }
   ],
   "source": [
    "collection = db[\"unset\"]\n",
    "collection.insert_one({\"personnage\": \"superman\", \"accessoire\": \"Cape rouge\"})\n",
    "\n",
    "# on supprime le champs 'accessoire'\n",
    "collection.update_one({\"personnage\": \"superman\"}, {\"$unset\": {\"accessoire\": \"\"}})\n",
    "print(\"Oh non, Superman à perdu ça cape :\", collection.find().to_list())"
   ]
  },
  {
   "cell_type": "markdown",
   "id": "9186daf3",
   "metadata": {},
   "source": [
    "## $inc\n",
    "Incremente un champ avec la valeur spécifié.  \n",
    "Si un champs n'existe pas, on le créer en lui assignement la valeur spécifié.  \n",
    "C'est une opération atomique\n"
   ]
  },
  {
   "cell_type": "code",
   "execution_count": null,
   "id": "c8e58ad5",
   "metadata": {},
   "outputs": [
    {
     "name": "stdout",
     "output_type": "stream",
     "text": [
      "Des clients sont passés : [{'_id': ObjectId('688779383d4b6070c15657cd'), 'id': 0, 'cookies': 86, 'Coca': 8, 'Pepsi': 10, 'Croissant': 10}, {'_id': ObjectId('68877bcb3d4b6070c15657ce'), 'id': 0, 'cookies': 10, 'Coca': 3, 'Pepsi': 1}, {'_id': ObjectId('68877be23d4b6070c15657cf'), 'id': 0, 'cookies': 10, 'Coca': 3, 'Pepsi': 1}]\n",
      "On a reçu une livraison : [{'_id': ObjectId('688779383d4b6070c15657cd'), 'id': 0, 'cookies': 88, 'Coca': 16, 'Pepsi': 19, 'Croissant': 20}, {'_id': ObjectId('68877bcb3d4b6070c15657ce'), 'id': 0, 'cookies': 10, 'Coca': 3, 'Pepsi': 1}, {'_id': ObjectId('68877be23d4b6070c15657cf'), 'id': 0, 'cookies': 10, 'Coca': 3, 'Pepsi': 1}]\n"
     ]
    }
   ],
   "source": [
    "collection = db['inc']\n",
    "collection.insert_one({'id': 0, 'cookies': 10, 'Coca': 3, 'Pepsi': 1})\n",
    "\n",
    "collection.update_one({'id': 0}, {'$inc': {'cookies': -2, 'Coca': -1}})\n",
    "print(\"Des clients sont passés :\", collection.find().to_list())\n",
    "\n",
    "collection.update_one({'id': 0}, {'$inc': {'cookies': 2, 'Coca': 8, 'Pepsi': 9, 'Croissant': 10}})\n",
    "print(\"On a reçu une livraison :\", collection.find().to_list())"
   ]
  },
  {
   "cell_type": "markdown",
   "id": "ab006af6",
   "metadata": {},
   "source": [
    "## $mul\n",
    "\n",
    "Meme chose que inc mais avec une multiplication au lieu d'une addition.  \n",
    "Si le champs n'existe pas, il est crée et sa valeur est 0 (on conserve le type).  \n",
    "C'est une opération atomique\n",
    "  \n",
    "/!\\ lors de multiplications entre différents types. Des conversions automatiques peuvent etre réalisés. Se référer à la documentation [mongodb](https://www.mongodb.com/docs/manual/reference/operator/update/mul/)"
   ]
  },
  {
   "cell_type": "code",
   "execution_count": null,
   "id": "659538f5",
   "metadata": {},
   "outputs": [
    {
     "name": "stdout",
     "output_type": "stream",
     "text": [
      "On a commandé 3 fois trop de cookies. Mince alors ! [{'_id': ObjectId('688779383d4b6070c15657cd'), 'id': 0, 'cookies': 90, 'Coca': 10, 'Pepsi': 10, 'Croissant': 10}]\n"
     ]
    }
   ],
   "source": [
    "# on reprend intentionellement la collection de $inc\n",
    "collection.update_one({'id': 0}, {'$mul': {'cookies': 3}})\n",
    "print('On a commandé 3 fois trop de cookies. Mince alors !', collection.find().to_list())"
   ]
  },
  {
   "cell_type": "markdown",
   "id": "e5553e68",
   "metadata": {},
   "source": [
    "## $rename\n",
    "\n",
    "Renomme un Champs\n",
    "\n",
    "Opération non atomique (Delete + $set)"
   ]
  },
  {
   "cell_type": "code",
   "execution_count": null,
   "id": "8780a507",
   "metadata": {},
   "outputs": [
    {
     "name": "stdout",
     "output_type": "stream",
     "text": [
      "Nooon, des fautes d'orthographes [{'_id': ObjectId('688784333d4b6070c15657d0'), 'id': 2, 'ortaugrafe': False}]\n",
      "C'est bon, on est sauf [{'_id': ObjectId('688784333d4b6070c15657d0'), 'id': 2, 'orthographe': False}]\n"
     ]
    }
   ],
   "source": [
    "collection = db[\"rename\"]\n",
    "\n",
    "collection.insert_one({\"id\": 2, \"ortaugrafe\": False})\n",
    "print(\"Nooon, des fautes d'orthographes :\", collection.find().to_list())\n",
    "\n",
    "collection.update_one({\"id\": 2}, {\"$rename\": {\"ortaugrafe\": \"orthographe\"}})\n",
    "print(\"C'est bon, on est sauf :\", collection.find().to_list())\n"
   ]
  },
  {
   "cell_type": "markdown",
   "id": "92ee4929",
   "metadata": {},
   "source": [
    "## $push\n",
    "Ajoute un élément à un Array.\n",
    "Si le champs n'existe pas. Il est crée avec l'élément à l'intérieur de l'array.\n",
    "Echoue si le champs n'est pas un Array.\n"
   ]
  },
  {
   "cell_type": "code",
   "execution_count": null,
   "id": "efe07c5c",
   "metadata": {},
   "outputs": [
    {
     "name": "stdout",
     "output_type": "stream",
     "text": [
      "Ma collection : [{'_id': ObjectId('688789bd3d4b6070c15657d1'), 'id': 3, 'tableaux': ['Le Radeau de la Méduse', 'Knight at the Crossroads']}]\n",
      "Une nouvelle pièce dans ma collection : [{'_id': ObjectId('688789bd3d4b6070c15657d1'), 'id': 3, 'tableaux': ['Le Radeau de la Méduse', 'Knight at the Crossroads', \"L'Île des morts\"]}]\n",
      "Ah, maintenant je sais ca que je regarde ! [{'_id': ObjectId('688789bd3d4b6070c15657d1'), 'id': 3, 'tableaux': ['Le Radeau de la Méduse', 'Knight at the Crossroads', \"L'Île des morts\"], 'courants': [['Romantique', 'Symbolisme']]}]\n"
     ]
    }
   ],
   "source": [
    "collection = db[\"push\"]\n",
    "collection.insert_one({'id': 3, 'tableaux': ['Le Radeau de la Méduse', 'Knight at the Crossroads']})\n",
    "print(\"Ma collection :\", collection.find().to_list())\n",
    "\n",
    "collection.update_one({'id': 3}, {'$push': {'tableaux': \"L'Île des morts\"}})\n",
    "print(\"Une nouvelle pièce dans ma collection :\", collection.find().to_list())\n",
    "\n",
    "collection.update_one({'id': 3}, {'$push': {'gravures': 'Lucifer, King of Hell'}})\n",
    "print(\"Ah, maintenant je sais ca que je regarde !\", collection.find().to_list())"
   ]
  },
  {
   "cell_type": "markdown",
   "id": "71e579e9",
   "metadata": {},
   "source": [
    "## $pull\n",
    "Retire d'un Array tous les instances de la valeur spécifié.\n"
   ]
  },
  {
   "cell_type": "code",
   "execution_count": null,
   "id": "f9d5da6d",
   "metadata": {},
   "outputs": [],
   "source": [
    "db.close()"
   ]
  }
 ],
 "metadata": {
  "kernelspec": {
   "display_name": ".venv",
   "language": "python",
   "name": "python3"
  },
  "language_info": {
   "codemirror_mode": {
    "name": "ipython",
    "version": 3
   },
   "file_extension": ".py",
   "mimetype": "text/x-python",
   "name": "python",
   "nbconvert_exporter": "python",
   "pygments_lexer": "ipython3",
   "version": "3.12.3"
  }
 },
 "nbformat": 4,
 "nbformat_minor": 5
}
