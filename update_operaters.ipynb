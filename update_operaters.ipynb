{
 "cells": [
  {
   "cell_type": "markdown",
   "id": "dc92da64",
   "metadata": {},
   "source": [
    "# Opérateurs de mis-à-jour\n",
    "Les operateurs de mis-à-jour peuvent etre utilisé avec les fonctions:\n",
    "- update_one()\n",
    "- update_many()\n",
    "- find_one_and_update()"
   ]
  },
  {
   "cell_type": "code",
   "execution_count": 30,
   "id": "5b4607f7",
   "metadata": {},
   "outputs": [],
   "source": [
    "from pymongo import MongoClient\n",
    "from pandas import DataFrame as df\n",
    "\n",
    "def connect_to_db(url=None):\n",
    "    return MongoClient(url)\n",
    "\n",
    "connection = connect_to_db(\"localhost:27017\")\n",
    "db = connection[\"update_operation\"]\n",
    "\n",
    "def display_collection(collection):\n",
    "    display(df(collection).drop(\"_id\", axis=1))"
   ]
  },
  {
   "cell_type": "markdown",
   "id": "2761b2ce",
   "metadata": {},
   "source": [
    "## `$set`\n",
    "\n",
    "Modifie un dictionnaire avec la valeur associé.   \n",
    "Si certains champs n'existe pas ils seront crées.  "
   ]
  },
  {
   "cell_type": "code",
   "execution_count": null,
   "id": "6965561b",
   "metadata": {},
   "outputs": [
    {
     "name": "stdout",
     "output_type": "stream",
     "text": [
      "Notre glace :\n"
     ]
    },
    {
     "data": {
      "text/html": [
       "<div>\n",
       "<style scoped>\n",
       "    .dataframe tbody tr th:only-of-type {\n",
       "        vertical-align: middle;\n",
       "    }\n",
       "\n",
       "    .dataframe tbody tr th {\n",
       "        vertical-align: top;\n",
       "    }\n",
       "\n",
       "    .dataframe thead th {\n",
       "        text-align: right;\n",
       "    }\n",
       "</style>\n",
       "<table border=\"1\" class=\"dataframe\">\n",
       "  <thead>\n",
       "    <tr style=\"text-align: right;\">\n",
       "      <th></th>\n",
       "      <th>id</th>\n",
       "      <th>dessert</th>\n",
       "    </tr>\n",
       "  </thead>\n",
       "  <tbody>\n",
       "    <tr>\n",
       "      <th>0</th>\n",
       "      <td>30</td>\n",
       "      <td>Glace à la vanille</td>\n",
       "    </tr>\n",
       "  </tbody>\n",
       "</table>\n",
       "</div>"
      ],
      "text/plain": [
       "   id             dessert\n",
       "0  30  Glace à la vanille"
      ]
     },
     "metadata": {},
     "output_type": "display_data"
    },
    {
     "name": "stdout",
     "output_type": "stream",
     "text": [
      "Notre glace est drester trop longtemps au soleil :\n"
     ]
    },
    {
     "data": {
      "text/html": [
       "<div>\n",
       "<style scoped>\n",
       "    .dataframe tbody tr th:only-of-type {\n",
       "        vertical-align: middle;\n",
       "    }\n",
       "\n",
       "    .dataframe tbody tr th {\n",
       "        vertical-align: top;\n",
       "    }\n",
       "\n",
       "    .dataframe thead th {\n",
       "        text-align: right;\n",
       "    }\n",
       "</style>\n",
       "<table border=\"1\" class=\"dataframe\">\n",
       "  <thead>\n",
       "    <tr style=\"text-align: right;\">\n",
       "      <th></th>\n",
       "      <th>id</th>\n",
       "      <th>dessert</th>\n",
       "    </tr>\n",
       "  </thead>\n",
       "  <tbody>\n",
       "    <tr>\n",
       "      <th>0</th>\n",
       "      <td>30</td>\n",
       "      <td>Smoothie</td>\n",
       "    </tr>\n",
       "  </tbody>\n",
       "</table>\n",
       "</div>"
      ],
      "text/plain": [
       "   id   dessert\n",
       "0  30  Smoothie"
      ]
     },
     "metadata": {},
     "output_type": "display_data"
    },
    {
     "name": "stdout",
     "output_type": "stream",
     "text": [
      "On en profite pour créer un nouveau dessert :\n"
     ]
    },
    {
     "data": {
      "text/html": [
       "<div>\n",
       "<style scoped>\n",
       "    .dataframe tbody tr th:only-of-type {\n",
       "        vertical-align: middle;\n",
       "    }\n",
       "\n",
       "    .dataframe tbody tr th {\n",
       "        vertical-align: top;\n",
       "    }\n",
       "\n",
       "    .dataframe thead th {\n",
       "        text-align: right;\n",
       "    }\n",
       "</style>\n",
       "<table border=\"1\" class=\"dataframe\">\n",
       "  <thead>\n",
       "    <tr style=\"text-align: right;\">\n",
       "      <th></th>\n",
       "      <th>id</th>\n",
       "      <th>dessert</th>\n",
       "      <th>accompagnement</th>\n",
       "    </tr>\n",
       "  </thead>\n",
       "  <tbody>\n",
       "    <tr>\n",
       "      <th>0</th>\n",
       "      <td>30</td>\n",
       "      <td>Smoothie</td>\n",
       "      <td>Copeaux de chocolat</td>\n",
       "    </tr>\n",
       "  </tbody>\n",
       "</table>\n",
       "</div>"
      ],
      "text/plain": [
       "   id   dessert       accompagnement\n",
       "0  30  Smoothie  Copeaux de chocolat"
      ]
     },
     "metadata": {},
     "output_type": "display_data"
    }
   ],
   "source": [
    "collection = db[\"set\"]\n",
    "collection.insert_one({\"id\": 30, \"dessert\": \"Glace à la vanille\"})\n",
    "\n",
    "print(\"Notre glace :\")\n",
    "display_collection(collection.find())\n",
    "\n",
    "# on change la description du dessert pour une mousse\n",
    "collection.update_one({\"id\": 30}, {\"$set\": {\"dessert\": \"Smoothie\"}})\n",
    "print(\"Notre glace est rester trop longtemps au soleil :\")\n",
    "display_collection(collection.find())\n",
    "\n",
    "# $set va aussi créer les champs si besoin\n",
    "collection.update_one(\n",
    "    {\"id\": 30}, {\"$set\": {\"accompagnement\": \"Copeaux de chocolat\"}}\n",
    ")\n",
    "print(\"On en profite pour créer un nouveau dessert :\")\n",
    "display_collection(collection.find())"
   ]
  },
  {
   "cell_type": "markdown",
   "id": "57062ceb",
   "metadata": {},
   "source": [
    "## `$unset`\n",
    "Supprime un champs s'il existe."
   ]
  },
  {
   "cell_type": "code",
   "execution_count": null,
   "id": "84cc53af",
   "metadata": {},
   "outputs": [
    {
     "name": "stdout",
     "output_type": "stream",
     "text": [
      "Oh non, Superman à perdu ça cape :\n"
     ]
    },
    {
     "data": {
      "text/html": [
       "<div>\n",
       "<style scoped>\n",
       "    .dataframe tbody tr th:only-of-type {\n",
       "        vertical-align: middle;\n",
       "    }\n",
       "\n",
       "    .dataframe tbody tr th {\n",
       "        vertical-align: top;\n",
       "    }\n",
       "\n",
       "    .dataframe thead th {\n",
       "        text-align: right;\n",
       "    }\n",
       "</style>\n",
       "<table border=\"1\" class=\"dataframe\">\n",
       "  <thead>\n",
       "    <tr style=\"text-align: right;\">\n",
       "      <th></th>\n",
       "      <th>personnage</th>\n",
       "    </tr>\n",
       "  </thead>\n",
       "  <tbody>\n",
       "    <tr>\n",
       "      <th>0</th>\n",
       "      <td>superman</td>\n",
       "    </tr>\n",
       "  </tbody>\n",
       "</table>\n",
       "</div>"
      ],
      "text/plain": [
       "  personnage\n",
       "0   superman"
      ]
     },
     "metadata": {},
     "output_type": "display_data"
    }
   ],
   "source": [
    "collection = db[\"unset\"]\n",
    "collection.insert_one({\"personnage\": \"superman\", \"accessoire\": \"Cape rouge\"})\n",
    "display_collection(collection.find())\n",
    "\n",
    "# on supprime le champs 'accessoire'\n",
    "collection.update_one({\"personnage\": \"superman\"}, {\"$unset\": {\"accessoire\": \"\"}})\n",
    "print(\"Oh non, Superman à perdu ça cape :\")\n",
    "display_collection(collection.find())"
   ]
  },
  {
   "cell_type": "markdown",
   "id": "9186daf3",
   "metadata": {},
   "source": [
    "## `$inc`\n",
    "Incremente un champ avec la valeur spécifié.  \n",
    "Si un champs n'existe pas, on le créer en lui assignement la valeur spécifié.  \n",
    "C'est une opération atomique\n"
   ]
  },
  {
   "cell_type": "code",
   "execution_count": null,
   "id": "c8e58ad5",
   "metadata": {},
   "outputs": [
    {
     "name": "stdout",
     "output_type": "stream",
     "text": [
      "Des clients sont passés :\n"
     ]
    },
    {
     "data": {
      "text/html": [
       "<div>\n",
       "<style scoped>\n",
       "    .dataframe tbody tr th:only-of-type {\n",
       "        vertical-align: middle;\n",
       "    }\n",
       "\n",
       "    .dataframe tbody tr th {\n",
       "        vertical-align: top;\n",
       "    }\n",
       "\n",
       "    .dataframe thead th {\n",
       "        text-align: right;\n",
       "    }\n",
       "</style>\n",
       "<table border=\"1\" class=\"dataframe\">\n",
       "  <thead>\n",
       "    <tr style=\"text-align: right;\">\n",
       "      <th></th>\n",
       "      <th>id</th>\n",
       "      <th>cookies</th>\n",
       "      <th>Coca</th>\n",
       "      <th>Pepsi</th>\n",
       "    </tr>\n",
       "  </thead>\n",
       "  <tbody>\n",
       "    <tr>\n",
       "      <th>0</th>\n",
       "      <td>0</td>\n",
       "      <td>8</td>\n",
       "      <td>2</td>\n",
       "      <td>1</td>\n",
       "    </tr>\n",
       "  </tbody>\n",
       "</table>\n",
       "</div>"
      ],
      "text/plain": [
       "   id  cookies  Coca  Pepsi\n",
       "0   0        8     2      1"
      ]
     },
     "metadata": {},
     "output_type": "display_data"
    },
    {
     "name": "stdout",
     "output_type": "stream",
     "text": [
      "On a reçu une livraison :\n"
     ]
    },
    {
     "data": {
      "text/html": [
       "<div>\n",
       "<style scoped>\n",
       "    .dataframe tbody tr th:only-of-type {\n",
       "        vertical-align: middle;\n",
       "    }\n",
       "\n",
       "    .dataframe tbody tr th {\n",
       "        vertical-align: top;\n",
       "    }\n",
       "\n",
       "    .dataframe thead th {\n",
       "        text-align: right;\n",
       "    }\n",
       "</style>\n",
       "<table border=\"1\" class=\"dataframe\">\n",
       "  <thead>\n",
       "    <tr style=\"text-align: right;\">\n",
       "      <th></th>\n",
       "      <th>id</th>\n",
       "      <th>cookies</th>\n",
       "      <th>Coca</th>\n",
       "      <th>Pepsi</th>\n",
       "      <th>Croissant</th>\n",
       "    </tr>\n",
       "  </thead>\n",
       "  <tbody>\n",
       "    <tr>\n",
       "      <th>0</th>\n",
       "      <td>0</td>\n",
       "      <td>10</td>\n",
       "      <td>10</td>\n",
       "      <td>10</td>\n",
       "      <td>10</td>\n",
       "    </tr>\n",
       "  </tbody>\n",
       "</table>\n",
       "</div>"
      ],
      "text/plain": [
       "   id  cookies  Coca  Pepsi  Croissant\n",
       "0   0       10    10     10         10"
      ]
     },
     "metadata": {},
     "output_type": "display_data"
    }
   ],
   "source": [
    "collection = db['inc']\n",
    "collection.insert_one({'id': 0, 'cookies': 10, 'Coca': 3, 'Pepsi': 1})\n",
    "print(\"Nos stocks :\")\n",
    "display_collection(collection.find())\n",
    "\n",
    "collection.update_one({'id': 0}, {'$inc': {'cookies': -2, 'Coca': -1}})\n",
    "print(\"Des clients sont passés :\")\n",
    "display_collection(collection.find())\n",
    "\n",
    "collection.update_one({'id': 0}, {'$inc': {'cookies': 2, 'Coca': 8, 'Pepsi': 9, 'Croissant': 10}})\n",
    "print(\"On a reçu une livraison :\")\n",
    "display_collection(collection.find())"
   ]
  },
  {
   "cell_type": "markdown",
   "id": "ab006af6",
   "metadata": {},
   "source": [
    "## `$mul`\n",
    "\n",
    "Meme chose que `$inc` mais avec une multiplication au lieu d'une addition.  \n",
    "Si le champs n'existe pas, il est crée et sa valeur est 0 (on conserve le type).  \n",
    "C'est une opération atomique\n",
    "  \n",
    "/!\\ lors de multiplications entre différents types. Des conversions automatiques peuvent etre réalisés. Se référer à la documentation [mongodb](https://www.mongodb.com/docs/manual/reference/operator/update/mul/)"
   ]
  },
  {
   "cell_type": "code",
   "execution_count": 34,
   "id": "659538f5",
   "metadata": {},
   "outputs": [
    {
     "name": "stdout",
     "output_type": "stream",
     "text": [
      "On a commandé 3 fois trop de cookies. Mince alors !\n"
     ]
    },
    {
     "data": {
      "text/html": [
       "<div>\n",
       "<style scoped>\n",
       "    .dataframe tbody tr th:only-of-type {\n",
       "        vertical-align: middle;\n",
       "    }\n",
       "\n",
       "    .dataframe tbody tr th {\n",
       "        vertical-align: top;\n",
       "    }\n",
       "\n",
       "    .dataframe thead th {\n",
       "        text-align: right;\n",
       "    }\n",
       "</style>\n",
       "<table border=\"1\" class=\"dataframe\">\n",
       "  <thead>\n",
       "    <tr style=\"text-align: right;\">\n",
       "      <th></th>\n",
       "      <th>id</th>\n",
       "      <th>cookies</th>\n",
       "      <th>Coca</th>\n",
       "      <th>Pepsi</th>\n",
       "      <th>Croissant</th>\n",
       "    </tr>\n",
       "  </thead>\n",
       "  <tbody>\n",
       "    <tr>\n",
       "      <th>0</th>\n",
       "      <td>0</td>\n",
       "      <td>30</td>\n",
       "      <td>10</td>\n",
       "      <td>10</td>\n",
       "      <td>10</td>\n",
       "    </tr>\n",
       "  </tbody>\n",
       "</table>\n",
       "</div>"
      ],
      "text/plain": [
       "   id  cookies  Coca  Pepsi  Croissant\n",
       "0   0       30    10     10         10"
      ]
     },
     "metadata": {},
     "output_type": "display_data"
    }
   ],
   "source": [
    "# on reprend intentionellement la collection de $inc\n",
    "collection.update_one({'id': 0}, {'$mul': {'cookies': 3}})\n",
    "print('On a commandé 3 fois trop de cookies. Mince alors !')\n",
    "display_collection(collection.find())"
   ]
  },
  {
   "cell_type": "markdown",
   "id": "e5553e68",
   "metadata": {},
   "source": [
    "## `$rename`\n",
    "\n",
    "Renomme un Champs\n",
    "\n",
    "Opération non atomique (Delete + $set)"
   ]
  },
  {
   "cell_type": "code",
   "execution_count": 35,
   "id": "8780a507",
   "metadata": {},
   "outputs": [
    {
     "name": "stdout",
     "output_type": "stream",
     "text": [
      "Nooon, des fautes d'orthographes :\n"
     ]
    },
    {
     "data": {
      "text/html": [
       "<div>\n",
       "<style scoped>\n",
       "    .dataframe tbody tr th:only-of-type {\n",
       "        vertical-align: middle;\n",
       "    }\n",
       "\n",
       "    .dataframe tbody tr th {\n",
       "        vertical-align: top;\n",
       "    }\n",
       "\n",
       "    .dataframe thead th {\n",
       "        text-align: right;\n",
       "    }\n",
       "</style>\n",
       "<table border=\"1\" class=\"dataframe\">\n",
       "  <thead>\n",
       "    <tr style=\"text-align: right;\">\n",
       "      <th></th>\n",
       "      <th>id</th>\n",
       "      <th>ortaugrafe</th>\n",
       "    </tr>\n",
       "  </thead>\n",
       "  <tbody>\n",
       "    <tr>\n",
       "      <th>0</th>\n",
       "      <td>2</td>\n",
       "      <td>False</td>\n",
       "    </tr>\n",
       "  </tbody>\n",
       "</table>\n",
       "</div>"
      ],
      "text/plain": [
       "   id  ortaugrafe\n",
       "0   2       False"
      ]
     },
     "metadata": {},
     "output_type": "display_data"
    },
    {
     "name": "stdout",
     "output_type": "stream",
     "text": [
      "C'est bon, on est sauf :\n"
     ]
    },
    {
     "data": {
      "text/html": [
       "<div>\n",
       "<style scoped>\n",
       "    .dataframe tbody tr th:only-of-type {\n",
       "        vertical-align: middle;\n",
       "    }\n",
       "\n",
       "    .dataframe tbody tr th {\n",
       "        vertical-align: top;\n",
       "    }\n",
       "\n",
       "    .dataframe thead th {\n",
       "        text-align: right;\n",
       "    }\n",
       "</style>\n",
       "<table border=\"1\" class=\"dataframe\">\n",
       "  <thead>\n",
       "    <tr style=\"text-align: right;\">\n",
       "      <th></th>\n",
       "      <th>id</th>\n",
       "      <th>orthographe</th>\n",
       "    </tr>\n",
       "  </thead>\n",
       "  <tbody>\n",
       "    <tr>\n",
       "      <th>0</th>\n",
       "      <td>2</td>\n",
       "      <td>False</td>\n",
       "    </tr>\n",
       "  </tbody>\n",
       "</table>\n",
       "</div>"
      ],
      "text/plain": [
       "   id  orthographe\n",
       "0   2        False"
      ]
     },
     "metadata": {},
     "output_type": "display_data"
    }
   ],
   "source": [
    "collection = db[\"rename\"]\n",
    "\n",
    "collection.insert_one({\"id\": 2, \"ortaugrafe\": False})\n",
    "print(\"Nooon, des fautes d'orthographes :\")\n",
    "display_collection(collection.find())\n",
    "\n",
    "collection.update_one({\"id\": 2}, {\"$rename\": {\"ortaugrafe\": \"orthographe\"}})\n",
    "print(\"C'est bon, on est sauf :\")\n",
    "display_collection(collection.find())\n"
   ]
  },
  {
   "cell_type": "markdown",
   "id": "92ee4929",
   "metadata": {},
   "source": [
    "## `$push`\n",
    "Ajoute un élément à un Array.\n",
    "Si le champs n'existe pas. Il est crée avec l'élément à l'intérieur de l'array.\n",
    "Echoue si le champs n'est pas un Array.\n"
   ]
  },
  {
   "cell_type": "code",
   "execution_count": null,
   "id": "efe07c5c",
   "metadata": {},
   "outputs": [
    {
     "name": "stdout",
     "output_type": "stream",
     "text": [
      "Ma collection :\n"
     ]
    },
    {
     "data": {
      "text/html": [
       "<div>\n",
       "<style scoped>\n",
       "    .dataframe tbody tr th:only-of-type {\n",
       "        vertical-align: middle;\n",
       "    }\n",
       "\n",
       "    .dataframe tbody tr th {\n",
       "        vertical-align: top;\n",
       "    }\n",
       "\n",
       "    .dataframe thead th {\n",
       "        text-align: right;\n",
       "    }\n",
       "</style>\n",
       "<table border=\"1\" class=\"dataframe\">\n",
       "  <thead>\n",
       "    <tr style=\"text-align: right;\">\n",
       "      <th></th>\n",
       "      <th>id</th>\n",
       "      <th>tableaux</th>\n",
       "    </tr>\n",
       "  </thead>\n",
       "  <tbody>\n",
       "    <tr>\n",
       "      <th>0</th>\n",
       "      <td>3</td>\n",
       "      <td>[Le Radeau de la Méduse, Knight at the Crossro...</td>\n",
       "    </tr>\n",
       "  </tbody>\n",
       "</table>\n",
       "</div>"
      ],
      "text/plain": [
       "   id                                           tableaux\n",
       "0   3  [Le Radeau de la Méduse, Knight at the Crossro..."
      ]
     },
     "metadata": {},
     "output_type": "display_data"
    },
    {
     "name": "stdout",
     "output_type": "stream",
     "text": [
      "Une nouvelle pièce dans ma collection :\n"
     ]
    },
    {
     "data": {
      "text/html": [
       "<div>\n",
       "<style scoped>\n",
       "    .dataframe tbody tr th:only-of-type {\n",
       "        vertical-align: middle;\n",
       "    }\n",
       "\n",
       "    .dataframe tbody tr th {\n",
       "        vertical-align: top;\n",
       "    }\n",
       "\n",
       "    .dataframe thead th {\n",
       "        text-align: right;\n",
       "    }\n",
       "</style>\n",
       "<table border=\"1\" class=\"dataframe\">\n",
       "  <thead>\n",
       "    <tr style=\"text-align: right;\">\n",
       "      <th></th>\n",
       "      <th>id</th>\n",
       "      <th>tableaux</th>\n",
       "    </tr>\n",
       "  </thead>\n",
       "  <tbody>\n",
       "    <tr>\n",
       "      <th>0</th>\n",
       "      <td>3</td>\n",
       "      <td>[Le Radeau de la Méduse, Knight at the Crossro...</td>\n",
       "    </tr>\n",
       "  </tbody>\n",
       "</table>\n",
       "</div>"
      ],
      "text/plain": [
       "   id                                           tableaux\n",
       "0   3  [Le Radeau de la Méduse, Knight at the Crossro..."
      ]
     },
     "metadata": {},
     "output_type": "display_data"
    },
    {
     "name": "stdout",
     "output_type": "stream",
     "text": [
      "Ah, maintenant je sais ca que je regarde !\n"
     ]
    },
    {
     "data": {
      "text/html": [
       "<div>\n",
       "<style scoped>\n",
       "    .dataframe tbody tr th:only-of-type {\n",
       "        vertical-align: middle;\n",
       "    }\n",
       "\n",
       "    .dataframe tbody tr th {\n",
       "        vertical-align: top;\n",
       "    }\n",
       "\n",
       "    .dataframe thead th {\n",
       "        text-align: right;\n",
       "    }\n",
       "</style>\n",
       "<table border=\"1\" class=\"dataframe\">\n",
       "  <thead>\n",
       "    <tr style=\"text-align: right;\">\n",
       "      <th></th>\n",
       "      <th>id</th>\n",
       "      <th>tableaux</th>\n",
       "      <th>gravures</th>\n",
       "    </tr>\n",
       "  </thead>\n",
       "  <tbody>\n",
       "    <tr>\n",
       "      <th>0</th>\n",
       "      <td>3</td>\n",
       "      <td>[Le Radeau de la Méduse, Knight at the Crossro...</td>\n",
       "      <td>[Lucifer, King of Hell]</td>\n",
       "    </tr>\n",
       "  </tbody>\n",
       "</table>\n",
       "</div>"
      ],
      "text/plain": [
       "   id                                           tableaux  \\\n",
       "0   3  [Le Radeau de la Méduse, Knight at the Crossro...   \n",
       "\n",
       "                  gravures  \n",
       "0  [Lucifer, King of Hell]  "
      ]
     },
     "metadata": {},
     "output_type": "display_data"
    }
   ],
   "source": [
    "collection = db[\"push\"]\n",
    "collection.insert_one({'id': 3, 'tableaux': ['Le Radeau de la Méduse']})\n",
    "print(\"Ma collection :\")\n",
    "display_collection(collection.find())\n",
    "\n",
    "collection.update_one({'id': 3}, {'$push': {'tableaux': \"Knight at the Crossroads\"}})\n",
    "print(\"Une nouvelle pièce dans ma collection :\")\n",
    "display_collection(collection.find())\n",
    "\n",
    "collection.update_one({'id': 3}, {'$push': {'gravures': 'Lucifer, King of Hell'}})\n",
    "print(\"Ah, maintenant je sais ca que je regarde !\")\n",
    "display_collection(collection.find())"
   ]
  },
  {
   "cell_type": "markdown",
   "id": "71e579e9",
   "metadata": {},
   "source": [
    "## `$pull`\n",
    "Retire d'un Array tous les instances de la valeur spécifié.\n"
   ]
  },
  {
   "cell_type": "code",
   "execution_count": null,
   "id": "d44ce3dc",
   "metadata": {},
   "outputs": [
    {
     "name": "stdout",
     "output_type": "stream",
     "text": [
      "les kiwis c'est trop bon! on a tous mangé !\n"
     ]
    },
    {
     "data": {
      "text/html": [
       "<div>\n",
       "<style scoped>\n",
       "    .dataframe tbody tr th:only-of-type {\n",
       "        vertical-align: middle;\n",
       "    }\n",
       "\n",
       "    .dataframe tbody tr th {\n",
       "        vertical-align: top;\n",
       "    }\n",
       "\n",
       "    .dataframe thead th {\n",
       "        text-align: right;\n",
       "    }\n",
       "</style>\n",
       "<table border=\"1\" class=\"dataframe\">\n",
       "  <thead>\n",
       "    <tr style=\"text-align: right;\">\n",
       "      <th></th>\n",
       "      <th>id</th>\n",
       "      <th>fruits</th>\n",
       "    </tr>\n",
       "  </thead>\n",
       "  <tbody>\n",
       "    <tr>\n",
       "      <th>0</th>\n",
       "      <td>1</td>\n",
       "      <td>[pomme, banane, fraise]</td>\n",
       "    </tr>\n",
       "  </tbody>\n",
       "</table>\n",
       "</div>"
      ],
      "text/plain": [
       "   id                   fruits\n",
       "0   1  [pomme, banane, fraise]"
      ]
     },
     "metadata": {},
     "output_type": "display_data"
    }
   ],
   "source": [
    "collection = db['pull']\n",
    "collection.insert_one({'id': 1, 'fruits': ['pomme', 'kiwi', 'banane', 'fraise', 'kiwi']})\n",
    "display_collection(collection.find())\n",
    "\n",
    "collection.update_one({'id': 1}, {'$pull': {\"fruits\": 'kiwi'}})\n",
    "print(\"les kiwis c'est trop bon! on a tous mangé !\")\n",
    "display_collection(collection.find())"
   ]
  },
  {
   "cell_type": "code",
   "execution_count": 39,
   "id": "f9d5da6d",
   "metadata": {},
   "outputs": [],
   "source": [
    "connection.close()"
   ]
  }
 ],
 "metadata": {
  "kernelspec": {
   "display_name": ".venv",
   "language": "python",
   "name": "python3"
  },
  "language_info": {
   "codemirror_mode": {
    "name": "ipython",
    "version": 3
   },
   "file_extension": ".py",
   "mimetype": "text/x-python",
   "name": "python",
   "nbconvert_exporter": "python",
   "pygments_lexer": "ipython3",
   "version": "3.12.3"
  }
 },
 "nbformat": 4,
 "nbformat_minor": 5
}
