{
 "cells": [
  {
   "cell_type": "markdown",
   "id": "6a811624",
   "metadata": {},
   "source": [
    "# Opérateurs de requête - évaluation: `$expr`, `$regex`, `$mod`, `$text`, `$where`\n",
    "\n",
    "Ce notebook présente les **opérateurs d'évaluation** de MongoDB à travers des exemples simples et accessibles.  \n",
    "L'objectif est de montrer comment filtrer des documents à l'aide de conditions d'évaluation sur les différents champs de données dans une base MongoDB.\n",
    "\n",
    "Nous allons :\n",
    "- Créer une connexion à MongoDB local\n",
    "- Insérer des données fictives\n",
    "- Illustrer les opérateurs d'évaluation un par un"
   ]
  },
  {
   "cell_type": "markdown",
   "id": "463c9517",
   "metadata": {},
   "source": [
    "## 1. Connexion à la base de données"
   ]
  },
  {
   "cell_type": "markdown",
   "id": "a21303e6",
   "metadata": {},
   "source": [
    "Avant toute opération sur une base de données, il est nécessaire de s'y connecter:"
   ]
  },
  {
   "cell_type": "code",
   "execution_count": 87,
   "id": "74b3cbc9",
   "metadata": {},
   "outputs": [],
   "source": [
    "from pymongo import MongoClient\n",
    "import pandas as pd\n",
    "\n",
    "# Définition du port à utiliser [à changer en fonction la configuration de votre installation locale]\n",
    "MONGODB_LOCAL_PATH = \"mongodb://localhost:27018/\"\n",
    "\n",
    "# Définition de la base de données à utiliser\n",
    "MONGODB_NAME = \"evaluation_operator_db\"\n",
    "\n",
    "# Connexion\n",
    "client = MongoClient(MONGODB_LOCAL_PATH)\n",
    "db = client[MONGODB_NAME]"
   ]
  },
  {
   "cell_type": "markdown",
   "id": "61bf075a",
   "metadata": {},
   "source": [
    "## 2. Création d'une collection pour un environnement de test"
   ]
  },
  {
   "cell_type": "markdown",
   "id": "e5de2b0b",
   "metadata": {},
   "source": [
    "Les commandes suivantes permettent de créer une collection servant d'environnement de test pour les différentes opérations de comparaison de ce notebook"
   ]
  },
  {
   "cell_type": "code",
   "execution_count": 88,
   "id": "6c11617f",
   "metadata": {},
   "outputs": [],
   "source": [
    "try:\n",
    "    # Création de la collection\n",
    "    db_player = db.create_collection(\"Player\")\n",
    "except:\n",
    "    # Suppression puis création de la collection\n",
    "    db.Player.drop()\n",
    "    db_player = db.create_collection(\"Player\")"
   ]
  },
  {
   "cell_type": "markdown",
   "id": "a05ab24d",
   "metadata": {},
   "source": [
    "On va remplir cette collection avec un petit nombre de documents"
   ]
  },
  {
   "cell_type": "code",
   "execution_count": null,
   "id": "b1904397",
   "metadata": {},
   "outputs": [
    {
     "name": "stdout",
     "output_type": "stream",
     "text": [
      "IDs inséré pour les nouveaux documents:\n",
      " [ObjectId('6888a36163a3ef32fc02c5aa'), ObjectId('6888a36163a3ef32fc02c5ab'), ObjectId('6888a36163a3ef32fc02c5ac'), ObjectId('6888a36163a3ef32fc02c5ad'), ObjectId('6888a36163a3ef32fc02c5ae')]\n"
     ]
    }
   ],
   "source": [
    "documents = [\n",
    "    {\n",
    "        \"name\": \"Bazooka Bob\",\n",
    "        \"attack\": 32,\n",
    "        \"defence\": 18,\n",
    "        \"credo\": \"À l'attaque !\",\n",
    "        \"objet_fétiche\": \"bazooka\",\n",
    "        \"équipements\": [\"gilet par balle\", \"couteau\", \"casque\"]\n",
    "    },\n",
    "    {\n",
    "        \"name\": \"Karate Kid\",\n",
    "        \"attack\": 26,\n",
    "        \"defence\": 24,\n",
    "        \"credo\": \"Si tu m'attaques, je riposte.\",\n",
    "        \"objet_fétiche\": \"bandana\",\n",
    "        \"équipements\": []\n",
    "    },\n",
    "    {\n",
    "        \"name\": \"Richard d'acier\",\n",
    "        \"attack\": 10,\n",
    "        \"defence\": 35,\n",
    "        \"credo\": \"Défense d'acier\",\n",
    "        \"objet_fétiche\": \"armure\",\n",
    "        \"équipements\": [\"pistolet\", \"couteau\", \"casque\"]\n",
    "    },\n",
    "    {\n",
    "        \"name\": \"Ninja Nina\",\n",
    "        \"attack\": 15,\n",
    "        \"defence\": 27,\n",
    "        \"credo\": \"Niak ! Ninja !\",\n",
    "        \"objet_fétiche\": \"couteau\",\n",
    "        \"équipements\": [\"shuriken\", \"tenue de camouflage\"]\n",
    "    },\n",
    "    {\n",
    "        \"name\": \"Major Maurice\",\n",
    "        \"attack\": 19,\n",
    "        \"defence\": 19,\n",
    "        \"credo\": \"La meilleure défense, c'est l'attaque.\",\n",
    "        \"objet_fétiche\": \"pistolet\",\n",
    "        \"équipements\": [\"fusil\", \"casque\", \"gilet par balle\"]\n",
    "    },\n",
    "]\n",
    "result_many = db_player.insert_many(documents)\n",
    "print(\"IDs inséré pour les nouveaux documents:\\n\", result_many.inserted_ids)"
   ]
  },
  {
   "cell_type": "markdown",
   "id": "f093a685",
   "metadata": {},
   "source": [
    "## 3. L'opérateur `$expr`"
   ]
  },
  {
   "cell_type": "markdown",
   "id": "b28ce8ff",
   "metadata": {},
   "source": [
    "Ce premier opérateur permet de filtrer les documents en précisant une **expression de recherche pouvant combiner plusieurs champs**:\n",
    "\n",
    "`{ $expr: { <expression> } }`\n",
    "\n",
    "---\n",
    "\n",
    "Par exemple:\n",
    ">  \"Je recherche les joueurs qui ont plus d'attaque que de défense\""
   ]
  },
  {
   "cell_type": "code",
   "execution_count": null,
   "id": "f2dda1ce",
   "metadata": {},
   "outputs": [
    {
     "data": {
      "text/html": [
       "<div>\n",
       "<style scoped>\n",
       "    .dataframe tbody tr th:only-of-type {\n",
       "        vertical-align: middle;\n",
       "    }\n",
       "\n",
       "    .dataframe tbody tr th {\n",
       "        vertical-align: top;\n",
       "    }\n",
       "\n",
       "    .dataframe thead th {\n",
       "        text-align: right;\n",
       "    }\n",
       "</style>\n",
       "<table border=\"1\" class=\"dataframe\">\n",
       "  <thead>\n",
       "    <tr style=\"text-align: right;\">\n",
       "      <th></th>\n",
       "      <th>_id</th>\n",
       "      <th>name</th>\n",
       "      <th>attack</th>\n",
       "      <th>defense</th>\n",
       "      <th>credo</th>\n",
       "      <th>objet_fétiche</th>\n",
       "      <th>équipements</th>\n",
       "    </tr>\n",
       "  </thead>\n",
       "  <tbody>\n",
       "    <tr>\n",
       "      <th>0</th>\n",
       "      <td>6888a36163a3ef32fc02c5aa</td>\n",
       "      <td>Bazooka Bob</td>\n",
       "      <td>32</td>\n",
       "      <td>18</td>\n",
       "      <td>À l'attaque !</td>\n",
       "      <td>bazooka</td>\n",
       "      <td>[gilet par balle, couteau, casque]</td>\n",
       "    </tr>\n",
       "    <tr>\n",
       "      <th>1</th>\n",
       "      <td>6888a36163a3ef32fc02c5ab</td>\n",
       "      <td>Karate Kid</td>\n",
       "      <td>26</td>\n",
       "      <td>24</td>\n",
       "      <td>Si tu m'attaques, je riposte.</td>\n",
       "      <td>bandana</td>\n",
       "      <td>[]</td>\n",
       "    </tr>\n",
       "  </tbody>\n",
       "</table>\n",
       "</div>"
      ],
      "text/plain": [
       "                        _id         name  attack  defense  \\\n",
       "0  6888a36163a3ef32fc02c5aa  Bazooka Bob      32       18   \n",
       "1  6888a36163a3ef32fc02c5ab   Karate Kid      26       24   \n",
       "\n",
       "                           credo objet_fétiche  \\\n",
       "0                  À l'attaque !       bazooka   \n",
       "1  Si tu m'attaques, je riposte.       bandana   \n",
       "\n",
       "                          équipements  \n",
       "0  [gilet par balle, couteau, casque]  \n",
       "1                                  []  "
      ]
     },
     "execution_count": 90,
     "metadata": {},
     "output_type": "execute_result"
    }
   ],
   "source": [
    "pd.DataFrame(db_player.find({\"$expr\": {\"$gt\": [\"$attack\", \"$defence\"]}}).to_list())"
   ]
  },
  {
   "cell_type": "markdown",
   "id": "557f23f9",
   "metadata": {},
   "source": [
    "## 4. L'opérateur `$regex`"
   ]
  },
  {
   "cell_type": "markdown",
   "id": "53a7e746",
   "metadata": {},
   "source": [
    "Cet opérateur permet de **filtrer les documents en précisant une expression régulière** que la valeur d'un champ de données doit respecter:\n",
    "\n",
    "`{ <field>: { $regex: \"pattern\", $options: '<options>' } }`\n",
    "\n",
    "Il existe plusieurs options à découvrir dans la documentation MongoDB. Pour l'exemple ci-dessous, l'option **i** permet de rendre la recherche insensible à la casse.\n",
    "\n",
    "---\n",
    "\n",
    "Par exemple:\n",
    ">  \"Je recherche les joueurs dont le credo contient la mention de 'attaque'\""
   ]
  },
  {
   "cell_type": "code",
   "execution_count": 91,
   "id": "b5f9ad02",
   "metadata": {},
   "outputs": [
    {
     "data": {
      "text/html": [
       "<div>\n",
       "<style scoped>\n",
       "    .dataframe tbody tr th:only-of-type {\n",
       "        vertical-align: middle;\n",
       "    }\n",
       "\n",
       "    .dataframe tbody tr th {\n",
       "        vertical-align: top;\n",
       "    }\n",
       "\n",
       "    .dataframe thead th {\n",
       "        text-align: right;\n",
       "    }\n",
       "</style>\n",
       "<table border=\"1\" class=\"dataframe\">\n",
       "  <thead>\n",
       "    <tr style=\"text-align: right;\">\n",
       "      <th></th>\n",
       "      <th>_id</th>\n",
       "      <th>name</th>\n",
       "      <th>attack</th>\n",
       "      <th>defense</th>\n",
       "      <th>credo</th>\n",
       "      <th>objet_fétiche</th>\n",
       "      <th>équipements</th>\n",
       "    </tr>\n",
       "  </thead>\n",
       "  <tbody>\n",
       "    <tr>\n",
       "      <th>0</th>\n",
       "      <td>6888a36163a3ef32fc02c5aa</td>\n",
       "      <td>Bazooka Bob</td>\n",
       "      <td>32</td>\n",
       "      <td>18</td>\n",
       "      <td>À l'attaque !</td>\n",
       "      <td>bazooka</td>\n",
       "      <td>[gilet par balle, couteau, casque]</td>\n",
       "    </tr>\n",
       "    <tr>\n",
       "      <th>1</th>\n",
       "      <td>6888a36163a3ef32fc02c5ab</td>\n",
       "      <td>Karate Kid</td>\n",
       "      <td>26</td>\n",
       "      <td>24</td>\n",
       "      <td>Si tu m'attaques, je riposte.</td>\n",
       "      <td>bandana</td>\n",
       "      <td>[]</td>\n",
       "    </tr>\n",
       "    <tr>\n",
       "      <th>2</th>\n",
       "      <td>6888a36163a3ef32fc02c5ae</td>\n",
       "      <td>Major Maurice</td>\n",
       "      <td>19</td>\n",
       "      <td>19</td>\n",
       "      <td>La meilleure défense, c'est l'attaque.</td>\n",
       "      <td>pistolet</td>\n",
       "      <td>[fusil, casque, gilet par balle]</td>\n",
       "    </tr>\n",
       "  </tbody>\n",
       "</table>\n",
       "</div>"
      ],
      "text/plain": [
       "                        _id           name  attack  defense  \\\n",
       "0  6888a36163a3ef32fc02c5aa    Bazooka Bob      32       18   \n",
       "1  6888a36163a3ef32fc02c5ab     Karate Kid      26       24   \n",
       "2  6888a36163a3ef32fc02c5ae  Major Maurice      19       19   \n",
       "\n",
       "                                    credo objet_fétiche  \\\n",
       "0                           À l'attaque !       bazooka   \n",
       "1           Si tu m'attaques, je riposte.       bandana   \n",
       "2  La meilleure défense, c'est l'attaque.      pistolet   \n",
       "\n",
       "                          équipements  \n",
       "0  [gilet par balle, couteau, casque]  \n",
       "1                                  []  \n",
       "2    [fusil, casque, gilet par balle]  "
      ]
     },
     "execution_count": 91,
     "metadata": {},
     "output_type": "execute_result"
    }
   ],
   "source": [
    "pd.DataFrame(db_player.find({\"credo\": {\"$regex\": \"attaque\", \"$options\": \"i\"}}).to_list())"
   ]
  },
  {
   "cell_type": "markdown",
   "id": "bc6d408e",
   "metadata": {},
   "source": [
    "## 5. L'opérateur `$mod`\n",
    "\n",
    "Cet opérateur permet de filtrer les documents suivant le résultat de l'**application de l'opération mathématique modulo** sur un champ de données. L'opérateur s'invoque comme suit:\n",
    "\n",
    "`{ field: { $mod: [ divisor, remainder ] } }`\n",
    "\n",
    "---\n",
    "\n",
    "Par exemple:\n",
    "> \"Je recherche les joueurs dont le montant de l'attaque ou de la défense est pair\""
   ]
  },
  {
   "cell_type": "code",
   "execution_count": null,
   "id": "983c9c26",
   "metadata": {},
   "outputs": [
    {
     "data": {
      "text/html": [
       "<div>\n",
       "<style scoped>\n",
       "    .dataframe tbody tr th:only-of-type {\n",
       "        vertical-align: middle;\n",
       "    }\n",
       "\n",
       "    .dataframe tbody tr th {\n",
       "        vertical-align: top;\n",
       "    }\n",
       "\n",
       "    .dataframe thead th {\n",
       "        text-align: right;\n",
       "    }\n",
       "</style>\n",
       "<table border=\"1\" class=\"dataframe\">\n",
       "  <thead>\n",
       "    <tr style=\"text-align: right;\">\n",
       "      <th></th>\n",
       "      <th>_id</th>\n",
       "      <th>name</th>\n",
       "      <th>attack</th>\n",
       "      <th>defense</th>\n",
       "      <th>credo</th>\n",
       "      <th>objet_fétiche</th>\n",
       "      <th>équipements</th>\n",
       "    </tr>\n",
       "  </thead>\n",
       "  <tbody>\n",
       "    <tr>\n",
       "      <th>0</th>\n",
       "      <td>6888a36163a3ef32fc02c5aa</td>\n",
       "      <td>Bazooka Bob</td>\n",
       "      <td>32</td>\n",
       "      <td>18</td>\n",
       "      <td>À l'attaque !</td>\n",
       "      <td>bazooka</td>\n",
       "      <td>[gilet par balle, couteau, casque]</td>\n",
       "    </tr>\n",
       "    <tr>\n",
       "      <th>1</th>\n",
       "      <td>6888a36163a3ef32fc02c5ab</td>\n",
       "      <td>Karate Kid</td>\n",
       "      <td>26</td>\n",
       "      <td>24</td>\n",
       "      <td>Si tu m'attaques, je riposte.</td>\n",
       "      <td>bandana</td>\n",
       "      <td>[]</td>\n",
       "    </tr>\n",
       "    <tr>\n",
       "      <th>2</th>\n",
       "      <td>6888a36163a3ef32fc02c5ac</td>\n",
       "      <td>Richard d'acier</td>\n",
       "      <td>10</td>\n",
       "      <td>35</td>\n",
       "      <td>Défense d'acier</td>\n",
       "      <td>armure</td>\n",
       "      <td>[pistolet, couteau, casque]</td>\n",
       "    </tr>\n",
       "  </tbody>\n",
       "</table>\n",
       "</div>"
      ],
      "text/plain": [
       "                        _id             name  attack  defense  \\\n",
       "0  6888a36163a3ef32fc02c5aa      Bazooka Bob      32       18   \n",
       "1  6888a36163a3ef32fc02c5ab       Karate Kid      26       24   \n",
       "2  6888a36163a3ef32fc02c5ac  Richard d'acier      10       35   \n",
       "\n",
       "                           credo objet_fétiche  \\\n",
       "0                  À l'attaque !       bazooka   \n",
       "1  Si tu m'attaques, je riposte.       bandana   \n",
       "2                Défense d'acier        armure   \n",
       "\n",
       "                          équipements  \n",
       "0  [gilet par balle, couteau, casque]  \n",
       "1                                  []  \n",
       "2         [pistolet, couteau, casque]  "
      ]
     },
     "execution_count": 92,
     "metadata": {},
     "output_type": "execute_result"
    }
   ],
   "source": [
    "pd.DataFrame(db_player.find(\n",
    "    {\"$or\": [\n",
    "        {\"attack\": {\"$mod\": [2,0]}}, \n",
    "        {\"defence\": {\"$mod\": [2,0]}},\n",
    "    ]}\n",
    ").to_list())"
   ]
  },
  {
   "cell_type": "markdown",
   "id": "9872a6ed",
   "metadata": {},
   "source": [
    "## 6. L'opérateur `$text`\n",
    "\n",
    "Cet opérateur permet de **filtrer les documents en faisant une recherche textuelle**. L'opérateur s'invoque comme suit:\n",
    "\n",
    "```\n",
    "{\n",
    "  $text: {\n",
    "    $search: <string>,\n",
    "    $language: <string>,\n",
    "    $caseSensitive: <boolean>,\n",
    "    $diacriticSensitive: <boolean>\n",
    "  }\n",
    "}\n",
    "```\n",
    "---\n",
    "\n",
    "**Attention: cet opérateur n'est applicable que sur du texte indexé**\n",
    "\n",
    "Les commandes suivantes permettent d'obtenir un index textuel à partir d'un champ de données de notre collection."
   ]
  },
  {
   "cell_type": "code",
   "execution_count": 93,
   "id": "89902dc2",
   "metadata": {},
   "outputs": [],
   "source": [
    "text_index = db_player.create_index({\"credo\": \"text\"})"
   ]
  },
  {
   "cell_type": "markdown",
   "id": "c3430fc2",
   "metadata": {},
   "source": [
    "Ainsi l'opérateur `$text` est disponible pour ce champ.\n",
    "\n",
    "Par exemple:\n",
    "> \"Je recherche les joueurs dont le credo contient la mention de 'defense'\""
   ]
  },
  {
   "cell_type": "code",
   "execution_count": null,
   "id": "3f7edbcd",
   "metadata": {},
   "outputs": [
    {
     "data": {
      "text/html": [
       "<div>\n",
       "<style scoped>\n",
       "    .dataframe tbody tr th:only-of-type {\n",
       "        vertical-align: middle;\n",
       "    }\n",
       "\n",
       "    .dataframe tbody tr th {\n",
       "        vertical-align: top;\n",
       "    }\n",
       "\n",
       "    .dataframe thead th {\n",
       "        text-align: right;\n",
       "    }\n",
       "</style>\n",
       "<table border=\"1\" class=\"dataframe\">\n",
       "  <thead>\n",
       "    <tr style=\"text-align: right;\">\n",
       "      <th></th>\n",
       "      <th>_id</th>\n",
       "      <th>name</th>\n",
       "      <th>attack</th>\n",
       "      <th>defense</th>\n",
       "      <th>credo</th>\n",
       "      <th>objet_fétiche</th>\n",
       "      <th>équipements</th>\n",
       "    </tr>\n",
       "  </thead>\n",
       "  <tbody>\n",
       "    <tr>\n",
       "      <th>0</th>\n",
       "      <td>6888a36163a3ef32fc02c5ac</td>\n",
       "      <td>Richard d'acier</td>\n",
       "      <td>10</td>\n",
       "      <td>35</td>\n",
       "      <td>Défense d'acier</td>\n",
       "      <td>armure</td>\n",
       "      <td>[pistolet, couteau, casque]</td>\n",
       "    </tr>\n",
       "    <tr>\n",
       "      <th>1</th>\n",
       "      <td>6888a36163a3ef32fc02c5ae</td>\n",
       "      <td>Major Maurice</td>\n",
       "      <td>19</td>\n",
       "      <td>19</td>\n",
       "      <td>La meilleure défense, c'est l'attaque.</td>\n",
       "      <td>pistolet</td>\n",
       "      <td>[fusil, casque, gilet par balle]</td>\n",
       "    </tr>\n",
       "  </tbody>\n",
       "</table>\n",
       "</div>"
      ],
      "text/plain": [
       "                        _id             name  attack  defense  \\\n",
       "0  6888a36163a3ef32fc02c5ac  Richard d'acier      10       35   \n",
       "1  6888a36163a3ef32fc02c5ae    Major Maurice      19       19   \n",
       "\n",
       "                                    credo objet_fétiche  \\\n",
       "0                         Défense d'acier        armure   \n",
       "1  La meilleure défense, c'est l'attaque.      pistolet   \n",
       "\n",
       "                        équipements  \n",
       "0       [pistolet, couteau, casque]  \n",
       "1  [fusil, casque, gilet par balle]  "
      ]
     },
     "execution_count": 94,
     "metadata": {},
     "output_type": "execute_result"
    }
   ],
   "source": [
    "pd.DataFrame(db_player.find({\"$text\": {\"$search\": \"defense\"}}).to_list())"
   ]
  },
  {
   "cell_type": "markdown",
   "id": "585eb26f",
   "metadata": {},
   "source": [
    "Il n'est pas possible d'avoir plusieurs indexes textuels en même temps, du coup pour en créer un nouveau, il faut supprimer le premier."
   ]
  },
  {
   "cell_type": "code",
   "execution_count": 95,
   "id": "f02213cf",
   "metadata": {},
   "outputs": [],
   "source": [
    "db_player.drop_index(text_index)"
   ]
  },
  {
   "cell_type": "markdown",
   "id": "683bff3b",
   "metadata": {},
   "source": [
    "On peut aussi créer un index textuel en combinant plusieurs champs de données."
   ]
  },
  {
   "cell_type": "code",
   "execution_count": 96,
   "id": "16c81a73",
   "metadata": {},
   "outputs": [],
   "source": [
    "text_index = db_player.create_index(\n",
    "    {\n",
    "        \"objet_fétiche\": \"text\",\n",
    "        \"équipements\": \"text\",\n",
    "    }\n",
    ")"
   ]
  },
  {
   "cell_type": "markdown",
   "id": "c97cba06",
   "metadata": {},
   "source": [
    "Ainsi l'opérateur `$text` est disponible pour une recherche dans ces deux champs en même temps.\n",
    "\n",
    "Par exemple:\n",
    "> \"Je recherche les joueurs qui possèdent un couteau\""
   ]
  },
  {
   "cell_type": "code",
   "execution_count": 97,
   "id": "3f4f314c",
   "metadata": {},
   "outputs": [
    {
     "data": {
      "text/html": [
       "<div>\n",
       "<style scoped>\n",
       "    .dataframe tbody tr th:only-of-type {\n",
       "        vertical-align: middle;\n",
       "    }\n",
       "\n",
       "    .dataframe tbody tr th {\n",
       "        vertical-align: top;\n",
       "    }\n",
       "\n",
       "    .dataframe thead th {\n",
       "        text-align: right;\n",
       "    }\n",
       "</style>\n",
       "<table border=\"1\" class=\"dataframe\">\n",
       "  <thead>\n",
       "    <tr style=\"text-align: right;\">\n",
       "      <th></th>\n",
       "      <th>_id</th>\n",
       "      <th>name</th>\n",
       "      <th>attack</th>\n",
       "      <th>defense</th>\n",
       "      <th>credo</th>\n",
       "      <th>objet_fétiche</th>\n",
       "      <th>équipements</th>\n",
       "    </tr>\n",
       "  </thead>\n",
       "  <tbody>\n",
       "    <tr>\n",
       "      <th>0</th>\n",
       "      <td>6888a36163a3ef32fc02c5ad</td>\n",
       "      <td>Ninja Nina</td>\n",
       "      <td>15</td>\n",
       "      <td>27</td>\n",
       "      <td>Niak ! Ninja !</td>\n",
       "      <td>couteau</td>\n",
       "      <td>[shuriken, tenue de camouflage]</td>\n",
       "    </tr>\n",
       "    <tr>\n",
       "      <th>1</th>\n",
       "      <td>6888a36163a3ef32fc02c5ac</td>\n",
       "      <td>Richard d'acier</td>\n",
       "      <td>10</td>\n",
       "      <td>35</td>\n",
       "      <td>Défense d'acier</td>\n",
       "      <td>armure</td>\n",
       "      <td>[pistolet, couteau, casque]</td>\n",
       "    </tr>\n",
       "    <tr>\n",
       "      <th>2</th>\n",
       "      <td>6888a36163a3ef32fc02c5aa</td>\n",
       "      <td>Bazooka Bob</td>\n",
       "      <td>32</td>\n",
       "      <td>18</td>\n",
       "      <td>À l'attaque !</td>\n",
       "      <td>bazooka</td>\n",
       "      <td>[gilet par balle, couteau, casque]</td>\n",
       "    </tr>\n",
       "  </tbody>\n",
       "</table>\n",
       "</div>"
      ],
      "text/plain": [
       "                        _id             name  attack  defense  \\\n",
       "0  6888a36163a3ef32fc02c5ad       Ninja Nina      15       27   \n",
       "1  6888a36163a3ef32fc02c5ac  Richard d'acier      10       35   \n",
       "2  6888a36163a3ef32fc02c5aa      Bazooka Bob      32       18   \n",
       "\n",
       "             credo objet_fétiche                         équipements  \n",
       "0   Niak ! Ninja !       couteau     [shuriken, tenue de camouflage]  \n",
       "1  Défense d'acier        armure         [pistolet, couteau, casque]  \n",
       "2    À l'attaque !       bazooka  [gilet par balle, couteau, casque]  "
      ]
     },
     "execution_count": 97,
     "metadata": {},
     "output_type": "execute_result"
    }
   ],
   "source": [
    "pd.DataFrame(db_player.find({\"$text\": {\"$search\": \"couteau\"}}).to_list())"
   ]
  },
  {
   "cell_type": "markdown",
   "id": "2fb7c7c4",
   "metadata": {},
   "source": [
    "## L'opérateur `$where`\n",
    "\n",
    "L'opérateur `$where` permet d'apporter de la flexibilité dans les requêtes via l'**utilisation de fonctions JavaScript**. Il s'invoque via le schéma suivant:\n",
    "\n",
    "`{ $where: <string|JavaScript Code> }`\n",
    "\n",
    "*Conseil: en général, si la requête peut être faite via les opérateurs MongoDB, il est préférable de choisir ces derniers pour des questions de performance dans l'éxecution de la requête.*\n",
    "\n",
    "---\n",
    "\n",
    "Par exemple:\n",
    "> \"Je veux récupérer les joueurs dont le MD5 hash de leur nom commence par une lettre plus grande que 'd'\""
   ]
  },
  {
   "cell_type": "code",
   "execution_count": 112,
   "id": "c20d5cca",
   "metadata": {},
   "outputs": [
    {
     "data": {
      "text/html": [
       "<div>\n",
       "<style scoped>\n",
       "    .dataframe tbody tr th:only-of-type {\n",
       "        vertical-align: middle;\n",
       "    }\n",
       "\n",
       "    .dataframe tbody tr th {\n",
       "        vertical-align: top;\n",
       "    }\n",
       "\n",
       "    .dataframe thead th {\n",
       "        text-align: right;\n",
       "    }\n",
       "</style>\n",
       "<table border=\"1\" class=\"dataframe\">\n",
       "  <thead>\n",
       "    <tr style=\"text-align: right;\">\n",
       "      <th></th>\n",
       "      <th>_id</th>\n",
       "      <th>name</th>\n",
       "      <th>attack</th>\n",
       "      <th>defense</th>\n",
       "      <th>credo</th>\n",
       "      <th>objet_fétiche</th>\n",
       "      <th>équipements</th>\n",
       "    </tr>\n",
       "  </thead>\n",
       "  <tbody>\n",
       "    <tr>\n",
       "      <th>0</th>\n",
       "      <td>6888a36163a3ef32fc02c5aa</td>\n",
       "      <td>Bazooka Bob</td>\n",
       "      <td>32</td>\n",
       "      <td>18</td>\n",
       "      <td>À l'attaque !</td>\n",
       "      <td>bazooka</td>\n",
       "      <td>[gilet par balle, couteau, casque]</td>\n",
       "    </tr>\n",
       "    <tr>\n",
       "      <th>1</th>\n",
       "      <td>6888a36163a3ef32fc02c5ae</td>\n",
       "      <td>Major Maurice</td>\n",
       "      <td>19</td>\n",
       "      <td>19</td>\n",
       "      <td>La meilleure défense, c'est l'attaque.</td>\n",
       "      <td>pistolet</td>\n",
       "      <td>[fusil, casque, gilet par balle]</td>\n",
       "    </tr>\n",
       "  </tbody>\n",
       "</table>\n",
       "</div>"
      ],
      "text/plain": [
       "                        _id           name  attack  defense  \\\n",
       "0  6888a36163a3ef32fc02c5aa    Bazooka Bob      32       18   \n",
       "1  6888a36163a3ef32fc02c5ae  Major Maurice      19       19   \n",
       "\n",
       "                                    credo objet_fétiche  \\\n",
       "0                           À l'attaque !       bazooka   \n",
       "1  La meilleure défense, c'est l'attaque.      pistolet   \n",
       "\n",
       "                          équipements  \n",
       "0  [gilet par balle, couteau, casque]  \n",
       "1    [fusil, casque, gilet par balle]  "
      ]
     },
     "execution_count": 112,
     "metadata": {},
     "output_type": "execute_result"
    }
   ],
   "source": [
    "pd.DataFrame(db_player.find({\n",
    "    \"$where\": \"\"\"function() {\n",
    "        return (hex_md5(this.name) > 'd')\n",
    "    }\"\"\"\n",
    "}).to_list())"
   ]
  },
  {
   "cell_type": "markdown",
   "id": "d96bd1ae",
   "metadata": {},
   "source": [
    "---\n",
    "\n",
    "## Conclusion\n",
    "\n",
    "Dans ce notebook, nous avons exploré certains **opérateurs d'évaluation** de MongoDB :  \n",
    "- `$expr` : permet d'exprimer une expression d'évaluation combinant plusieurs champs dans une requête\n",
    "- `$regex` : permet l'emploi d'expression régulière dans l'évaluation d'un champ\n",
    "- `$mod` : permet l'emploi de l'opérateur mathématique modulo dans l'évaluation d'un champ numérique\n",
    "- `$text` : permet une recherche textuelle à partir d'un index textuel préalablement établi\n",
    "- `$where` : permet de faire des requêtes plus avancées grâce à l'emploi de fonction JavaScripy\n",
    "\n",
    "Chaque opérateur a été présenté avec un exemple simple et compréhensible, en se basant sur une collection de joueurs fictifs.\n",
    "\n",
    "Ce travail permet de mieux comprendre comment MongoDB peut évaluer les champs de données contenus dans un document."
   ]
  }
 ],
 "metadata": {
  "kernelspec": {
   "display_name": ".venv",
   "language": "python",
   "name": "python3"
  },
  "language_info": {
   "codemirror_mode": {
    "name": "ipython",
    "version": 3
   },
   "file_extension": ".py",
   "mimetype": "text/x-python",
   "name": "python",
   "nbconvert_exporter": "python",
   "pygments_lexer": "ipython3",
   "version": "3.12.3"
  }
 },
 "nbformat": 4,
 "nbformat_minor": 5
}
