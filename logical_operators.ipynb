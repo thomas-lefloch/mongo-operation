{
 "cells": [
  {
   "cell_type": "markdown",
   "id": "50b2739f-5b48-49f8-b3fc-ad7910b8e3a6",
   "metadata": {},
   "source": [
    "# Opérateurs logiques MongoDB : `$and`, `$or`, `$nor`, `$not` \n",
    "\n",
    "Ce notebook présente les opérateurs logiques de MongoDB à travers des exemples simples et accessibles.  \n",
    "L'objectif est de montrer comment filtrer des documents à l'aide de conditions logiques dans une base MongoDB.\n",
    "\n",
    "Nous allons :\n",
    "- Créer une connexion à MongoDB local (via Docker)\n",
    "- Insérer des données fictives\n",
    "- Illustrer les opérateurs logiques un par un"
   ]
  },
  {
   "cell_type": "code",
   "execution_count": 6,
   "id": "046803dc-8202-4b0e-b4d4-b21129f0ae80",
   "metadata": {},
   "outputs": [],
   "source": [
    "# Connexion à MongoDB local (via Docker)\n",
    "from pymongo import MongoClient\n",
    "import pandas as pd\n",
    "\n",
    "# Connexion à l'instance MongoDB (sur localhost:27017)\n",
    "client = MongoClient(\"mongodb://localhost:27017/\")\n",
    "\n",
    "# Connexion à la base testdb\n",
    "db = client.testdb\n",
    "\n",
    "# Sélection de la collection \"clients\"\n",
    "collection = db.clients"
   ]
  },
  {
   "cell_type": "code",
   "execution_count": 7,
   "id": "2260c2b2-fe55-41e3-90d2-c98e4b4fbe6a",
   "metadata": {
    "scrolled": true
   },
   "outputs": [
    {
     "data": {
      "text/plain": [
       "InsertManyResult([ObjectId('6888a4f7ceaa36f271fac3f3'), ObjectId('6888a4f7ceaa36f271fac3f4'), ObjectId('6888a4f7ceaa36f271fac3f5'), ObjectId('6888a4f7ceaa36f271fac3f6'), ObjectId('6888a4f7ceaa36f271fac3f7')], acknowledged=True)"
      ]
     },
     "execution_count": 7,
     "metadata": {},
     "output_type": "execute_result"
    }
   ],
   "source": [
    "# On supprime les documents existants pour éviter les doublons\n",
    "collection.delete_many({})\n",
    "\n",
    "# Insertion de plusieurs documents (clients fictifs)\n",
    "collection.insert_many([\n",
    "    { \"name\": \"Alice\", \"age\": 22, \"city\": \"Lyon\" },\n",
    "    { \"name\": \"César\", \"age\": 31, \"city\": \"Lille\" },\n",
    "    { \"name\": \"Thomas\", \"age\": 24, \"city\": \"Nantes\" },\n",
    "    { \"name\": \"Fréderic\", \"age\": 35, \"city\": \"Paris\" },\n",
    "    { \"name\": \"Jawad\", \"age\": 36, \"city\": \"Paris\" }\n",
    "])"
   ]
  },
  {
   "cell_type": "code",
   "execution_count": 8,
   "id": "eefd2ef0-7d67-4bb1-ac5a-5218ea16c19d",
   "metadata": {},
   "outputs": [
    {
     "data": {
      "text/html": [
       "<div>\n",
       "<style scoped>\n",
       "    .dataframe tbody tr th:only-of-type {\n",
       "        vertical-align: middle;\n",
       "    }\n",
       "\n",
       "    .dataframe tbody tr th {\n",
       "        vertical-align: top;\n",
       "    }\n",
       "\n",
       "    .dataframe thead th {\n",
       "        text-align: right;\n",
       "    }\n",
       "</style>\n",
       "<table border=\"1\" class=\"dataframe\">\n",
       "  <thead>\n",
       "    <tr style=\"text-align: right;\">\n",
       "      <th></th>\n",
       "      <th>_id</th>\n",
       "      <th>name</th>\n",
       "      <th>age</th>\n",
       "      <th>city</th>\n",
       "    </tr>\n",
       "  </thead>\n",
       "  <tbody>\n",
       "    <tr>\n",
       "      <th>0</th>\n",
       "      <td>6888a4f7ceaa36f271fac3f3</td>\n",
       "      <td>Alice</td>\n",
       "      <td>22</td>\n",
       "      <td>Lyon</td>\n",
       "    </tr>\n",
       "    <tr>\n",
       "      <th>1</th>\n",
       "      <td>6888a4f7ceaa36f271fac3f4</td>\n",
       "      <td>César</td>\n",
       "      <td>31</td>\n",
       "      <td>Lille</td>\n",
       "    </tr>\n",
       "    <tr>\n",
       "      <th>2</th>\n",
       "      <td>6888a4f7ceaa36f271fac3f5</td>\n",
       "      <td>Thomas</td>\n",
       "      <td>24</td>\n",
       "      <td>Nantes</td>\n",
       "    </tr>\n",
       "    <tr>\n",
       "      <th>3</th>\n",
       "      <td>6888a4f7ceaa36f271fac3f6</td>\n",
       "      <td>Fréderic</td>\n",
       "      <td>35</td>\n",
       "      <td>Paris</td>\n",
       "    </tr>\n",
       "    <tr>\n",
       "      <th>4</th>\n",
       "      <td>6888a4f7ceaa36f271fac3f7</td>\n",
       "      <td>Jawad</td>\n",
       "      <td>36</td>\n",
       "      <td>Paris</td>\n",
       "    </tr>\n",
       "  </tbody>\n",
       "</table>\n",
       "</div>"
      ],
      "text/plain": [
       "                        _id      name  age    city\n",
       "0  6888a4f7ceaa36f271fac3f3     Alice   22    Lyon\n",
       "1  6888a4f7ceaa36f271fac3f4     César   31   Lille\n",
       "2  6888a4f7ceaa36f271fac3f5    Thomas   24  Nantes\n",
       "3  6888a4f7ceaa36f271fac3f6  Fréderic   35   Paris\n",
       "4  6888a4f7ceaa36f271fac3f7     Jawad   36   Paris"
      ]
     },
     "execution_count": 8,
     "metadata": {},
     "output_type": "execute_result"
    }
   ],
   "source": [
    "# Affichage des clients insérés dans la collection\n",
    "docs = list(collection.find())\n",
    "pd.DataFrame(docs)"
   ]
  },
  {
   "cell_type": "markdown",
   "id": "62297569-1372-492e-b1e8-bf6d1c5e16cc",
   "metadata": {},
   "source": [
    "## Opérateur logique `$and`\n",
    "\n",
    "L’opérateur `$and` permet de filtrer les documents qui respectent toutes les conditions spécifiées.  \n",
    "C’est l’équivalent du **ET logique**.\n",
    "\n",
    "---\n",
    "\n",
    "**Exemple simple :**  \n",
    "On veut retrouver les personnes :\n",
    "- qui ont 30 ans ou plus\n",
    "- **et** qui habitent à Paris\n",
    "\n",
    "Cela revient à dire :  \n",
    "> \"Je veux les personnes qui ont 30 ans ou plus **ET** qui sont à Paris.\"\n"
   ]
  },
  {
   "cell_type": "code",
   "execution_count": 9,
   "id": "e4531dc9-33c1-4a54-8de7-3e72f11d246e",
   "metadata": {},
   "outputs": [
    {
     "data": {
      "text/html": [
       "<div>\n",
       "<style scoped>\n",
       "    .dataframe tbody tr th:only-of-type {\n",
       "        vertical-align: middle;\n",
       "    }\n",
       "\n",
       "    .dataframe tbody tr th {\n",
       "        vertical-align: top;\n",
       "    }\n",
       "\n",
       "    .dataframe thead th {\n",
       "        text-align: right;\n",
       "    }\n",
       "</style>\n",
       "<table border=\"1\" class=\"dataframe\">\n",
       "  <thead>\n",
       "    <tr style=\"text-align: right;\">\n",
       "      <th></th>\n",
       "      <th>_id</th>\n",
       "      <th>name</th>\n",
       "      <th>age</th>\n",
       "      <th>city</th>\n",
       "    </tr>\n",
       "  </thead>\n",
       "  <tbody>\n",
       "    <tr>\n",
       "      <th>0</th>\n",
       "      <td>6888a4f7ceaa36f271fac3f6</td>\n",
       "      <td>Fréderic</td>\n",
       "      <td>35</td>\n",
       "      <td>Paris</td>\n",
       "    </tr>\n",
       "    <tr>\n",
       "      <th>1</th>\n",
       "      <td>6888a4f7ceaa36f271fac3f7</td>\n",
       "      <td>Jawad</td>\n",
       "      <td>36</td>\n",
       "      <td>Paris</td>\n",
       "    </tr>\n",
       "  </tbody>\n",
       "</table>\n",
       "</div>"
      ],
      "text/plain": [
       "                        _id      name  age   city\n",
       "0  6888a4f7ceaa36f271fac3f6  Fréderic   35  Paris\n",
       "1  6888a4f7ceaa36f271fac3f7     Jawad   36  Paris"
      ]
     },
     "execution_count": 9,
     "metadata": {},
     "output_type": "execute_result"
    }
   ],
   "source": [
    "# Requête : âge ≥ 30 ET ville = Paris\n",
    "query = {\n",
    "    \"$and\": [\n",
    "        { \"age\": { \"$gte\": 30 } },\n",
    "        { \"city\": \"Paris\" }\n",
    "    ]\n",
    "}\n",
    "\n",
    "# Exécution de la requête\n",
    "results = list(collection.find(query))\n",
    "\n",
    "# Affichage du résultat dans un tableau\n",
    "pd.DataFrame(results)\n"
   ]
  },
  {
   "cell_type": "markdown",
   "id": "57906d25-cd96-49ed-bfc3-7c6f06217684",
   "metadata": {},
   "source": [
    "## Opérateur logique `$or`\n",
    "\n",
    "L'opérateur `$or` permet de sélectionner les documents qui remplissent au moins une des conditions spécifiées.  \n",
    "Il fonctionne comme un **OU logique**.\n",
    "\n",
    "---\n",
    "\n",
    "**Exemple pédagogique :**  \n",
    "Je veux les personnes :\n",
    "- qui ont moins de 25 ans\n",
    "- **ou** qui habitent à Lyon\n",
    "\n",
    "Cela veut dire :  \n",
    "> \"Si l’une des deux conditions est vraie, la personne est sélectionnée.\""
   ]
  },
  {
   "cell_type": "code",
   "execution_count": 10,
   "id": "bc8b5147-d757-427a-9745-3915220844c1",
   "metadata": {},
   "outputs": [
    {
     "data": {
      "text/html": [
       "<div>\n",
       "<style scoped>\n",
       "    .dataframe tbody tr th:only-of-type {\n",
       "        vertical-align: middle;\n",
       "    }\n",
       "\n",
       "    .dataframe tbody tr th {\n",
       "        vertical-align: top;\n",
       "    }\n",
       "\n",
       "    .dataframe thead th {\n",
       "        text-align: right;\n",
       "    }\n",
       "</style>\n",
       "<table border=\"1\" class=\"dataframe\">\n",
       "  <thead>\n",
       "    <tr style=\"text-align: right;\">\n",
       "      <th></th>\n",
       "      <th>_id</th>\n",
       "      <th>name</th>\n",
       "      <th>age</th>\n",
       "      <th>city</th>\n",
       "    </tr>\n",
       "  </thead>\n",
       "  <tbody>\n",
       "    <tr>\n",
       "      <th>0</th>\n",
       "      <td>6888a4f7ceaa36f271fac3f3</td>\n",
       "      <td>Alice</td>\n",
       "      <td>22</td>\n",
       "      <td>Lyon</td>\n",
       "    </tr>\n",
       "    <tr>\n",
       "      <th>1</th>\n",
       "      <td>6888a4f7ceaa36f271fac3f5</td>\n",
       "      <td>Thomas</td>\n",
       "      <td>24</td>\n",
       "      <td>Nantes</td>\n",
       "    </tr>\n",
       "  </tbody>\n",
       "</table>\n",
       "</div>"
      ],
      "text/plain": [
       "                        _id    name  age    city\n",
       "0  6888a4f7ceaa36f271fac3f3   Alice   22    Lyon\n",
       "1  6888a4f7ceaa36f271fac3f5  Thomas   24  Nantes"
      ]
     },
     "execution_count": 10,
     "metadata": {},
     "output_type": "execute_result"
    }
   ],
   "source": [
    "# Requête : âge < 25 OU ville = Lyon\n",
    "query = {\n",
    "    \"$or\": [\n",
    "        { \"age\": { \"$lt\": 25 } },\n",
    "        { \"city\": \"Lyon\" }\n",
    "    ]\n",
    "}\n",
    "\n",
    "# Exécution de la requête\n",
    "results = list(collection.find(query))\n",
    "\n",
    "# Affichage\n",
    "pd.DataFrame(results)"
   ]
  },
  {
   "cell_type": "markdown",
   "id": "ea994424-b7ef-40e7-bc56-e35a00db652e",
   "metadata": {},
   "source": [
    "## Opérateur logique `$nor`\n",
    "\n",
    "L’opérateur `$nor` permet de rejeter tous les documents qui remplissent l’une ou l’autre des conditions.  \n",
    "C’est l’équivalent de dire : \"**ni... ni...**\".\n",
    "\n",
    "---\n",
    "\n",
    "**Exemple pédagogique :**  \n",
    "Je veux exclure les personnes :\n",
    "- qui ont plus de 30 ans\n",
    "- **ou** qui habitent à Paris\n",
    "\n",
    "Cela revient à dire :  \n",
    "> \"Je veux uniquement les personnes **qui n’ont pas plus de 30 ans** **et** **qui n’habitent pas à Paris**.\""
   ]
  },
  {
   "cell_type": "code",
   "execution_count": 11,
   "id": "7b67a5ba-925b-4dc9-8f7a-a6469607902b",
   "metadata": {},
   "outputs": [
    {
     "data": {
      "text/html": [
       "<div>\n",
       "<style scoped>\n",
       "    .dataframe tbody tr th:only-of-type {\n",
       "        vertical-align: middle;\n",
       "    }\n",
       "\n",
       "    .dataframe tbody tr th {\n",
       "        vertical-align: top;\n",
       "    }\n",
       "\n",
       "    .dataframe thead th {\n",
       "        text-align: right;\n",
       "    }\n",
       "</style>\n",
       "<table border=\"1\" class=\"dataframe\">\n",
       "  <thead>\n",
       "    <tr style=\"text-align: right;\">\n",
       "      <th></th>\n",
       "      <th>_id</th>\n",
       "      <th>name</th>\n",
       "      <th>age</th>\n",
       "      <th>city</th>\n",
       "    </tr>\n",
       "  </thead>\n",
       "  <tbody>\n",
       "    <tr>\n",
       "      <th>0</th>\n",
       "      <td>6888a4f7ceaa36f271fac3f3</td>\n",
       "      <td>Alice</td>\n",
       "      <td>22</td>\n",
       "      <td>Lyon</td>\n",
       "    </tr>\n",
       "    <tr>\n",
       "      <th>1</th>\n",
       "      <td>6888a4f7ceaa36f271fac3f5</td>\n",
       "      <td>Thomas</td>\n",
       "      <td>24</td>\n",
       "      <td>Nantes</td>\n",
       "    </tr>\n",
       "  </tbody>\n",
       "</table>\n",
       "</div>"
      ],
      "text/plain": [
       "                        _id    name  age    city\n",
       "0  6888a4f7ceaa36f271fac3f3   Alice   22    Lyon\n",
       "1  6888a4f7ceaa36f271fac3f5  Thomas   24  Nantes"
      ]
     },
     "execution_count": 11,
     "metadata": {},
     "output_type": "execute_result"
    }
   ],
   "source": [
    "# Requête : exclure les personnes ayant age > 30 ou habitant à Paris\n",
    "query = {\n",
    "    \"$nor\": [\n",
    "        { \"age\": { \"$gt\": 30 } },\n",
    "        { \"city\": \"Paris\" }\n",
    "    ]\n",
    "}\n",
    "\n",
    "# Exécution de la requête\n",
    "results = list(collection.find(query))\n",
    "\n",
    "# Affichage\n",
    "pd.DataFrame(results)"
   ]
  },
  {
   "cell_type": "markdown",
   "id": "c5ca0ecf-32b8-46b4-9982-7dd4e712418c",
   "metadata": {},
   "source": [
    "## Opérateur logique `$not`\n",
    "\n",
    "L’opérateur `$not` permet de nier une seule condition spécifique.  \n",
    "C’est une négation, mais elle s’utilise uniquement à **l’intérieur d’une condition**.\n",
    "\n",
    "---\n",
    "\n",
    "**Exemple pédagogique :**  \n",
    "Je veux les personnes dont l’âge n’est pas supérieur ou égal à 30 ans.\n",
    "\n",
    "Cela revient à dire :  \n",
    "> \"Je veux ceux qui **ont moins de 30 ans**.\"\n",
    "\n",
    "À ne pas confondre avec `$nor`, qui agit sur plusieurs conditions.\n"
   ]
  },
  {
   "cell_type": "code",
   "execution_count": 12,
   "id": "12f0b890-e642-48d8-80d1-b12b53fdaedc",
   "metadata": {},
   "outputs": [
    {
     "data": {
      "text/html": [
       "<div>\n",
       "<style scoped>\n",
       "    .dataframe tbody tr th:only-of-type {\n",
       "        vertical-align: middle;\n",
       "    }\n",
       "\n",
       "    .dataframe tbody tr th {\n",
       "        vertical-align: top;\n",
       "    }\n",
       "\n",
       "    .dataframe thead th {\n",
       "        text-align: right;\n",
       "    }\n",
       "</style>\n",
       "<table border=\"1\" class=\"dataframe\">\n",
       "  <thead>\n",
       "    <tr style=\"text-align: right;\">\n",
       "      <th></th>\n",
       "      <th>_id</th>\n",
       "      <th>name</th>\n",
       "      <th>age</th>\n",
       "      <th>city</th>\n",
       "    </tr>\n",
       "  </thead>\n",
       "  <tbody>\n",
       "    <tr>\n",
       "      <th>0</th>\n",
       "      <td>6888a4f7ceaa36f271fac3f3</td>\n",
       "      <td>Alice</td>\n",
       "      <td>22</td>\n",
       "      <td>Lyon</td>\n",
       "    </tr>\n",
       "    <tr>\n",
       "      <th>1</th>\n",
       "      <td>6888a4f7ceaa36f271fac3f5</td>\n",
       "      <td>Thomas</td>\n",
       "      <td>24</td>\n",
       "      <td>Nantes</td>\n",
       "    </tr>\n",
       "  </tbody>\n",
       "</table>\n",
       "</div>"
      ],
      "text/plain": [
       "                        _id    name  age    city\n",
       "0  6888a4f7ceaa36f271fac3f3   Alice   22    Lyon\n",
       "1  6888a4f7ceaa36f271fac3f5  Thomas   24  Nantes"
      ]
     },
     "execution_count": 12,
     "metadata": {},
     "output_type": "execute_result"
    }
   ],
   "source": [
    "# Requête : sélectionner les personnes dont l'âge n'est pas supérieur ou égal à 30\n",
    "query = {\n",
    "    \"age\": {\n",
    "        \"$not\": { \"$gte\": 30 }\n",
    "    }\n",
    "}\n",
    "\n",
    "# Exécution\n",
    "results = list(collection.find(query))\n",
    "\n",
    "# Affichage\n",
    "pd.DataFrame(results)\n"
   ]
  },
  {
   "cell_type": "markdown",
   "id": "ceca37a4-7d86-4be1-87d0-cb1070ed0e08",
   "metadata": {},
   "source": [
    "---\n",
    "\n",
    "## Conclusion\n",
    "\n",
    "Dans ce notebook, nous avons exploré les **opérateurs logiques** de MongoDB :  \n",
    "- `$and` : pour combiner plusieurs conditions (ET)\n",
    "- `$or` : pour accepter au moins une condition (OU)\n",
    "- `$nor` : pour exclure toutes les conditions (NI... NI...)\n",
    "- `$not` : pour nier une seule condition spécifique\n",
    "\n",
    "Chaque opérateur a été présenté avec un exemple simple et compréhensible, en se basant sur une collection de clients fictifs.\n",
    "\n",
    "Ce travail permet de mieux comprendre comment MongoDB peut filtrer des données avec souplesse, même sans être développeur.\n",
    "\n",
    "---\n",
    "\n",
    "**Prochaine étape :**  \n",
    "Passer au commit Git pour enregistrer le travail dans la branche `feature/jawad`.\n"
   ]
  }
 ],
 "metadata": {
  "kernelspec": {
   "display_name": "venv",
   "language": "python",
   "name": "python3"
  },
  "language_info": {
   "codemirror_mode": {
    "name": "ipython",
    "version": 3
   },
   "file_extension": ".py",
   "mimetype": "text/x-python",
   "name": "python",
   "nbconvert_exporter": "python",
   "pygments_lexer": "ipython3",
   "version": "3.12.11"
  }
 },
 "nbformat": 4,
 "nbformat_minor": 5
}
