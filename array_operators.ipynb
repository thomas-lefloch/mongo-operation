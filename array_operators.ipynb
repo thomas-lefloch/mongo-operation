{
 "cells": [
  {
   "cell_type": "markdown",
   "id": "8e964272-b78a-4e1a-829c-ed0be8fcfd09",
   "metadata": {},
   "source": [
    "# Opérateurs MongoDB sur les tableaux : `$all`, `$elemMatch`, `$size`\n",
    "\n",
    "Dans cette section, nous explorons les opérateurs MongoDB qui permettent de filtrer les documents contenant des tableaux (arrays).\n",
    "\n",
    "Les opérateurs :\n",
    "- `$all` → vérifier que **plusieurs valeurs** sont présentes dans un tableau\n",
    "- `$elemMatch` → vérifier qu’un **élément du tableau respecte plusieurs conditions**\n",
    "- `$size` → vérifier la **taille exacte** d’un tableau\n",
    "\n",
    "Nous allons insérer des documents avec des tableaux, puis illustrer chaque opérateur.\n"
   ]
  },
  {
   "cell_type": "code",
   "execution_count": 1,
   "id": "552232c1-78d6-4228-858e-899b88911e78",
   "metadata": {},
   "outputs": [],
   "source": [
    "# Connexion à MongoDB local (via Docker)\n",
    "from pymongo import MongoClient\n",
    "import pandas as pd\n",
    "\n",
    "# Connexion à MongoDB\n",
    "client = MongoClient(\"mongodb://localhost:27017/\")\n",
    "db = client.testdb "
   ]
  },
  {
   "cell_type": "code",
   "execution_count": 2,
   "id": "ce8dd05a-161f-4c56-a612-5074ee25decb",
   "metadata": {},
   "outputs": [
    {
     "data": {
      "text/plain": [
       "InsertManyResult([ObjectId('6888a517f36aaad9d48a45e3'), ObjectId('6888a517f36aaad9d48a45e4'), ObjectId('6888a517f36aaad9d48a45e5'), ObjectId('6888a517f36aaad9d48a45e6')], acknowledged=True)"
      ]
     },
     "execution_count": 2,
     "metadata": {},
     "output_type": "execute_result"
    }
   ],
   "source": [
    "# Nouvelle collection \"students\"\n",
    "students = db.students\n",
    "students.delete_many({})  # On nettoie\n",
    "\n",
    "# Insertion de documents avec tableaux\n",
    "students.insert_many([\n",
    "    {\n",
    "        \"name\": \"Manon\",\n",
    "        \"skills\": [\"Python\", \"MongoDB\", \"Docker\"],\n",
    "        \"scores\": [80, 85, 90]\n",
    "    },\n",
    "    {\n",
    "        \"name\": \"Damien\",\n",
    "        \"skills\": [\"Python\", \"SQL\"],\n",
    "        \"scores\": [60, 75, 70]\n",
    "    },\n",
    "    {\n",
    "        \"name\": \"Karim\",\n",
    "        \"skills\": [\"MongoDB\", \"Python\", \"Docker\"],\n",
    "        \"scores\": [90, 92, 95]\n",
    "    },\n",
    "    {\n",
    "        \"name\": \"Marie\",\n",
    "        \"skills\": [\"Java\", \"Python\"],\n",
    "        \"scores\": [55, 65]\n",
    "    }\n",
    "])\n"
   ]
  },
  {
   "cell_type": "markdown",
   "id": "5b03755f-7780-4da7-bd4f-af9d82a3f1a5",
   "metadata": {},
   "source": [
    "## Opérateur `$all`\n",
    "\n",
    "L’opérateur `$all` permet de vérifier qu’un **tableau contient toutes les valeurs spécifiées**, peu importe l’ordre.\n",
    "\n",
    "---\n",
    "\n",
    "**Exemple pédagogique :**  \n",
    "Je veux retrouver les étudiants qui maîtrisent **à la fois** `\"Python\"` et `\"Docker\"`.\n",
    "\n",
    "Cela revient à dire :  \n",
    "> \"Ce document doit contenir **tous** les éléments de ma liste, même s’il en a d’autres en plus.\"\n",
    "\n",
    "Même si un étudiant connaît aussi d’autres technologies, il sera sélectionné tant qu’il possède **au moins ces deux-là** dans son tableau `skills`.\n",
    "\n"
   ]
  },
  {
   "cell_type": "code",
   "execution_count": 3,
   "id": "4b329a1c-2ba2-4524-99e5-79659858d24c",
   "metadata": {},
   "outputs": [
    {
     "data": {
      "text/html": [
       "<div>\n",
       "<style scoped>\n",
       "    .dataframe tbody tr th:only-of-type {\n",
       "        vertical-align: middle;\n",
       "    }\n",
       "\n",
       "    .dataframe tbody tr th {\n",
       "        vertical-align: top;\n",
       "    }\n",
       "\n",
       "    .dataframe thead th {\n",
       "        text-align: right;\n",
       "    }\n",
       "</style>\n",
       "<table border=\"1\" class=\"dataframe\">\n",
       "  <thead>\n",
       "    <tr style=\"text-align: right;\">\n",
       "      <th></th>\n",
       "      <th>_id</th>\n",
       "      <th>name</th>\n",
       "      <th>skills</th>\n",
       "      <th>scores</th>\n",
       "    </tr>\n",
       "  </thead>\n",
       "  <tbody>\n",
       "    <tr>\n",
       "      <th>0</th>\n",
       "      <td>6888a517f36aaad9d48a45e3</td>\n",
       "      <td>Manon</td>\n",
       "      <td>[Python, MongoDB, Docker]</td>\n",
       "      <td>[80, 85, 90]</td>\n",
       "    </tr>\n",
       "    <tr>\n",
       "      <th>1</th>\n",
       "      <td>6888a517f36aaad9d48a45e5</td>\n",
       "      <td>Karim</td>\n",
       "      <td>[MongoDB, Python, Docker]</td>\n",
       "      <td>[90, 92, 95]</td>\n",
       "    </tr>\n",
       "  </tbody>\n",
       "</table>\n",
       "</div>"
      ],
      "text/plain": [
       "                        _id   name                     skills        scores\n",
       "0  6888a517f36aaad9d48a45e3  Manon  [Python, MongoDB, Docker]  [80, 85, 90]\n",
       "1  6888a517f36aaad9d48a45e5  Karim  [MongoDB, Python, Docker]  [90, 92, 95]"
      ]
     },
     "execution_count": 3,
     "metadata": {},
     "output_type": "execute_result"
    }
   ],
   "source": [
    "# Requête : trouver les étudiants qui ont \"Python\" ET \"Docker\" dans leur tableau de compétences\n",
    "query = {\n",
    "    \"skills\": {\n",
    "        \"$all\": [\"Python\", \"Docker\"]\n",
    "    }\n",
    "}\n",
    "\n",
    "# Exécution\n",
    "results = list(students.find(query))\n",
    "\n",
    "# Affichage\n",
    "pd.DataFrame(results)\n"
   ]
  },
  {
   "cell_type": "markdown",
   "id": "a4de6055-da95-4752-9a5f-6ab7062ff2be",
   "metadata": {},
   "source": [
    "## Opérateur `$elemMatch`\n",
    "\n",
    "L’opérateur `$elemMatch` permet de rechercher les documents où au moins un élément d’un tableau respecte plusieurs conditions en même temps.\n",
    "\n",
    "---\n",
    "\n",
    "**Exemple pédagogique :**  \n",
    "Je veux retrouver les étudiants qui ont **une note supérieure à 80** **et** **inférieure à 95** dans leur tableau `scores`.\n",
    "\n",
    "Cela revient à dire :  \n",
    "> \"Je veux un document où **au moins un score est à la fois supérieur à 80 et inférieur à 95**.\"\n",
    "\n"
   ]
  },
  {
   "cell_type": "code",
   "execution_count": 4,
   "id": "5d6359a2-8d05-4ee7-909f-93b9b117e12d",
   "metadata": {},
   "outputs": [
    {
     "data": {
      "text/html": [
       "<div>\n",
       "<style scoped>\n",
       "    .dataframe tbody tr th:only-of-type {\n",
       "        vertical-align: middle;\n",
       "    }\n",
       "\n",
       "    .dataframe tbody tr th {\n",
       "        vertical-align: top;\n",
       "    }\n",
       "\n",
       "    .dataframe thead th {\n",
       "        text-align: right;\n",
       "    }\n",
       "</style>\n",
       "<table border=\"1\" class=\"dataframe\">\n",
       "  <thead>\n",
       "    <tr style=\"text-align: right;\">\n",
       "      <th></th>\n",
       "      <th>_id</th>\n",
       "      <th>name</th>\n",
       "      <th>skills</th>\n",
       "      <th>scores</th>\n",
       "    </tr>\n",
       "  </thead>\n",
       "  <tbody>\n",
       "    <tr>\n",
       "      <th>0</th>\n",
       "      <td>6888a517f36aaad9d48a45e3</td>\n",
       "      <td>Manon</td>\n",
       "      <td>[Python, MongoDB, Docker]</td>\n",
       "      <td>[80, 85, 90]</td>\n",
       "    </tr>\n",
       "    <tr>\n",
       "      <th>1</th>\n",
       "      <td>6888a517f36aaad9d48a45e5</td>\n",
       "      <td>Karim</td>\n",
       "      <td>[MongoDB, Python, Docker]</td>\n",
       "      <td>[90, 92, 95]</td>\n",
       "    </tr>\n",
       "  </tbody>\n",
       "</table>\n",
       "</div>"
      ],
      "text/plain": [
       "                        _id   name                     skills        scores\n",
       "0  6888a517f36aaad9d48a45e3  Manon  [Python, MongoDB, Docker]  [80, 85, 90]\n",
       "1  6888a517f36aaad9d48a45e5  Karim  [MongoDB, Python, Docker]  [90, 92, 95]"
      ]
     },
     "execution_count": 4,
     "metadata": {},
     "output_type": "execute_result"
    }
   ],
   "source": [
    "# Requête : trouver les étudiants ayant au moins un score > 80 ET < 95\n",
    "query = {\n",
    "    \"scores\": {\n",
    "        \"$elemMatch\": {\n",
    "            \"$gt\":80,\n",
    "            \"$lt\":95\n",
    "        }\n",
    "    }\n",
    "}\n",
    "\n",
    "# Exécution\n",
    "results = list(students.find(query))\n",
    "\n",
    "# Affichage\n",
    "pd.DataFrame(results)\n",
    "    "
   ]
  },
  {
   "cell_type": "markdown",
   "id": "ebed3791-86a6-4354-946d-c896e0a07bd0",
   "metadata": {},
   "source": [
    "## Opérateur `$size`\n",
    "\n",
    "L’opérateur `$size` permet de sélectionner les documents où un **tableau contient exactement un certain nombre d’éléments**.\n",
    "\n",
    "---\n",
    "\n",
    "**Exemple pédagogique :**  \n",
    "Je veux retrouver les étudiants qui ont **exactement 3 compétences** dans le tableau `skills`.\n",
    "\n",
    "Cela revient à dire :  \n",
    "> \"Je veux uniquement les documents dont le tableau `skills` contient 3 éléments, pas plus, pas moins.\"\n"
   ]
  },
  {
   "cell_type": "code",
   "execution_count": 5,
   "id": "44279482-5f33-4226-8286-8da72b7fa75b",
   "metadata": {},
   "outputs": [
    {
     "data": {
      "text/html": [
       "<div>\n",
       "<style scoped>\n",
       "    .dataframe tbody tr th:only-of-type {\n",
       "        vertical-align: middle;\n",
       "    }\n",
       "\n",
       "    .dataframe tbody tr th {\n",
       "        vertical-align: top;\n",
       "    }\n",
       "\n",
       "    .dataframe thead th {\n",
       "        text-align: right;\n",
       "    }\n",
       "</style>\n",
       "<table border=\"1\" class=\"dataframe\">\n",
       "  <thead>\n",
       "    <tr style=\"text-align: right;\">\n",
       "      <th></th>\n",
       "      <th>_id</th>\n",
       "      <th>name</th>\n",
       "      <th>skills</th>\n",
       "      <th>scores</th>\n",
       "    </tr>\n",
       "  </thead>\n",
       "  <tbody>\n",
       "    <tr>\n",
       "      <th>0</th>\n",
       "      <td>6888a517f36aaad9d48a45e3</td>\n",
       "      <td>Manon</td>\n",
       "      <td>[Python, MongoDB, Docker]</td>\n",
       "      <td>[80, 85, 90]</td>\n",
       "    </tr>\n",
       "    <tr>\n",
       "      <th>1</th>\n",
       "      <td>6888a517f36aaad9d48a45e5</td>\n",
       "      <td>Karim</td>\n",
       "      <td>[MongoDB, Python, Docker]</td>\n",
       "      <td>[90, 92, 95]</td>\n",
       "    </tr>\n",
       "  </tbody>\n",
       "</table>\n",
       "</div>"
      ],
      "text/plain": [
       "                        _id   name                     skills        scores\n",
       "0  6888a517f36aaad9d48a45e3  Manon  [Python, MongoDB, Docker]  [80, 85, 90]\n",
       "1  6888a517f36aaad9d48a45e5  Karim  [MongoDB, Python, Docker]  [90, 92, 95]"
      ]
     },
     "execution_count": 5,
     "metadata": {},
     "output_type": "execute_result"
    }
   ],
   "source": [
    "# Requête : trouver les étudiants ayant uniquement 3 compétences\n",
    "query = {\n",
    "    \"skills\": {\n",
    "        \"$size\": 3\n",
    "    }\n",
    "}\n",
    "\n",
    "# Exécution\n",
    "results = list(students.find(query))\n",
    "\n",
    "# Affichage\n",
    "pd.DataFrame(results)"
   ]
  },
  {
   "cell_type": "markdown",
   "id": "18068225-2552-4d21-8b32-9cd544d65c3b",
   "metadata": {},
   "source": [
    "---\n",
    "\n",
    "## Conclusion\n",
    "\n",
    "Dans ce notebook, on a appris à utiliser les opérateurs MongoDB sur les tableaux :\n",
    "\n",
    "- `$all` : vérifier qu’un tableau contient plusieurs valeurs\n",
    "- `$elemMatch` : vérifier qu’un seul élément du tableau respecte plusieurs conditions\n",
    "- `$size` : vérifier la taille exacte d’un tableau\n",
    "\n",
    "Ces opérateurs sont utiles quand les documents contiennent des listes, comme des compétences, des notes ect..\n",
    "\n",
    "Les exemples utilisés sont simples et permettent de bien comprendre comment ça fonctionne.\n"
   ]
  },
  {
   "cell_type": "markdown",
   "id": "462868e3",
   "metadata": {},
   "source": []
  }
 ],
 "metadata": {
  "kernelspec": {
   "display_name": "venv",
   "language": "python",
   "name": "python3"
  },
  "language_info": {
   "codemirror_mode": {
    "name": "ipython",
    "version": 3
   },
   "file_extension": ".py",
   "mimetype": "text/x-python",
   "name": "python",
   "nbconvert_exporter": "python",
   "pygments_lexer": "ipython3",
   "version": "3.12.11"
  }
 },
 "nbformat": 4,
 "nbformat_minor": 5
}
