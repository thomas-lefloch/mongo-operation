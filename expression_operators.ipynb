{
 "cells": [
  {
   "cell_type": "markdown",
   "id": "c38f5bc0-410e-4856-8672-b1b46231349e",
   "metadata": {},
   "source": [
    "# Expression Operators — MongoDB\n",
    "\n",
    "Ce notebook est dédié aux **opérateurs d'expression MongoDB**.  \n",
    "Il a été fait pour un travail en groupe.\n",
    "\n",
    "Chaque membre peut compléter une section en ajoutant :\n",
    "- Une explication simple\n",
    "- Un exemple compréhensible par un non-technicien\n",
    "- Une requête d’agrégation MongoDB illustrant l’opérateur\n",
    "\n",
    "---"
   ]
  },
  {
   "cell_type": "code",
   "execution_count": null,
   "id": "94655bde-4917-4183-9294-3a69fb544ac2",
   "metadata": {},
   "outputs": [],
   "source": [
    "#Code à ajouter"
   ]
  },
  {
   "cell_type": "markdown",
   "id": "aa82aed1-5fde-4736-b0e1-51febd34b5e2",
   "metadata": {},
   "source": [
    "## Opérateur `$sum`\n",
    "\n",
    "L’opérateur `$sum` permet d’additionner des valeurs.\n",
    "\n",
    "---"
   ]
  },
  {
   "cell_type": "code",
   "execution_count": null,
   "id": "2200ce74-0486-4c86-ba73-0db3adec1eb3",
   "metadata": {},
   "outputs": [],
   "source": [
    "#Code à ajouter"
   ]
  },
  {
   "cell_type": "markdown",
   "id": "8afbfb2c-9545-450f-b5a3-b313402a567c",
   "metadata": {},
   "source": [
    "## Opérateur `$avg`\n",
    "\n",
    "L’opérateur `$avg` calcule la moyenne de plusieurs valeurs numériques.\n",
    "\n",
    "---"
   ]
  },
  {
   "cell_type": "code",
   "execution_count": null,
   "id": "041344c5-c122-4b50-a685-2b5093cb2d05",
   "metadata": {},
   "outputs": [],
   "source": [
    "#Code à ajouter"
   ]
  },
  {
   "cell_type": "markdown",
   "id": "e99480ba-9514-4fb4-ad0d-a8cf55fc5c5c",
   "metadata": {},
   "source": [
    "## Opérateur `$min`\n",
    "\n",
    "L’opérateur `$min` retourne la valeur la plus petite d’un groupe.\n",
    "\n",
    "---"
   ]
  },
  {
   "cell_type": "code",
   "execution_count": null,
   "id": "63b84c1b-9769-45c2-a6a1-e5e5bb7cd5d2",
   "metadata": {},
   "outputs": [],
   "source": [
    "#Code à ajouter"
   ]
  },
  {
   "cell_type": "markdown",
   "id": "31164987-071b-4f15-8cac-113051d620d4",
   "metadata": {},
   "source": [
    "## Opérateur `$max`\n",
    "\n",
    "L’opérateur `$max` retourne la valeur la plus grande d’un groupe.\n",
    "\n",
    "---"
   ]
  },
  {
   "cell_type": "code",
   "execution_count": null,
   "id": "2a6c7f0d-6052-47a6-8a76-e9aee0070f8c",
   "metadata": {},
   "outputs": [],
   "source": [
    "#Code à ajouter"
   ]
  },
  {
   "cell_type": "markdown",
   "id": "c42f0dc9-27db-45a3-9fca-90a98876f9df",
   "metadata": {},
   "source": [
    "## Opérateur `$first`\n",
    "\n",
    "L’opérateur `$first` retourne le premier document ou la première valeur d’un groupe, selon l’ordre d’arrivée.\n",
    "\n",
    "---"
   ]
  },
  {
   "cell_type": "code",
   "execution_count": null,
   "id": "ca0ccb4c-e149-4bf9-bc0e-bfff86b79861",
   "metadata": {},
   "outputs": [],
   "source": [
    "#Code à ajouter"
   ]
  },
  {
   "cell_type": "markdown",
   "id": "568999e1-3b68-43cc-a2d9-e4f49e46eb65",
   "metadata": {},
   "source": [
    "## Opérateur `$last`\n",
    "\n",
    "L’opérateur `$last` retourne le dernier document ou la dernière valeur d’un groupe, selon l’ordre d’arrivée.\n",
    "\n",
    "---"
   ]
  },
  {
   "cell_type": "code",
   "execution_count": null,
   "id": "31462d24-1276-4aca-85ce-a3c7ccb89473",
   "metadata": {},
   "outputs": [],
   "source": [
    "#Code à ajouter"
   ]
  },
  {
   "cell_type": "markdown",
   "id": "5e542368-1a0e-47bc-93a8-46f2dedb7f5a",
   "metadata": {},
   "source": [
    "## Opérateur `$concat`\n",
    "\n",
    "L’opérateur `$concat` permet de fusionner plusieurs chaînes de caractères.\n",
    "\n",
    "---"
   ]
  },
  {
   "cell_type": "code",
   "execution_count": null,
   "id": "39a5ebbc-c1e8-4445-9d24-882b63484593",
   "metadata": {},
   "outputs": [],
   "source": [
    "#Code à ajouter"
   ]
  },
  {
   "cell_type": "markdown",
   "id": "a543af92-232b-4105-8d79-9b468dd78cff",
   "metadata": {},
   "source": [
    "## Opérateur `$substr`\n",
    "\n",
    "L’opérateur `$substr` permet d’extraire une sous-chaîne à partir d’une chaîne de caractères.\n",
    "\n",
    "---"
   ]
  },
  {
   "cell_type": "code",
   "execution_count": null,
   "id": "04741223-4fb6-46d1-80bf-df075b11dff7",
   "metadata": {},
   "outputs": [],
   "source": [
    "#Code à ajouter"
   ]
  },
  {
   "cell_type": "markdown",
   "id": "2a5a8b0c-48ef-4c35-8325-2513069107e3",
   "metadata": {},
   "source": [
    "## Opérateur `$toInt`\n",
    "\n",
    "L’opérateur `$toInt` permet de convertir une valeur en entier (integer).\n",
    "\n",
    "---"
   ]
  },
  {
   "cell_type": "code",
   "execution_count": null,
   "id": "67c77e31-c092-4773-9d5d-c81b13426412",
   "metadata": {},
   "outputs": [],
   "source": [
    "#Code à ajouter"
   ]
  },
  {
   "cell_type": "markdown",
   "id": "60402d88-df39-4dbb-8bd4-4a3e0aa8e0af",
   "metadata": {},
   "source": [
    "## Opérateur `$toDouble`\n",
    "\n",
    "L’opérateur `$toDouble` permet de convertir une valeur en nombre décimal (float).\n",
    "\n",
    "---"
   ]
  },
  {
   "cell_type": "code",
   "execution_count": 3,
   "id": "64f2f733-456e-410d-89ef-15d9817f33bd",
   "metadata": {},
   "outputs": [],
   "source": [
    "#Code à ajouter"
   ]
  },
  {
   "cell_type": "markdown",
   "id": "377a7544-b23a-4cd4-9c73-c527594147b6",
   "metadata": {},
   "source": [
    "---\n",
    "\n",
    "## Conclusion"
   ]
  },
  {
   "cell_type": "code",
   "execution_count": null,
   "id": "9421634f-fa68-4aaf-b093-68fd465c8377",
   "metadata": {},
   "outputs": [],
   "source": []
  }
 ],
 "metadata": {
  "kernelspec": {
   "display_name": "venv (Mongo)",
   "language": "python",
   "name": "venv"
  },
  "language_info": {
   "codemirror_mode": {
    "name": "ipython",
    "version": 3
   },
   "file_extension": ".py",
   "mimetype": "text/x-python",
   "name": "python",
   "nbconvert_exporter": "python",
   "pygments_lexer": "ipython3",
   "version": "3.12.11"
  }
 },
 "nbformat": 4,
 "nbformat_minor": 5
}
