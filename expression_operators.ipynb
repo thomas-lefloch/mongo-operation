{
 "cells": [
  {
   "cell_type": "markdown",
   "id": "c38f5bc0-410e-4856-8672-b1b46231349e",
   "metadata": {},
   "source": [
    "# Expression Operators — MongoDB\n",
    "\n",
    "Ce notebook est dédié aux **opérateurs d'expression MongoDB**.  \n",
    "Il a été fait pour un travail en groupe.\n",
    "\n",
    "Chaque membre peut compléter une section en ajoutant :\n",
    "- Une explication simple\n",
    "- Un exemple compréhensible par un non-technicien\n",
    "- Une requête d’agrégation MongoDB illustrant l’opérateur\n",
    "\n",
    "---"
   ]
  },
  {
   "cell_type": "code",
   "execution_count": 2,
   "id": "94655bde-4917-4183-9294-3a69fb544ac2",
   "metadata": {},
   "outputs": [],
   "source": [
    "from pymongo import MongoClient\n",
    "import pandas as pd\n",
    "\n",
    "# Connexion à MongoDB local (Docker)\n",
    "client = MongoClient(\"mongodb://localhost:27017/\")\n",
    "\n",
    "# Connexion à la base \"testdb\"\n",
    "db = client.testdb"
   ]
  },
  {
   "cell_type": "markdown",
   "id": "aa82aed1-5fde-4736-b0e1-51febd34b5e2",
   "metadata": {},
   "source": [
    "## Opérateur `$sum`\n",
    "\n",
    "L’opérateur `$sum` permet de calculer la somme d’un ensemble de valeurs.\n",
    "\n",
    "---\n",
    "\n",
    "**Exemple :**  \n",
    "Chaque vendeur a effectué plusieurs ventes.  \n",
    "On veut calculer le **montant total** vendu par chacun.\n",
    "\n",
    "> Collection utilisée : `sum_example`"
   ]
  },
  {
   "cell_type": "code",
   "execution_count": 3,
   "id": "2200ce74-0486-4c86-ba73-0db3adec1eb3",
   "metadata": {},
   "outputs": [
    {
     "data": {
      "text/html": [
       "<div>\n",
       "<style scoped>\n",
       "    .dataframe tbody tr th:only-of-type {\n",
       "        vertical-align: middle;\n",
       "    }\n",
       "\n",
       "    .dataframe tbody tr th {\n",
       "        vertical-align: top;\n",
       "    }\n",
       "\n",
       "    .dataframe thead th {\n",
       "        text-align: right;\n",
       "    }\n",
       "</style>\n",
       "<table border=\"1\" class=\"dataframe\">\n",
       "  <thead>\n",
       "    <tr style=\"text-align: right;\">\n",
       "      <th></th>\n",
       "      <th>_id</th>\n",
       "      <th>seller</th>\n",
       "      <th>total_sales</th>\n",
       "    </tr>\n",
       "  </thead>\n",
       "  <tbody>\n",
       "    <tr>\n",
       "      <th>0</th>\n",
       "      <td>6888d1b7b6f2941dad559e5f</td>\n",
       "      <td>Rachid</td>\n",
       "      <td>750</td>\n",
       "    </tr>\n",
       "    <tr>\n",
       "      <th>1</th>\n",
       "      <td>6888d1b7b6f2941dad559e60</td>\n",
       "      <td>Julie</td>\n",
       "      <td>420</td>\n",
       "    </tr>\n",
       "    <tr>\n",
       "      <th>2</th>\n",
       "      <td>6888d1b7b6f2941dad559e61</td>\n",
       "      <td>Antoine</td>\n",
       "      <td>900</td>\n",
       "    </tr>\n",
       "  </tbody>\n",
       "</table>\n",
       "</div>"
      ],
      "text/plain": [
       "                        _id   seller  total_sales\n",
       "0  6888d1b7b6f2941dad559e5f   Rachid          750\n",
       "1  6888d1b7b6f2941dad559e60    Julie          420\n",
       "2  6888d1b7b6f2941dad559e61  Antoine          900"
      ]
     },
     "execution_count": 3,
     "metadata": {},
     "output_type": "execute_result"
    }
   ],
   "source": [
    "# Création de la collection\n",
    "sum_example = db.sum_example\n",
    "sum_example.delete_many({})\n",
    "\n",
    "# Données insérées\n",
    "sum_example.insert_many([\n",
    "    { \"seller\": \"Rachid\", \"sales\": [200, 150, 400] },\n",
    "    { \"seller\": \"Julie\", \"sales\": [300, 120] },\n",
    "    { \"seller\": \"Antoine\", \"sales\": [500, 250, 100, 50] }\n",
    "])\n",
    "\n",
    "# Agrégation : somme des ventes\n",
    "total_sales = [\n",
    "    {\n",
    "        \"$project\": {\n",
    "            \"seller\": 1,\n",
    "            \"total_sales\": { \"$sum\": \"$sales\" }\n",
    "        }\n",
    "    }\n",
    "]\n",
    "\n",
    "results = list(sum_example.aggregate(total_sales))\n",
    "pd.DataFrame(results)"
   ]
  },
  {
   "cell_type": "markdown",
   "id": "8afbfb2c-9545-450f-b5a3-b313402a567c",
   "metadata": {},
   "source": [
    "## C. Opérateur `$avg`\n",
    "\n",
    "L’opérateur `$avg` permet de calculer la **moyenne** d’un tableau de nombres.\n",
    "\n",
    "---\n",
    "\n",
    "**Exemple :**  \n",
    "Chaque agent de support reçoit des notes après ses appels clients.  \n",
    "On veut connaître la **note moyenne** de chaque agent.\n",
    "\n",
    "> Collection utilisée : `avg_example`"
   ]
  },
  {
   "cell_type": "code",
   "execution_count": 4,
   "id": "041344c5-c122-4b50-a685-2b5093cb2d05",
   "metadata": {},
   "outputs": [
    {
     "data": {
      "text/html": [
       "<div>\n",
       "<style scoped>\n",
       "    .dataframe tbody tr th:only-of-type {\n",
       "        vertical-align: middle;\n",
       "    }\n",
       "\n",
       "    .dataframe tbody tr th {\n",
       "        vertical-align: top;\n",
       "    }\n",
       "\n",
       "    .dataframe thead th {\n",
       "        text-align: right;\n",
       "    }\n",
       "</style>\n",
       "<table border=\"1\" class=\"dataframe\">\n",
       "  <thead>\n",
       "    <tr style=\"text-align: right;\">\n",
       "      <th></th>\n",
       "      <th>_id</th>\n",
       "      <th>agent</th>\n",
       "      <th>average_rating</th>\n",
       "    </tr>\n",
       "  </thead>\n",
       "  <tbody>\n",
       "    <tr>\n",
       "      <th>0</th>\n",
       "      <td>6888d286b6f2941dad559e62</td>\n",
       "      <td>Lina</td>\n",
       "      <td>4.400000</td>\n",
       "    </tr>\n",
       "    <tr>\n",
       "      <th>1</th>\n",
       "      <td>6888d286b6f2941dad559e63</td>\n",
       "      <td>Samir</td>\n",
       "      <td>3.966667</td>\n",
       "    </tr>\n",
       "    <tr>\n",
       "      <th>2</th>\n",
       "      <td>6888d286b6f2941dad559e64</td>\n",
       "      <td>Morgane</td>\n",
       "      <td>4.900000</td>\n",
       "    </tr>\n",
       "  </tbody>\n",
       "</table>\n",
       "</div>"
      ],
      "text/plain": [
       "                        _id    agent  average_rating\n",
       "0  6888d286b6f2941dad559e62     Lina        4.400000\n",
       "1  6888d286b6f2941dad559e63    Samir        3.966667\n",
       "2  6888d286b6f2941dad559e64  Morgane        4.900000"
      ]
     },
     "execution_count": 4,
     "metadata": {},
     "output_type": "execute_result"
    }
   ],
   "source": [
    "# Création de la collection\n",
    "avg_example = db.avg_example\n",
    "avg_example.delete_many({})\n",
    "\n",
    "# Données insérées\n",
    "avg_example.insert_many([\n",
    "    { \"agent\": \"Lina\", \"ratings\": [4.5, 4.2, 5.0, 3.9] },\n",
    "    { \"agent\": \"Samir\", \"ratings\": [3.8, 4.1, 4.0] },\n",
    "    { \"agent\": \"Morgane\", \"ratings\": [4.9, 5.0, 4.8] }\n",
    "])\n",
    "\n",
    "# Agrégation : moyenne des notes\n",
    "average_scores = [\n",
    "    {\n",
    "        \"$project\": {\n",
    "            \"agent\": 1,\n",
    "            \"average_rating\": { \"$avg\": \"$ratings\" }\n",
    "        }\n",
    "    }\n",
    "]\n",
    "\n",
    "results = list(avg_example.aggregate(average_scores))\n",
    "pd.DataFrame(results)\n"
   ]
  },
  {
   "cell_type": "markdown",
   "id": "e99480ba-9514-4fb4-ad0d-a8cf55fc5c5c",
   "metadata": {},
   "source": [
    "## D. Opérateur `$min`\n",
    "\n",
    "L’opérateur `$min` retourne la plus petite valeur d’un tableau.\n",
    "\n",
    "---\n",
    "\n",
    "**Exemple :**  \n",
    "On suit les **variations de prix** d’un produit dans différents magasins.  \n",
    "On veut connaître le **prix le plus bas** pour chaque produit.\n",
    "\n",
    "> Collection utilisée : `min_example`"
   ]
  },
  {
   "cell_type": "code",
   "execution_count": 5,
   "id": "63b84c1b-9769-45c2-a6a1-e5e5bb7cd5d2",
   "metadata": {},
   "outputs": [
    {
     "data": {
      "text/html": [
       "<div>\n",
       "<style scoped>\n",
       "    .dataframe tbody tr th:only-of-type {\n",
       "        vertical-align: middle;\n",
       "    }\n",
       "\n",
       "    .dataframe tbody tr th {\n",
       "        vertical-align: top;\n",
       "    }\n",
       "\n",
       "    .dataframe thead th {\n",
       "        text-align: right;\n",
       "    }\n",
       "</style>\n",
       "<table border=\"1\" class=\"dataframe\">\n",
       "  <thead>\n",
       "    <tr style=\"text-align: right;\">\n",
       "      <th></th>\n",
       "      <th>_id</th>\n",
       "      <th>product</th>\n",
       "      <th>lowest_price</th>\n",
       "    </tr>\n",
       "  </thead>\n",
       "  <tbody>\n",
       "    <tr>\n",
       "      <th>0</th>\n",
       "      <td>6888d318b6f2941dad559e65</td>\n",
       "      <td>Aspirateur</td>\n",
       "      <td>115.50</td>\n",
       "    </tr>\n",
       "    <tr>\n",
       "      <th>1</th>\n",
       "      <td>6888d318b6f2941dad559e66</td>\n",
       "      <td>Smartphone</td>\n",
       "      <td>560.00</td>\n",
       "    </tr>\n",
       "    <tr>\n",
       "      <th>2</th>\n",
       "      <td>6888d318b6f2941dad559e67</td>\n",
       "      <td>Casque audio</td>\n",
       "      <td>79.99</td>\n",
       "    </tr>\n",
       "    <tr>\n",
       "      <th>3</th>\n",
       "      <td>6888d318b6f2941dad559e68</td>\n",
       "      <td>MacBook Pro</td>\n",
       "      <td>1779.99</td>\n",
       "    </tr>\n",
       "  </tbody>\n",
       "</table>\n",
       "</div>"
      ],
      "text/plain": [
       "                        _id       product  lowest_price\n",
       "0  6888d318b6f2941dad559e65    Aspirateur        115.50\n",
       "1  6888d318b6f2941dad559e66    Smartphone        560.00\n",
       "2  6888d318b6f2941dad559e67  Casque audio         79.99\n",
       "3  6888d318b6f2941dad559e68   MacBook Pro       1779.99"
      ]
     },
     "execution_count": 5,
     "metadata": {},
     "output_type": "execute_result"
    }
   ],
   "source": [
    "min_example = db.min_example\n",
    "min_example.delete_many({})\n",
    "\n",
    "min_example.insert_many([\n",
    "    { \"product\": \"Aspirateur\", \"prices\": [129.99, 115.50, 122.00] },\n",
    "    { \"product\": \"Smartphone\", \"prices\": [599.99, 560.00, 610.00] },\n",
    "    { \"product\": \"Casque audio\", \"prices\": [89.90, 79.99, 85.00] },\n",
    "    {\"product\": \"MacBook Pro\", \"prices\": [1789.90, 1779.99, 1885.00] }\n",
    "])\n",
    "\n",
    "lowest_prices = [\n",
    "    {\n",
    "        \"$project\": {\n",
    "            \"product\": 1,\n",
    "            \"lowest_price\": { \"$min\": \"$prices\" }\n",
    "        }\n",
    "    }\n",
    "]\n",
    "\n",
    "results = list(min_example.aggregate(lowest_prices))\n",
    "pd.DataFrame(results)"
   ]
  },
  {
   "cell_type": "markdown",
   "id": "31164987-071b-4f15-8cac-113051d620d4",
   "metadata": {},
   "source": [
    "## Opérateur `$max`\n",
    "\n",
    "L’opérateur `$max` retourne la valeur la plus grande d’un groupe.\n",
    "\n",
    "---\n",
    "\n",
    "**Exemple :**  \n",
    "On suit les **variations de prix** d’un produit dans différents magasins.  \n",
    "On veut connaître le **prix le plus haut** pour chaque produit.\n",
    "\n",
    "> Collection utilisée : `max_example`"
   ]
  },
  {
   "cell_type": "code",
   "execution_count": 13,
   "id": "2a6c7f0d-6052-47a6-8a76-e9aee0070f8c",
   "metadata": {},
   "outputs": [
    {
     "data": {
      "text/html": [
       "<div>\n",
       "<style scoped>\n",
       "    .dataframe tbody tr th:only-of-type {\n",
       "        vertical-align: middle;\n",
       "    }\n",
       "\n",
       "    .dataframe tbody tr th {\n",
       "        vertical-align: top;\n",
       "    }\n",
       "\n",
       "    .dataframe thead th {\n",
       "        text-align: right;\n",
       "    }\n",
       "</style>\n",
       "<table border=\"1\" class=\"dataframe\">\n",
       "  <thead>\n",
       "    <tr style=\"text-align: right;\">\n",
       "      <th></th>\n",
       "      <th>_id</th>\n",
       "      <th>product</th>\n",
       "      <th>highest_price</th>\n",
       "    </tr>\n",
       "  </thead>\n",
       "  <tbody>\n",
       "    <tr>\n",
       "      <th>0</th>\n",
       "      <td>6888e66e297ed100e2ec800a</td>\n",
       "      <td>Aspirateur</td>\n",
       "      <td>129.99</td>\n",
       "    </tr>\n",
       "    <tr>\n",
       "      <th>1</th>\n",
       "      <td>6888e66e297ed100e2ec800b</td>\n",
       "      <td>Smartphone</td>\n",
       "      <td>610.00</td>\n",
       "    </tr>\n",
       "    <tr>\n",
       "      <th>2</th>\n",
       "      <td>6888e66e297ed100e2ec800c</td>\n",
       "      <td>Casque audio</td>\n",
       "      <td>89.90</td>\n",
       "    </tr>\n",
       "    <tr>\n",
       "      <th>3</th>\n",
       "      <td>6888e66e297ed100e2ec800d</td>\n",
       "      <td>MacBook Pro</td>\n",
       "      <td>1885.00</td>\n",
       "    </tr>\n",
       "  </tbody>\n",
       "</table>\n",
       "</div>"
      ],
      "text/plain": [
       "                        _id       product  highest_price\n",
       "0  6888e66e297ed100e2ec800a    Aspirateur         129.99\n",
       "1  6888e66e297ed100e2ec800b    Smartphone         610.00\n",
       "2  6888e66e297ed100e2ec800c  Casque audio          89.90\n",
       "3  6888e66e297ed100e2ec800d   MacBook Pro        1885.00"
      ]
     },
     "execution_count": 13,
     "metadata": {},
     "output_type": "execute_result"
    }
   ],
   "source": [
    "max_example = db.max_example\n",
    "max_example.delete_many({})\n",
    "\n",
    "max_example.insert_many([\n",
    "    { \"product\": \"Aspirateur\", \"prices\": [129.99, 115.50, 122.00] },\n",
    "    { \"product\": \"Smartphone\", \"prices\": [599.99, 560.00, 610.00] },\n",
    "    { \"product\": \"Casque audio\", \"prices\": [89.90, 79.99, 85.00] },\n",
    "    {\"product\": \"MacBook Pro\", \"prices\": [1789.90, 1779.99, 1885.00] }\n",
    "])\n",
    "\n",
    "highest_prices = [\n",
    "    {\n",
    "        \"$project\": {\n",
    "            \"product\": 1,\n",
    "            \"highest_price\": { \"$max\": \"$prices\" }\n",
    "        }\n",
    "    }\n",
    "]\n",
    "\n",
    "results = list(max_example.aggregate(highest_prices))\n",
    "pd.DataFrame(results)"
   ]
  },
  {
   "cell_type": "markdown",
   "id": "c42f0dc9-27db-45a3-9fca-90a98876f9df",
   "metadata": {},
   "source": [
    "## Opérateur `$first`\n",
    "\n",
    "L’opérateur `$first` retourne le premier document ou la première valeur d’un groupe, selon l’ordre d’arrivée.\n",
    "\n",
    "---"
   ]
  },
  {
   "cell_type": "code",
   "execution_count": 7,
   "id": "ca0ccb4c-e149-4bf9-bc0e-bfff86b79861",
   "metadata": {},
   "outputs": [],
   "source": [
    "#Code à ajouter"
   ]
  },
  {
   "cell_type": "markdown",
   "id": "568999e1-3b68-43cc-a2d9-e4f49e46eb65",
   "metadata": {},
   "source": [
    "## Opérateur `$last`\n",
    "\n",
    "L’opérateur `$last` retourne le dernier document ou la dernière valeur d’un groupe, selon l’ordre d’arrivée.\n",
    "\n",
    "---"
   ]
  },
  {
   "cell_type": "code",
   "execution_count": 8,
   "id": "31462d24-1276-4aca-85ce-a3c7ccb89473",
   "metadata": {},
   "outputs": [],
   "source": [
    "#Code à ajouter"
   ]
  },
  {
   "cell_type": "markdown",
   "id": "5e542368-1a0e-47bc-93a8-46f2dedb7f5a",
   "metadata": {},
   "source": [
    "## Opérateur `$concat`\n",
    "\n",
    "L’opérateur `$concat` permet de fusionner plusieurs chaînes de caractères.\n",
    "\n",
    "---"
   ]
  },
  {
   "cell_type": "code",
   "execution_count": 9,
   "id": "39a5ebbc-c1e8-4445-9d24-882b63484593",
   "metadata": {},
   "outputs": [],
   "source": [
    "#Code à ajouter"
   ]
  },
  {
   "cell_type": "markdown",
   "id": "a543af92-232b-4105-8d79-9b468dd78cff",
   "metadata": {},
   "source": [
    "## Opérateur `$substr`\n",
    "\n",
    "L’opérateur `$substr` permet d’extraire une sous-chaîne à partir d’une chaîne de caractères.\n",
    "\n",
    "---"
   ]
  },
  {
   "cell_type": "code",
   "execution_count": 10,
   "id": "04741223-4fb6-46d1-80bf-df075b11dff7",
   "metadata": {},
   "outputs": [],
   "source": [
    "#Code à ajouter"
   ]
  },
  {
   "cell_type": "markdown",
   "id": "2a5a8b0c-48ef-4c35-8325-2513069107e3",
   "metadata": {},
   "source": [
    "## Opérateur `$toInt`\n",
    "\n",
    "L’opérateur `$toInt` permet de convertir une valeur en entier (integer).\n",
    "\n",
    "---"
   ]
  },
  {
   "cell_type": "code",
   "execution_count": 11,
   "id": "67c77e31-c092-4773-9d5d-c81b13426412",
   "metadata": {},
   "outputs": [],
   "source": [
    "#Code à ajouter"
   ]
  },
  {
   "cell_type": "markdown",
   "id": "60402d88-df39-4dbb-8bd4-4a3e0aa8e0af",
   "metadata": {},
   "source": [
    "## Opérateur `$toDouble`\n",
    "\n",
    "L’opérateur `$toDouble` permet de convertir une valeur en nombre décimal (float).\n",
    "\n",
    "---"
   ]
  },
  {
   "cell_type": "code",
   "execution_count": 12,
   "id": "64f2f733-456e-410d-89ef-15d9817f33bd",
   "metadata": {},
   "outputs": [],
   "source": [
    "#Code à ajouter"
   ]
  },
  {
   "cell_type": "markdown",
   "id": "377a7544-b23a-4cd4-9c73-c527594147b6",
   "metadata": {},
   "source": [
    "---\n",
    "\n",
    "## Conclusion"
   ]
  },
  {
   "cell_type": "code",
   "execution_count": null,
   "id": "9421634f-fa68-4aaf-b093-68fd465c8377",
   "metadata": {},
   "outputs": [],
   "source": []
  }
 ],
 "metadata": {
  "kernelspec": {
   "display_name": "Python 3 (ipykernel)",
   "language": "python",
   "name": "python3"
  },
  "language_info": {
   "codemirror_mode": {
    "name": "ipython",
    "version": 3
   },
   "file_extension": ".py",
   "mimetype": "text/x-python",
   "name": "python",
   "nbconvert_exporter": "python",
   "pygments_lexer": "ipython3",
   "version": "3.12.11"
  }
 },
 "nbformat": 4,
 "nbformat_minor": 5
}
