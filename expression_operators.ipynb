{
 "cells": [
  {
   "cell_type": "markdown",
   "id": "c38f5bc0-410e-4856-8672-b1b46231349e",
   "metadata": {},
   "source": [
    "# Expression Operators — MongoDB\n",
    "\n",
    "Ce notebook est dédié aux **opérateurs d'expression MongoDB**.  \n",
    "Il a été fait pour un travail en groupe.\n",
    "\n",
    "Chaque membre peut compléter une section en ajoutant :\n",
    "- Une explication simple\n",
    "- Un exemple compréhensible par un non-technicien\n",
    "- Une requête d’agrégation MongoDB illustrant l’opérateur\n",
    "\n",
    "---"
   ]
  },
  {
   "cell_type": "code",
   "execution_count": 9,
   "id": "94655bde-4917-4183-9294-3a69fb544ac2",
   "metadata": {},
   "outputs": [],
   "source": [
    "from pymongo import MongoClient\n",
    "import pandas as pd\n",
    "\n",
    "# Définition du port à utiliser [à changer en fonction la configuration de votre installation locale]\n",
    "MONGODB_LOCAL_PATH = \"mongodb://localhost:27018/\"\n",
    "\n",
    "# Définition de la base de données à utiliser\n",
    "MONGODB_NAME = \"test_db\"\n",
    "\n",
    "# Connexion\n",
    "client = MongoClient(MONGODB_LOCAL_PATH)\n",
    "db = client[MONGODB_NAME]"
   ]
  },
  {
   "cell_type": "markdown",
   "id": "aa82aed1-5fde-4736-b0e1-51febd34b5e2",
   "metadata": {},
   "source": [
    "## Opérateur `$sum`\n",
    "\n",
    "L’opérateur `$sum` permet d’additionner des valeurs.\n",
    "\n",
    "---"
   ]
  },
  {
   "cell_type": "code",
   "execution_count": 10,
   "id": "2200ce74-0486-4c86-ba73-0db3adec1eb3",
   "metadata": {},
   "outputs": [],
   "source": [
    "#Code à ajouter"
   ]
  },
  {
   "cell_type": "markdown",
   "id": "8afbfb2c-9545-450f-b5a3-b313402a567c",
   "metadata": {},
   "source": [
    "## Opérateur `$avg`\n",
    "\n",
    "L’opérateur `$avg` calcule la moyenne de plusieurs valeurs numériques.\n",
    "\n",
    "---"
   ]
  },
  {
   "cell_type": "code",
   "execution_count": 11,
   "id": "041344c5-c122-4b50-a685-2b5093cb2d05",
   "metadata": {},
   "outputs": [],
   "source": [
    "#Code à ajouter"
   ]
  },
  {
   "cell_type": "markdown",
   "id": "e99480ba-9514-4fb4-ad0d-a8cf55fc5c5c",
   "metadata": {},
   "source": [
    "## Opérateur `$min`\n",
    "\n",
    "L’opérateur `$min` retourne la valeur la plus petite d’un groupe.\n",
    "\n",
    "---"
   ]
  },
  {
   "cell_type": "code",
   "execution_count": 12,
   "id": "63b84c1b-9769-45c2-a6a1-e5e5bb7cd5d2",
   "metadata": {},
   "outputs": [],
   "source": [
    "#Code à ajouter"
   ]
  },
  {
   "cell_type": "markdown",
   "id": "31164987-071b-4f15-8cac-113051d620d4",
   "metadata": {},
   "source": [
    "## Opérateur `$max`\n",
    "\n",
    "L’opérateur `$max` retourne la valeur la plus grande d’un groupe.\n",
    "\n",
    "---"
   ]
  },
  {
   "cell_type": "code",
   "execution_count": 13,
   "id": "2a6c7f0d-6052-47a6-8a76-e9aee0070f8c",
   "metadata": {},
   "outputs": [],
   "source": [
    "#Code à ajouter"
   ]
  },
  {
   "cell_type": "markdown",
   "id": "c42f0dc9-27db-45a3-9fca-90a98876f9df",
   "metadata": {},
   "source": [
    "## Opérateur `$first`\n",
    "\n",
    "L’opérateur `$first` retourne le premier document ou la première valeur d’un groupe, selon l’ordre d’arrivée.\n",
    "\n",
    "---"
   ]
  },
  {
   "cell_type": "code",
   "execution_count": 14,
   "id": "ca0ccb4c-e149-4bf9-bc0e-bfff86b79861",
   "metadata": {},
   "outputs": [],
   "source": [
    "#Code à ajouter"
   ]
  },
  {
   "cell_type": "markdown",
   "id": "568999e1-3b68-43cc-a2d9-e4f49e46eb65",
   "metadata": {},
   "source": [
    "## Opérateur `$last`\n",
    "\n",
    "L’opérateur `$last` retourne le dernier document ou la dernière valeur d’un groupe, selon l’ordre d’arrivée.\n",
    "\n",
    "---"
   ]
  },
  {
   "cell_type": "code",
   "execution_count": 15,
   "id": "31462d24-1276-4aca-85ce-a3c7ccb89473",
   "metadata": {},
   "outputs": [],
   "source": [
    "#Code à ajouter"
   ]
  },
  {
   "cell_type": "markdown",
   "id": "5e542368-1a0e-47bc-93a8-46f2dedb7f5a",
   "metadata": {},
   "source": [
    "## Opérateur `$concat`\n",
    "\n",
    "L’opérateur `$concat` est un opérateur d'aggrégation qui permet de fusionner plusieurs chaînes de caractères entre elles. Il s'invoque de la façon suivante:\n",
    "\n",
    "`{ $concat: [ <expression1>, <expression2>, ... ] }`\n",
    "\n",
    "---\n",
    "\n",
    "Pour l'exemple, on va créer une collection de comptes bancaires."
   ]
  },
  {
   "cell_type": "code",
   "execution_count": null,
   "id": "60280562",
   "metadata": {},
   "outputs": [],
   "source": [
    "try:\n",
    "    my_collection = db.create_collection(\"concat\")\n",
    "except:\n",
    "    db.concat.drop()\n",
    "    my_collection = db.create_collection(\"concat\")\n",
    "\n",
    "documents = [\n",
    "    {\"account\": \"A\", \"amount\": \"1890\", \"currency\": \"€\"},\n",
    "    {\"account\": \"B\", \"amount\": \"2531\", \"currency\": \"£\"},\n",
    "    {\"account\": \"C\", \"amount\": \"936\", \"currency\": \"$\"},\n",
    "    {\"account\": \"D\", \"amount\": \"12534\", \"currency\": \"€\"},\n",
    "    {\"account\": \"E\", \"amount\": \"9876\", \"currency\": \"$\"},\n",
    "]\n",
    "result_many = my_collection.insert_many(documents)"
   ]
  },
  {
   "cell_type": "markdown",
   "id": "b8456fad",
   "metadata": {},
   "source": [
    "On va crée un champ **info** qui concatène les champs **amount** et **currency** dans une phrase grâce à l'opérateur d'aggrégation `$concat`."
   ]
  },
  {
   "cell_type": "code",
   "execution_count": 29,
   "id": "39a5ebbc-c1e8-4445-9d24-882b63484593",
   "metadata": {},
   "outputs": [
    {
     "data": {
      "text/html": [
       "<div>\n",
       "<style scoped>\n",
       "    .dataframe tbody tr th:only-of-type {\n",
       "        vertical-align: middle;\n",
       "    }\n",
       "\n",
       "    .dataframe tbody tr th {\n",
       "        vertical-align: top;\n",
       "    }\n",
       "\n",
       "    .dataframe thead th {\n",
       "        text-align: right;\n",
       "    }\n",
       "</style>\n",
       "<table border=\"1\" class=\"dataframe\">\n",
       "  <thead>\n",
       "    <tr style=\"text-align: right;\">\n",
       "      <th></th>\n",
       "      <th>_id</th>\n",
       "      <th>account</th>\n",
       "      <th>amount</th>\n",
       "      <th>currency</th>\n",
       "      <th>info</th>\n",
       "    </tr>\n",
       "  </thead>\n",
       "  <tbody>\n",
       "    <tr>\n",
       "      <th>0</th>\n",
       "      <td>6888e21b7747a8c5c9888151</td>\n",
       "      <td>A</td>\n",
       "      <td>1890</td>\n",
       "      <td>€</td>\n",
       "      <td>Ce compte contient 1890 €.</td>\n",
       "    </tr>\n",
       "    <tr>\n",
       "      <th>1</th>\n",
       "      <td>6888e21b7747a8c5c9888152</td>\n",
       "      <td>B</td>\n",
       "      <td>2531</td>\n",
       "      <td>£</td>\n",
       "      <td>Ce compte contient 2531 £.</td>\n",
       "    </tr>\n",
       "    <tr>\n",
       "      <th>2</th>\n",
       "      <td>6888e21b7747a8c5c9888153</td>\n",
       "      <td>C</td>\n",
       "      <td>936</td>\n",
       "      <td>$</td>\n",
       "      <td>Ce compte contient 936 $.</td>\n",
       "    </tr>\n",
       "    <tr>\n",
       "      <th>3</th>\n",
       "      <td>6888e21b7747a8c5c9888154</td>\n",
       "      <td>D</td>\n",
       "      <td>12534</td>\n",
       "      <td>€</td>\n",
       "      <td>Ce compte contient 12534 €.</td>\n",
       "    </tr>\n",
       "    <tr>\n",
       "      <th>4</th>\n",
       "      <td>6888e21b7747a8c5c9888155</td>\n",
       "      <td>E</td>\n",
       "      <td>9876</td>\n",
       "      <td>$</td>\n",
       "      <td>Ce compte contient 9876 $.</td>\n",
       "    </tr>\n",
       "  </tbody>\n",
       "</table>\n",
       "</div>"
      ],
      "text/plain": [
       "                        _id account amount currency  \\\n",
       "0  6888e21b7747a8c5c9888151       A   1890        €   \n",
       "1  6888e21b7747a8c5c9888152       B   2531        £   \n",
       "2  6888e21b7747a8c5c9888153       C    936        $   \n",
       "3  6888e21b7747a8c5c9888154       D  12534        €   \n",
       "4  6888e21b7747a8c5c9888155       E   9876        $   \n",
       "\n",
       "                          info  \n",
       "0   Ce compte contient 1890 €.  \n",
       "1   Ce compte contient 2531 £.  \n",
       "2    Ce compte contient 936 $.  \n",
       "3  Ce compte contient 12534 €.  \n",
       "4   Ce compte contient 9876 $.  "
      ]
     },
     "execution_count": 29,
     "metadata": {},
     "output_type": "execute_result"
    }
   ],
   "source": [
    "info = {\n",
    "    \"$addFields\": {\n",
    "        \"info\": {\"$concat\": [\"Ce compte contient \",\"$amount\", \" \", \"$currency\", \".\"]}\n",
    "    }\n",
    "}\n",
    "pd.DataFrame(my_collection.aggregate([info]).to_list())"
   ]
  },
  {
   "cell_type": "markdown",
   "id": "a543af92-232b-4105-8d79-9b468dd78cff",
   "metadata": {},
   "source": [
    "## Opérateur `$substrBytes`\n",
    "\n",
    "L’opérateur `$substrBytes` permet d’extraire une sous-chaîne de caractères à partir d’une chaîne plus grande en indiquant le premier indice et le nombre de caractères (le nombre de Bytes) que l'on souhaite extraire. Il s'invoque de la façon suivante:\n",
    "\n",
    "`{ $substrBytes: [ <string expression>, <byte index>, <byte count> ] }`\n",
    "\n",
    "---\n",
    "\n",
    "Pour l'exemple, on va créer une collection de comptes bancaires."
   ]
  },
  {
   "cell_type": "code",
   "execution_count": null,
   "id": "04741223-4fb6-46d1-80bf-df075b11dff7",
   "metadata": {},
   "outputs": [],
   "source": [
    "try:\n",
    "    my_collection = db.create_collection(\"substrBytes\")\n",
    "except:\n",
    "    db.substrBytes.drop()\n",
    "    my_collection = db.create_collection(\"substrBytes\")\n",
    "\n",
    "documents = [\n",
    "    {\"account\": \"A\", \"amount\": \"Ce compte contient  1890 €.\"},\n",
    "    {\"account\": \"B\", \"amount\": \"Ce compte contient  2531 €.\"},\n",
    "    {\"account\": \"C\", \"amount\": \"Ce compte contient   936 €.\"},\n",
    "    {\"account\": \"D\", \"amount\": \"Ce compte contient 12534 €.\"},\n",
    "    {\"account\": \"E\", \"amount\": \"Ce compte contient  9876 €.\"},\n",
    "]\n",
    "result_many = my_collection.insert_many(documents)"
   ]
  },
  {
   "cell_type": "markdown",
   "id": "7ea27c9b",
   "metadata": {},
   "source": [
    "Le champ **amount** est une longue chaîne de caractères, on souhaite en extraire uniquement le montant grâce à l'opérateur d'aggrégation `$substrBytes`."
   ]
  },
  {
   "cell_type": "code",
   "execution_count": 27,
   "id": "f1f4ed9e",
   "metadata": {},
   "outputs": [
    {
     "data": {
      "text/html": [
       "<div>\n",
       "<style scoped>\n",
       "    .dataframe tbody tr th:only-of-type {\n",
       "        vertical-align: middle;\n",
       "    }\n",
       "\n",
       "    .dataframe tbody tr th {\n",
       "        vertical-align: top;\n",
       "    }\n",
       "\n",
       "    .dataframe thead th {\n",
       "        text-align: right;\n",
       "    }\n",
       "</style>\n",
       "<table border=\"1\" class=\"dataframe\">\n",
       "  <thead>\n",
       "    <tr style=\"text-align: right;\">\n",
       "      <th></th>\n",
       "      <th>_id</th>\n",
       "      <th>account</th>\n",
       "      <th>amount</th>\n",
       "      <th>money</th>\n",
       "    </tr>\n",
       "  </thead>\n",
       "  <tbody>\n",
       "    <tr>\n",
       "      <th>0</th>\n",
       "      <td>6888dcc47747a8c5c988814c</td>\n",
       "      <td>A</td>\n",
       "      <td>Ce compte contient  1890 €.</td>\n",
       "      <td>1890</td>\n",
       "    </tr>\n",
       "    <tr>\n",
       "      <th>1</th>\n",
       "      <td>6888dcc47747a8c5c988814d</td>\n",
       "      <td>B</td>\n",
       "      <td>Ce compte contient  2531 €.</td>\n",
       "      <td>2531</td>\n",
       "    </tr>\n",
       "    <tr>\n",
       "      <th>2</th>\n",
       "      <td>6888dcc47747a8c5c988814e</td>\n",
       "      <td>C</td>\n",
       "      <td>Ce compte contient   936 €.</td>\n",
       "      <td>936</td>\n",
       "    </tr>\n",
       "    <tr>\n",
       "      <th>3</th>\n",
       "      <td>6888dcc47747a8c5c988814f</td>\n",
       "      <td>D</td>\n",
       "      <td>Ce compte contient 12534 €.</td>\n",
       "      <td>12534</td>\n",
       "    </tr>\n",
       "    <tr>\n",
       "      <th>4</th>\n",
       "      <td>6888dcc47747a8c5c9888150</td>\n",
       "      <td>E</td>\n",
       "      <td>Ce compte contient  9876 €.</td>\n",
       "      <td>9876</td>\n",
       "    </tr>\n",
       "  </tbody>\n",
       "</table>\n",
       "</div>"
      ],
      "text/plain": [
       "                        _id account                       amount  money\n",
       "0  6888dcc47747a8c5c988814c       A  Ce compte contient  1890 €.   1890\n",
       "1  6888dcc47747a8c5c988814d       B  Ce compte contient  2531 €.   2531\n",
       "2  6888dcc47747a8c5c988814e       C  Ce compte contient   936 €.    936\n",
       "3  6888dcc47747a8c5c988814f       D  Ce compte contient 12534 €.  12534\n",
       "4  6888dcc47747a8c5c9888150       E  Ce compte contient  9876 €.   9876"
      ]
     },
     "execution_count": 27,
     "metadata": {},
     "output_type": "execute_result"
    }
   ],
   "source": [
    "amounts_money = {\n",
    "    \"$addFields\": {\n",
    "        \"money\": {\"$trim\": {\"input\": {\n",
    "            \"$substrBytes\": [\"$amount\", 19, 5]\n",
    "            }\n",
    "        }}\n",
    "    }\n",
    "}\n",
    "pd.DataFrame(my_collection.aggregate([amounts_money]).to_list())"
   ]
  },
  {
   "cell_type": "markdown",
   "id": "2a5a8b0c-48ef-4c35-8325-2513069107e3",
   "metadata": {},
   "source": [
    "## Opérateur `$toInt`\n",
    "\n",
    "L’opérateur `$toInt` permet de convertir une valeur en entier (integer). C'est un opérateur d'aggrégation, il s'invoque de la façon suivante.\n",
    "\n",
    "`{$toInt: <expression>}`\n",
    "\n",
    "---\n",
    "\n",
    "Pour l'exemple, on va créer une collection de comptes bancaires.\n"
   ]
  },
  {
   "cell_type": "code",
   "execution_count": null,
   "id": "4a3fcd9f",
   "metadata": {},
   "outputs": [],
   "source": [
    "try:\n",
    "    my_collection = db.create_collection(\"toInt\")\n",
    "except:\n",
    "    db.toInt.drop()\n",
    "    my_collection = db.create_collection(\"toInt\")\n",
    "\n",
    "documents = [\n",
    "    {\"account\": \"A\", \"amount\": \"1890\"},\n",
    "    {\"account\": \"B\", \"amount\": \"2531\"},\n",
    "    {\"account\": \"C\", \"amount\": \"936\"},\n",
    "    {\"account\": \"D\", \"amount\": \"12534\"},\n",
    "    {\"account\": \"E\", \"amount\": \"9876\"},\n",
    "]\n",
    "result_many = my_collection.insert_many(documents)"
   ]
  },
  {
   "cell_type": "markdown",
   "id": "c19d0715",
   "metadata": {},
   "source": [
    "Le champ **amount** étant une chaîne de caractères, on peut les convertir grâce à l'opérateur d'aggrégation `$toInt`."
   ]
  },
  {
   "cell_type": "code",
   "execution_count": 23,
   "id": "285610ec",
   "metadata": {},
   "outputs": [
    {
     "data": {
      "text/html": [
       "<div>\n",
       "<style scoped>\n",
       "    .dataframe tbody tr th:only-of-type {\n",
       "        vertical-align: middle;\n",
       "    }\n",
       "\n",
       "    .dataframe tbody tr th {\n",
       "        vertical-align: top;\n",
       "    }\n",
       "\n",
       "    .dataframe thead th {\n",
       "        text-align: right;\n",
       "    }\n",
       "</style>\n",
       "<table border=\"1\" class=\"dataframe\">\n",
       "  <thead>\n",
       "    <tr style=\"text-align: right;\">\n",
       "      <th></th>\n",
       "      <th>_id</th>\n",
       "      <th>account</th>\n",
       "      <th>amount</th>\n",
       "      <th>money</th>\n",
       "    </tr>\n",
       "  </thead>\n",
       "  <tbody>\n",
       "    <tr>\n",
       "      <th>0</th>\n",
       "      <td>6888db807747a8c5c9888147</td>\n",
       "      <td>A</td>\n",
       "      <td>1890</td>\n",
       "      <td>1890</td>\n",
       "    </tr>\n",
       "    <tr>\n",
       "      <th>1</th>\n",
       "      <td>6888db807747a8c5c9888148</td>\n",
       "      <td>B</td>\n",
       "      <td>2531</td>\n",
       "      <td>2531</td>\n",
       "    </tr>\n",
       "    <tr>\n",
       "      <th>2</th>\n",
       "      <td>6888db807747a8c5c9888149</td>\n",
       "      <td>C</td>\n",
       "      <td>936</td>\n",
       "      <td>936</td>\n",
       "    </tr>\n",
       "    <tr>\n",
       "      <th>3</th>\n",
       "      <td>6888db807747a8c5c988814a</td>\n",
       "      <td>D</td>\n",
       "      <td>12534</td>\n",
       "      <td>12534</td>\n",
       "    </tr>\n",
       "    <tr>\n",
       "      <th>4</th>\n",
       "      <td>6888db807747a8c5c988814b</td>\n",
       "      <td>E</td>\n",
       "      <td>9876</td>\n",
       "      <td>9876</td>\n",
       "    </tr>\n",
       "  </tbody>\n",
       "</table>\n",
       "</div>"
      ],
      "text/plain": [
       "                        _id account amount  money\n",
       "0  6888db807747a8c5c9888147       A   1890   1890\n",
       "1  6888db807747a8c5c9888148       B   2531   2531\n",
       "2  6888db807747a8c5c9888149       C    936    936\n",
       "3  6888db807747a8c5c988814a       D  12534  12534\n",
       "4  6888db807747a8c5c988814b       E   9876   9876"
      ]
     },
     "execution_count": 23,
     "metadata": {},
     "output_type": "execute_result"
    }
   ],
   "source": [
    "amounts_money = {\n",
    "    \"$addFields\": {\n",
    "        \"money\": {\"$toInt\": \"$amount\"}\n",
    "    }\n",
    "}\n",
    "pd.DataFrame(my_collection.aggregate([amounts_money]).to_list())"
   ]
  },
  {
   "cell_type": "markdown",
   "id": "60402d88-df39-4dbb-8bd4-4a3e0aa8e0af",
   "metadata": {},
   "source": [
    "## Opérateur `$toDouble`\n",
    "\n",
    "L’opérateur `$toDouble` permet de convertir une valeur en nombre décimal (float). C'est un opérateur d'aggrégation, il s'invoque de la façon suivante.\n",
    "\n",
    "`{$toDouble: <expression>}`\n",
    "\n",
    "---\n",
    "\n",
    "Pour l'exemple, on va créer une collection de compte bancaire."
   ]
  },
  {
   "cell_type": "code",
   "execution_count": 20,
   "id": "64f2f733-456e-410d-89ef-15d9817f33bd",
   "metadata": {},
   "outputs": [],
   "source": [
    "try:\n",
    "    my_collection = db.create_collection(\"toDouble\")\n",
    "except:\n",
    "    db.toDouble.drop()\n",
    "    my_collection = db.create_collection(\"toDouble\")\n",
    "\n",
    "documents = [\n",
    "    {\"account\": \"A\", \"amount\": \"1890.59\"},\n",
    "    {\"account\": \"B\", \"amount\": \"2531.48\"},\n",
    "    {\"account\": \"C\", \"amount\": \"936.10\"},\n",
    "    {\"account\": \"D\", \"amount\": \"12534.21\"},\n",
    "    {\"account\": \"E\", \"amount\": \"9876.54\"},\n",
    "]\n",
    "result_many = my_collection.insert_many(documents)"
   ]
  },
  {
   "cell_type": "markdown",
   "id": "ce00ca81",
   "metadata": {},
   "source": [
    "Le champ **amount** étant une chaîne de caractères, on peut les convertir grâce à l'opérateur d'aggrégation `$toDouble`."
   ]
  },
  {
   "cell_type": "code",
   "execution_count": 21,
   "id": "fae1831b",
   "metadata": {},
   "outputs": [
    {
     "data": {
      "text/html": [
       "<div>\n",
       "<style scoped>\n",
       "    .dataframe tbody tr th:only-of-type {\n",
       "        vertical-align: middle;\n",
       "    }\n",
       "\n",
       "    .dataframe tbody tr th {\n",
       "        vertical-align: top;\n",
       "    }\n",
       "\n",
       "    .dataframe thead th {\n",
       "        text-align: right;\n",
       "    }\n",
       "</style>\n",
       "<table border=\"1\" class=\"dataframe\">\n",
       "  <thead>\n",
       "    <tr style=\"text-align: right;\">\n",
       "      <th></th>\n",
       "      <th>_id</th>\n",
       "      <th>account</th>\n",
       "      <th>amount</th>\n",
       "      <th>money</th>\n",
       "    </tr>\n",
       "  </thead>\n",
       "  <tbody>\n",
       "    <tr>\n",
       "      <th>0</th>\n",
       "      <td>6888daae7747a8c5c9888142</td>\n",
       "      <td>A</td>\n",
       "      <td>1890.59</td>\n",
       "      <td>1890.59</td>\n",
       "    </tr>\n",
       "    <tr>\n",
       "      <th>1</th>\n",
       "      <td>6888daae7747a8c5c9888143</td>\n",
       "      <td>B</td>\n",
       "      <td>2531.48</td>\n",
       "      <td>2531.48</td>\n",
       "    </tr>\n",
       "    <tr>\n",
       "      <th>2</th>\n",
       "      <td>6888daae7747a8c5c9888144</td>\n",
       "      <td>C</td>\n",
       "      <td>936.10</td>\n",
       "      <td>936.10</td>\n",
       "    </tr>\n",
       "    <tr>\n",
       "      <th>3</th>\n",
       "      <td>6888daae7747a8c5c9888145</td>\n",
       "      <td>D</td>\n",
       "      <td>12534.21</td>\n",
       "      <td>12534.21</td>\n",
       "    </tr>\n",
       "    <tr>\n",
       "      <th>4</th>\n",
       "      <td>6888daae7747a8c5c9888146</td>\n",
       "      <td>E</td>\n",
       "      <td>9876.54</td>\n",
       "      <td>9876.54</td>\n",
       "    </tr>\n",
       "  </tbody>\n",
       "</table>\n",
       "</div>"
      ],
      "text/plain": [
       "                        _id account    amount     money\n",
       "0  6888daae7747a8c5c9888142       A   1890.59   1890.59\n",
       "1  6888daae7747a8c5c9888143       B   2531.48   2531.48\n",
       "2  6888daae7747a8c5c9888144       C    936.10    936.10\n",
       "3  6888daae7747a8c5c9888145       D  12534.21  12534.21\n",
       "4  6888daae7747a8c5c9888146       E   9876.54   9876.54"
      ]
     },
     "execution_count": 21,
     "metadata": {},
     "output_type": "execute_result"
    }
   ],
   "source": [
    "amounts_money = {\n",
    "    \"$addFields\": {\n",
    "        \"money\": {\"$toDouble\": \"$amount\"}\n",
    "    }\n",
    "}\n",
    "pd.DataFrame(my_collection.aggregate([amounts_money]).to_list())"
   ]
  },
  {
   "cell_type": "markdown",
   "id": "377a7544-b23a-4cd4-9c73-c527594147b6",
   "metadata": {},
   "source": [
    "---\n",
    "\n",
    "## Conclusion"
   ]
  },
  {
   "cell_type": "code",
   "execution_count": null,
   "id": "9421634f-fa68-4aaf-b093-68fd465c8377",
   "metadata": {},
   "outputs": [],
   "source": []
  }
 ],
 "metadata": {
  "kernelspec": {
   "display_name": ".venv",
   "language": "python",
   "name": "python3"
  },
  "language_info": {
   "codemirror_mode": {
    "name": "ipython",
    "version": 3
   },
   "file_extension": ".py",
   "mimetype": "text/x-python",
   "name": "python",
   "nbconvert_exporter": "python",
   "pygments_lexer": "ipython3",
   "version": "3.12.3"
  }
 },
 "nbformat": 4,
 "nbformat_minor": 5
}
