{
 "cells": [
  {
   "cell_type": "markdown",
   "id": "c8959e98",
   "metadata": {},
   "source": [
    "# Opérateurs de requête MongoDB - comparaison: `$eq`, `$ne`, `$gt`, `$gte`, `$lt`, `$lte`, `$in`, `$nin`\n",
    "\n",
    "Ce notebook présente les opérateurs de comparaison de MongoDB à travers des exemples simples et accessibles.  \n",
    "L'objectif est de montrer comment filtrer des documents à l'aide de conditions simple de comparaison sur un champ de données dans une base MongoDB.\n",
    "\n",
    "Nous allons :\n",
    "- Créer une connexion à MongoDB local (via Docker)\n",
    "- Insérer des données fictives\n",
    "- Illustrer les opérateurs de comparaison un par un sur différents types de données"
   ]
  },
  {
   "cell_type": "markdown",
   "id": "c8e82787",
   "metadata": {},
   "source": [
    "## 1. Connexion à la base de données"
   ]
  },
  {
   "cell_type": "markdown",
   "id": "44e84a35",
   "metadata": {},
   "source": [
    "Avant toute opération sur une base de données, il est nécessaire de s'y connecter:"
   ]
  },
  {
   "cell_type": "code",
   "execution_count": 167,
   "id": "c5ad4834",
   "metadata": {},
   "outputs": [],
   "source": [
    "from pymongo import MongoClient\n",
    "import pandas as pd\n",
    "\n",
    "# Définition du port à utiliser [à changer en fonction la configuration de votre installation locale]\n",
    "MONGODB_LOCAL_PATH = \"mongodb://localhost:27017/\"\n",
    "\n",
    "# Définition de la base de données à utiliser\n",
    "MONGODB_NAME = \"comparison_operator_db\"\n",
    "\n",
    "# Connexion\n",
    "client = MongoClient(MONGODB_LOCAL_PATH)\n",
    "db = client[MONGODB_NAME]"
   ]
  },
  {
   "cell_type": "markdown",
   "id": "a9679083",
   "metadata": {},
   "source": [
    "## 2. Création d'une collection pour un environnement de test"
   ]
  },
  {
   "cell_type": "markdown",
   "id": "1cd7062c",
   "metadata": {},
   "source": [
    "Les commandes suivantes permettent de créer une collection servant d'environnement de test pour les différentes opérations de comparaison de ce notebook"
   ]
  },
  {
   "cell_type": "code",
   "execution_count": 168,
   "id": "75626a92",
   "metadata": {},
   "outputs": [],
   "source": [
    "try:\n",
    "    # Création de la collection\n",
    "    db_user = db.create_collection(\"User\")\n",
    "except:\n",
    "    # Suppression puis création de la collection\n",
    "    db.User.drop()\n",
    "    db_user = db.create_collection(\"User\")"
   ]
  },
  {
   "cell_type": "markdown",
   "id": "48e4ab17",
   "metadata": {},
   "source": [
    "On va remplir cette collection avec un petit nombre de documents"
   ]
  },
  {
   "cell_type": "code",
   "execution_count": 169,
   "id": "f573e322",
   "metadata": {},
   "outputs": [
    {
     "data": {
      "text/html": [
       "<div>\n",
       "<style scoped>\n",
       "    .dataframe tbody tr th:only-of-type {\n",
       "        vertical-align: middle;\n",
       "    }\n",
       "\n",
       "    .dataframe tbody tr th {\n",
       "        vertical-align: top;\n",
       "    }\n",
       "\n",
       "    .dataframe thead th {\n",
       "        text-align: right;\n",
       "    }\n",
       "</style>\n",
       "<table border=\"1\" class=\"dataframe\">\n",
       "  <thead>\n",
       "    <tr style=\"text-align: right;\">\n",
       "      <th></th>\n",
       "      <th>_id</th>\n",
       "      <th>name</th>\n",
       "      <th>age</th>\n",
       "      <th>weight</th>\n",
       "      <th>is_employed</th>\n",
       "      <th>address</th>\n",
       "    </tr>\n",
       "  </thead>\n",
       "  <tbody>\n",
       "    <tr>\n",
       "      <th>0</th>\n",
       "      <td>6887926913b2bc57a40b6055</td>\n",
       "      <td>Paul</td>\n",
       "      <td>32</td>\n",
       "      <td>79.3</td>\n",
       "      <td>True</td>\n",
       "      <td>[France, Nord, Lille]</td>\n",
       "    </tr>\n",
       "    <tr>\n",
       "      <th>1</th>\n",
       "      <td>6887926913b2bc57a40b6056</td>\n",
       "      <td>Maria</td>\n",
       "      <td>52</td>\n",
       "      <td>65.2</td>\n",
       "      <td>True</td>\n",
       "      <td>[France, Gironde, Bordeaux]</td>\n",
       "    </tr>\n",
       "    <tr>\n",
       "      <th>2</th>\n",
       "      <td>6887926913b2bc57a40b6057</td>\n",
       "      <td>James</td>\n",
       "      <td>22</td>\n",
       "      <td>75.9</td>\n",
       "      <td>False</td>\n",
       "      <td>[France, Alpes Maritime, Nice]</td>\n",
       "    </tr>\n",
       "    <tr>\n",
       "      <th>3</th>\n",
       "      <td>6887926913b2bc57a40b6058</td>\n",
       "      <td>Maeva</td>\n",
       "      <td>78</td>\n",
       "      <td>54.3</td>\n",
       "      <td>False</td>\n",
       "      <td>[France, Loiret, Orléans]</td>\n",
       "    </tr>\n",
       "    <tr>\n",
       "      <th>4</th>\n",
       "      <td>6887926913b2bc57a40b6059</td>\n",
       "      <td>Jennifer</td>\n",
       "      <td>16</td>\n",
       "      <td>59.8</td>\n",
       "      <td>False</td>\n",
       "      <td>[Suisse, Neuchâtel, Neuchâtel]</td>\n",
       "    </tr>\n",
       "  </tbody>\n",
       "</table>\n",
       "</div>"
      ],
      "text/plain": [
       "                        _id      name  age  weight  is_employed  \\\n",
       "0  6887926913b2bc57a40b6055      Paul   32    79.3         True   \n",
       "1  6887926913b2bc57a40b6056     Maria   52    65.2         True   \n",
       "2  6887926913b2bc57a40b6057     James   22    75.9        False   \n",
       "3  6887926913b2bc57a40b6058     Maeva   78    54.3        False   \n",
       "4  6887926913b2bc57a40b6059  Jennifer   16    59.8        False   \n",
       "\n",
       "                          address  \n",
       "0           [France, Nord, Lille]  \n",
       "1     [France, Gironde, Bordeaux]  \n",
       "2  [France, Alpes Maritime, Nice]  \n",
       "3       [France, Loiret, Orléans]  \n",
       "4  [Suisse, Neuchâtel, Neuchâtel]  "
      ]
     },
     "execution_count": 169,
     "metadata": {},
     "output_type": "execute_result"
    }
   ],
   "source": [
    "documents = [\n",
    "    {\n",
    "        \"name\": \"Paul\",\n",
    "        \"age\": 32,\n",
    "        \"weight\": 79.3,\n",
    "        \"is_employed\": True,\n",
    "        \"address\": [\"France\",\"Nord\",\"Lille\"],\n",
    "    },\n",
    "    {\n",
    "        \"name\": \"Maria\",\n",
    "        \"age\": 52,\n",
    "        \"weight\": 65.2,\n",
    "        \"is_employed\": True,\n",
    "        \"address\": [\"France\",\"Gironde\",\"Bordeaux\"],\n",
    "    },\n",
    "    {\n",
    "        \"name\": \"James\",\n",
    "        \"age\": 22,\n",
    "        \"weight\": 75.9,\n",
    "        \"is_employed\": False,\n",
    "        \"address\": [\"France\",\"Alpes Maritime\",\"Nice\"],\n",
    "    },\n",
    "    {\n",
    "        \"name\": \"Maeva\",\n",
    "        \"age\": 78,\n",
    "        \"weight\": 54.3,\n",
    "        \"is_employed\": False,\n",
    "        \"address\": [\"France\",\"Loiret\",\"Orléans\"],\n",
    "    },\n",
    "    {\n",
    "        \"name\": \"Jennifer\",\n",
    "        \"age\": 16,\n",
    "        \"weight\": 59.8,\n",
    "        \"is_employed\": False,\n",
    "        \"address\": [\"Suisse\",\"Neuchâtel\",\"Neuchâtel\"],\n",
    "    },\n",
    "]\n",
    "db_user.insert_many(documents)\n",
    "docs = list(db_user.find())\n",
    "pd.DataFrame(docs)"
   ]
  },
  {
   "cell_type": "markdown",
   "id": "6e2f000d",
   "metadata": {},
   "source": [
    "## 3. Les opérateurs `$eq` et `$ne`"
   ]
  },
  {
   "cell_type": "markdown",
   "id": "60a66e53",
   "metadata": {},
   "source": [
    "Les deux premiers opérateurs équivalent à demander l'égalité ou l'inégalité simple dans une requête. Ils s'invoquent via le schéma suivant:\n",
    "\n",
    "`{ <field>: { $eq: <value> } }`\n",
    "\n",
    "ou \n",
    "\n",
    "`{ <field>: { $ne: <value> } }`\n",
    "\n",
    "---"
   ]
  },
  {
   "cell_type": "markdown",
   "id": "d33e7aec",
   "metadata": {},
   "source": [
    "### **Exemple sur une chaîne de caractères**\n",
    "\n",
    "> \"Je recherche Paul\""
   ]
  },
  {
   "cell_type": "code",
   "execution_count": 170,
   "id": "dfe871d7",
   "metadata": {},
   "outputs": [
    {
     "data": {
      "text/html": [
       "<div>\n",
       "<style scoped>\n",
       "    .dataframe tbody tr th:only-of-type {\n",
       "        vertical-align: middle;\n",
       "    }\n",
       "\n",
       "    .dataframe tbody tr th {\n",
       "        vertical-align: top;\n",
       "    }\n",
       "\n",
       "    .dataframe thead th {\n",
       "        text-align: right;\n",
       "    }\n",
       "</style>\n",
       "<table border=\"1\" class=\"dataframe\">\n",
       "  <thead>\n",
       "    <tr style=\"text-align: right;\">\n",
       "      <th></th>\n",
       "      <th>_id</th>\n",
       "      <th>name</th>\n",
       "      <th>age</th>\n",
       "      <th>weight</th>\n",
       "      <th>is_employed</th>\n",
       "      <th>address</th>\n",
       "    </tr>\n",
       "  </thead>\n",
       "  <tbody>\n",
       "    <tr>\n",
       "      <th>0</th>\n",
       "      <td>6887926913b2bc57a40b6055</td>\n",
       "      <td>Paul</td>\n",
       "      <td>32</td>\n",
       "      <td>79.3</td>\n",
       "      <td>True</td>\n",
       "      <td>[France, Nord, Lille]</td>\n",
       "    </tr>\n",
       "  </tbody>\n",
       "</table>\n",
       "</div>"
      ],
      "text/plain": [
       "                        _id  name  age  weight  is_employed  \\\n",
       "0  6887926913b2bc57a40b6055  Paul   32    79.3         True   \n",
       "\n",
       "                 address  \n",
       "0  [France, Nord, Lille]  "
      ]
     },
     "execution_count": 170,
     "metadata": {},
     "output_type": "execute_result"
    }
   ],
   "source": [
    "pd.DataFrame(db_user.find({\"name\": {\"$eq\": \"Paul\"}}).to_list())"
   ]
  },
  {
   "cell_type": "markdown",
   "id": "37a5c01c",
   "metadata": {},
   "source": [
    "À noter que ceci est équivalent au requêtage simple"
   ]
  },
  {
   "cell_type": "code",
   "execution_count": 171,
   "id": "e70ce74a",
   "metadata": {},
   "outputs": [
    {
     "data": {
      "text/html": [
       "<div>\n",
       "<style scoped>\n",
       "    .dataframe tbody tr th:only-of-type {\n",
       "        vertical-align: middle;\n",
       "    }\n",
       "\n",
       "    .dataframe tbody tr th {\n",
       "        vertical-align: top;\n",
       "    }\n",
       "\n",
       "    .dataframe thead th {\n",
       "        text-align: right;\n",
       "    }\n",
       "</style>\n",
       "<table border=\"1\" class=\"dataframe\">\n",
       "  <thead>\n",
       "    <tr style=\"text-align: right;\">\n",
       "      <th></th>\n",
       "      <th>_id</th>\n",
       "      <th>name</th>\n",
       "      <th>age</th>\n",
       "      <th>weight</th>\n",
       "      <th>is_employed</th>\n",
       "      <th>address</th>\n",
       "    </tr>\n",
       "  </thead>\n",
       "  <tbody>\n",
       "    <tr>\n",
       "      <th>0</th>\n",
       "      <td>6887926913b2bc57a40b6055</td>\n",
       "      <td>Paul</td>\n",
       "      <td>32</td>\n",
       "      <td>79.3</td>\n",
       "      <td>True</td>\n",
       "      <td>[France, Nord, Lille]</td>\n",
       "    </tr>\n",
       "  </tbody>\n",
       "</table>\n",
       "</div>"
      ],
      "text/plain": [
       "                        _id  name  age  weight  is_employed  \\\n",
       "0  6887926913b2bc57a40b6055  Paul   32    79.3         True   \n",
       "\n",
       "                 address  \n",
       "0  [France, Nord, Lille]  "
      ]
     },
     "execution_count": 171,
     "metadata": {},
     "output_type": "execute_result"
    }
   ],
   "source": [
    "pd.DataFrame(db_user.find({\"name\": \"Paul\"}).to_list())"
   ]
  },
  {
   "cell_type": "markdown",
   "id": "433ab053",
   "metadata": {},
   "source": [
    "Logiquement, l'opérateur `$ne` renvoit les autres documents"
   ]
  },
  {
   "cell_type": "code",
   "execution_count": 172,
   "id": "84fd953e",
   "metadata": {},
   "outputs": [
    {
     "data": {
      "text/html": [
       "<div>\n",
       "<style scoped>\n",
       "    .dataframe tbody tr th:only-of-type {\n",
       "        vertical-align: middle;\n",
       "    }\n",
       "\n",
       "    .dataframe tbody tr th {\n",
       "        vertical-align: top;\n",
       "    }\n",
       "\n",
       "    .dataframe thead th {\n",
       "        text-align: right;\n",
       "    }\n",
       "</style>\n",
       "<table border=\"1\" class=\"dataframe\">\n",
       "  <thead>\n",
       "    <tr style=\"text-align: right;\">\n",
       "      <th></th>\n",
       "      <th>_id</th>\n",
       "      <th>name</th>\n",
       "      <th>age</th>\n",
       "      <th>weight</th>\n",
       "      <th>is_employed</th>\n",
       "      <th>address</th>\n",
       "    </tr>\n",
       "  </thead>\n",
       "  <tbody>\n",
       "    <tr>\n",
       "      <th>0</th>\n",
       "      <td>6887926913b2bc57a40b6056</td>\n",
       "      <td>Maria</td>\n",
       "      <td>52</td>\n",
       "      <td>65.2</td>\n",
       "      <td>True</td>\n",
       "      <td>[France, Gironde, Bordeaux]</td>\n",
       "    </tr>\n",
       "    <tr>\n",
       "      <th>1</th>\n",
       "      <td>6887926913b2bc57a40b6057</td>\n",
       "      <td>James</td>\n",
       "      <td>22</td>\n",
       "      <td>75.9</td>\n",
       "      <td>False</td>\n",
       "      <td>[France, Alpes Maritime, Nice]</td>\n",
       "    </tr>\n",
       "    <tr>\n",
       "      <th>2</th>\n",
       "      <td>6887926913b2bc57a40b6058</td>\n",
       "      <td>Maeva</td>\n",
       "      <td>78</td>\n",
       "      <td>54.3</td>\n",
       "      <td>False</td>\n",
       "      <td>[France, Loiret, Orléans]</td>\n",
       "    </tr>\n",
       "    <tr>\n",
       "      <th>3</th>\n",
       "      <td>6887926913b2bc57a40b6059</td>\n",
       "      <td>Jennifer</td>\n",
       "      <td>16</td>\n",
       "      <td>59.8</td>\n",
       "      <td>False</td>\n",
       "      <td>[Suisse, Neuchâtel, Neuchâtel]</td>\n",
       "    </tr>\n",
       "  </tbody>\n",
       "</table>\n",
       "</div>"
      ],
      "text/plain": [
       "                        _id      name  age  weight  is_employed  \\\n",
       "0  6887926913b2bc57a40b6056     Maria   52    65.2         True   \n",
       "1  6887926913b2bc57a40b6057     James   22    75.9        False   \n",
       "2  6887926913b2bc57a40b6058     Maeva   78    54.3        False   \n",
       "3  6887926913b2bc57a40b6059  Jennifer   16    59.8        False   \n",
       "\n",
       "                          address  \n",
       "0     [France, Gironde, Bordeaux]  \n",
       "1  [France, Alpes Maritime, Nice]  \n",
       "2       [France, Loiret, Orléans]  \n",
       "3  [Suisse, Neuchâtel, Neuchâtel]  "
      ]
     },
     "execution_count": 172,
     "metadata": {},
     "output_type": "execute_result"
    }
   ],
   "source": [
    "pd.DataFrame(db_user.find({\"name\": {\"$ne\": \"Paul\"}}).to_list())"
   ]
  },
  {
   "cell_type": "markdown",
   "id": "3bd2e351",
   "metadata": {},
   "source": [
    "### Exemple sur un entier\n",
    "\n",
    "> \"Je recherche la personne qui a 32 ans\""
   ]
  },
  {
   "cell_type": "code",
   "execution_count": 173,
   "id": "f53b530f",
   "metadata": {},
   "outputs": [
    {
     "data": {
      "text/html": [
       "<div>\n",
       "<style scoped>\n",
       "    .dataframe tbody tr th:only-of-type {\n",
       "        vertical-align: middle;\n",
       "    }\n",
       "\n",
       "    .dataframe tbody tr th {\n",
       "        vertical-align: top;\n",
       "    }\n",
       "\n",
       "    .dataframe thead th {\n",
       "        text-align: right;\n",
       "    }\n",
       "</style>\n",
       "<table border=\"1\" class=\"dataframe\">\n",
       "  <thead>\n",
       "    <tr style=\"text-align: right;\">\n",
       "      <th></th>\n",
       "      <th>_id</th>\n",
       "      <th>name</th>\n",
       "      <th>age</th>\n",
       "      <th>weight</th>\n",
       "      <th>is_employed</th>\n",
       "      <th>address</th>\n",
       "    </tr>\n",
       "  </thead>\n",
       "  <tbody>\n",
       "    <tr>\n",
       "      <th>0</th>\n",
       "      <td>6887926913b2bc57a40b6055</td>\n",
       "      <td>Paul</td>\n",
       "      <td>32</td>\n",
       "      <td>79.3</td>\n",
       "      <td>True</td>\n",
       "      <td>[France, Nord, Lille]</td>\n",
       "    </tr>\n",
       "  </tbody>\n",
       "</table>\n",
       "</div>"
      ],
      "text/plain": [
       "                        _id  name  age  weight  is_employed  \\\n",
       "0  6887926913b2bc57a40b6055  Paul   32    79.3         True   \n",
       "\n",
       "                 address  \n",
       "0  [France, Nord, Lille]  "
      ]
     },
     "execution_count": 173,
     "metadata": {},
     "output_type": "execute_result"
    }
   ],
   "source": [
    "pd.DataFrame(db_user.find({\"age\": {\"$eq\": 32}}).to_list())"
   ]
  },
  {
   "cell_type": "markdown",
   "id": "5952e431",
   "metadata": {},
   "source": [
    "À noter que ceci est équivalent au requêtage simple"
   ]
  },
  {
   "cell_type": "code",
   "execution_count": 174,
   "id": "aee83a46",
   "metadata": {},
   "outputs": [
    {
     "data": {
      "text/html": [
       "<div>\n",
       "<style scoped>\n",
       "    .dataframe tbody tr th:only-of-type {\n",
       "        vertical-align: middle;\n",
       "    }\n",
       "\n",
       "    .dataframe tbody tr th {\n",
       "        vertical-align: top;\n",
       "    }\n",
       "\n",
       "    .dataframe thead th {\n",
       "        text-align: right;\n",
       "    }\n",
       "</style>\n",
       "<table border=\"1\" class=\"dataframe\">\n",
       "  <thead>\n",
       "    <tr style=\"text-align: right;\">\n",
       "      <th></th>\n",
       "      <th>_id</th>\n",
       "      <th>name</th>\n",
       "      <th>age</th>\n",
       "      <th>weight</th>\n",
       "      <th>is_employed</th>\n",
       "      <th>address</th>\n",
       "    </tr>\n",
       "  </thead>\n",
       "  <tbody>\n",
       "    <tr>\n",
       "      <th>0</th>\n",
       "      <td>6887926913b2bc57a40b6055</td>\n",
       "      <td>Paul</td>\n",
       "      <td>32</td>\n",
       "      <td>79.3</td>\n",
       "      <td>True</td>\n",
       "      <td>[France, Nord, Lille]</td>\n",
       "    </tr>\n",
       "  </tbody>\n",
       "</table>\n",
       "</div>"
      ],
      "text/plain": [
       "                        _id  name  age  weight  is_employed  \\\n",
       "0  6887926913b2bc57a40b6055  Paul   32    79.3         True   \n",
       "\n",
       "                 address  \n",
       "0  [France, Nord, Lille]  "
      ]
     },
     "execution_count": 174,
     "metadata": {},
     "output_type": "execute_result"
    }
   ],
   "source": [
    "pd.DataFrame(db_user.find({\"age\": 32}).to_list())"
   ]
  },
  {
   "cell_type": "markdown",
   "id": "1516b1b9",
   "metadata": {},
   "source": [
    "Logiquement, l'opérateur `$ne` renvoit les autres documents"
   ]
  },
  {
   "cell_type": "code",
   "execution_count": 175,
   "id": "851576f1",
   "metadata": {},
   "outputs": [
    {
     "data": {
      "text/html": [
       "<div>\n",
       "<style scoped>\n",
       "    .dataframe tbody tr th:only-of-type {\n",
       "        vertical-align: middle;\n",
       "    }\n",
       "\n",
       "    .dataframe tbody tr th {\n",
       "        vertical-align: top;\n",
       "    }\n",
       "\n",
       "    .dataframe thead th {\n",
       "        text-align: right;\n",
       "    }\n",
       "</style>\n",
       "<table border=\"1\" class=\"dataframe\">\n",
       "  <thead>\n",
       "    <tr style=\"text-align: right;\">\n",
       "      <th></th>\n",
       "      <th>_id</th>\n",
       "      <th>name</th>\n",
       "      <th>age</th>\n",
       "      <th>weight</th>\n",
       "      <th>is_employed</th>\n",
       "      <th>address</th>\n",
       "    </tr>\n",
       "  </thead>\n",
       "  <tbody>\n",
       "    <tr>\n",
       "      <th>0</th>\n",
       "      <td>6887926913b2bc57a40b6056</td>\n",
       "      <td>Maria</td>\n",
       "      <td>52</td>\n",
       "      <td>65.2</td>\n",
       "      <td>True</td>\n",
       "      <td>[France, Gironde, Bordeaux]</td>\n",
       "    </tr>\n",
       "    <tr>\n",
       "      <th>1</th>\n",
       "      <td>6887926913b2bc57a40b6057</td>\n",
       "      <td>James</td>\n",
       "      <td>22</td>\n",
       "      <td>75.9</td>\n",
       "      <td>False</td>\n",
       "      <td>[France, Alpes Maritime, Nice]</td>\n",
       "    </tr>\n",
       "    <tr>\n",
       "      <th>2</th>\n",
       "      <td>6887926913b2bc57a40b6058</td>\n",
       "      <td>Maeva</td>\n",
       "      <td>78</td>\n",
       "      <td>54.3</td>\n",
       "      <td>False</td>\n",
       "      <td>[France, Loiret, Orléans]</td>\n",
       "    </tr>\n",
       "    <tr>\n",
       "      <th>3</th>\n",
       "      <td>6887926913b2bc57a40b6059</td>\n",
       "      <td>Jennifer</td>\n",
       "      <td>16</td>\n",
       "      <td>59.8</td>\n",
       "      <td>False</td>\n",
       "      <td>[Suisse, Neuchâtel, Neuchâtel]</td>\n",
       "    </tr>\n",
       "  </tbody>\n",
       "</table>\n",
       "</div>"
      ],
      "text/plain": [
       "                        _id      name  age  weight  is_employed  \\\n",
       "0  6887926913b2bc57a40b6056     Maria   52    65.2         True   \n",
       "1  6887926913b2bc57a40b6057     James   22    75.9        False   \n",
       "2  6887926913b2bc57a40b6058     Maeva   78    54.3        False   \n",
       "3  6887926913b2bc57a40b6059  Jennifer   16    59.8        False   \n",
       "\n",
       "                          address  \n",
       "0     [France, Gironde, Bordeaux]  \n",
       "1  [France, Alpes Maritime, Nice]  \n",
       "2       [France, Loiret, Orléans]  \n",
       "3  [Suisse, Neuchâtel, Neuchâtel]  "
      ]
     },
     "execution_count": 175,
     "metadata": {},
     "output_type": "execute_result"
    }
   ],
   "source": [
    "pd.DataFrame(db_user.find({\"age\": {\"$ne\": 32}}).to_list())"
   ]
  },
  {
   "cell_type": "markdown",
   "id": "ca9ea356",
   "metadata": {},
   "source": [
    "### Exemple sur un nombre réel\n",
    "\n",
    "> \"Je recherche la personne qui pèse 79.3 kg\""
   ]
  },
  {
   "cell_type": "code",
   "execution_count": 176,
   "id": "5dad5d9c",
   "metadata": {},
   "outputs": [
    {
     "data": {
      "text/html": [
       "<div>\n",
       "<style scoped>\n",
       "    .dataframe tbody tr th:only-of-type {\n",
       "        vertical-align: middle;\n",
       "    }\n",
       "\n",
       "    .dataframe tbody tr th {\n",
       "        vertical-align: top;\n",
       "    }\n",
       "\n",
       "    .dataframe thead th {\n",
       "        text-align: right;\n",
       "    }\n",
       "</style>\n",
       "<table border=\"1\" class=\"dataframe\">\n",
       "  <thead>\n",
       "    <tr style=\"text-align: right;\">\n",
       "      <th></th>\n",
       "      <th>_id</th>\n",
       "      <th>name</th>\n",
       "      <th>age</th>\n",
       "      <th>weight</th>\n",
       "      <th>is_employed</th>\n",
       "      <th>address</th>\n",
       "    </tr>\n",
       "  </thead>\n",
       "  <tbody>\n",
       "    <tr>\n",
       "      <th>0</th>\n",
       "      <td>6887926913b2bc57a40b6055</td>\n",
       "      <td>Paul</td>\n",
       "      <td>32</td>\n",
       "      <td>79.3</td>\n",
       "      <td>True</td>\n",
       "      <td>[France, Nord, Lille]</td>\n",
       "    </tr>\n",
       "  </tbody>\n",
       "</table>\n",
       "</div>"
      ],
      "text/plain": [
       "                        _id  name  age  weight  is_employed  \\\n",
       "0  6887926913b2bc57a40b6055  Paul   32    79.3         True   \n",
       "\n",
       "                 address  \n",
       "0  [France, Nord, Lille]  "
      ]
     },
     "execution_count": 176,
     "metadata": {},
     "output_type": "execute_result"
    }
   ],
   "source": [
    "pd.DataFrame(db_user.find({\"weight\": {\"$eq\": 79.3}}).to_list())"
   ]
  },
  {
   "cell_type": "markdown",
   "id": "57281d83",
   "metadata": {},
   "source": [
    "À noter que ceci est équivalent au requêtage simple"
   ]
  },
  {
   "cell_type": "code",
   "execution_count": 177,
   "id": "a43d6606",
   "metadata": {},
   "outputs": [
    {
     "data": {
      "text/html": [
       "<div>\n",
       "<style scoped>\n",
       "    .dataframe tbody tr th:only-of-type {\n",
       "        vertical-align: middle;\n",
       "    }\n",
       "\n",
       "    .dataframe tbody tr th {\n",
       "        vertical-align: top;\n",
       "    }\n",
       "\n",
       "    .dataframe thead th {\n",
       "        text-align: right;\n",
       "    }\n",
       "</style>\n",
       "<table border=\"1\" class=\"dataframe\">\n",
       "  <thead>\n",
       "    <tr style=\"text-align: right;\">\n",
       "      <th></th>\n",
       "      <th>_id</th>\n",
       "      <th>name</th>\n",
       "      <th>age</th>\n",
       "      <th>weight</th>\n",
       "      <th>is_employed</th>\n",
       "      <th>address</th>\n",
       "    </tr>\n",
       "  </thead>\n",
       "  <tbody>\n",
       "    <tr>\n",
       "      <th>0</th>\n",
       "      <td>6887926913b2bc57a40b6055</td>\n",
       "      <td>Paul</td>\n",
       "      <td>32</td>\n",
       "      <td>79.3</td>\n",
       "      <td>True</td>\n",
       "      <td>[France, Nord, Lille]</td>\n",
       "    </tr>\n",
       "  </tbody>\n",
       "</table>\n",
       "</div>"
      ],
      "text/plain": [
       "                        _id  name  age  weight  is_employed  \\\n",
       "0  6887926913b2bc57a40b6055  Paul   32    79.3         True   \n",
       "\n",
       "                 address  \n",
       "0  [France, Nord, Lille]  "
      ]
     },
     "execution_count": 177,
     "metadata": {},
     "output_type": "execute_result"
    }
   ],
   "source": [
    "pd.DataFrame(db_user.find({\"weight\": 79.3}).to_list())"
   ]
  },
  {
   "cell_type": "markdown",
   "id": "c8b17a59",
   "metadata": {},
   "source": [
    "Note: les nombres réelles ont une certaine précision, étant donné la façon dont ils sont encodés en mémoire. Ainsi, la requête suivante renvoit une liste vide..."
   ]
  },
  {
   "cell_type": "code",
   "execution_count": 178,
   "id": "1379c937",
   "metadata": {},
   "outputs": [
    {
     "data": {
      "text/html": [
       "<div>\n",
       "<style scoped>\n",
       "    .dataframe tbody tr th:only-of-type {\n",
       "        vertical-align: middle;\n",
       "    }\n",
       "\n",
       "    .dataframe tbody tr th {\n",
       "        vertical-align: top;\n",
       "    }\n",
       "\n",
       "    .dataframe thead th {\n",
       "        text-align: right;\n",
       "    }\n",
       "</style>\n",
       "<table border=\"1\" class=\"dataframe\">\n",
       "  <thead>\n",
       "    <tr style=\"text-align: right;\">\n",
       "      <th></th>\n",
       "    </tr>\n",
       "  </thead>\n",
       "  <tbody>\n",
       "  </tbody>\n",
       "</table>\n",
       "</div>"
      ],
      "text/plain": [
       "Empty DataFrame\n",
       "Columns: []\n",
       "Index: []"
      ]
     },
     "execution_count": 178,
     "metadata": {},
     "output_type": "execute_result"
    }
   ],
   "source": [
    "pd.DataFrame(db_user.find({\"weight\": 79.3000001}).to_list())"
   ]
  },
  {
   "cell_type": "markdown",
   "id": "8389ff46",
   "metadata": {},
   "source": [
    "... tandis que celle-ci renvoit bien un document"
   ]
  },
  {
   "cell_type": "code",
   "execution_count": 179,
   "id": "64831169",
   "metadata": {},
   "outputs": [
    {
     "data": {
      "text/html": [
       "<div>\n",
       "<style scoped>\n",
       "    .dataframe tbody tr th:only-of-type {\n",
       "        vertical-align: middle;\n",
       "    }\n",
       "\n",
       "    .dataframe tbody tr th {\n",
       "        vertical-align: top;\n",
       "    }\n",
       "\n",
       "    .dataframe thead th {\n",
       "        text-align: right;\n",
       "    }\n",
       "</style>\n",
       "<table border=\"1\" class=\"dataframe\">\n",
       "  <thead>\n",
       "    <tr style=\"text-align: right;\">\n",
       "      <th></th>\n",
       "      <th>_id</th>\n",
       "      <th>name</th>\n",
       "      <th>age</th>\n",
       "      <th>weight</th>\n",
       "      <th>is_employed</th>\n",
       "      <th>address</th>\n",
       "    </tr>\n",
       "  </thead>\n",
       "  <tbody>\n",
       "    <tr>\n",
       "      <th>0</th>\n",
       "      <td>6887926913b2bc57a40b6055</td>\n",
       "      <td>Paul</td>\n",
       "      <td>32</td>\n",
       "      <td>79.3</td>\n",
       "      <td>True</td>\n",
       "      <td>[France, Nord, Lille]</td>\n",
       "    </tr>\n",
       "  </tbody>\n",
       "</table>\n",
       "</div>"
      ],
      "text/plain": [
       "                        _id  name  age  weight  is_employed  \\\n",
       "0  6887926913b2bc57a40b6055  Paul   32    79.3         True   \n",
       "\n",
       "                 address  \n",
       "0  [France, Nord, Lille]  "
      ]
     },
     "execution_count": 179,
     "metadata": {},
     "output_type": "execute_result"
    }
   ],
   "source": [
    "pd.DataFrame(db_user.find({\"weight\": 79.300000000000001}).to_list())"
   ]
  },
  {
   "cell_type": "markdown",
   "id": "afe35d4d",
   "metadata": {},
   "source": [
    "Logiquement, l'opérateur `$ne` renvoit les autres documents"
   ]
  },
  {
   "cell_type": "code",
   "execution_count": 180,
   "id": "115fbb62",
   "metadata": {},
   "outputs": [
    {
     "data": {
      "text/html": [
       "<div>\n",
       "<style scoped>\n",
       "    .dataframe tbody tr th:only-of-type {\n",
       "        vertical-align: middle;\n",
       "    }\n",
       "\n",
       "    .dataframe tbody tr th {\n",
       "        vertical-align: top;\n",
       "    }\n",
       "\n",
       "    .dataframe thead th {\n",
       "        text-align: right;\n",
       "    }\n",
       "</style>\n",
       "<table border=\"1\" class=\"dataframe\">\n",
       "  <thead>\n",
       "    <tr style=\"text-align: right;\">\n",
       "      <th></th>\n",
       "      <th>_id</th>\n",
       "      <th>name</th>\n",
       "      <th>age</th>\n",
       "      <th>weight</th>\n",
       "      <th>is_employed</th>\n",
       "      <th>address</th>\n",
       "    </tr>\n",
       "  </thead>\n",
       "  <tbody>\n",
       "    <tr>\n",
       "      <th>0</th>\n",
       "      <td>6887926913b2bc57a40b6056</td>\n",
       "      <td>Maria</td>\n",
       "      <td>52</td>\n",
       "      <td>65.2</td>\n",
       "      <td>True</td>\n",
       "      <td>[France, Gironde, Bordeaux]</td>\n",
       "    </tr>\n",
       "    <tr>\n",
       "      <th>1</th>\n",
       "      <td>6887926913b2bc57a40b6057</td>\n",
       "      <td>James</td>\n",
       "      <td>22</td>\n",
       "      <td>75.9</td>\n",
       "      <td>False</td>\n",
       "      <td>[France, Alpes Maritime, Nice]</td>\n",
       "    </tr>\n",
       "    <tr>\n",
       "      <th>2</th>\n",
       "      <td>6887926913b2bc57a40b6058</td>\n",
       "      <td>Maeva</td>\n",
       "      <td>78</td>\n",
       "      <td>54.3</td>\n",
       "      <td>False</td>\n",
       "      <td>[France, Loiret, Orléans]</td>\n",
       "    </tr>\n",
       "    <tr>\n",
       "      <th>3</th>\n",
       "      <td>6887926913b2bc57a40b6059</td>\n",
       "      <td>Jennifer</td>\n",
       "      <td>16</td>\n",
       "      <td>59.8</td>\n",
       "      <td>False</td>\n",
       "      <td>[Suisse, Neuchâtel, Neuchâtel]</td>\n",
       "    </tr>\n",
       "  </tbody>\n",
       "</table>\n",
       "</div>"
      ],
      "text/plain": [
       "                        _id      name  age  weight  is_employed  \\\n",
       "0  6887926913b2bc57a40b6056     Maria   52    65.2         True   \n",
       "1  6887926913b2bc57a40b6057     James   22    75.9        False   \n",
       "2  6887926913b2bc57a40b6058     Maeva   78    54.3        False   \n",
       "3  6887926913b2bc57a40b6059  Jennifer   16    59.8        False   \n",
       "\n",
       "                          address  \n",
       "0     [France, Gironde, Bordeaux]  \n",
       "1  [France, Alpes Maritime, Nice]  \n",
       "2       [France, Loiret, Orléans]  \n",
       "3  [Suisse, Neuchâtel, Neuchâtel]  "
      ]
     },
     "execution_count": 180,
     "metadata": {},
     "output_type": "execute_result"
    }
   ],
   "source": [
    "pd.DataFrame(db_user.find({\"weight\": {\"$ne\": 79.3}}).to_list())"
   ]
  },
  {
   "cell_type": "markdown",
   "id": "909c787d",
   "metadata": {},
   "source": [
    "### Exemple sur un booléen\n",
    "\n",
    "> \"Je recherche les personnes qui sont employés\""
   ]
  },
  {
   "cell_type": "code",
   "execution_count": 181,
   "id": "51dd5afb",
   "metadata": {},
   "outputs": [
    {
     "data": {
      "text/html": [
       "<div>\n",
       "<style scoped>\n",
       "    .dataframe tbody tr th:only-of-type {\n",
       "        vertical-align: middle;\n",
       "    }\n",
       "\n",
       "    .dataframe tbody tr th {\n",
       "        vertical-align: top;\n",
       "    }\n",
       "\n",
       "    .dataframe thead th {\n",
       "        text-align: right;\n",
       "    }\n",
       "</style>\n",
       "<table border=\"1\" class=\"dataframe\">\n",
       "  <thead>\n",
       "    <tr style=\"text-align: right;\">\n",
       "      <th></th>\n",
       "      <th>_id</th>\n",
       "      <th>name</th>\n",
       "      <th>age</th>\n",
       "      <th>weight</th>\n",
       "      <th>is_employed</th>\n",
       "      <th>address</th>\n",
       "    </tr>\n",
       "  </thead>\n",
       "  <tbody>\n",
       "    <tr>\n",
       "      <th>0</th>\n",
       "      <td>6887926913b2bc57a40b6055</td>\n",
       "      <td>Paul</td>\n",
       "      <td>32</td>\n",
       "      <td>79.3</td>\n",
       "      <td>True</td>\n",
       "      <td>[France, Nord, Lille]</td>\n",
       "    </tr>\n",
       "    <tr>\n",
       "      <th>1</th>\n",
       "      <td>6887926913b2bc57a40b6056</td>\n",
       "      <td>Maria</td>\n",
       "      <td>52</td>\n",
       "      <td>65.2</td>\n",
       "      <td>True</td>\n",
       "      <td>[France, Gironde, Bordeaux]</td>\n",
       "    </tr>\n",
       "  </tbody>\n",
       "</table>\n",
       "</div>"
      ],
      "text/plain": [
       "                        _id   name  age  weight  is_employed  \\\n",
       "0  6887926913b2bc57a40b6055   Paul   32    79.3         True   \n",
       "1  6887926913b2bc57a40b6056  Maria   52    65.2         True   \n",
       "\n",
       "                       address  \n",
       "0        [France, Nord, Lille]  \n",
       "1  [France, Gironde, Bordeaux]  "
      ]
     },
     "execution_count": 181,
     "metadata": {},
     "output_type": "execute_result"
    }
   ],
   "source": [
    "pd.DataFrame(db_user.find({\"is_employed\": {\"$eq\": True}}).to_list())"
   ]
  },
  {
   "cell_type": "markdown",
   "id": "36df8e34",
   "metadata": {},
   "source": [
    "À noter que ceci est équivalent au requêtage simple"
   ]
  },
  {
   "cell_type": "code",
   "execution_count": 182,
   "id": "9bf83482",
   "metadata": {},
   "outputs": [
    {
     "data": {
      "text/html": [
       "<div>\n",
       "<style scoped>\n",
       "    .dataframe tbody tr th:only-of-type {\n",
       "        vertical-align: middle;\n",
       "    }\n",
       "\n",
       "    .dataframe tbody tr th {\n",
       "        vertical-align: top;\n",
       "    }\n",
       "\n",
       "    .dataframe thead th {\n",
       "        text-align: right;\n",
       "    }\n",
       "</style>\n",
       "<table border=\"1\" class=\"dataframe\">\n",
       "  <thead>\n",
       "    <tr style=\"text-align: right;\">\n",
       "      <th></th>\n",
       "      <th>_id</th>\n",
       "      <th>name</th>\n",
       "      <th>age</th>\n",
       "      <th>weight</th>\n",
       "      <th>is_employed</th>\n",
       "      <th>address</th>\n",
       "    </tr>\n",
       "  </thead>\n",
       "  <tbody>\n",
       "    <tr>\n",
       "      <th>0</th>\n",
       "      <td>6887926913b2bc57a40b6055</td>\n",
       "      <td>Paul</td>\n",
       "      <td>32</td>\n",
       "      <td>79.3</td>\n",
       "      <td>True</td>\n",
       "      <td>[France, Nord, Lille]</td>\n",
       "    </tr>\n",
       "    <tr>\n",
       "      <th>1</th>\n",
       "      <td>6887926913b2bc57a40b6056</td>\n",
       "      <td>Maria</td>\n",
       "      <td>52</td>\n",
       "      <td>65.2</td>\n",
       "      <td>True</td>\n",
       "      <td>[France, Gironde, Bordeaux]</td>\n",
       "    </tr>\n",
       "  </tbody>\n",
       "</table>\n",
       "</div>"
      ],
      "text/plain": [
       "                        _id   name  age  weight  is_employed  \\\n",
       "0  6887926913b2bc57a40b6055   Paul   32    79.3         True   \n",
       "1  6887926913b2bc57a40b6056  Maria   52    65.2         True   \n",
       "\n",
       "                       address  \n",
       "0        [France, Nord, Lille]  \n",
       "1  [France, Gironde, Bordeaux]  "
      ]
     },
     "execution_count": 182,
     "metadata": {},
     "output_type": "execute_result"
    }
   ],
   "source": [
    "pd.DataFrame(db_user.find({\"is_employed\": True}).to_list())"
   ]
  },
  {
   "cell_type": "markdown",
   "id": "de5e0cdc",
   "metadata": {},
   "source": [
    "Logiquement, l'opérateur `$ne` renvoit les autres documents"
   ]
  },
  {
   "cell_type": "code",
   "execution_count": 183,
   "id": "8fa51908",
   "metadata": {},
   "outputs": [
    {
     "data": {
      "text/html": [
       "<div>\n",
       "<style scoped>\n",
       "    .dataframe tbody tr th:only-of-type {\n",
       "        vertical-align: middle;\n",
       "    }\n",
       "\n",
       "    .dataframe tbody tr th {\n",
       "        vertical-align: top;\n",
       "    }\n",
       "\n",
       "    .dataframe thead th {\n",
       "        text-align: right;\n",
       "    }\n",
       "</style>\n",
       "<table border=\"1\" class=\"dataframe\">\n",
       "  <thead>\n",
       "    <tr style=\"text-align: right;\">\n",
       "      <th></th>\n",
       "      <th>_id</th>\n",
       "      <th>name</th>\n",
       "      <th>age</th>\n",
       "      <th>weight</th>\n",
       "      <th>is_employed</th>\n",
       "      <th>address</th>\n",
       "    </tr>\n",
       "  </thead>\n",
       "  <tbody>\n",
       "    <tr>\n",
       "      <th>0</th>\n",
       "      <td>6887926913b2bc57a40b6057</td>\n",
       "      <td>James</td>\n",
       "      <td>22</td>\n",
       "      <td>75.9</td>\n",
       "      <td>False</td>\n",
       "      <td>[France, Alpes Maritime, Nice]</td>\n",
       "    </tr>\n",
       "    <tr>\n",
       "      <th>1</th>\n",
       "      <td>6887926913b2bc57a40b6058</td>\n",
       "      <td>Maeva</td>\n",
       "      <td>78</td>\n",
       "      <td>54.3</td>\n",
       "      <td>False</td>\n",
       "      <td>[France, Loiret, Orléans]</td>\n",
       "    </tr>\n",
       "    <tr>\n",
       "      <th>2</th>\n",
       "      <td>6887926913b2bc57a40b6059</td>\n",
       "      <td>Jennifer</td>\n",
       "      <td>16</td>\n",
       "      <td>59.8</td>\n",
       "      <td>False</td>\n",
       "      <td>[Suisse, Neuchâtel, Neuchâtel]</td>\n",
       "    </tr>\n",
       "  </tbody>\n",
       "</table>\n",
       "</div>"
      ],
      "text/plain": [
       "                        _id      name  age  weight  is_employed  \\\n",
       "0  6887926913b2bc57a40b6057     James   22    75.9        False   \n",
       "1  6887926913b2bc57a40b6058     Maeva   78    54.3        False   \n",
       "2  6887926913b2bc57a40b6059  Jennifer   16    59.8        False   \n",
       "\n",
       "                          address  \n",
       "0  [France, Alpes Maritime, Nice]  \n",
       "1       [France, Loiret, Orléans]  \n",
       "2  [Suisse, Neuchâtel, Neuchâtel]  "
      ]
     },
     "execution_count": 183,
     "metadata": {},
     "output_type": "execute_result"
    }
   ],
   "source": [
    "pd.DataFrame(db_user.find({\"is_employed\": {\"$ne\": True}}).to_list())"
   ]
  },
  {
   "cell_type": "markdown",
   "id": "eb22958f",
   "metadata": {},
   "source": [
    "### Exemple sur une liste"
   ]
  },
  {
   "cell_type": "code",
   "execution_count": 184,
   "id": "1b68ffd6",
   "metadata": {},
   "outputs": [
    {
     "data": {
      "text/html": [
       "<div>\n",
       "<style scoped>\n",
       "    .dataframe tbody tr th:only-of-type {\n",
       "        vertical-align: middle;\n",
       "    }\n",
       "\n",
       "    .dataframe tbody tr th {\n",
       "        vertical-align: top;\n",
       "    }\n",
       "\n",
       "    .dataframe thead th {\n",
       "        text-align: right;\n",
       "    }\n",
       "</style>\n",
       "<table border=\"1\" class=\"dataframe\">\n",
       "  <thead>\n",
       "    <tr style=\"text-align: right;\">\n",
       "      <th></th>\n",
       "      <th>_id</th>\n",
       "      <th>name</th>\n",
       "      <th>age</th>\n",
       "      <th>weight</th>\n",
       "      <th>is_employed</th>\n",
       "      <th>address</th>\n",
       "    </tr>\n",
       "  </thead>\n",
       "  <tbody>\n",
       "    <tr>\n",
       "      <th>0</th>\n",
       "      <td>6887926913b2bc57a40b6055</td>\n",
       "      <td>Paul</td>\n",
       "      <td>32</td>\n",
       "      <td>79.3</td>\n",
       "      <td>True</td>\n",
       "      <td>[France, Nord, Lille]</td>\n",
       "    </tr>\n",
       "  </tbody>\n",
       "</table>\n",
       "</div>"
      ],
      "text/plain": [
       "                        _id  name  age  weight  is_employed  \\\n",
       "0  6887926913b2bc57a40b6055  Paul   32    79.3         True   \n",
       "\n",
       "                 address  \n",
       "0  [France, Nord, Lille]  "
      ]
     },
     "execution_count": 184,
     "metadata": {},
     "output_type": "execute_result"
    }
   ],
   "source": [
    "pd.DataFrame(db_user.find({\"address\": {\"$eq\": [\"France\", \"Nord\", \"Lille\"]}}).to_list())"
   ]
  },
  {
   "cell_type": "code",
   "execution_count": 185,
   "id": "f90faa7d",
   "metadata": {},
   "outputs": [
    {
     "data": {
      "text/html": [
       "<div>\n",
       "<style scoped>\n",
       "    .dataframe tbody tr th:only-of-type {\n",
       "        vertical-align: middle;\n",
       "    }\n",
       "\n",
       "    .dataframe tbody tr th {\n",
       "        vertical-align: top;\n",
       "    }\n",
       "\n",
       "    .dataframe thead th {\n",
       "        text-align: right;\n",
       "    }\n",
       "</style>\n",
       "<table border=\"1\" class=\"dataframe\">\n",
       "  <thead>\n",
       "    <tr style=\"text-align: right;\">\n",
       "      <th></th>\n",
       "    </tr>\n",
       "  </thead>\n",
       "  <tbody>\n",
       "  </tbody>\n",
       "</table>\n",
       "</div>"
      ],
      "text/plain": [
       "Empty DataFrame\n",
       "Columns: []\n",
       "Index: []"
      ]
     },
     "execution_count": 185,
     "metadata": {},
     "output_type": "execute_result"
    }
   ],
   "source": [
    "pd.DataFrame(db_user.find({\"address\": {\"$eq\": [\"France\", \"Nord\"]}}).to_list())"
   ]
  },
  {
   "cell_type": "markdown",
   "id": "d0bbc4fb",
   "metadata": {},
   "source": [
    "À noter que ceci est équivalent au requêtage simple"
   ]
  },
  {
   "cell_type": "code",
   "execution_count": 186,
   "id": "e5c90390",
   "metadata": {},
   "outputs": [
    {
     "data": {
      "text/html": [
       "<div>\n",
       "<style scoped>\n",
       "    .dataframe tbody tr th:only-of-type {\n",
       "        vertical-align: middle;\n",
       "    }\n",
       "\n",
       "    .dataframe tbody tr th {\n",
       "        vertical-align: top;\n",
       "    }\n",
       "\n",
       "    .dataframe thead th {\n",
       "        text-align: right;\n",
       "    }\n",
       "</style>\n",
       "<table border=\"1\" class=\"dataframe\">\n",
       "  <thead>\n",
       "    <tr style=\"text-align: right;\">\n",
       "      <th></th>\n",
       "      <th>_id</th>\n",
       "      <th>name</th>\n",
       "      <th>age</th>\n",
       "      <th>weight</th>\n",
       "      <th>is_employed</th>\n",
       "      <th>address</th>\n",
       "    </tr>\n",
       "  </thead>\n",
       "  <tbody>\n",
       "    <tr>\n",
       "      <th>0</th>\n",
       "      <td>6887926913b2bc57a40b6055</td>\n",
       "      <td>Paul</td>\n",
       "      <td>32</td>\n",
       "      <td>79.3</td>\n",
       "      <td>True</td>\n",
       "      <td>[France, Nord, Lille]</td>\n",
       "    </tr>\n",
       "  </tbody>\n",
       "</table>\n",
       "</div>"
      ],
      "text/plain": [
       "                        _id  name  age  weight  is_employed  \\\n",
       "0  6887926913b2bc57a40b6055  Paul   32    79.3         True   \n",
       "\n",
       "                 address  \n",
       "0  [France, Nord, Lille]  "
      ]
     },
     "execution_count": 186,
     "metadata": {},
     "output_type": "execute_result"
    }
   ],
   "source": [
    "pd.DataFrame(db_user.find({\"address\": [\"France\", \"Nord\", \"Lille\"]}).to_list())"
   ]
  },
  {
   "cell_type": "markdown",
   "id": "108787a7",
   "metadata": {},
   "source": [
    "Logiquement, l'opérateur `$ne` renvoit les autres documents"
   ]
  },
  {
   "cell_type": "code",
   "execution_count": 187,
   "id": "a686ae76",
   "metadata": {},
   "outputs": [
    {
     "data": {
      "text/html": [
       "<div>\n",
       "<style scoped>\n",
       "    .dataframe tbody tr th:only-of-type {\n",
       "        vertical-align: middle;\n",
       "    }\n",
       "\n",
       "    .dataframe tbody tr th {\n",
       "        vertical-align: top;\n",
       "    }\n",
       "\n",
       "    .dataframe thead th {\n",
       "        text-align: right;\n",
       "    }\n",
       "</style>\n",
       "<table border=\"1\" class=\"dataframe\">\n",
       "  <thead>\n",
       "    <tr style=\"text-align: right;\">\n",
       "      <th></th>\n",
       "      <th>_id</th>\n",
       "      <th>name</th>\n",
       "      <th>age</th>\n",
       "      <th>weight</th>\n",
       "      <th>is_employed</th>\n",
       "      <th>address</th>\n",
       "    </tr>\n",
       "  </thead>\n",
       "  <tbody>\n",
       "    <tr>\n",
       "      <th>0</th>\n",
       "      <td>6887926913b2bc57a40b6056</td>\n",
       "      <td>Maria</td>\n",
       "      <td>52</td>\n",
       "      <td>65.2</td>\n",
       "      <td>True</td>\n",
       "      <td>[France, Gironde, Bordeaux]</td>\n",
       "    </tr>\n",
       "    <tr>\n",
       "      <th>1</th>\n",
       "      <td>6887926913b2bc57a40b6057</td>\n",
       "      <td>James</td>\n",
       "      <td>22</td>\n",
       "      <td>75.9</td>\n",
       "      <td>False</td>\n",
       "      <td>[France, Alpes Maritime, Nice]</td>\n",
       "    </tr>\n",
       "    <tr>\n",
       "      <th>2</th>\n",
       "      <td>6887926913b2bc57a40b6058</td>\n",
       "      <td>Maeva</td>\n",
       "      <td>78</td>\n",
       "      <td>54.3</td>\n",
       "      <td>False</td>\n",
       "      <td>[France, Loiret, Orléans]</td>\n",
       "    </tr>\n",
       "    <tr>\n",
       "      <th>3</th>\n",
       "      <td>6887926913b2bc57a40b6059</td>\n",
       "      <td>Jennifer</td>\n",
       "      <td>16</td>\n",
       "      <td>59.8</td>\n",
       "      <td>False</td>\n",
       "      <td>[Suisse, Neuchâtel, Neuchâtel]</td>\n",
       "    </tr>\n",
       "  </tbody>\n",
       "</table>\n",
       "</div>"
      ],
      "text/plain": [
       "                        _id      name  age  weight  is_employed  \\\n",
       "0  6887926913b2bc57a40b6056     Maria   52    65.2         True   \n",
       "1  6887926913b2bc57a40b6057     James   22    75.9        False   \n",
       "2  6887926913b2bc57a40b6058     Maeva   78    54.3        False   \n",
       "3  6887926913b2bc57a40b6059  Jennifer   16    59.8        False   \n",
       "\n",
       "                          address  \n",
       "0     [France, Gironde, Bordeaux]  \n",
       "1  [France, Alpes Maritime, Nice]  \n",
       "2       [France, Loiret, Orléans]  \n",
       "3  [Suisse, Neuchâtel, Neuchâtel]  "
      ]
     },
     "execution_count": 187,
     "metadata": {},
     "output_type": "execute_result"
    }
   ],
   "source": [
    "pd.DataFrame(db_user.find({\"address\": {\"$ne\": [\"France\", \"Nord\", \"Lille\"]}}).to_list())"
   ]
  },
  {
   "cell_type": "markdown",
   "id": "9af01296",
   "metadata": {},
   "source": [
    "## 4. Les opérateurs `$gt`, `$lt`, `$gte` et `$lte`"
   ]
  },
  {
   "cell_type": "markdown",
   "id": "e45ed315",
   "metadata": {},
   "source": [
    "Ces opérateurs permettent de faire la comparaison de valeurs en suivant un ordre logique suivant le type de donnée. Ils s'invoquent via le schéma suivant:\n",
    "\n",
    "`{ <field>: { $gt: <value> } }`\n",
    "\n",
    "ou \n",
    "\n",
    "`{ <field>: { $gte: <value> } }`\n",
    "\n",
    "ou \n",
    "\n",
    "`{ <field>: { $lt: <value> } }`\n",
    "\n",
    "ou \n",
    "\n",
    "`{ <field>: { $lte: <value> } }`\n",
    "\n",
    "---\n"
   ]
  },
  {
   "cell_type": "markdown",
   "id": "3f72b877",
   "metadata": {},
   "source": [
    "## 4.1 Plus grand que `$gt`, plus grand que ou égal à `$gte`"
   ]
  },
  {
   "cell_type": "markdown",
   "id": "bcb4f2f6",
   "metadata": {},
   "source": [
    "### Exemple sur une chaîne de caractères\n",
    "\n",
    "> \"Je recherche les personnes dont le nom est plus grand que **Maeva** par ordre alphabétique\" "
   ]
  },
  {
   "cell_type": "code",
   "execution_count": 188,
   "id": "5a197eb2",
   "metadata": {},
   "outputs": [
    {
     "data": {
      "text/html": [
       "<div>\n",
       "<style scoped>\n",
       "    .dataframe tbody tr th:only-of-type {\n",
       "        vertical-align: middle;\n",
       "    }\n",
       "\n",
       "    .dataframe tbody tr th {\n",
       "        vertical-align: top;\n",
       "    }\n",
       "\n",
       "    .dataframe thead th {\n",
       "        text-align: right;\n",
       "    }\n",
       "</style>\n",
       "<table border=\"1\" class=\"dataframe\">\n",
       "  <thead>\n",
       "    <tr style=\"text-align: right;\">\n",
       "      <th></th>\n",
       "      <th>_id</th>\n",
       "      <th>name</th>\n",
       "      <th>age</th>\n",
       "      <th>weight</th>\n",
       "      <th>is_employed</th>\n",
       "      <th>address</th>\n",
       "    </tr>\n",
       "  </thead>\n",
       "  <tbody>\n",
       "    <tr>\n",
       "      <th>0</th>\n",
       "      <td>6887926913b2bc57a40b6055</td>\n",
       "      <td>Paul</td>\n",
       "      <td>32</td>\n",
       "      <td>79.3</td>\n",
       "      <td>True</td>\n",
       "      <td>[France, Nord, Lille]</td>\n",
       "    </tr>\n",
       "    <tr>\n",
       "      <th>1</th>\n",
       "      <td>6887926913b2bc57a40b6056</td>\n",
       "      <td>Maria</td>\n",
       "      <td>52</td>\n",
       "      <td>65.2</td>\n",
       "      <td>True</td>\n",
       "      <td>[France, Gironde, Bordeaux]</td>\n",
       "    </tr>\n",
       "  </tbody>\n",
       "</table>\n",
       "</div>"
      ],
      "text/plain": [
       "                        _id   name  age  weight  is_employed  \\\n",
       "0  6887926913b2bc57a40b6055   Paul   32    79.3         True   \n",
       "1  6887926913b2bc57a40b6056  Maria   52    65.2         True   \n",
       "\n",
       "                       address  \n",
       "0        [France, Nord, Lille]  \n",
       "1  [France, Gironde, Bordeaux]  "
      ]
     },
     "execution_count": 188,
     "metadata": {},
     "output_type": "execute_result"
    }
   ],
   "source": [
    "pd.DataFrame(db_user.find({\"name\": {\"$gt\": \"Maeva\"}}).to_list())"
   ]
  },
  {
   "cell_type": "markdown",
   "id": "8a0f399f",
   "metadata": {},
   "source": [
    "On peut également inclure **Maeva** au résultat."
   ]
  },
  {
   "cell_type": "code",
   "execution_count": 189,
   "id": "a7f635d6",
   "metadata": {},
   "outputs": [
    {
     "data": {
      "text/html": [
       "<div>\n",
       "<style scoped>\n",
       "    .dataframe tbody tr th:only-of-type {\n",
       "        vertical-align: middle;\n",
       "    }\n",
       "\n",
       "    .dataframe tbody tr th {\n",
       "        vertical-align: top;\n",
       "    }\n",
       "\n",
       "    .dataframe thead th {\n",
       "        text-align: right;\n",
       "    }\n",
       "</style>\n",
       "<table border=\"1\" class=\"dataframe\">\n",
       "  <thead>\n",
       "    <tr style=\"text-align: right;\">\n",
       "      <th></th>\n",
       "      <th>_id</th>\n",
       "      <th>name</th>\n",
       "      <th>age</th>\n",
       "      <th>weight</th>\n",
       "      <th>is_employed</th>\n",
       "      <th>address</th>\n",
       "    </tr>\n",
       "  </thead>\n",
       "  <tbody>\n",
       "    <tr>\n",
       "      <th>0</th>\n",
       "      <td>6887926913b2bc57a40b6055</td>\n",
       "      <td>Paul</td>\n",
       "      <td>32</td>\n",
       "      <td>79.3</td>\n",
       "      <td>True</td>\n",
       "      <td>[France, Nord, Lille]</td>\n",
       "    </tr>\n",
       "    <tr>\n",
       "      <th>1</th>\n",
       "      <td>6887926913b2bc57a40b6056</td>\n",
       "      <td>Maria</td>\n",
       "      <td>52</td>\n",
       "      <td>65.2</td>\n",
       "      <td>True</td>\n",
       "      <td>[France, Gironde, Bordeaux]</td>\n",
       "    </tr>\n",
       "    <tr>\n",
       "      <th>2</th>\n",
       "      <td>6887926913b2bc57a40b6058</td>\n",
       "      <td>Maeva</td>\n",
       "      <td>78</td>\n",
       "      <td>54.3</td>\n",
       "      <td>False</td>\n",
       "      <td>[France, Loiret, Orléans]</td>\n",
       "    </tr>\n",
       "  </tbody>\n",
       "</table>\n",
       "</div>"
      ],
      "text/plain": [
       "                        _id   name  age  weight  is_employed  \\\n",
       "0  6887926913b2bc57a40b6055   Paul   32    79.3         True   \n",
       "1  6887926913b2bc57a40b6056  Maria   52    65.2         True   \n",
       "2  6887926913b2bc57a40b6058  Maeva   78    54.3        False   \n",
       "\n",
       "                       address  \n",
       "0        [France, Nord, Lille]  \n",
       "1  [France, Gironde, Bordeaux]  \n",
       "2    [France, Loiret, Orléans]  "
      ]
     },
     "execution_count": 189,
     "metadata": {},
     "output_type": "execute_result"
    }
   ],
   "source": [
    "pd.DataFrame(db_user.find({\"name\": {\"$gte\": \"Maeva\"}}).to_list())"
   ]
  },
  {
   "cell_type": "markdown",
   "id": "553023bd",
   "metadata": {},
   "source": [
    "### Exemple sur un entier\n",
    "\n",
    "> \"Je recherche les personnes qui ont plus que 32 ans\""
   ]
  },
  {
   "cell_type": "code",
   "execution_count": 190,
   "id": "a6000e24",
   "metadata": {},
   "outputs": [
    {
     "data": {
      "text/html": [
       "<div>\n",
       "<style scoped>\n",
       "    .dataframe tbody tr th:only-of-type {\n",
       "        vertical-align: middle;\n",
       "    }\n",
       "\n",
       "    .dataframe tbody tr th {\n",
       "        vertical-align: top;\n",
       "    }\n",
       "\n",
       "    .dataframe thead th {\n",
       "        text-align: right;\n",
       "    }\n",
       "</style>\n",
       "<table border=\"1\" class=\"dataframe\">\n",
       "  <thead>\n",
       "    <tr style=\"text-align: right;\">\n",
       "      <th></th>\n",
       "      <th>_id</th>\n",
       "      <th>name</th>\n",
       "      <th>age</th>\n",
       "      <th>weight</th>\n",
       "      <th>is_employed</th>\n",
       "      <th>address</th>\n",
       "    </tr>\n",
       "  </thead>\n",
       "  <tbody>\n",
       "    <tr>\n",
       "      <th>0</th>\n",
       "      <td>6887926913b2bc57a40b6056</td>\n",
       "      <td>Maria</td>\n",
       "      <td>52</td>\n",
       "      <td>65.2</td>\n",
       "      <td>True</td>\n",
       "      <td>[France, Gironde, Bordeaux]</td>\n",
       "    </tr>\n",
       "    <tr>\n",
       "      <th>1</th>\n",
       "      <td>6887926913b2bc57a40b6058</td>\n",
       "      <td>Maeva</td>\n",
       "      <td>78</td>\n",
       "      <td>54.3</td>\n",
       "      <td>False</td>\n",
       "      <td>[France, Loiret, Orléans]</td>\n",
       "    </tr>\n",
       "  </tbody>\n",
       "</table>\n",
       "</div>"
      ],
      "text/plain": [
       "                        _id   name  age  weight  is_employed  \\\n",
       "0  6887926913b2bc57a40b6056  Maria   52    65.2         True   \n",
       "1  6887926913b2bc57a40b6058  Maeva   78    54.3        False   \n",
       "\n",
       "                       address  \n",
       "0  [France, Gironde, Bordeaux]  \n",
       "1    [France, Loiret, Orléans]  "
      ]
     },
     "execution_count": 190,
     "metadata": {},
     "output_type": "execute_result"
    }
   ],
   "source": [
    "pd.DataFrame(db_user.find({\"age\": {\"$gt\": 32}}).to_list())"
   ]
  },
  {
   "cell_type": "markdown",
   "id": "d7866170",
   "metadata": {},
   "source": [
    "On peut également inclure **Paul** au résultat."
   ]
  },
  {
   "cell_type": "code",
   "execution_count": 191,
   "id": "8e1c3d4e",
   "metadata": {},
   "outputs": [
    {
     "data": {
      "text/html": [
       "<div>\n",
       "<style scoped>\n",
       "    .dataframe tbody tr th:only-of-type {\n",
       "        vertical-align: middle;\n",
       "    }\n",
       "\n",
       "    .dataframe tbody tr th {\n",
       "        vertical-align: top;\n",
       "    }\n",
       "\n",
       "    .dataframe thead th {\n",
       "        text-align: right;\n",
       "    }\n",
       "</style>\n",
       "<table border=\"1\" class=\"dataframe\">\n",
       "  <thead>\n",
       "    <tr style=\"text-align: right;\">\n",
       "      <th></th>\n",
       "      <th>_id</th>\n",
       "      <th>name</th>\n",
       "      <th>age</th>\n",
       "      <th>weight</th>\n",
       "      <th>is_employed</th>\n",
       "      <th>address</th>\n",
       "    </tr>\n",
       "  </thead>\n",
       "  <tbody>\n",
       "    <tr>\n",
       "      <th>0</th>\n",
       "      <td>6887926913b2bc57a40b6055</td>\n",
       "      <td>Paul</td>\n",
       "      <td>32</td>\n",
       "      <td>79.3</td>\n",
       "      <td>True</td>\n",
       "      <td>[France, Nord, Lille]</td>\n",
       "    </tr>\n",
       "    <tr>\n",
       "      <th>1</th>\n",
       "      <td>6887926913b2bc57a40b6056</td>\n",
       "      <td>Maria</td>\n",
       "      <td>52</td>\n",
       "      <td>65.2</td>\n",
       "      <td>True</td>\n",
       "      <td>[France, Gironde, Bordeaux]</td>\n",
       "    </tr>\n",
       "    <tr>\n",
       "      <th>2</th>\n",
       "      <td>6887926913b2bc57a40b6058</td>\n",
       "      <td>Maeva</td>\n",
       "      <td>78</td>\n",
       "      <td>54.3</td>\n",
       "      <td>False</td>\n",
       "      <td>[France, Loiret, Orléans]</td>\n",
       "    </tr>\n",
       "  </tbody>\n",
       "</table>\n",
       "</div>"
      ],
      "text/plain": [
       "                        _id   name  age  weight  is_employed  \\\n",
       "0  6887926913b2bc57a40b6055   Paul   32    79.3         True   \n",
       "1  6887926913b2bc57a40b6056  Maria   52    65.2         True   \n",
       "2  6887926913b2bc57a40b6058  Maeva   78    54.3        False   \n",
       "\n",
       "                       address  \n",
       "0        [France, Nord, Lille]  \n",
       "1  [France, Gironde, Bordeaux]  \n",
       "2    [France, Loiret, Orléans]  "
      ]
     },
     "execution_count": 191,
     "metadata": {},
     "output_type": "execute_result"
    }
   ],
   "source": [
    "pd.DataFrame(db_user.find({\"age\": {\"$gte\": 32}}).to_list())"
   ]
  },
  {
   "cell_type": "markdown",
   "id": "a8317bf1",
   "metadata": {},
   "source": [
    "### Exemple sur un nombre réel\n",
    "\n",
    "> \"Je recherche les personnes qui pèsent plus que 65.2 kg\""
   ]
  },
  {
   "cell_type": "code",
   "execution_count": 192,
   "id": "049f0c8f",
   "metadata": {},
   "outputs": [
    {
     "data": {
      "text/html": [
       "<div>\n",
       "<style scoped>\n",
       "    .dataframe tbody tr th:only-of-type {\n",
       "        vertical-align: middle;\n",
       "    }\n",
       "\n",
       "    .dataframe tbody tr th {\n",
       "        vertical-align: top;\n",
       "    }\n",
       "\n",
       "    .dataframe thead th {\n",
       "        text-align: right;\n",
       "    }\n",
       "</style>\n",
       "<table border=\"1\" class=\"dataframe\">\n",
       "  <thead>\n",
       "    <tr style=\"text-align: right;\">\n",
       "      <th></th>\n",
       "      <th>_id</th>\n",
       "      <th>name</th>\n",
       "      <th>age</th>\n",
       "      <th>weight</th>\n",
       "      <th>is_employed</th>\n",
       "      <th>address</th>\n",
       "    </tr>\n",
       "  </thead>\n",
       "  <tbody>\n",
       "    <tr>\n",
       "      <th>0</th>\n",
       "      <td>6887926913b2bc57a40b6055</td>\n",
       "      <td>Paul</td>\n",
       "      <td>32</td>\n",
       "      <td>79.3</td>\n",
       "      <td>True</td>\n",
       "      <td>[France, Nord, Lille]</td>\n",
       "    </tr>\n",
       "    <tr>\n",
       "      <th>1</th>\n",
       "      <td>6887926913b2bc57a40b6057</td>\n",
       "      <td>James</td>\n",
       "      <td>22</td>\n",
       "      <td>75.9</td>\n",
       "      <td>False</td>\n",
       "      <td>[France, Alpes Maritime, Nice]</td>\n",
       "    </tr>\n",
       "  </tbody>\n",
       "</table>\n",
       "</div>"
      ],
      "text/plain": [
       "                        _id   name  age  weight  is_employed  \\\n",
       "0  6887926913b2bc57a40b6055   Paul   32    79.3         True   \n",
       "1  6887926913b2bc57a40b6057  James   22    75.9        False   \n",
       "\n",
       "                          address  \n",
       "0           [France, Nord, Lille]  \n",
       "1  [France, Alpes Maritime, Nice]  "
      ]
     },
     "execution_count": 192,
     "metadata": {},
     "output_type": "execute_result"
    }
   ],
   "source": [
    "pd.DataFrame(db_user.find({\"weight\": {\"$gt\": 65.2}}).to_list())"
   ]
  },
  {
   "cell_type": "code",
   "execution_count": 193,
   "id": "fafca480",
   "metadata": {},
   "outputs": [
    {
     "data": {
      "text/html": [
       "<div>\n",
       "<style scoped>\n",
       "    .dataframe tbody tr th:only-of-type {\n",
       "        vertical-align: middle;\n",
       "    }\n",
       "\n",
       "    .dataframe tbody tr th {\n",
       "        vertical-align: top;\n",
       "    }\n",
       "\n",
       "    .dataframe thead th {\n",
       "        text-align: right;\n",
       "    }\n",
       "</style>\n",
       "<table border=\"1\" class=\"dataframe\">\n",
       "  <thead>\n",
       "    <tr style=\"text-align: right;\">\n",
       "      <th></th>\n",
       "      <th>_id</th>\n",
       "      <th>name</th>\n",
       "      <th>age</th>\n",
       "      <th>weight</th>\n",
       "      <th>is_employed</th>\n",
       "      <th>address</th>\n",
       "    </tr>\n",
       "  </thead>\n",
       "  <tbody>\n",
       "    <tr>\n",
       "      <th>0</th>\n",
       "      <td>6887926913b2bc57a40b6055</td>\n",
       "      <td>Paul</td>\n",
       "      <td>32</td>\n",
       "      <td>79.3</td>\n",
       "      <td>True</td>\n",
       "      <td>[France, Nord, Lille]</td>\n",
       "    </tr>\n",
       "    <tr>\n",
       "      <th>1</th>\n",
       "      <td>6887926913b2bc57a40b6056</td>\n",
       "      <td>Maria</td>\n",
       "      <td>52</td>\n",
       "      <td>65.2</td>\n",
       "      <td>True</td>\n",
       "      <td>[France, Gironde, Bordeaux]</td>\n",
       "    </tr>\n",
       "    <tr>\n",
       "      <th>2</th>\n",
       "      <td>6887926913b2bc57a40b6057</td>\n",
       "      <td>James</td>\n",
       "      <td>22</td>\n",
       "      <td>75.9</td>\n",
       "      <td>False</td>\n",
       "      <td>[France, Alpes Maritime, Nice]</td>\n",
       "    </tr>\n",
       "  </tbody>\n",
       "</table>\n",
       "</div>"
      ],
      "text/plain": [
       "                        _id   name  age  weight  is_employed  \\\n",
       "0  6887926913b2bc57a40b6055   Paul   32    79.3         True   \n",
       "1  6887926913b2bc57a40b6056  Maria   52    65.2         True   \n",
       "2  6887926913b2bc57a40b6057  James   22    75.9        False   \n",
       "\n",
       "                          address  \n",
       "0           [France, Nord, Lille]  \n",
       "1     [France, Gironde, Bordeaux]  \n",
       "2  [France, Alpes Maritime, Nice]  "
      ]
     },
     "execution_count": 193,
     "metadata": {},
     "output_type": "execute_result"
    }
   ],
   "source": [
    "pd.DataFrame(db_user.find({\"weight\": {\"$gte\": 65.2}}).to_list())"
   ]
  },
  {
   "cell_type": "markdown",
   "id": "dc0395a4",
   "metadata": {},
   "source": [
    "### Exemple sur un booléen"
   ]
  },
  {
   "cell_type": "code",
   "execution_count": 194,
   "id": "fedd33d4",
   "metadata": {},
   "outputs": [
    {
     "data": {
      "text/html": [
       "<div>\n",
       "<style scoped>\n",
       "    .dataframe tbody tr th:only-of-type {\n",
       "        vertical-align: middle;\n",
       "    }\n",
       "\n",
       "    .dataframe tbody tr th {\n",
       "        vertical-align: top;\n",
       "    }\n",
       "\n",
       "    .dataframe thead th {\n",
       "        text-align: right;\n",
       "    }\n",
       "</style>\n",
       "<table border=\"1\" class=\"dataframe\">\n",
       "  <thead>\n",
       "    <tr style=\"text-align: right;\">\n",
       "      <th></th>\n",
       "      <th>_id</th>\n",
       "      <th>name</th>\n",
       "      <th>age</th>\n",
       "      <th>weight</th>\n",
       "      <th>is_employed</th>\n",
       "      <th>address</th>\n",
       "    </tr>\n",
       "  </thead>\n",
       "  <tbody>\n",
       "    <tr>\n",
       "      <th>0</th>\n",
       "      <td>6887926913b2bc57a40b6055</td>\n",
       "      <td>Paul</td>\n",
       "      <td>32</td>\n",
       "      <td>79.3</td>\n",
       "      <td>True</td>\n",
       "      <td>[France, Nord, Lille]</td>\n",
       "    </tr>\n",
       "    <tr>\n",
       "      <th>1</th>\n",
       "      <td>6887926913b2bc57a40b6056</td>\n",
       "      <td>Maria</td>\n",
       "      <td>52</td>\n",
       "      <td>65.2</td>\n",
       "      <td>True</td>\n",
       "      <td>[France, Gironde, Bordeaux]</td>\n",
       "    </tr>\n",
       "  </tbody>\n",
       "</table>\n",
       "</div>"
      ],
      "text/plain": [
       "                        _id   name  age  weight  is_employed  \\\n",
       "0  6887926913b2bc57a40b6055   Paul   32    79.3         True   \n",
       "1  6887926913b2bc57a40b6056  Maria   52    65.2         True   \n",
       "\n",
       "                       address  \n",
       "0        [France, Nord, Lille]  \n",
       "1  [France, Gironde, Bordeaux]  "
      ]
     },
     "execution_count": 194,
     "metadata": {},
     "output_type": "execute_result"
    }
   ],
   "source": [
    "pd.DataFrame(db_user.find({\"is_employed\": {\"$gt\": False}}).to_list())"
   ]
  },
  {
   "cell_type": "code",
   "execution_count": 195,
   "id": "5138a632",
   "metadata": {},
   "outputs": [
    {
     "data": {
      "text/html": [
       "<div>\n",
       "<style scoped>\n",
       "    .dataframe tbody tr th:only-of-type {\n",
       "        vertical-align: middle;\n",
       "    }\n",
       "\n",
       "    .dataframe tbody tr th {\n",
       "        vertical-align: top;\n",
       "    }\n",
       "\n",
       "    .dataframe thead th {\n",
       "        text-align: right;\n",
       "    }\n",
       "</style>\n",
       "<table border=\"1\" class=\"dataframe\">\n",
       "  <thead>\n",
       "    <tr style=\"text-align: right;\">\n",
       "      <th></th>\n",
       "      <th>_id</th>\n",
       "      <th>name</th>\n",
       "      <th>age</th>\n",
       "      <th>weight</th>\n",
       "      <th>is_employed</th>\n",
       "      <th>address</th>\n",
       "    </tr>\n",
       "  </thead>\n",
       "  <tbody>\n",
       "    <tr>\n",
       "      <th>0</th>\n",
       "      <td>6887926913b2bc57a40b6055</td>\n",
       "      <td>Paul</td>\n",
       "      <td>32</td>\n",
       "      <td>79.3</td>\n",
       "      <td>True</td>\n",
       "      <td>[France, Nord, Lille]</td>\n",
       "    </tr>\n",
       "    <tr>\n",
       "      <th>1</th>\n",
       "      <td>6887926913b2bc57a40b6056</td>\n",
       "      <td>Maria</td>\n",
       "      <td>52</td>\n",
       "      <td>65.2</td>\n",
       "      <td>True</td>\n",
       "      <td>[France, Gironde, Bordeaux]</td>\n",
       "    </tr>\n",
       "    <tr>\n",
       "      <th>2</th>\n",
       "      <td>6887926913b2bc57a40b6057</td>\n",
       "      <td>James</td>\n",
       "      <td>22</td>\n",
       "      <td>75.9</td>\n",
       "      <td>False</td>\n",
       "      <td>[France, Alpes Maritime, Nice]</td>\n",
       "    </tr>\n",
       "    <tr>\n",
       "      <th>3</th>\n",
       "      <td>6887926913b2bc57a40b6058</td>\n",
       "      <td>Maeva</td>\n",
       "      <td>78</td>\n",
       "      <td>54.3</td>\n",
       "      <td>False</td>\n",
       "      <td>[France, Loiret, Orléans]</td>\n",
       "    </tr>\n",
       "    <tr>\n",
       "      <th>4</th>\n",
       "      <td>6887926913b2bc57a40b6059</td>\n",
       "      <td>Jennifer</td>\n",
       "      <td>16</td>\n",
       "      <td>59.8</td>\n",
       "      <td>False</td>\n",
       "      <td>[Suisse, Neuchâtel, Neuchâtel]</td>\n",
       "    </tr>\n",
       "  </tbody>\n",
       "</table>\n",
       "</div>"
      ],
      "text/plain": [
       "                        _id      name  age  weight  is_employed  \\\n",
       "0  6887926913b2bc57a40b6055      Paul   32    79.3         True   \n",
       "1  6887926913b2bc57a40b6056     Maria   52    65.2         True   \n",
       "2  6887926913b2bc57a40b6057     James   22    75.9        False   \n",
       "3  6887926913b2bc57a40b6058     Maeva   78    54.3        False   \n",
       "4  6887926913b2bc57a40b6059  Jennifer   16    59.8        False   \n",
       "\n",
       "                          address  \n",
       "0           [France, Nord, Lille]  \n",
       "1     [France, Gironde, Bordeaux]  \n",
       "2  [France, Alpes Maritime, Nice]  \n",
       "3       [France, Loiret, Orléans]  \n",
       "4  [Suisse, Neuchâtel, Neuchâtel]  "
      ]
     },
     "execution_count": 195,
     "metadata": {},
     "output_type": "execute_result"
    }
   ],
   "source": [
    "pd.DataFrame(db_user.find({\"is_employed\": {\"$gte\": False}}).to_list())"
   ]
  },
  {
   "cell_type": "markdown",
   "id": "ebaa7a0e",
   "metadata": {},
   "source": [
    "À noter que les booléens étant associé à **False**:**0** et **True**:**1**, l'ordre est logiquement établi ainsi."
   ]
  },
  {
   "cell_type": "markdown",
   "id": "c68cc4fa",
   "metadata": {},
   "source": [
    "### Exemple sur un vecteur\n",
    "\n",
    "Dans le cas des listes l'opérateur de comparaison est appliqué itérativement sur les éléments de liste."
   ]
  },
  {
   "cell_type": "code",
   "execution_count": 196,
   "id": "60c0e1a7",
   "metadata": {},
   "outputs": [
    {
     "data": {
      "text/html": [
       "<div>\n",
       "<style scoped>\n",
       "    .dataframe tbody tr th:only-of-type {\n",
       "        vertical-align: middle;\n",
       "    }\n",
       "\n",
       "    .dataframe tbody tr th {\n",
       "        vertical-align: top;\n",
       "    }\n",
       "\n",
       "    .dataframe thead th {\n",
       "        text-align: right;\n",
       "    }\n",
       "</style>\n",
       "<table border=\"1\" class=\"dataframe\">\n",
       "  <thead>\n",
       "    <tr style=\"text-align: right;\">\n",
       "      <th></th>\n",
       "      <th>_id</th>\n",
       "      <th>name</th>\n",
       "      <th>age</th>\n",
       "      <th>weight</th>\n",
       "      <th>is_employed</th>\n",
       "      <th>address</th>\n",
       "    </tr>\n",
       "  </thead>\n",
       "  <tbody>\n",
       "    <tr>\n",
       "      <th>0</th>\n",
       "      <td>6887926913b2bc57a40b6055</td>\n",
       "      <td>Paul</td>\n",
       "      <td>32</td>\n",
       "      <td>79.3</td>\n",
       "      <td>True</td>\n",
       "      <td>[France, Nord, Lille]</td>\n",
       "    </tr>\n",
       "    <tr>\n",
       "      <th>1</th>\n",
       "      <td>6887926913b2bc57a40b6059</td>\n",
       "      <td>Jennifer</td>\n",
       "      <td>16</td>\n",
       "      <td>59.8</td>\n",
       "      <td>False</td>\n",
       "      <td>[Suisse, Neuchâtel, Neuchâtel]</td>\n",
       "    </tr>\n",
       "  </tbody>\n",
       "</table>\n",
       "</div>"
      ],
      "text/plain": [
       "                        _id      name  age  weight  is_employed  \\\n",
       "0  6887926913b2bc57a40b6055      Paul   32    79.3         True   \n",
       "1  6887926913b2bc57a40b6059  Jennifer   16    59.8        False   \n",
       "\n",
       "                          address  \n",
       "0           [France, Nord, Lille]  \n",
       "1  [Suisse, Neuchâtel, Neuchâtel]  "
      ]
     },
     "execution_count": 196,
     "metadata": {},
     "output_type": "execute_result"
    }
   ],
   "source": [
    "pd.DataFrame(db_user.find({\"address\": {\"$gt\": [\"France\", \"Loiret\", \"Orléans\"]}}).to_list())"
   ]
  },
  {
   "cell_type": "code",
   "execution_count": 197,
   "id": "549d479e",
   "metadata": {},
   "outputs": [
    {
     "data": {
      "text/html": [
       "<div>\n",
       "<style scoped>\n",
       "    .dataframe tbody tr th:only-of-type {\n",
       "        vertical-align: middle;\n",
       "    }\n",
       "\n",
       "    .dataframe tbody tr th {\n",
       "        vertical-align: top;\n",
       "    }\n",
       "\n",
       "    .dataframe thead th {\n",
       "        text-align: right;\n",
       "    }\n",
       "</style>\n",
       "<table border=\"1\" class=\"dataframe\">\n",
       "  <thead>\n",
       "    <tr style=\"text-align: right;\">\n",
       "      <th></th>\n",
       "      <th>_id</th>\n",
       "      <th>name</th>\n",
       "      <th>age</th>\n",
       "      <th>weight</th>\n",
       "      <th>is_employed</th>\n",
       "      <th>address</th>\n",
       "    </tr>\n",
       "  </thead>\n",
       "  <tbody>\n",
       "    <tr>\n",
       "      <th>0</th>\n",
       "      <td>6887926913b2bc57a40b6055</td>\n",
       "      <td>Paul</td>\n",
       "      <td>32</td>\n",
       "      <td>79.3</td>\n",
       "      <td>True</td>\n",
       "      <td>[France, Nord, Lille]</td>\n",
       "    </tr>\n",
       "    <tr>\n",
       "      <th>1</th>\n",
       "      <td>6887926913b2bc57a40b6058</td>\n",
       "      <td>Maeva</td>\n",
       "      <td>78</td>\n",
       "      <td>54.3</td>\n",
       "      <td>False</td>\n",
       "      <td>[France, Loiret, Orléans]</td>\n",
       "    </tr>\n",
       "    <tr>\n",
       "      <th>2</th>\n",
       "      <td>6887926913b2bc57a40b6059</td>\n",
       "      <td>Jennifer</td>\n",
       "      <td>16</td>\n",
       "      <td>59.8</td>\n",
       "      <td>False</td>\n",
       "      <td>[Suisse, Neuchâtel, Neuchâtel]</td>\n",
       "    </tr>\n",
       "  </tbody>\n",
       "</table>\n",
       "</div>"
      ],
      "text/plain": [
       "                        _id      name  age  weight  is_employed  \\\n",
       "0  6887926913b2bc57a40b6055      Paul   32    79.3         True   \n",
       "1  6887926913b2bc57a40b6058     Maeva   78    54.3        False   \n",
       "2  6887926913b2bc57a40b6059  Jennifer   16    59.8        False   \n",
       "\n",
       "                          address  \n",
       "0           [France, Nord, Lille]  \n",
       "1       [France, Loiret, Orléans]  \n",
       "2  [Suisse, Neuchâtel, Neuchâtel]  "
      ]
     },
     "execution_count": 197,
     "metadata": {},
     "output_type": "execute_result"
    }
   ],
   "source": [
    "pd.DataFrame(db_user.find({\"address\": {\"$gte\": [\"France\", \"Loiret\", \"Orléans\"]}}).to_list())"
   ]
  },
  {
   "cell_type": "code",
   "execution_count": 198,
   "id": "2b2bb900",
   "metadata": {},
   "outputs": [
    {
     "data": {
      "text/html": [
       "<div>\n",
       "<style scoped>\n",
       "    .dataframe tbody tr th:only-of-type {\n",
       "        vertical-align: middle;\n",
       "    }\n",
       "\n",
       "    .dataframe tbody tr th {\n",
       "        vertical-align: top;\n",
       "    }\n",
       "\n",
       "    .dataframe thead th {\n",
       "        text-align: right;\n",
       "    }\n",
       "</style>\n",
       "<table border=\"1\" class=\"dataframe\">\n",
       "  <thead>\n",
       "    <tr style=\"text-align: right;\">\n",
       "      <th></th>\n",
       "      <th>_id</th>\n",
       "      <th>name</th>\n",
       "      <th>age</th>\n",
       "      <th>weight</th>\n",
       "      <th>is_employed</th>\n",
       "      <th>address</th>\n",
       "    </tr>\n",
       "  </thead>\n",
       "  <tbody>\n",
       "    <tr>\n",
       "      <th>0</th>\n",
       "      <td>6887926913b2bc57a40b6055</td>\n",
       "      <td>Paul</td>\n",
       "      <td>32</td>\n",
       "      <td>79.3</td>\n",
       "      <td>True</td>\n",
       "      <td>[France, Nord, Lille]</td>\n",
       "    </tr>\n",
       "    <tr>\n",
       "      <th>1</th>\n",
       "      <td>6887926913b2bc57a40b6056</td>\n",
       "      <td>Maria</td>\n",
       "      <td>52</td>\n",
       "      <td>65.2</td>\n",
       "      <td>True</td>\n",
       "      <td>[France, Gironde, Bordeaux]</td>\n",
       "    </tr>\n",
       "    <tr>\n",
       "      <th>2</th>\n",
       "      <td>6887926913b2bc57a40b6057</td>\n",
       "      <td>James</td>\n",
       "      <td>22</td>\n",
       "      <td>75.9</td>\n",
       "      <td>False</td>\n",
       "      <td>[France, Alpes Maritime, Nice]</td>\n",
       "    </tr>\n",
       "    <tr>\n",
       "      <th>3</th>\n",
       "      <td>6887926913b2bc57a40b6058</td>\n",
       "      <td>Maeva</td>\n",
       "      <td>78</td>\n",
       "      <td>54.3</td>\n",
       "      <td>False</td>\n",
       "      <td>[France, Loiret, Orléans]</td>\n",
       "    </tr>\n",
       "    <tr>\n",
       "      <th>4</th>\n",
       "      <td>6887926913b2bc57a40b6059</td>\n",
       "      <td>Jennifer</td>\n",
       "      <td>16</td>\n",
       "      <td>59.8</td>\n",
       "      <td>False</td>\n",
       "      <td>[Suisse, Neuchâtel, Neuchâtel]</td>\n",
       "    </tr>\n",
       "  </tbody>\n",
       "</table>\n",
       "</div>"
      ],
      "text/plain": [
       "                        _id      name  age  weight  is_employed  \\\n",
       "0  6887926913b2bc57a40b6055      Paul   32    79.3         True   \n",
       "1  6887926913b2bc57a40b6056     Maria   52    65.2         True   \n",
       "2  6887926913b2bc57a40b6057     James   22    75.9        False   \n",
       "3  6887926913b2bc57a40b6058     Maeva   78    54.3        False   \n",
       "4  6887926913b2bc57a40b6059  Jennifer   16    59.8        False   \n",
       "\n",
       "                          address  \n",
       "0           [France, Nord, Lille]  \n",
       "1     [France, Gironde, Bordeaux]  \n",
       "2  [France, Alpes Maritime, Nice]  \n",
       "3       [France, Loiret, Orléans]  \n",
       "4  [Suisse, Neuchâtel, Neuchâtel]  "
      ]
     },
     "execution_count": 198,
     "metadata": {},
     "output_type": "execute_result"
    }
   ],
   "source": [
    "pd.DataFrame(db_user.find({\"address\": {\"$gt\": [\"France\"]}}).to_list())"
   ]
  },
  {
   "cell_type": "markdown",
   "id": "964e52b8",
   "metadata": {},
   "source": [
    "Dans ce dernier cas, on voit bien que toutes les adresses sont considérées comme plus grande que ```[\"France\"]``` car les second éléments sont comparés à une chaîne de caractères vide."
   ]
  },
  {
   "cell_type": "markdown",
   "id": "bc7245e3",
   "metadata": {},
   "source": [
    "## 4.2 Plus petit que `$lt`, plus petit que ou égal à `$lte`\n",
    "\n",
    "On reprend les mêmes exemples que pour le paragraphe précédent mais en utilisant les opérateurs inverses de comparaison."
   ]
  },
  {
   "cell_type": "markdown",
   "id": "7f03b233",
   "metadata": {},
   "source": [
    "### Exemple sur une chaîne de caractères"
   ]
  },
  {
   "cell_type": "code",
   "execution_count": 199,
   "id": "6cd96c6d",
   "metadata": {},
   "outputs": [
    {
     "data": {
      "text/html": [
       "<div>\n",
       "<style scoped>\n",
       "    .dataframe tbody tr th:only-of-type {\n",
       "        vertical-align: middle;\n",
       "    }\n",
       "\n",
       "    .dataframe tbody tr th {\n",
       "        vertical-align: top;\n",
       "    }\n",
       "\n",
       "    .dataframe thead th {\n",
       "        text-align: right;\n",
       "    }\n",
       "</style>\n",
       "<table border=\"1\" class=\"dataframe\">\n",
       "  <thead>\n",
       "    <tr style=\"text-align: right;\">\n",
       "      <th></th>\n",
       "      <th>_id</th>\n",
       "      <th>name</th>\n",
       "      <th>age</th>\n",
       "      <th>weight</th>\n",
       "      <th>is_employed</th>\n",
       "      <th>address</th>\n",
       "    </tr>\n",
       "  </thead>\n",
       "  <tbody>\n",
       "    <tr>\n",
       "      <th>0</th>\n",
       "      <td>6887926913b2bc57a40b6057</td>\n",
       "      <td>James</td>\n",
       "      <td>22</td>\n",
       "      <td>75.9</td>\n",
       "      <td>False</td>\n",
       "      <td>[France, Alpes Maritime, Nice]</td>\n",
       "    </tr>\n",
       "    <tr>\n",
       "      <th>1</th>\n",
       "      <td>6887926913b2bc57a40b6059</td>\n",
       "      <td>Jennifer</td>\n",
       "      <td>16</td>\n",
       "      <td>59.8</td>\n",
       "      <td>False</td>\n",
       "      <td>[Suisse, Neuchâtel, Neuchâtel]</td>\n",
       "    </tr>\n",
       "  </tbody>\n",
       "</table>\n",
       "</div>"
      ],
      "text/plain": [
       "                        _id      name  age  weight  is_employed  \\\n",
       "0  6887926913b2bc57a40b6057     James   22    75.9        False   \n",
       "1  6887926913b2bc57a40b6059  Jennifer   16    59.8        False   \n",
       "\n",
       "                          address  \n",
       "0  [France, Alpes Maritime, Nice]  \n",
       "1  [Suisse, Neuchâtel, Neuchâtel]  "
      ]
     },
     "execution_count": 199,
     "metadata": {},
     "output_type": "execute_result"
    }
   ],
   "source": [
    "pd.DataFrame(db_user.find({\"name\": {\"$lt\": \"Maeva\"}}).to_list())"
   ]
  },
  {
   "cell_type": "code",
   "execution_count": 200,
   "id": "760fdb82",
   "metadata": {},
   "outputs": [
    {
     "data": {
      "text/html": [
       "<div>\n",
       "<style scoped>\n",
       "    .dataframe tbody tr th:only-of-type {\n",
       "        vertical-align: middle;\n",
       "    }\n",
       "\n",
       "    .dataframe tbody tr th {\n",
       "        vertical-align: top;\n",
       "    }\n",
       "\n",
       "    .dataframe thead th {\n",
       "        text-align: right;\n",
       "    }\n",
       "</style>\n",
       "<table border=\"1\" class=\"dataframe\">\n",
       "  <thead>\n",
       "    <tr style=\"text-align: right;\">\n",
       "      <th></th>\n",
       "      <th>_id</th>\n",
       "      <th>name</th>\n",
       "      <th>age</th>\n",
       "      <th>weight</th>\n",
       "      <th>is_employed</th>\n",
       "      <th>address</th>\n",
       "    </tr>\n",
       "  </thead>\n",
       "  <tbody>\n",
       "    <tr>\n",
       "      <th>0</th>\n",
       "      <td>6887926913b2bc57a40b6057</td>\n",
       "      <td>James</td>\n",
       "      <td>22</td>\n",
       "      <td>75.9</td>\n",
       "      <td>False</td>\n",
       "      <td>[France, Alpes Maritime, Nice]</td>\n",
       "    </tr>\n",
       "    <tr>\n",
       "      <th>1</th>\n",
       "      <td>6887926913b2bc57a40b6058</td>\n",
       "      <td>Maeva</td>\n",
       "      <td>78</td>\n",
       "      <td>54.3</td>\n",
       "      <td>False</td>\n",
       "      <td>[France, Loiret, Orléans]</td>\n",
       "    </tr>\n",
       "    <tr>\n",
       "      <th>2</th>\n",
       "      <td>6887926913b2bc57a40b6059</td>\n",
       "      <td>Jennifer</td>\n",
       "      <td>16</td>\n",
       "      <td>59.8</td>\n",
       "      <td>False</td>\n",
       "      <td>[Suisse, Neuchâtel, Neuchâtel]</td>\n",
       "    </tr>\n",
       "  </tbody>\n",
       "</table>\n",
       "</div>"
      ],
      "text/plain": [
       "                        _id      name  age  weight  is_employed  \\\n",
       "0  6887926913b2bc57a40b6057     James   22    75.9        False   \n",
       "1  6887926913b2bc57a40b6058     Maeva   78    54.3        False   \n",
       "2  6887926913b2bc57a40b6059  Jennifer   16    59.8        False   \n",
       "\n",
       "                          address  \n",
       "0  [France, Alpes Maritime, Nice]  \n",
       "1       [France, Loiret, Orléans]  \n",
       "2  [Suisse, Neuchâtel, Neuchâtel]  "
      ]
     },
     "execution_count": 200,
     "metadata": {},
     "output_type": "execute_result"
    }
   ],
   "source": [
    "pd.DataFrame(db_user.find({\"name\": {\"$lte\": \"Maeva\"}}).to_list())"
   ]
  },
  {
   "cell_type": "markdown",
   "id": "bdc739d9",
   "metadata": {},
   "source": [
    "### Exemple sur un entier"
   ]
  },
  {
   "cell_type": "code",
   "execution_count": 201,
   "id": "beed625b",
   "metadata": {},
   "outputs": [
    {
     "data": {
      "text/html": [
       "<div>\n",
       "<style scoped>\n",
       "    .dataframe tbody tr th:only-of-type {\n",
       "        vertical-align: middle;\n",
       "    }\n",
       "\n",
       "    .dataframe tbody tr th {\n",
       "        vertical-align: top;\n",
       "    }\n",
       "\n",
       "    .dataframe thead th {\n",
       "        text-align: right;\n",
       "    }\n",
       "</style>\n",
       "<table border=\"1\" class=\"dataframe\">\n",
       "  <thead>\n",
       "    <tr style=\"text-align: right;\">\n",
       "      <th></th>\n",
       "      <th>_id</th>\n",
       "      <th>name</th>\n",
       "      <th>age</th>\n",
       "      <th>weight</th>\n",
       "      <th>is_employed</th>\n",
       "      <th>address</th>\n",
       "    </tr>\n",
       "  </thead>\n",
       "  <tbody>\n",
       "    <tr>\n",
       "      <th>0</th>\n",
       "      <td>6887926913b2bc57a40b6057</td>\n",
       "      <td>James</td>\n",
       "      <td>22</td>\n",
       "      <td>75.9</td>\n",
       "      <td>False</td>\n",
       "      <td>[France, Alpes Maritime, Nice]</td>\n",
       "    </tr>\n",
       "    <tr>\n",
       "      <th>1</th>\n",
       "      <td>6887926913b2bc57a40b6059</td>\n",
       "      <td>Jennifer</td>\n",
       "      <td>16</td>\n",
       "      <td>59.8</td>\n",
       "      <td>False</td>\n",
       "      <td>[Suisse, Neuchâtel, Neuchâtel]</td>\n",
       "    </tr>\n",
       "  </tbody>\n",
       "</table>\n",
       "</div>"
      ],
      "text/plain": [
       "                        _id      name  age  weight  is_employed  \\\n",
       "0  6887926913b2bc57a40b6057     James   22    75.9        False   \n",
       "1  6887926913b2bc57a40b6059  Jennifer   16    59.8        False   \n",
       "\n",
       "                          address  \n",
       "0  [France, Alpes Maritime, Nice]  \n",
       "1  [Suisse, Neuchâtel, Neuchâtel]  "
      ]
     },
     "execution_count": 201,
     "metadata": {},
     "output_type": "execute_result"
    }
   ],
   "source": [
    "pd.DataFrame(db_user.find({\"age\": {\"$lt\": 32}}).to_list())"
   ]
  },
  {
   "cell_type": "code",
   "execution_count": 202,
   "id": "88b101e6",
   "metadata": {},
   "outputs": [
    {
     "data": {
      "text/html": [
       "<div>\n",
       "<style scoped>\n",
       "    .dataframe tbody tr th:only-of-type {\n",
       "        vertical-align: middle;\n",
       "    }\n",
       "\n",
       "    .dataframe tbody tr th {\n",
       "        vertical-align: top;\n",
       "    }\n",
       "\n",
       "    .dataframe thead th {\n",
       "        text-align: right;\n",
       "    }\n",
       "</style>\n",
       "<table border=\"1\" class=\"dataframe\">\n",
       "  <thead>\n",
       "    <tr style=\"text-align: right;\">\n",
       "      <th></th>\n",
       "      <th>_id</th>\n",
       "      <th>name</th>\n",
       "      <th>age</th>\n",
       "      <th>weight</th>\n",
       "      <th>is_employed</th>\n",
       "      <th>address</th>\n",
       "    </tr>\n",
       "  </thead>\n",
       "  <tbody>\n",
       "    <tr>\n",
       "      <th>0</th>\n",
       "      <td>6887926913b2bc57a40b6055</td>\n",
       "      <td>Paul</td>\n",
       "      <td>32</td>\n",
       "      <td>79.3</td>\n",
       "      <td>True</td>\n",
       "      <td>[France, Nord, Lille]</td>\n",
       "    </tr>\n",
       "    <tr>\n",
       "      <th>1</th>\n",
       "      <td>6887926913b2bc57a40b6057</td>\n",
       "      <td>James</td>\n",
       "      <td>22</td>\n",
       "      <td>75.9</td>\n",
       "      <td>False</td>\n",
       "      <td>[France, Alpes Maritime, Nice]</td>\n",
       "    </tr>\n",
       "    <tr>\n",
       "      <th>2</th>\n",
       "      <td>6887926913b2bc57a40b6059</td>\n",
       "      <td>Jennifer</td>\n",
       "      <td>16</td>\n",
       "      <td>59.8</td>\n",
       "      <td>False</td>\n",
       "      <td>[Suisse, Neuchâtel, Neuchâtel]</td>\n",
       "    </tr>\n",
       "  </tbody>\n",
       "</table>\n",
       "</div>"
      ],
      "text/plain": [
       "                        _id      name  age  weight  is_employed  \\\n",
       "0  6887926913b2bc57a40b6055      Paul   32    79.3         True   \n",
       "1  6887926913b2bc57a40b6057     James   22    75.9        False   \n",
       "2  6887926913b2bc57a40b6059  Jennifer   16    59.8        False   \n",
       "\n",
       "                          address  \n",
       "0           [France, Nord, Lille]  \n",
       "1  [France, Alpes Maritime, Nice]  \n",
       "2  [Suisse, Neuchâtel, Neuchâtel]  "
      ]
     },
     "execution_count": 202,
     "metadata": {},
     "output_type": "execute_result"
    }
   ],
   "source": [
    "pd.DataFrame(db_user.find({\"age\": {\"$lte\": 32}}).to_list())"
   ]
  },
  {
   "cell_type": "markdown",
   "id": "39b47837",
   "metadata": {},
   "source": [
    "### Exemple sur un nombre réel"
   ]
  },
  {
   "cell_type": "code",
   "execution_count": 203,
   "id": "3b0665b3",
   "metadata": {},
   "outputs": [
    {
     "data": {
      "text/html": [
       "<div>\n",
       "<style scoped>\n",
       "    .dataframe tbody tr th:only-of-type {\n",
       "        vertical-align: middle;\n",
       "    }\n",
       "\n",
       "    .dataframe tbody tr th {\n",
       "        vertical-align: top;\n",
       "    }\n",
       "\n",
       "    .dataframe thead th {\n",
       "        text-align: right;\n",
       "    }\n",
       "</style>\n",
       "<table border=\"1\" class=\"dataframe\">\n",
       "  <thead>\n",
       "    <tr style=\"text-align: right;\">\n",
       "      <th></th>\n",
       "      <th>_id</th>\n",
       "      <th>name</th>\n",
       "      <th>age</th>\n",
       "      <th>weight</th>\n",
       "      <th>is_employed</th>\n",
       "      <th>address</th>\n",
       "    </tr>\n",
       "  </thead>\n",
       "  <tbody>\n",
       "    <tr>\n",
       "      <th>0</th>\n",
       "      <td>6887926913b2bc57a40b6058</td>\n",
       "      <td>Maeva</td>\n",
       "      <td>78</td>\n",
       "      <td>54.3</td>\n",
       "      <td>False</td>\n",
       "      <td>[France, Loiret, Orléans]</td>\n",
       "    </tr>\n",
       "    <tr>\n",
       "      <th>1</th>\n",
       "      <td>6887926913b2bc57a40b6059</td>\n",
       "      <td>Jennifer</td>\n",
       "      <td>16</td>\n",
       "      <td>59.8</td>\n",
       "      <td>False</td>\n",
       "      <td>[Suisse, Neuchâtel, Neuchâtel]</td>\n",
       "    </tr>\n",
       "  </tbody>\n",
       "</table>\n",
       "</div>"
      ],
      "text/plain": [
       "                        _id      name  age  weight  is_employed  \\\n",
       "0  6887926913b2bc57a40b6058     Maeva   78    54.3        False   \n",
       "1  6887926913b2bc57a40b6059  Jennifer   16    59.8        False   \n",
       "\n",
       "                          address  \n",
       "0       [France, Loiret, Orléans]  \n",
       "1  [Suisse, Neuchâtel, Neuchâtel]  "
      ]
     },
     "execution_count": 203,
     "metadata": {},
     "output_type": "execute_result"
    }
   ],
   "source": [
    "pd.DataFrame(db_user.find({\"weight\": {\"$lt\": 65.2}}).to_list())"
   ]
  },
  {
   "cell_type": "code",
   "execution_count": 204,
   "id": "c83fbff5",
   "metadata": {},
   "outputs": [
    {
     "data": {
      "text/html": [
       "<div>\n",
       "<style scoped>\n",
       "    .dataframe tbody tr th:only-of-type {\n",
       "        vertical-align: middle;\n",
       "    }\n",
       "\n",
       "    .dataframe tbody tr th {\n",
       "        vertical-align: top;\n",
       "    }\n",
       "\n",
       "    .dataframe thead th {\n",
       "        text-align: right;\n",
       "    }\n",
       "</style>\n",
       "<table border=\"1\" class=\"dataframe\">\n",
       "  <thead>\n",
       "    <tr style=\"text-align: right;\">\n",
       "      <th></th>\n",
       "      <th>_id</th>\n",
       "      <th>name</th>\n",
       "      <th>age</th>\n",
       "      <th>weight</th>\n",
       "      <th>is_employed</th>\n",
       "      <th>address</th>\n",
       "    </tr>\n",
       "  </thead>\n",
       "  <tbody>\n",
       "    <tr>\n",
       "      <th>0</th>\n",
       "      <td>6887926913b2bc57a40b6056</td>\n",
       "      <td>Maria</td>\n",
       "      <td>52</td>\n",
       "      <td>65.2</td>\n",
       "      <td>True</td>\n",
       "      <td>[France, Gironde, Bordeaux]</td>\n",
       "    </tr>\n",
       "    <tr>\n",
       "      <th>1</th>\n",
       "      <td>6887926913b2bc57a40b6058</td>\n",
       "      <td>Maeva</td>\n",
       "      <td>78</td>\n",
       "      <td>54.3</td>\n",
       "      <td>False</td>\n",
       "      <td>[France, Loiret, Orléans]</td>\n",
       "    </tr>\n",
       "    <tr>\n",
       "      <th>2</th>\n",
       "      <td>6887926913b2bc57a40b6059</td>\n",
       "      <td>Jennifer</td>\n",
       "      <td>16</td>\n",
       "      <td>59.8</td>\n",
       "      <td>False</td>\n",
       "      <td>[Suisse, Neuchâtel, Neuchâtel]</td>\n",
       "    </tr>\n",
       "  </tbody>\n",
       "</table>\n",
       "</div>"
      ],
      "text/plain": [
       "                        _id      name  age  weight  is_employed  \\\n",
       "0  6887926913b2bc57a40b6056     Maria   52    65.2         True   \n",
       "1  6887926913b2bc57a40b6058     Maeva   78    54.3        False   \n",
       "2  6887926913b2bc57a40b6059  Jennifer   16    59.8        False   \n",
       "\n",
       "                          address  \n",
       "0     [France, Gironde, Bordeaux]  \n",
       "1       [France, Loiret, Orléans]  \n",
       "2  [Suisse, Neuchâtel, Neuchâtel]  "
      ]
     },
     "execution_count": 204,
     "metadata": {},
     "output_type": "execute_result"
    }
   ],
   "source": [
    "pd.DataFrame(db_user.find({\"weight\": {\"$lte\": 65.2}}).to_list())"
   ]
  },
  {
   "cell_type": "markdown",
   "id": "69cdfbe4",
   "metadata": {},
   "source": [
    "### Exemple sur un booléen"
   ]
  },
  {
   "cell_type": "code",
   "execution_count": 205,
   "id": "cff69a3d",
   "metadata": {},
   "outputs": [
    {
     "data": {
      "text/html": [
       "<div>\n",
       "<style scoped>\n",
       "    .dataframe tbody tr th:only-of-type {\n",
       "        vertical-align: middle;\n",
       "    }\n",
       "\n",
       "    .dataframe tbody tr th {\n",
       "        vertical-align: top;\n",
       "    }\n",
       "\n",
       "    .dataframe thead th {\n",
       "        text-align: right;\n",
       "    }\n",
       "</style>\n",
       "<table border=\"1\" class=\"dataframe\">\n",
       "  <thead>\n",
       "    <tr style=\"text-align: right;\">\n",
       "      <th></th>\n",
       "    </tr>\n",
       "  </thead>\n",
       "  <tbody>\n",
       "  </tbody>\n",
       "</table>\n",
       "</div>"
      ],
      "text/plain": [
       "Empty DataFrame\n",
       "Columns: []\n",
       "Index: []"
      ]
     },
     "execution_count": 205,
     "metadata": {},
     "output_type": "execute_result"
    }
   ],
   "source": [
    "pd.DataFrame(db_user.find({\"is_employed\": {\"$lt\": False}}).to_list())"
   ]
  },
  {
   "cell_type": "code",
   "execution_count": 206,
   "id": "c1874b40",
   "metadata": {},
   "outputs": [
    {
     "data": {
      "text/html": [
       "<div>\n",
       "<style scoped>\n",
       "    .dataframe tbody tr th:only-of-type {\n",
       "        vertical-align: middle;\n",
       "    }\n",
       "\n",
       "    .dataframe tbody tr th {\n",
       "        vertical-align: top;\n",
       "    }\n",
       "\n",
       "    .dataframe thead th {\n",
       "        text-align: right;\n",
       "    }\n",
       "</style>\n",
       "<table border=\"1\" class=\"dataframe\">\n",
       "  <thead>\n",
       "    <tr style=\"text-align: right;\">\n",
       "      <th></th>\n",
       "      <th>_id</th>\n",
       "      <th>name</th>\n",
       "      <th>age</th>\n",
       "      <th>weight</th>\n",
       "      <th>is_employed</th>\n",
       "      <th>address</th>\n",
       "    </tr>\n",
       "  </thead>\n",
       "  <tbody>\n",
       "    <tr>\n",
       "      <th>0</th>\n",
       "      <td>6887926913b2bc57a40b6055</td>\n",
       "      <td>Paul</td>\n",
       "      <td>32</td>\n",
       "      <td>79.3</td>\n",
       "      <td>True</td>\n",
       "      <td>[France, Nord, Lille]</td>\n",
       "    </tr>\n",
       "    <tr>\n",
       "      <th>1</th>\n",
       "      <td>6887926913b2bc57a40b6056</td>\n",
       "      <td>Maria</td>\n",
       "      <td>52</td>\n",
       "      <td>65.2</td>\n",
       "      <td>True</td>\n",
       "      <td>[France, Gironde, Bordeaux]</td>\n",
       "    </tr>\n",
       "    <tr>\n",
       "      <th>2</th>\n",
       "      <td>6887926913b2bc57a40b6057</td>\n",
       "      <td>James</td>\n",
       "      <td>22</td>\n",
       "      <td>75.9</td>\n",
       "      <td>False</td>\n",
       "      <td>[France, Alpes Maritime, Nice]</td>\n",
       "    </tr>\n",
       "    <tr>\n",
       "      <th>3</th>\n",
       "      <td>6887926913b2bc57a40b6058</td>\n",
       "      <td>Maeva</td>\n",
       "      <td>78</td>\n",
       "      <td>54.3</td>\n",
       "      <td>False</td>\n",
       "      <td>[France, Loiret, Orléans]</td>\n",
       "    </tr>\n",
       "    <tr>\n",
       "      <th>4</th>\n",
       "      <td>6887926913b2bc57a40b6059</td>\n",
       "      <td>Jennifer</td>\n",
       "      <td>16</td>\n",
       "      <td>59.8</td>\n",
       "      <td>False</td>\n",
       "      <td>[Suisse, Neuchâtel, Neuchâtel]</td>\n",
       "    </tr>\n",
       "  </tbody>\n",
       "</table>\n",
       "</div>"
      ],
      "text/plain": [
       "                        _id      name  age  weight  is_employed  \\\n",
       "0  6887926913b2bc57a40b6055      Paul   32    79.3         True   \n",
       "1  6887926913b2bc57a40b6056     Maria   52    65.2         True   \n",
       "2  6887926913b2bc57a40b6057     James   22    75.9        False   \n",
       "3  6887926913b2bc57a40b6058     Maeva   78    54.3        False   \n",
       "4  6887926913b2bc57a40b6059  Jennifer   16    59.8        False   \n",
       "\n",
       "                          address  \n",
       "0           [France, Nord, Lille]  \n",
       "1     [France, Gironde, Bordeaux]  \n",
       "2  [France, Alpes Maritime, Nice]  \n",
       "3       [France, Loiret, Orléans]  \n",
       "4  [Suisse, Neuchâtel, Neuchâtel]  "
      ]
     },
     "execution_count": 206,
     "metadata": {},
     "output_type": "execute_result"
    }
   ],
   "source": [
    "pd.DataFrame(db_user.find({\"is_employed\": {\"$gte\": False}}).to_list())"
   ]
  },
  {
   "cell_type": "markdown",
   "id": "ec57a7c6",
   "metadata": {},
   "source": [
    "À noter que les booléens étant associé à False:0 et True:1, l'ordre est logiquement établi ainsi."
   ]
  },
  {
   "cell_type": "markdown",
   "id": "c29b1c5e",
   "metadata": {},
   "source": [
    "### Exemple sur un vecteur"
   ]
  },
  {
   "cell_type": "code",
   "execution_count": 207,
   "id": "f6d42787",
   "metadata": {},
   "outputs": [
    {
     "data": {
      "text/html": [
       "<div>\n",
       "<style scoped>\n",
       "    .dataframe tbody tr th:only-of-type {\n",
       "        vertical-align: middle;\n",
       "    }\n",
       "\n",
       "    .dataframe tbody tr th {\n",
       "        vertical-align: top;\n",
       "    }\n",
       "\n",
       "    .dataframe thead th {\n",
       "        text-align: right;\n",
       "    }\n",
       "</style>\n",
       "<table border=\"1\" class=\"dataframe\">\n",
       "  <thead>\n",
       "    <tr style=\"text-align: right;\">\n",
       "      <th></th>\n",
       "      <th>_id</th>\n",
       "      <th>name</th>\n",
       "      <th>age</th>\n",
       "      <th>weight</th>\n",
       "      <th>is_employed</th>\n",
       "      <th>address</th>\n",
       "    </tr>\n",
       "  </thead>\n",
       "  <tbody>\n",
       "    <tr>\n",
       "      <th>0</th>\n",
       "      <td>6887926913b2bc57a40b6056</td>\n",
       "      <td>Maria</td>\n",
       "      <td>52</td>\n",
       "      <td>65.2</td>\n",
       "      <td>True</td>\n",
       "      <td>[France, Gironde, Bordeaux]</td>\n",
       "    </tr>\n",
       "    <tr>\n",
       "      <th>1</th>\n",
       "      <td>6887926913b2bc57a40b6057</td>\n",
       "      <td>James</td>\n",
       "      <td>22</td>\n",
       "      <td>75.9</td>\n",
       "      <td>False</td>\n",
       "      <td>[France, Alpes Maritime, Nice]</td>\n",
       "    </tr>\n",
       "  </tbody>\n",
       "</table>\n",
       "</div>"
      ],
      "text/plain": [
       "                        _id   name  age  weight  is_employed  \\\n",
       "0  6887926913b2bc57a40b6056  Maria   52    65.2         True   \n",
       "1  6887926913b2bc57a40b6057  James   22    75.9        False   \n",
       "\n",
       "                          address  \n",
       "0     [France, Gironde, Bordeaux]  \n",
       "1  [France, Alpes Maritime, Nice]  "
      ]
     },
     "execution_count": 207,
     "metadata": {},
     "output_type": "execute_result"
    }
   ],
   "source": [
    "pd.DataFrame(db_user.find({\"address\": {\"$lt\": [\"France\", \"Loiret\", \"Orléans\"]}}).to_list())"
   ]
  },
  {
   "cell_type": "code",
   "execution_count": 208,
   "id": "13f580ba",
   "metadata": {},
   "outputs": [
    {
     "data": {
      "text/html": [
       "<div>\n",
       "<style scoped>\n",
       "    .dataframe tbody tr th:only-of-type {\n",
       "        vertical-align: middle;\n",
       "    }\n",
       "\n",
       "    .dataframe tbody tr th {\n",
       "        vertical-align: top;\n",
       "    }\n",
       "\n",
       "    .dataframe thead th {\n",
       "        text-align: right;\n",
       "    }\n",
       "</style>\n",
       "<table border=\"1\" class=\"dataframe\">\n",
       "  <thead>\n",
       "    <tr style=\"text-align: right;\">\n",
       "      <th></th>\n",
       "      <th>_id</th>\n",
       "      <th>name</th>\n",
       "      <th>age</th>\n",
       "      <th>weight</th>\n",
       "      <th>is_employed</th>\n",
       "      <th>address</th>\n",
       "    </tr>\n",
       "  </thead>\n",
       "  <tbody>\n",
       "    <tr>\n",
       "      <th>0</th>\n",
       "      <td>6887926913b2bc57a40b6056</td>\n",
       "      <td>Maria</td>\n",
       "      <td>52</td>\n",
       "      <td>65.2</td>\n",
       "      <td>True</td>\n",
       "      <td>[France, Gironde, Bordeaux]</td>\n",
       "    </tr>\n",
       "    <tr>\n",
       "      <th>1</th>\n",
       "      <td>6887926913b2bc57a40b6057</td>\n",
       "      <td>James</td>\n",
       "      <td>22</td>\n",
       "      <td>75.9</td>\n",
       "      <td>False</td>\n",
       "      <td>[France, Alpes Maritime, Nice]</td>\n",
       "    </tr>\n",
       "    <tr>\n",
       "      <th>2</th>\n",
       "      <td>6887926913b2bc57a40b6058</td>\n",
       "      <td>Maeva</td>\n",
       "      <td>78</td>\n",
       "      <td>54.3</td>\n",
       "      <td>False</td>\n",
       "      <td>[France, Loiret, Orléans]</td>\n",
       "    </tr>\n",
       "  </tbody>\n",
       "</table>\n",
       "</div>"
      ],
      "text/plain": [
       "                        _id   name  age  weight  is_employed  \\\n",
       "0  6887926913b2bc57a40b6056  Maria   52    65.2         True   \n",
       "1  6887926913b2bc57a40b6057  James   22    75.9        False   \n",
       "2  6887926913b2bc57a40b6058  Maeva   78    54.3        False   \n",
       "\n",
       "                          address  \n",
       "0     [France, Gironde, Bordeaux]  \n",
       "1  [France, Alpes Maritime, Nice]  \n",
       "2       [France, Loiret, Orléans]  "
      ]
     },
     "execution_count": 208,
     "metadata": {},
     "output_type": "execute_result"
    }
   ],
   "source": [
    "pd.DataFrame(db_user.find({\"address\": {\"$lte\": [\"France\", \"Loiret\", \"Orléans\"]}}).to_list())"
   ]
  },
  {
   "cell_type": "code",
   "execution_count": 209,
   "id": "9a0a49d3",
   "metadata": {},
   "outputs": [
    {
     "data": {
      "text/html": [
       "<div>\n",
       "<style scoped>\n",
       "    .dataframe tbody tr th:only-of-type {\n",
       "        vertical-align: middle;\n",
       "    }\n",
       "\n",
       "    .dataframe tbody tr th {\n",
       "        vertical-align: top;\n",
       "    }\n",
       "\n",
       "    .dataframe thead th {\n",
       "        text-align: right;\n",
       "    }\n",
       "</style>\n",
       "<table border=\"1\" class=\"dataframe\">\n",
       "  <thead>\n",
       "    <tr style=\"text-align: right;\">\n",
       "      <th></th>\n",
       "    </tr>\n",
       "  </thead>\n",
       "  <tbody>\n",
       "  </tbody>\n",
       "</table>\n",
       "</div>"
      ],
      "text/plain": [
       "Empty DataFrame\n",
       "Columns: []\n",
       "Index: []"
      ]
     },
     "execution_count": 209,
     "metadata": {},
     "output_type": "execute_result"
    }
   ],
   "source": [
    "pd.DataFrame(db_user.find({\"address\": {\"$lt\": [\"France\"]}}).to_list())"
   ]
  },
  {
   "cell_type": "markdown",
   "id": "49c56419",
   "metadata": {},
   "source": [
    "## 5. Les opérateurs `$in` et `$nin`"
   ]
  },
  {
   "cell_type": "markdown",
   "id": "de1fc627",
   "metadata": {},
   "source": [
    "Ces deux opérateurs suivants sont un équivalent à `$eq` et `$ne` mais en permettant de spécifier plusieurs valeurs de référence en même temps. Ils s'invoquent via le schéma suivant:\n",
    "\n",
    "`{ <field>: { $in: [<value1>, <value2>, ...] } }`\n",
    "\n",
    "ou \n",
    "\n",
    "`{ <field>: { $nin: [<value1>, <value2>, ...] } }`\n",
    "\n",
    "---\n"
   ]
  },
  {
   "cell_type": "markdown",
   "id": "4b896039",
   "metadata": {},
   "source": [
    "### Exemple sur une chaîne de caractères\n",
    "\n",
    "> \"Je recherche **Paul** et **Maeva**\""
   ]
  },
  {
   "cell_type": "code",
   "execution_count": 210,
   "id": "acc1112e",
   "metadata": {},
   "outputs": [
    {
     "data": {
      "text/html": [
       "<div>\n",
       "<style scoped>\n",
       "    .dataframe tbody tr th:only-of-type {\n",
       "        vertical-align: middle;\n",
       "    }\n",
       "\n",
       "    .dataframe tbody tr th {\n",
       "        vertical-align: top;\n",
       "    }\n",
       "\n",
       "    .dataframe thead th {\n",
       "        text-align: right;\n",
       "    }\n",
       "</style>\n",
       "<table border=\"1\" class=\"dataframe\">\n",
       "  <thead>\n",
       "    <tr style=\"text-align: right;\">\n",
       "      <th></th>\n",
       "      <th>_id</th>\n",
       "      <th>name</th>\n",
       "      <th>age</th>\n",
       "      <th>weight</th>\n",
       "      <th>is_employed</th>\n",
       "      <th>address</th>\n",
       "    </tr>\n",
       "  </thead>\n",
       "  <tbody>\n",
       "    <tr>\n",
       "      <th>0</th>\n",
       "      <td>6887926913b2bc57a40b6055</td>\n",
       "      <td>Paul</td>\n",
       "      <td>32</td>\n",
       "      <td>79.3</td>\n",
       "      <td>True</td>\n",
       "      <td>[France, Nord, Lille]</td>\n",
       "    </tr>\n",
       "    <tr>\n",
       "      <th>1</th>\n",
       "      <td>6887926913b2bc57a40b6058</td>\n",
       "      <td>Maeva</td>\n",
       "      <td>78</td>\n",
       "      <td>54.3</td>\n",
       "      <td>False</td>\n",
       "      <td>[France, Loiret, Orléans]</td>\n",
       "    </tr>\n",
       "  </tbody>\n",
       "</table>\n",
       "</div>"
      ],
      "text/plain": [
       "                        _id   name  age  weight  is_employed  \\\n",
       "0  6887926913b2bc57a40b6055   Paul   32    79.3         True   \n",
       "1  6887926913b2bc57a40b6058  Maeva   78    54.3        False   \n",
       "\n",
       "                     address  \n",
       "0      [France, Nord, Lille]  \n",
       "1  [France, Loiret, Orléans]  "
      ]
     },
     "execution_count": 210,
     "metadata": {},
     "output_type": "execute_result"
    }
   ],
   "source": [
    "pd.DataFrame(db_user.find({\"name\": {\"$in\": [\"Paul\", \"Maeva\"]}}).to_list())"
   ]
  },
  {
   "cell_type": "code",
   "execution_count": 211,
   "id": "2df2f276",
   "metadata": {},
   "outputs": [
    {
     "data": {
      "text/html": [
       "<div>\n",
       "<style scoped>\n",
       "    .dataframe tbody tr th:only-of-type {\n",
       "        vertical-align: middle;\n",
       "    }\n",
       "\n",
       "    .dataframe tbody tr th {\n",
       "        vertical-align: top;\n",
       "    }\n",
       "\n",
       "    .dataframe thead th {\n",
       "        text-align: right;\n",
       "    }\n",
       "</style>\n",
       "<table border=\"1\" class=\"dataframe\">\n",
       "  <thead>\n",
       "    <tr style=\"text-align: right;\">\n",
       "      <th></th>\n",
       "      <th>_id</th>\n",
       "      <th>name</th>\n",
       "      <th>age</th>\n",
       "      <th>weight</th>\n",
       "      <th>is_employed</th>\n",
       "      <th>address</th>\n",
       "    </tr>\n",
       "  </thead>\n",
       "  <tbody>\n",
       "    <tr>\n",
       "      <th>0</th>\n",
       "      <td>6887926913b2bc57a40b6056</td>\n",
       "      <td>Maria</td>\n",
       "      <td>52</td>\n",
       "      <td>65.2</td>\n",
       "      <td>True</td>\n",
       "      <td>[France, Gironde, Bordeaux]</td>\n",
       "    </tr>\n",
       "    <tr>\n",
       "      <th>1</th>\n",
       "      <td>6887926913b2bc57a40b6057</td>\n",
       "      <td>James</td>\n",
       "      <td>22</td>\n",
       "      <td>75.9</td>\n",
       "      <td>False</td>\n",
       "      <td>[France, Alpes Maritime, Nice]</td>\n",
       "    </tr>\n",
       "    <tr>\n",
       "      <th>2</th>\n",
       "      <td>6887926913b2bc57a40b6059</td>\n",
       "      <td>Jennifer</td>\n",
       "      <td>16</td>\n",
       "      <td>59.8</td>\n",
       "      <td>False</td>\n",
       "      <td>[Suisse, Neuchâtel, Neuchâtel]</td>\n",
       "    </tr>\n",
       "  </tbody>\n",
       "</table>\n",
       "</div>"
      ],
      "text/plain": [
       "                        _id      name  age  weight  is_employed  \\\n",
       "0  6887926913b2bc57a40b6056     Maria   52    65.2         True   \n",
       "1  6887926913b2bc57a40b6057     James   22    75.9        False   \n",
       "2  6887926913b2bc57a40b6059  Jennifer   16    59.8        False   \n",
       "\n",
       "                          address  \n",
       "0     [France, Gironde, Bordeaux]  \n",
       "1  [France, Alpes Maritime, Nice]  \n",
       "2  [Suisse, Neuchâtel, Neuchâtel]  "
      ]
     },
     "execution_count": 211,
     "metadata": {},
     "output_type": "execute_result"
    }
   ],
   "source": [
    "pd.DataFrame(db_user.find({\"name\": {\"$nin\": [\"Paul\", \"Maeva\"]}}).to_list())"
   ]
  },
  {
   "cell_type": "markdown",
   "id": "3a563f03",
   "metadata": {},
   "source": [
    "### Exemple sur un entier\n",
    "\n",
    "> \"Je recherche les personnes qui ont 32 ans ou 78 ans.\""
   ]
  },
  {
   "cell_type": "code",
   "execution_count": null,
   "id": "fa0e62e8",
   "metadata": {},
   "outputs": [
    {
     "data": {
      "text/html": [
       "<div>\n",
       "<style scoped>\n",
       "    .dataframe tbody tr th:only-of-type {\n",
       "        vertical-align: middle;\n",
       "    }\n",
       "\n",
       "    .dataframe tbody tr th {\n",
       "        vertical-align: top;\n",
       "    }\n",
       "\n",
       "    .dataframe thead th {\n",
       "        text-align: right;\n",
       "    }\n",
       "</style>\n",
       "<table border=\"1\" class=\"dataframe\">\n",
       "  <thead>\n",
       "    <tr style=\"text-align: right;\">\n",
       "      <th></th>\n",
       "      <th>_id</th>\n",
       "      <th>name</th>\n",
       "      <th>age</th>\n",
       "      <th>weight</th>\n",
       "      <th>is_employed</th>\n",
       "      <th>address</th>\n",
       "    </tr>\n",
       "  </thead>\n",
       "  <tbody>\n",
       "    <tr>\n",
       "      <th>0</th>\n",
       "      <td>6887926913b2bc57a40b6055</td>\n",
       "      <td>Paul</td>\n",
       "      <td>32</td>\n",
       "      <td>79.3</td>\n",
       "      <td>True</td>\n",
       "      <td>[France, Nord, Lille]</td>\n",
       "    </tr>\n",
       "    <tr>\n",
       "      <th>1</th>\n",
       "      <td>6887926913b2bc57a40b6058</td>\n",
       "      <td>Maeva</td>\n",
       "      <td>78</td>\n",
       "      <td>54.3</td>\n",
       "      <td>False</td>\n",
       "      <td>[France, Loiret, Orléans]</td>\n",
       "    </tr>\n",
       "  </tbody>\n",
       "</table>\n",
       "</div>"
      ],
      "text/plain": [
       "                        _id   name  age  weight  is_employed  \\\n",
       "0  6887926913b2bc57a40b6055   Paul   32    79.3         True   \n",
       "1  6887926913b2bc57a40b6058  Maeva   78    54.3        False   \n",
       "\n",
       "                     address  \n",
       "0      [France, Nord, Lille]  \n",
       "1  [France, Loiret, Orléans]  "
      ]
     },
     "execution_count": 214,
     "metadata": {},
     "output_type": "execute_result"
    }
   ],
   "source": [
    "pd.DataFrame(db_user.find({\"age\": {\"$in\": [32, 78]}}).to_list())"
   ]
  },
  {
   "cell_type": "code",
   "execution_count": 213,
   "id": "01a71ca3",
   "metadata": {},
   "outputs": [
    {
     "data": {
      "text/html": [
       "<div>\n",
       "<style scoped>\n",
       "    .dataframe tbody tr th:only-of-type {\n",
       "        vertical-align: middle;\n",
       "    }\n",
       "\n",
       "    .dataframe tbody tr th {\n",
       "        vertical-align: top;\n",
       "    }\n",
       "\n",
       "    .dataframe thead th {\n",
       "        text-align: right;\n",
       "    }\n",
       "</style>\n",
       "<table border=\"1\" class=\"dataframe\">\n",
       "  <thead>\n",
       "    <tr style=\"text-align: right;\">\n",
       "      <th></th>\n",
       "      <th>_id</th>\n",
       "      <th>name</th>\n",
       "      <th>age</th>\n",
       "      <th>weight</th>\n",
       "      <th>is_employed</th>\n",
       "      <th>address</th>\n",
       "    </tr>\n",
       "  </thead>\n",
       "  <tbody>\n",
       "    <tr>\n",
       "      <th>0</th>\n",
       "      <td>6887926913b2bc57a40b6056</td>\n",
       "      <td>Maria</td>\n",
       "      <td>52</td>\n",
       "      <td>65.2</td>\n",
       "      <td>True</td>\n",
       "      <td>[France, Gironde, Bordeaux]</td>\n",
       "    </tr>\n",
       "    <tr>\n",
       "      <th>1</th>\n",
       "      <td>6887926913b2bc57a40b6057</td>\n",
       "      <td>James</td>\n",
       "      <td>22</td>\n",
       "      <td>75.9</td>\n",
       "      <td>False</td>\n",
       "      <td>[France, Alpes Maritime, Nice]</td>\n",
       "    </tr>\n",
       "    <tr>\n",
       "      <th>2</th>\n",
       "      <td>6887926913b2bc57a40b6059</td>\n",
       "      <td>Jennifer</td>\n",
       "      <td>16</td>\n",
       "      <td>59.8</td>\n",
       "      <td>False</td>\n",
       "      <td>[Suisse, Neuchâtel, Neuchâtel]</td>\n",
       "    </tr>\n",
       "  </tbody>\n",
       "</table>\n",
       "</div>"
      ],
      "text/plain": [
       "                        _id      name  age  weight  is_employed  \\\n",
       "0  6887926913b2bc57a40b6056     Maria   52    65.2         True   \n",
       "1  6887926913b2bc57a40b6057     James   22    75.9        False   \n",
       "2  6887926913b2bc57a40b6059  Jennifer   16    59.8        False   \n",
       "\n",
       "                          address  \n",
       "0     [France, Gironde, Bordeaux]  \n",
       "1  [France, Alpes Maritime, Nice]  \n",
       "2  [Suisse, Neuchâtel, Neuchâtel]  "
      ]
     },
     "execution_count": 213,
     "metadata": {},
     "output_type": "execute_result"
    }
   ],
   "source": [
    "pd.DataFrame(db_user.find({\"age\": {\"$nin\": [32, 78]}}).to_list())"
   ]
  },
  {
   "cell_type": "markdown",
   "id": "ce2c6d72",
   "metadata": {},
   "source": [
    "### Exemple sur un nombre réel\n",
    "\n",
    "> \"Je recherche les personnes qui pèsent 79.3 kg ou 54.3 kg\""
   ]
  },
  {
   "cell_type": "code",
   "execution_count": 215,
   "id": "6ab0dfbc",
   "metadata": {},
   "outputs": [
    {
     "data": {
      "text/html": [
       "<div>\n",
       "<style scoped>\n",
       "    .dataframe tbody tr th:only-of-type {\n",
       "        vertical-align: middle;\n",
       "    }\n",
       "\n",
       "    .dataframe tbody tr th {\n",
       "        vertical-align: top;\n",
       "    }\n",
       "\n",
       "    .dataframe thead th {\n",
       "        text-align: right;\n",
       "    }\n",
       "</style>\n",
       "<table border=\"1\" class=\"dataframe\">\n",
       "  <thead>\n",
       "    <tr style=\"text-align: right;\">\n",
       "      <th></th>\n",
       "      <th>_id</th>\n",
       "      <th>name</th>\n",
       "      <th>age</th>\n",
       "      <th>weight</th>\n",
       "      <th>is_employed</th>\n",
       "      <th>address</th>\n",
       "    </tr>\n",
       "  </thead>\n",
       "  <tbody>\n",
       "    <tr>\n",
       "      <th>0</th>\n",
       "      <td>6887926913b2bc57a40b6055</td>\n",
       "      <td>Paul</td>\n",
       "      <td>32</td>\n",
       "      <td>79.3</td>\n",
       "      <td>True</td>\n",
       "      <td>[France, Nord, Lille]</td>\n",
       "    </tr>\n",
       "    <tr>\n",
       "      <th>1</th>\n",
       "      <td>6887926913b2bc57a40b6058</td>\n",
       "      <td>Maeva</td>\n",
       "      <td>78</td>\n",
       "      <td>54.3</td>\n",
       "      <td>False</td>\n",
       "      <td>[France, Loiret, Orléans]</td>\n",
       "    </tr>\n",
       "  </tbody>\n",
       "</table>\n",
       "</div>"
      ],
      "text/plain": [
       "                        _id   name  age  weight  is_employed  \\\n",
       "0  6887926913b2bc57a40b6055   Paul   32    79.3         True   \n",
       "1  6887926913b2bc57a40b6058  Maeva   78    54.3        False   \n",
       "\n",
       "                     address  \n",
       "0      [France, Nord, Lille]  \n",
       "1  [France, Loiret, Orléans]  "
      ]
     },
     "execution_count": 215,
     "metadata": {},
     "output_type": "execute_result"
    }
   ],
   "source": [
    "pd.DataFrame(db_user.find({\"weight\": {\"$in\": [79.3, 54.3]}}).to_list())"
   ]
  },
  {
   "cell_type": "code",
   "execution_count": 216,
   "id": "cdc0eb0b",
   "metadata": {},
   "outputs": [
    {
     "data": {
      "text/html": [
       "<div>\n",
       "<style scoped>\n",
       "    .dataframe tbody tr th:only-of-type {\n",
       "        vertical-align: middle;\n",
       "    }\n",
       "\n",
       "    .dataframe tbody tr th {\n",
       "        vertical-align: top;\n",
       "    }\n",
       "\n",
       "    .dataframe thead th {\n",
       "        text-align: right;\n",
       "    }\n",
       "</style>\n",
       "<table border=\"1\" class=\"dataframe\">\n",
       "  <thead>\n",
       "    <tr style=\"text-align: right;\">\n",
       "      <th></th>\n",
       "      <th>_id</th>\n",
       "      <th>name</th>\n",
       "      <th>age</th>\n",
       "      <th>weight</th>\n",
       "      <th>is_employed</th>\n",
       "      <th>address</th>\n",
       "    </tr>\n",
       "  </thead>\n",
       "  <tbody>\n",
       "    <tr>\n",
       "      <th>0</th>\n",
       "      <td>6887926913b2bc57a40b6056</td>\n",
       "      <td>Maria</td>\n",
       "      <td>52</td>\n",
       "      <td>65.2</td>\n",
       "      <td>True</td>\n",
       "      <td>[France, Gironde, Bordeaux]</td>\n",
       "    </tr>\n",
       "    <tr>\n",
       "      <th>1</th>\n",
       "      <td>6887926913b2bc57a40b6057</td>\n",
       "      <td>James</td>\n",
       "      <td>22</td>\n",
       "      <td>75.9</td>\n",
       "      <td>False</td>\n",
       "      <td>[France, Alpes Maritime, Nice]</td>\n",
       "    </tr>\n",
       "    <tr>\n",
       "      <th>2</th>\n",
       "      <td>6887926913b2bc57a40b6059</td>\n",
       "      <td>Jennifer</td>\n",
       "      <td>16</td>\n",
       "      <td>59.8</td>\n",
       "      <td>False</td>\n",
       "      <td>[Suisse, Neuchâtel, Neuchâtel]</td>\n",
       "    </tr>\n",
       "  </tbody>\n",
       "</table>\n",
       "</div>"
      ],
      "text/plain": [
       "                        _id      name  age  weight  is_employed  \\\n",
       "0  6887926913b2bc57a40b6056     Maria   52    65.2         True   \n",
       "1  6887926913b2bc57a40b6057     James   22    75.9        False   \n",
       "2  6887926913b2bc57a40b6059  Jennifer   16    59.8        False   \n",
       "\n",
       "                          address  \n",
       "0     [France, Gironde, Bordeaux]  \n",
       "1  [France, Alpes Maritime, Nice]  \n",
       "2  [Suisse, Neuchâtel, Neuchâtel]  "
      ]
     },
     "execution_count": 216,
     "metadata": {},
     "output_type": "execute_result"
    }
   ],
   "source": [
    "pd.DataFrame(db_user.find({\"weight\": {\"$nin\": [79.3, 54.3]}}).to_list())"
   ]
  },
  {
   "cell_type": "markdown",
   "id": "4098e06b",
   "metadata": {},
   "source": [
    "### Exemple sur un booléen\n",
    "\n",
    "> \"Je recherche les personnes qui sont employés et qui ne le sont pas\""
   ]
  },
  {
   "cell_type": "code",
   "execution_count": 217,
   "id": "9d87fc12",
   "metadata": {},
   "outputs": [
    {
     "data": {
      "text/html": [
       "<div>\n",
       "<style scoped>\n",
       "    .dataframe tbody tr th:only-of-type {\n",
       "        vertical-align: middle;\n",
       "    }\n",
       "\n",
       "    .dataframe tbody tr th {\n",
       "        vertical-align: top;\n",
       "    }\n",
       "\n",
       "    .dataframe thead th {\n",
       "        text-align: right;\n",
       "    }\n",
       "</style>\n",
       "<table border=\"1\" class=\"dataframe\">\n",
       "  <thead>\n",
       "    <tr style=\"text-align: right;\">\n",
       "      <th></th>\n",
       "      <th>_id</th>\n",
       "      <th>name</th>\n",
       "      <th>age</th>\n",
       "      <th>weight</th>\n",
       "      <th>is_employed</th>\n",
       "      <th>address</th>\n",
       "    </tr>\n",
       "  </thead>\n",
       "  <tbody>\n",
       "    <tr>\n",
       "      <th>0</th>\n",
       "      <td>6887926913b2bc57a40b6055</td>\n",
       "      <td>Paul</td>\n",
       "      <td>32</td>\n",
       "      <td>79.3</td>\n",
       "      <td>True</td>\n",
       "      <td>[France, Nord, Lille]</td>\n",
       "    </tr>\n",
       "    <tr>\n",
       "      <th>1</th>\n",
       "      <td>6887926913b2bc57a40b6056</td>\n",
       "      <td>Maria</td>\n",
       "      <td>52</td>\n",
       "      <td>65.2</td>\n",
       "      <td>True</td>\n",
       "      <td>[France, Gironde, Bordeaux]</td>\n",
       "    </tr>\n",
       "    <tr>\n",
       "      <th>2</th>\n",
       "      <td>6887926913b2bc57a40b6057</td>\n",
       "      <td>James</td>\n",
       "      <td>22</td>\n",
       "      <td>75.9</td>\n",
       "      <td>False</td>\n",
       "      <td>[France, Alpes Maritime, Nice]</td>\n",
       "    </tr>\n",
       "    <tr>\n",
       "      <th>3</th>\n",
       "      <td>6887926913b2bc57a40b6058</td>\n",
       "      <td>Maeva</td>\n",
       "      <td>78</td>\n",
       "      <td>54.3</td>\n",
       "      <td>False</td>\n",
       "      <td>[France, Loiret, Orléans]</td>\n",
       "    </tr>\n",
       "    <tr>\n",
       "      <th>4</th>\n",
       "      <td>6887926913b2bc57a40b6059</td>\n",
       "      <td>Jennifer</td>\n",
       "      <td>16</td>\n",
       "      <td>59.8</td>\n",
       "      <td>False</td>\n",
       "      <td>[Suisse, Neuchâtel, Neuchâtel]</td>\n",
       "    </tr>\n",
       "  </tbody>\n",
       "</table>\n",
       "</div>"
      ],
      "text/plain": [
       "                        _id      name  age  weight  is_employed  \\\n",
       "0  6887926913b2bc57a40b6055      Paul   32    79.3         True   \n",
       "1  6887926913b2bc57a40b6056     Maria   52    65.2         True   \n",
       "2  6887926913b2bc57a40b6057     James   22    75.9        False   \n",
       "3  6887926913b2bc57a40b6058     Maeva   78    54.3        False   \n",
       "4  6887926913b2bc57a40b6059  Jennifer   16    59.8        False   \n",
       "\n",
       "                          address  \n",
       "0           [France, Nord, Lille]  \n",
       "1     [France, Gironde, Bordeaux]  \n",
       "2  [France, Alpes Maritime, Nice]  \n",
       "3       [France, Loiret, Orléans]  \n",
       "4  [Suisse, Neuchâtel, Neuchâtel]  "
      ]
     },
     "execution_count": 217,
     "metadata": {},
     "output_type": "execute_result"
    }
   ],
   "source": [
    "pd.DataFrame(db_user.find({\"is_employed\": {\"$in\": [True, False]}}).to_list())"
   ]
  },
  {
   "cell_type": "code",
   "execution_count": 218,
   "id": "773ad335",
   "metadata": {},
   "outputs": [
    {
     "data": {
      "text/html": [
       "<div>\n",
       "<style scoped>\n",
       "    .dataframe tbody tr th:only-of-type {\n",
       "        vertical-align: middle;\n",
       "    }\n",
       "\n",
       "    .dataframe tbody tr th {\n",
       "        vertical-align: top;\n",
       "    }\n",
       "\n",
       "    .dataframe thead th {\n",
       "        text-align: right;\n",
       "    }\n",
       "</style>\n",
       "<table border=\"1\" class=\"dataframe\">\n",
       "  <thead>\n",
       "    <tr style=\"text-align: right;\">\n",
       "      <th></th>\n",
       "    </tr>\n",
       "  </thead>\n",
       "  <tbody>\n",
       "  </tbody>\n",
       "</table>\n",
       "</div>"
      ],
      "text/plain": [
       "Empty DataFrame\n",
       "Columns: []\n",
       "Index: []"
      ]
     },
     "execution_count": 218,
     "metadata": {},
     "output_type": "execute_result"
    }
   ],
   "source": [
    "pd.DataFrame(db_user.find({\"is_employed\": {\"$nin\": [True, False]}}).to_list())"
   ]
  },
  {
   "cell_type": "markdown",
   "id": "51f11352",
   "metadata": {},
   "source": [
    "### Exemple sur un vecteur\n",
    "\n",
    "> \"Je recherche les personnes qui vivent à Lille ou à Orléans.\""
   ]
  },
  {
   "cell_type": "code",
   "execution_count": null,
   "id": "8813f50d",
   "metadata": {},
   "outputs": [
    {
     "data": {
      "text/html": [
       "<div>\n",
       "<style scoped>\n",
       "    .dataframe tbody tr th:only-of-type {\n",
       "        vertical-align: middle;\n",
       "    }\n",
       "\n",
       "    .dataframe tbody tr th {\n",
       "        vertical-align: top;\n",
       "    }\n",
       "\n",
       "    .dataframe thead th {\n",
       "        text-align: right;\n",
       "    }\n",
       "</style>\n",
       "<table border=\"1\" class=\"dataframe\">\n",
       "  <thead>\n",
       "    <tr style=\"text-align: right;\">\n",
       "      <th></th>\n",
       "      <th>_id</th>\n",
       "      <th>name</th>\n",
       "      <th>age</th>\n",
       "      <th>weight</th>\n",
       "      <th>is_employed</th>\n",
       "      <th>address</th>\n",
       "    </tr>\n",
       "  </thead>\n",
       "  <tbody>\n",
       "    <tr>\n",
       "      <th>0</th>\n",
       "      <td>6887926913b2bc57a40b6055</td>\n",
       "      <td>Paul</td>\n",
       "      <td>32</td>\n",
       "      <td>79.3</td>\n",
       "      <td>True</td>\n",
       "      <td>[France, Nord, Lille]</td>\n",
       "    </tr>\n",
       "    <tr>\n",
       "      <th>1</th>\n",
       "      <td>6887926913b2bc57a40b6058</td>\n",
       "      <td>Maeva</td>\n",
       "      <td>78</td>\n",
       "      <td>54.3</td>\n",
       "      <td>False</td>\n",
       "      <td>[France, Loiret, Orléans]</td>\n",
       "    </tr>\n",
       "  </tbody>\n",
       "</table>\n",
       "</div>"
      ],
      "text/plain": [
       "                        _id   name  age  weight  is_employed  \\\n",
       "0  6887926913b2bc57a40b6055   Paul   32    79.3         True   \n",
       "1  6887926913b2bc57a40b6058  Maeva   78    54.3        False   \n",
       "\n",
       "                     address  \n",
       "0      [France, Nord, Lille]  \n",
       "1  [France, Loiret, Orléans]  "
      ]
     },
     "execution_count": 221,
     "metadata": {},
     "output_type": "execute_result"
    }
   ],
   "source": [
    "pd.DataFrame(db_user.find(\n",
    "    {\"address\": {\n",
    "        \"$in\": [\n",
    "            [\"France\", \"Nord\", \"Lille\"], \n",
    "            [\"France\", \"Loiret\", \"Orléans\"]\n",
    "        ]\n",
    "    }}\n",
    ").to_list())"
   ]
  },
  {
   "cell_type": "code",
   "execution_count": 223,
   "id": "cd2aa4c7",
   "metadata": {},
   "outputs": [
    {
     "data": {
      "text/html": [
       "<div>\n",
       "<style scoped>\n",
       "    .dataframe tbody tr th:only-of-type {\n",
       "        vertical-align: middle;\n",
       "    }\n",
       "\n",
       "    .dataframe tbody tr th {\n",
       "        vertical-align: top;\n",
       "    }\n",
       "\n",
       "    .dataframe thead th {\n",
       "        text-align: right;\n",
       "    }\n",
       "</style>\n",
       "<table border=\"1\" class=\"dataframe\">\n",
       "  <thead>\n",
       "    <tr style=\"text-align: right;\">\n",
       "      <th></th>\n",
       "      <th>_id</th>\n",
       "      <th>name</th>\n",
       "      <th>age</th>\n",
       "      <th>weight</th>\n",
       "      <th>is_employed</th>\n",
       "      <th>address</th>\n",
       "    </tr>\n",
       "  </thead>\n",
       "  <tbody>\n",
       "    <tr>\n",
       "      <th>0</th>\n",
       "      <td>6887926913b2bc57a40b6056</td>\n",
       "      <td>Maria</td>\n",
       "      <td>52</td>\n",
       "      <td>65.2</td>\n",
       "      <td>True</td>\n",
       "      <td>[France, Gironde, Bordeaux]</td>\n",
       "    </tr>\n",
       "    <tr>\n",
       "      <th>1</th>\n",
       "      <td>6887926913b2bc57a40b6057</td>\n",
       "      <td>James</td>\n",
       "      <td>22</td>\n",
       "      <td>75.9</td>\n",
       "      <td>False</td>\n",
       "      <td>[France, Alpes Maritime, Nice]</td>\n",
       "    </tr>\n",
       "    <tr>\n",
       "      <th>2</th>\n",
       "      <td>6887926913b2bc57a40b6059</td>\n",
       "      <td>Jennifer</td>\n",
       "      <td>16</td>\n",
       "      <td>59.8</td>\n",
       "      <td>False</td>\n",
       "      <td>[Suisse, Neuchâtel, Neuchâtel]</td>\n",
       "    </tr>\n",
       "  </tbody>\n",
       "</table>\n",
       "</div>"
      ],
      "text/plain": [
       "                        _id      name  age  weight  is_employed  \\\n",
       "0  6887926913b2bc57a40b6056     Maria   52    65.2         True   \n",
       "1  6887926913b2bc57a40b6057     James   22    75.9        False   \n",
       "2  6887926913b2bc57a40b6059  Jennifer   16    59.8        False   \n",
       "\n",
       "                          address  \n",
       "0     [France, Gironde, Bordeaux]  \n",
       "1  [France, Alpes Maritime, Nice]  \n",
       "2  [Suisse, Neuchâtel, Neuchâtel]  "
      ]
     },
     "execution_count": 223,
     "metadata": {},
     "output_type": "execute_result"
    }
   ],
   "source": [
    "pd.DataFrame(db_user.find(\n",
    "    {\"address\": {\n",
    "        \"$nin\": [\n",
    "            [\"France\", \"Nord\", \"Lille\"], \n",
    "            [\"France\", \"Loiret\", \"Orléans\"]\n",
    "        ]\n",
    "    }}\n",
    ").to_list())"
   ]
  }
 ],
 "metadata": {
  "kernelspec": {
   "display_name": "venv",
   "language": "python",
   "name": "python3"
  },
  "language_info": {
   "codemirror_mode": {
    "name": "ipython",
    "version": 3
   },
   "file_extension": ".py",
   "mimetype": "text/x-python",
   "name": "python",
   "nbconvert_exporter": "python",
   "pygments_lexer": "ipython3",
   "version": "3.12.11"
  }
 },
 "nbformat": 4,
 "nbformat_minor": 5
}
