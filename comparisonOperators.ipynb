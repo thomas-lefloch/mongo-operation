{
 "cells": [
  {
   "cell_type": "markdown",
   "id": "c8959e98",
   "metadata": {},
   "source": [
    "# Opérateurs de requête - comparaison: \n",
    "`$eq, $ne, $gt, $gte, $lt, $lte, $in, $nin`"
   ]
  },
  {
   "cell_type": "markdown",
   "id": "c8e82787",
   "metadata": {},
   "source": [
    "## 1. Connexion à la base de données"
   ]
  },
  {
   "cell_type": "markdown",
   "id": "44e84a35",
   "metadata": {},
   "source": [
    "Avant toute opération sur une base de données, il est nécessaire de s'y connecter:"
   ]
  },
  {
   "cell_type": "code",
   "execution_count": 104,
   "id": "c5ad4834",
   "metadata": {},
   "outputs": [],
   "source": [
    "from pymongo import MongoClient\n",
    "\n",
    "# Définition du port à utiliser [à changer en fonction la configuration de votre installation locale]\n",
    "MONGODB_LOCAL_PATH = \"mongodb://localhost:27018/\"\n",
    "\n",
    "# Définition de la base de données à utiliser\n",
    "MONGODB_NAME = \"comparison_operator_db\"\n",
    "\n",
    "# Connexion\n",
    "client = MongoClient(MONGODB_LOCAL_PATH)\n",
    "db = client[MONGODB_NAME]"
   ]
  },
  {
   "cell_type": "markdown",
   "id": "a9679083",
   "metadata": {},
   "source": [
    "## 2. Création d'une collection pour un environnement de test"
   ]
  },
  {
   "cell_type": "markdown",
   "id": "1cd7062c",
   "metadata": {},
   "source": [
    "Les commandes suivantes permettent de créer une collection servant d'environnement de test pour les différentes opérations de comparaison de ce notebook"
   ]
  },
  {
   "cell_type": "code",
   "execution_count": 105,
   "id": "75626a92",
   "metadata": {},
   "outputs": [],
   "source": [
    "try:\n",
    "    # Création de la collection\n",
    "    db_user = db.create_collection(\"User\")\n",
    "except:\n",
    "    # Suppression puis création de la collection\n",
    "    db.User.drop()\n",
    "    db_user = db.create_collection(\"User\")"
   ]
  },
  {
   "cell_type": "markdown",
   "id": "48e4ab17",
   "metadata": {},
   "source": [
    "On va remplir cette collection avec un petit nombre de documents"
   ]
  },
  {
   "cell_type": "code",
   "execution_count": 106,
   "id": "f573e322",
   "metadata": {},
   "outputs": [
    {
     "name": "stdout",
     "output_type": "stream",
     "text": [
      "IDs inséré pour les nouveaux documents:\n",
      " [ObjectId('6887889713b2bc57a40b602f'), ObjectId('6887889713b2bc57a40b6030'), ObjectId('6887889713b2bc57a40b6031'), ObjectId('6887889713b2bc57a40b6032'), ObjectId('6887889713b2bc57a40b6033')]\n"
     ]
    }
   ],
   "source": [
    "documents = [\n",
    "    {\n",
    "        \"name\": \"Paul\",\n",
    "        \"age\": 32,\n",
    "        \"weight\": 79.3,\n",
    "        \"is_employed\": True,\n",
    "        \"address\": [\"France\",\"Nord\",\"Lille\"],\n",
    "    },\n",
    "    {\n",
    "        \"name\": \"Maria\",\n",
    "        \"age\": 52,\n",
    "        \"weight\": 65.2,\n",
    "        \"is_employed\": True,\n",
    "        \"address\": [\"France\",\"Gironde\",\"Bordeaux\"],\n",
    "    },\n",
    "    {\n",
    "        \"name\": \"James\",\n",
    "        \"age\": 22,\n",
    "        \"weight\": 75.9,\n",
    "        \"is_employed\": False,\n",
    "        \"address\": [\"France\",\"Alpes Maritime\",\"Nice\"],\n",
    "    },\n",
    "    {\n",
    "        \"name\": \"Maeva\",\n",
    "        \"age\": 78,\n",
    "        \"weight\": 54.3,\n",
    "        \"is_employed\": False,\n",
    "        \"address\": [\"France\",\"Loiret\",\"Orléans\"],\n",
    "    },\n",
    "    {\n",
    "        \"name\": \"Jennifer\",\n",
    "        \"age\": 16,\n",
    "        \"weight\": 59.8,\n",
    "        \"is_employed\": False,\n",
    "        \"address\": [\"Suisse\",\"Neuchâtel\",\"Neuchâtel\"],\n",
    "    },\n",
    "]\n",
    "result_many = db_user.insert_many(documents)\n",
    "print(\"IDs inséré pour les nouveaux documents:\\n\", result_many.inserted_ids)"
   ]
  },
  {
   "cell_type": "markdown",
   "id": "6e2f000d",
   "metadata": {},
   "source": [
    "## 3. Les opérateurs `$eq` et `$ne`"
   ]
  },
  {
   "cell_type": "markdown",
   "id": "60a66e53",
   "metadata": {},
   "source": [
    "Les deux premiers opérateurs équivalent à demander l'égalité ou l'inégalité simple dans une requête. Ils s'invoquent via le schéma suivant:\n",
    "\n",
    "`{ <field>: { $eq: <value> } }`\n",
    "\n",
    "ou \n",
    "\n",
    "`{ <field>: { $ne: <value> } }`"
   ]
  },
  {
   "cell_type": "markdown",
   "id": "d33e7aec",
   "metadata": {},
   "source": [
    "### Exemple sur une chaîne de caractères"
   ]
  },
  {
   "cell_type": "code",
   "execution_count": 107,
   "id": "dfe871d7",
   "metadata": {},
   "outputs": [
    {
     "data": {
      "text/plain": [
       "[{'_id': ObjectId('6887889713b2bc57a40b602f'),\n",
       "  'name': 'Paul',\n",
       "  'age': 32,\n",
       "  'weight': 79.3,\n",
       "  'is_employed': True,\n",
       "  'address': ['France', 'Nord', 'Lille']}]"
      ]
     },
     "execution_count": 107,
     "metadata": {},
     "output_type": "execute_result"
    }
   ],
   "source": [
    "db_user.find({\"name\": {\"$eq\": \"Paul\"}}).to_list()"
   ]
  },
  {
   "cell_type": "markdown",
   "id": "37a5c01c",
   "metadata": {},
   "source": [
    "À noter que ceci est équivalent au requêtage simple"
   ]
  },
  {
   "cell_type": "code",
   "execution_count": 108,
   "id": "e70ce74a",
   "metadata": {},
   "outputs": [
    {
     "data": {
      "text/plain": [
       "[{'_id': ObjectId('6887889713b2bc57a40b602f'),\n",
       "  'name': 'Paul',\n",
       "  'age': 32,\n",
       "  'weight': 79.3,\n",
       "  'is_employed': True,\n",
       "  'address': ['France', 'Nord', 'Lille']}]"
      ]
     },
     "execution_count": 108,
     "metadata": {},
     "output_type": "execute_result"
    }
   ],
   "source": [
    "db_user.find({\"name\": \"Paul\"}).to_list()"
   ]
  },
  {
   "cell_type": "markdown",
   "id": "433ab053",
   "metadata": {},
   "source": [
    "Logiquement, l'opérateur `$ne` renvoit les autres documents"
   ]
  },
  {
   "cell_type": "code",
   "execution_count": 109,
   "id": "84fd953e",
   "metadata": {},
   "outputs": [
    {
     "data": {
      "text/plain": [
       "[{'_id': ObjectId('6887889713b2bc57a40b6030'),\n",
       "  'name': 'Maria',\n",
       "  'age': 52,\n",
       "  'weight': 65.2,\n",
       "  'is_employed': True,\n",
       "  'address': ['France', 'Gironde', 'Bordeaux']},\n",
       " {'_id': ObjectId('6887889713b2bc57a40b6031'),\n",
       "  'name': 'James',\n",
       "  'age': 22,\n",
       "  'weight': 75.9,\n",
       "  'is_employed': False,\n",
       "  'address': ['France', 'Alpes Maritime', 'Nice']},\n",
       " {'_id': ObjectId('6887889713b2bc57a40b6032'),\n",
       "  'name': 'Maeva',\n",
       "  'age': 78,\n",
       "  'weight': 54.3,\n",
       "  'is_employed': False,\n",
       "  'address': ['France', 'Loiret', 'Orléans']},\n",
       " {'_id': ObjectId('6887889713b2bc57a40b6033'),\n",
       "  'name': 'Jennifer',\n",
       "  'age': 16,\n",
       "  'weight': 59.8,\n",
       "  'is_employed': False,\n",
       "  'address': ['Suisse', 'Neuchâtel', 'Neuchâtel']}]"
      ]
     },
     "execution_count": 109,
     "metadata": {},
     "output_type": "execute_result"
    }
   ],
   "source": [
    "db_user.find({\"name\": {\"$ne\": \"Paul\"}}).to_list()"
   ]
  },
  {
   "cell_type": "markdown",
   "id": "3bd2e351",
   "metadata": {},
   "source": [
    "### Exemple sur un entier"
   ]
  },
  {
   "cell_type": "code",
   "execution_count": 110,
   "id": "f53b530f",
   "metadata": {},
   "outputs": [
    {
     "data": {
      "text/plain": [
       "[{'_id': ObjectId('6887889713b2bc57a40b602f'),\n",
       "  'name': 'Paul',\n",
       "  'age': 32,\n",
       "  'weight': 79.3,\n",
       "  'is_employed': True,\n",
       "  'address': ['France', 'Nord', 'Lille']}]"
      ]
     },
     "execution_count": 110,
     "metadata": {},
     "output_type": "execute_result"
    }
   ],
   "source": [
    "db_user.find({\"age\": {\"$eq\": 32}}).to_list()"
   ]
  },
  {
   "cell_type": "markdown",
   "id": "5952e431",
   "metadata": {},
   "source": [
    "À noter que ceci est équivalent au requêtage simple"
   ]
  },
  {
   "cell_type": "code",
   "execution_count": 111,
   "id": "aee83a46",
   "metadata": {},
   "outputs": [
    {
     "data": {
      "text/plain": [
       "[{'_id': ObjectId('6887889713b2bc57a40b602f'),\n",
       "  'name': 'Paul',\n",
       "  'age': 32,\n",
       "  'weight': 79.3,\n",
       "  'is_employed': True,\n",
       "  'address': ['France', 'Nord', 'Lille']}]"
      ]
     },
     "execution_count": 111,
     "metadata": {},
     "output_type": "execute_result"
    }
   ],
   "source": [
    "db_user.find({\"age\": 32}).to_list()"
   ]
  },
  {
   "cell_type": "markdown",
   "id": "1516b1b9",
   "metadata": {},
   "source": [
    "Logiquement, l'opérateur `$ne` renvoit les autres documents"
   ]
  },
  {
   "cell_type": "code",
   "execution_count": 112,
   "id": "851576f1",
   "metadata": {},
   "outputs": [
    {
     "data": {
      "text/plain": [
       "[{'_id': ObjectId('6887889713b2bc57a40b6030'),\n",
       "  'name': 'Maria',\n",
       "  'age': 52,\n",
       "  'weight': 65.2,\n",
       "  'is_employed': True,\n",
       "  'address': ['France', 'Gironde', 'Bordeaux']},\n",
       " {'_id': ObjectId('6887889713b2bc57a40b6031'),\n",
       "  'name': 'James',\n",
       "  'age': 22,\n",
       "  'weight': 75.9,\n",
       "  'is_employed': False,\n",
       "  'address': ['France', 'Alpes Maritime', 'Nice']},\n",
       " {'_id': ObjectId('6887889713b2bc57a40b6032'),\n",
       "  'name': 'Maeva',\n",
       "  'age': 78,\n",
       "  'weight': 54.3,\n",
       "  'is_employed': False,\n",
       "  'address': ['France', 'Loiret', 'Orléans']},\n",
       " {'_id': ObjectId('6887889713b2bc57a40b6033'),\n",
       "  'name': 'Jennifer',\n",
       "  'age': 16,\n",
       "  'weight': 59.8,\n",
       "  'is_employed': False,\n",
       "  'address': ['Suisse', 'Neuchâtel', 'Neuchâtel']}]"
      ]
     },
     "execution_count": 112,
     "metadata": {},
     "output_type": "execute_result"
    }
   ],
   "source": [
    "db_user.find({\"age\": {\"$ne\": 32}}).to_list()"
   ]
  },
  {
   "cell_type": "markdown",
   "id": "ca9ea356",
   "metadata": {},
   "source": [
    "### Exemple sur un nombre réel"
   ]
  },
  {
   "cell_type": "code",
   "execution_count": 113,
   "id": "5dad5d9c",
   "metadata": {},
   "outputs": [
    {
     "data": {
      "text/plain": [
       "[{'_id': ObjectId('6887889713b2bc57a40b602f'),\n",
       "  'name': 'Paul',\n",
       "  'age': 32,\n",
       "  'weight': 79.3,\n",
       "  'is_employed': True,\n",
       "  'address': ['France', 'Nord', 'Lille']}]"
      ]
     },
     "execution_count": 113,
     "metadata": {},
     "output_type": "execute_result"
    }
   ],
   "source": [
    "db_user.find({\"weight\": {\"$eq\": 79.3}}).to_list()"
   ]
  },
  {
   "cell_type": "markdown",
   "id": "57281d83",
   "metadata": {},
   "source": [
    "À noter que ceci est équivalent au requêtage simple"
   ]
  },
  {
   "cell_type": "code",
   "execution_count": 114,
   "id": "a43d6606",
   "metadata": {},
   "outputs": [
    {
     "data": {
      "text/plain": [
       "[{'_id': ObjectId('6887889713b2bc57a40b602f'),\n",
       "  'name': 'Paul',\n",
       "  'age': 32,\n",
       "  'weight': 79.3,\n",
       "  'is_employed': True,\n",
       "  'address': ['France', 'Nord', 'Lille']}]"
      ]
     },
     "execution_count": 114,
     "metadata": {},
     "output_type": "execute_result"
    }
   ],
   "source": [
    "db_user.find({\"weight\": 79.3}).to_list()"
   ]
  },
  {
   "cell_type": "markdown",
   "id": "c8b17a59",
   "metadata": {},
   "source": [
    "Note: les nombres réelles ont une certaine précision, étant donné la façon dont ils sont encodés en mémoire. Ainsi, la requête suivante renvoit une liste vide..."
   ]
  },
  {
   "cell_type": "code",
   "execution_count": 115,
   "id": "1379c937",
   "metadata": {},
   "outputs": [
    {
     "data": {
      "text/plain": [
       "[]"
      ]
     },
     "execution_count": 115,
     "metadata": {},
     "output_type": "execute_result"
    }
   ],
   "source": [
    "db_user.find({\"weight\": 79.3000001}).to_list()"
   ]
  },
  {
   "cell_type": "markdown",
   "id": "8389ff46",
   "metadata": {},
   "source": [
    "... tandis que celle-ci renvoit bien un document"
   ]
  },
  {
   "cell_type": "code",
   "execution_count": 116,
   "id": "64831169",
   "metadata": {},
   "outputs": [
    {
     "data": {
      "text/plain": [
       "[{'_id': ObjectId('6887889713b2bc57a40b602f'),\n",
       "  'name': 'Paul',\n",
       "  'age': 32,\n",
       "  'weight': 79.3,\n",
       "  'is_employed': True,\n",
       "  'address': ['France', 'Nord', 'Lille']}]"
      ]
     },
     "execution_count": 116,
     "metadata": {},
     "output_type": "execute_result"
    }
   ],
   "source": [
    "db_user.find({\"weight\": 79.300000000000001}).to_list()"
   ]
  },
  {
   "cell_type": "markdown",
   "id": "afe35d4d",
   "metadata": {},
   "source": [
    "Logiquement, l'opérateur `$ne` renvoit les autres documents"
   ]
  },
  {
   "cell_type": "code",
   "execution_count": 117,
   "id": "115fbb62",
   "metadata": {},
   "outputs": [
    {
     "data": {
      "text/plain": [
       "[{'_id': ObjectId('6887889713b2bc57a40b6030'),\n",
       "  'name': 'Maria',\n",
       "  'age': 52,\n",
       "  'weight': 65.2,\n",
       "  'is_employed': True,\n",
       "  'address': ['France', 'Gironde', 'Bordeaux']},\n",
       " {'_id': ObjectId('6887889713b2bc57a40b6031'),\n",
       "  'name': 'James',\n",
       "  'age': 22,\n",
       "  'weight': 75.9,\n",
       "  'is_employed': False,\n",
       "  'address': ['France', 'Alpes Maritime', 'Nice']},\n",
       " {'_id': ObjectId('6887889713b2bc57a40b6032'),\n",
       "  'name': 'Maeva',\n",
       "  'age': 78,\n",
       "  'weight': 54.3,\n",
       "  'is_employed': False,\n",
       "  'address': ['France', 'Loiret', 'Orléans']},\n",
       " {'_id': ObjectId('6887889713b2bc57a40b6033'),\n",
       "  'name': 'Jennifer',\n",
       "  'age': 16,\n",
       "  'weight': 59.8,\n",
       "  'is_employed': False,\n",
       "  'address': ['Suisse', 'Neuchâtel', 'Neuchâtel']}]"
      ]
     },
     "execution_count": 117,
     "metadata": {},
     "output_type": "execute_result"
    }
   ],
   "source": [
    "db_user.find({\"weight\": {\"$ne\": 79.3}}).to_list()"
   ]
  },
  {
   "cell_type": "markdown",
   "id": "909c787d",
   "metadata": {},
   "source": [
    "### Exemple sur un booléen"
   ]
  },
  {
   "cell_type": "code",
   "execution_count": 118,
   "id": "51dd5afb",
   "metadata": {},
   "outputs": [
    {
     "data": {
      "text/plain": [
       "[{'_id': ObjectId('6887889713b2bc57a40b602f'),\n",
       "  'name': 'Paul',\n",
       "  'age': 32,\n",
       "  'weight': 79.3,\n",
       "  'is_employed': True,\n",
       "  'address': ['France', 'Nord', 'Lille']},\n",
       " {'_id': ObjectId('6887889713b2bc57a40b6030'),\n",
       "  'name': 'Maria',\n",
       "  'age': 52,\n",
       "  'weight': 65.2,\n",
       "  'is_employed': True,\n",
       "  'address': ['France', 'Gironde', 'Bordeaux']}]"
      ]
     },
     "execution_count": 118,
     "metadata": {},
     "output_type": "execute_result"
    }
   ],
   "source": [
    "db_user.find({\"is_employed\": {\"$eq\": True}}).to_list()"
   ]
  },
  {
   "cell_type": "markdown",
   "id": "36df8e34",
   "metadata": {},
   "source": [
    "À noter que ceci est équivalent au requêtage simple"
   ]
  },
  {
   "cell_type": "code",
   "execution_count": 119,
   "id": "9bf83482",
   "metadata": {},
   "outputs": [
    {
     "data": {
      "text/plain": [
       "[{'_id': ObjectId('6887889713b2bc57a40b602f'),\n",
       "  'name': 'Paul',\n",
       "  'age': 32,\n",
       "  'weight': 79.3,\n",
       "  'is_employed': True,\n",
       "  'address': ['France', 'Nord', 'Lille']},\n",
       " {'_id': ObjectId('6887889713b2bc57a40b6030'),\n",
       "  'name': 'Maria',\n",
       "  'age': 52,\n",
       "  'weight': 65.2,\n",
       "  'is_employed': True,\n",
       "  'address': ['France', 'Gironde', 'Bordeaux']}]"
      ]
     },
     "execution_count": 119,
     "metadata": {},
     "output_type": "execute_result"
    }
   ],
   "source": [
    "db_user.find({\"is_employed\": True}).to_list()"
   ]
  },
  {
   "cell_type": "markdown",
   "id": "de5e0cdc",
   "metadata": {},
   "source": [
    "Logiquement, l'opérateur `$ne` renvoit les autres documents"
   ]
  },
  {
   "cell_type": "code",
   "execution_count": 120,
   "id": "8fa51908",
   "metadata": {},
   "outputs": [
    {
     "data": {
      "text/plain": [
       "[{'_id': ObjectId('6887889713b2bc57a40b6031'),\n",
       "  'name': 'James',\n",
       "  'age': 22,\n",
       "  'weight': 75.9,\n",
       "  'is_employed': False,\n",
       "  'address': ['France', 'Alpes Maritime', 'Nice']},\n",
       " {'_id': ObjectId('6887889713b2bc57a40b6032'),\n",
       "  'name': 'Maeva',\n",
       "  'age': 78,\n",
       "  'weight': 54.3,\n",
       "  'is_employed': False,\n",
       "  'address': ['France', 'Loiret', 'Orléans']},\n",
       " {'_id': ObjectId('6887889713b2bc57a40b6033'),\n",
       "  'name': 'Jennifer',\n",
       "  'age': 16,\n",
       "  'weight': 59.8,\n",
       "  'is_employed': False,\n",
       "  'address': ['Suisse', 'Neuchâtel', 'Neuchâtel']}]"
      ]
     },
     "execution_count": 120,
     "metadata": {},
     "output_type": "execute_result"
    }
   ],
   "source": [
    "db_user.find({\"is_employed\": {\"$ne\": True}}).to_list()"
   ]
  },
  {
   "cell_type": "markdown",
   "id": "eb22958f",
   "metadata": {},
   "source": [
    "### Exemple sur une liste"
   ]
  },
  {
   "cell_type": "code",
   "execution_count": 121,
   "id": "1b68ffd6",
   "metadata": {},
   "outputs": [
    {
     "data": {
      "text/plain": [
       "[{'_id': ObjectId('6887889713b2bc57a40b602f'),\n",
       "  'name': 'Paul',\n",
       "  'age': 32,\n",
       "  'weight': 79.3,\n",
       "  'is_employed': True,\n",
       "  'address': ['France', 'Nord', 'Lille']}]"
      ]
     },
     "execution_count": 121,
     "metadata": {},
     "output_type": "execute_result"
    }
   ],
   "source": [
    "db_user.find({\"address\": {\"$eq\": [\"France\", \"Nord\", \"Lille\"]}}).to_list()"
   ]
  },
  {
   "cell_type": "code",
   "execution_count": 122,
   "id": "f90faa7d",
   "metadata": {},
   "outputs": [
    {
     "data": {
      "text/plain": [
       "[]"
      ]
     },
     "execution_count": 122,
     "metadata": {},
     "output_type": "execute_result"
    }
   ],
   "source": [
    "db_user.find({\"address\": {\"$eq\": [\"France\", \"Nord\"]}}).to_list()"
   ]
  },
  {
   "cell_type": "markdown",
   "id": "d0bbc4fb",
   "metadata": {},
   "source": [
    "À noter que ceci est équivalent au requêtage simple"
   ]
  },
  {
   "cell_type": "code",
   "execution_count": 123,
   "id": "e5c90390",
   "metadata": {},
   "outputs": [
    {
     "data": {
      "text/plain": [
       "[{'_id': ObjectId('6887889713b2bc57a40b602f'),\n",
       "  'name': 'Paul',\n",
       "  'age': 32,\n",
       "  'weight': 79.3,\n",
       "  'is_employed': True,\n",
       "  'address': ['France', 'Nord', 'Lille']}]"
      ]
     },
     "execution_count": 123,
     "metadata": {},
     "output_type": "execute_result"
    }
   ],
   "source": [
    "db_user.find({\"address\": [\"France\", \"Nord\", \"Lille\"]}).to_list()"
   ]
  },
  {
   "cell_type": "markdown",
   "id": "108787a7",
   "metadata": {},
   "source": [
    "Logiquement, l'opérateur `$ne` renvoit les autres documents"
   ]
  },
  {
   "cell_type": "code",
   "execution_count": 124,
   "id": "a686ae76",
   "metadata": {},
   "outputs": [
    {
     "data": {
      "text/plain": [
       "[{'_id': ObjectId('6887889713b2bc57a40b6030'),\n",
       "  'name': 'Maria',\n",
       "  'age': 52,\n",
       "  'weight': 65.2,\n",
       "  'is_employed': True,\n",
       "  'address': ['France', 'Gironde', 'Bordeaux']},\n",
       " {'_id': ObjectId('6887889713b2bc57a40b6031'),\n",
       "  'name': 'James',\n",
       "  'age': 22,\n",
       "  'weight': 75.9,\n",
       "  'is_employed': False,\n",
       "  'address': ['France', 'Alpes Maritime', 'Nice']},\n",
       " {'_id': ObjectId('6887889713b2bc57a40b6032'),\n",
       "  'name': 'Maeva',\n",
       "  'age': 78,\n",
       "  'weight': 54.3,\n",
       "  'is_employed': False,\n",
       "  'address': ['France', 'Loiret', 'Orléans']},\n",
       " {'_id': ObjectId('6887889713b2bc57a40b6033'),\n",
       "  'name': 'Jennifer',\n",
       "  'age': 16,\n",
       "  'weight': 59.8,\n",
       "  'is_employed': False,\n",
       "  'address': ['Suisse', 'Neuchâtel', 'Neuchâtel']}]"
      ]
     },
     "execution_count": 124,
     "metadata": {},
     "output_type": "execute_result"
    }
   ],
   "source": [
    "db_user.find({\"address\": {\"$ne\": [\"France\", \"Nord\", \"Lille\"]}}).to_list()"
   ]
  },
  {
   "cell_type": "markdown",
   "id": "9af01296",
   "metadata": {},
   "source": [
    "## 4. Les opérateurs `$gt`, `$lt`, `$gte` et `$lte`"
   ]
  },
  {
   "cell_type": "markdown",
   "id": "e45ed315",
   "metadata": {},
   "source": [
    "Ces opérateurs permettent de faire la comparaison de valeurs en suivant un ordre logique suivant le type de donnée. Ils s'invoquent via le schéma suivant:\n",
    "\n",
    "`{ <field>: { $gt: <value> } }`\n",
    "\n",
    "ou \n",
    "\n",
    "`{ <field>: { $gte: <value> } }`\n",
    "\n",
    "ou \n",
    "\n",
    "`{ <field>: { $lt: <value> } }`\n",
    "\n",
    "ou \n",
    "\n",
    "`{ <field>: { $lte: <value> } }`\n"
   ]
  },
  {
   "cell_type": "markdown",
   "id": "3f72b877",
   "metadata": {},
   "source": [
    "## 4.1 Plus grand que `$gt`, plus grand que ou égal à `$gte`"
   ]
  },
  {
   "cell_type": "markdown",
   "id": "bcb4f2f6",
   "metadata": {},
   "source": [
    "### Exemple sur une chaîne de caractères"
   ]
  },
  {
   "cell_type": "code",
   "execution_count": 125,
   "id": "5a197eb2",
   "metadata": {},
   "outputs": [
    {
     "data": {
      "text/plain": [
       "[{'_id': ObjectId('6887889713b2bc57a40b602f'),\n",
       "  'name': 'Paul',\n",
       "  'age': 32,\n",
       "  'weight': 79.3,\n",
       "  'is_employed': True,\n",
       "  'address': ['France', 'Nord', 'Lille']},\n",
       " {'_id': ObjectId('6887889713b2bc57a40b6030'),\n",
       "  'name': 'Maria',\n",
       "  'age': 52,\n",
       "  'weight': 65.2,\n",
       "  'is_employed': True,\n",
       "  'address': ['France', 'Gironde', 'Bordeaux']}]"
      ]
     },
     "execution_count": 125,
     "metadata": {},
     "output_type": "execute_result"
    }
   ],
   "source": [
    "db_user.find({\"name\": {\"$gt\": \"Maeva\"}}).to_list()"
   ]
  },
  {
   "cell_type": "code",
   "execution_count": 126,
   "id": "a7f635d6",
   "metadata": {},
   "outputs": [
    {
     "data": {
      "text/plain": [
       "[{'_id': ObjectId('6887889713b2bc57a40b602f'),\n",
       "  'name': 'Paul',\n",
       "  'age': 32,\n",
       "  'weight': 79.3,\n",
       "  'is_employed': True,\n",
       "  'address': ['France', 'Nord', 'Lille']},\n",
       " {'_id': ObjectId('6887889713b2bc57a40b6030'),\n",
       "  'name': 'Maria',\n",
       "  'age': 52,\n",
       "  'weight': 65.2,\n",
       "  'is_employed': True,\n",
       "  'address': ['France', 'Gironde', 'Bordeaux']},\n",
       " {'_id': ObjectId('6887889713b2bc57a40b6032'),\n",
       "  'name': 'Maeva',\n",
       "  'age': 78,\n",
       "  'weight': 54.3,\n",
       "  'is_employed': False,\n",
       "  'address': ['France', 'Loiret', 'Orléans']}]"
      ]
     },
     "execution_count": 126,
     "metadata": {},
     "output_type": "execute_result"
    }
   ],
   "source": [
    "db_user.find({\"name\": {\"$gte\": \"Maeva\"}}).to_list()"
   ]
  },
  {
   "cell_type": "markdown",
   "id": "553023bd",
   "metadata": {},
   "source": [
    "### Exemple sur un entier"
   ]
  },
  {
   "cell_type": "code",
   "execution_count": 127,
   "id": "a6000e24",
   "metadata": {},
   "outputs": [
    {
     "data": {
      "text/plain": [
       "[{'_id': ObjectId('6887889713b2bc57a40b6030'),\n",
       "  'name': 'Maria',\n",
       "  'age': 52,\n",
       "  'weight': 65.2,\n",
       "  'is_employed': True,\n",
       "  'address': ['France', 'Gironde', 'Bordeaux']},\n",
       " {'_id': ObjectId('6887889713b2bc57a40b6032'),\n",
       "  'name': 'Maeva',\n",
       "  'age': 78,\n",
       "  'weight': 54.3,\n",
       "  'is_employed': False,\n",
       "  'address': ['France', 'Loiret', 'Orléans']}]"
      ]
     },
     "execution_count": 127,
     "metadata": {},
     "output_type": "execute_result"
    }
   ],
   "source": [
    "db_user.find({\"age\": {\"$gt\": 32}}).to_list()"
   ]
  },
  {
   "cell_type": "code",
   "execution_count": 128,
   "id": "8e1c3d4e",
   "metadata": {},
   "outputs": [
    {
     "data": {
      "text/plain": [
       "[{'_id': ObjectId('6887889713b2bc57a40b602f'),\n",
       "  'name': 'Paul',\n",
       "  'age': 32,\n",
       "  'weight': 79.3,\n",
       "  'is_employed': True,\n",
       "  'address': ['France', 'Nord', 'Lille']},\n",
       " {'_id': ObjectId('6887889713b2bc57a40b6030'),\n",
       "  'name': 'Maria',\n",
       "  'age': 52,\n",
       "  'weight': 65.2,\n",
       "  'is_employed': True,\n",
       "  'address': ['France', 'Gironde', 'Bordeaux']},\n",
       " {'_id': ObjectId('6887889713b2bc57a40b6032'),\n",
       "  'name': 'Maeva',\n",
       "  'age': 78,\n",
       "  'weight': 54.3,\n",
       "  'is_employed': False,\n",
       "  'address': ['France', 'Loiret', 'Orléans']}]"
      ]
     },
     "execution_count": 128,
     "metadata": {},
     "output_type": "execute_result"
    }
   ],
   "source": [
    "db_user.find({\"age\": {\"$gte\": 32}}).to_list()"
   ]
  },
  {
   "cell_type": "markdown",
   "id": "a8317bf1",
   "metadata": {},
   "source": [
    "### Exemple sur un nombre réel"
   ]
  },
  {
   "cell_type": "code",
   "execution_count": 129,
   "id": "049f0c8f",
   "metadata": {},
   "outputs": [
    {
     "data": {
      "text/plain": [
       "[{'_id': ObjectId('6887889713b2bc57a40b602f'),\n",
       "  'name': 'Paul',\n",
       "  'age': 32,\n",
       "  'weight': 79.3,\n",
       "  'is_employed': True,\n",
       "  'address': ['France', 'Nord', 'Lille']},\n",
       " {'_id': ObjectId('6887889713b2bc57a40b6031'),\n",
       "  'name': 'James',\n",
       "  'age': 22,\n",
       "  'weight': 75.9,\n",
       "  'is_employed': False,\n",
       "  'address': ['France', 'Alpes Maritime', 'Nice']}]"
      ]
     },
     "execution_count": 129,
     "metadata": {},
     "output_type": "execute_result"
    }
   ],
   "source": [
    "db_user.find({\"weight\": {\"$gt\": 65.2}}).to_list()"
   ]
  },
  {
   "cell_type": "code",
   "execution_count": 130,
   "id": "fafca480",
   "metadata": {},
   "outputs": [
    {
     "data": {
      "text/plain": [
       "[{'_id': ObjectId('6887889713b2bc57a40b602f'),\n",
       "  'name': 'Paul',\n",
       "  'age': 32,\n",
       "  'weight': 79.3,\n",
       "  'is_employed': True,\n",
       "  'address': ['France', 'Nord', 'Lille']},\n",
       " {'_id': ObjectId('6887889713b2bc57a40b6030'),\n",
       "  'name': 'Maria',\n",
       "  'age': 52,\n",
       "  'weight': 65.2,\n",
       "  'is_employed': True,\n",
       "  'address': ['France', 'Gironde', 'Bordeaux']},\n",
       " {'_id': ObjectId('6887889713b2bc57a40b6031'),\n",
       "  'name': 'James',\n",
       "  'age': 22,\n",
       "  'weight': 75.9,\n",
       "  'is_employed': False,\n",
       "  'address': ['France', 'Alpes Maritime', 'Nice']}]"
      ]
     },
     "execution_count": 130,
     "metadata": {},
     "output_type": "execute_result"
    }
   ],
   "source": [
    "db_user.find({\"weight\": {\"$gte\": 65.2}}).to_list()"
   ]
  },
  {
   "cell_type": "markdown",
   "id": "dc0395a4",
   "metadata": {},
   "source": [
    "### Exemple sur un booléen"
   ]
  },
  {
   "cell_type": "code",
   "execution_count": 131,
   "id": "fedd33d4",
   "metadata": {},
   "outputs": [
    {
     "data": {
      "text/plain": [
       "[{'_id': ObjectId('6887889713b2bc57a40b602f'),\n",
       "  'name': 'Paul',\n",
       "  'age': 32,\n",
       "  'weight': 79.3,\n",
       "  'is_employed': True,\n",
       "  'address': ['France', 'Nord', 'Lille']},\n",
       " {'_id': ObjectId('6887889713b2bc57a40b6030'),\n",
       "  'name': 'Maria',\n",
       "  'age': 52,\n",
       "  'weight': 65.2,\n",
       "  'is_employed': True,\n",
       "  'address': ['France', 'Gironde', 'Bordeaux']}]"
      ]
     },
     "execution_count": 131,
     "metadata": {},
     "output_type": "execute_result"
    }
   ],
   "source": [
    "db_user.find({\"is_employed\": {\"$gt\": False}}).to_list()"
   ]
  },
  {
   "cell_type": "code",
   "execution_count": 132,
   "id": "5138a632",
   "metadata": {},
   "outputs": [
    {
     "data": {
      "text/plain": [
       "[{'_id': ObjectId('6887889713b2bc57a40b602f'),\n",
       "  'name': 'Paul',\n",
       "  'age': 32,\n",
       "  'weight': 79.3,\n",
       "  'is_employed': True,\n",
       "  'address': ['France', 'Nord', 'Lille']},\n",
       " {'_id': ObjectId('6887889713b2bc57a40b6030'),\n",
       "  'name': 'Maria',\n",
       "  'age': 52,\n",
       "  'weight': 65.2,\n",
       "  'is_employed': True,\n",
       "  'address': ['France', 'Gironde', 'Bordeaux']},\n",
       " {'_id': ObjectId('6887889713b2bc57a40b6031'),\n",
       "  'name': 'James',\n",
       "  'age': 22,\n",
       "  'weight': 75.9,\n",
       "  'is_employed': False,\n",
       "  'address': ['France', 'Alpes Maritime', 'Nice']},\n",
       " {'_id': ObjectId('6887889713b2bc57a40b6032'),\n",
       "  'name': 'Maeva',\n",
       "  'age': 78,\n",
       "  'weight': 54.3,\n",
       "  'is_employed': False,\n",
       "  'address': ['France', 'Loiret', 'Orléans']},\n",
       " {'_id': ObjectId('6887889713b2bc57a40b6033'),\n",
       "  'name': 'Jennifer',\n",
       "  'age': 16,\n",
       "  'weight': 59.8,\n",
       "  'is_employed': False,\n",
       "  'address': ['Suisse', 'Neuchâtel', 'Neuchâtel']}]"
      ]
     },
     "execution_count": 132,
     "metadata": {},
     "output_type": "execute_result"
    }
   ],
   "source": [
    "db_user.find({\"is_employed\": {\"$gte\": False}}).to_list()"
   ]
  },
  {
   "cell_type": "markdown",
   "id": "ebaa7a0e",
   "metadata": {},
   "source": [
    "À noter que les booléens étant associé à False:0 et True:1, l'ordre est logiquement établi ainsi."
   ]
  },
  {
   "cell_type": "markdown",
   "id": "c68cc4fa",
   "metadata": {},
   "source": [
    "### Exemple sur un vecteur"
   ]
  },
  {
   "cell_type": "code",
   "execution_count": 133,
   "id": "60c0e1a7",
   "metadata": {},
   "outputs": [
    {
     "data": {
      "text/plain": [
       "[{'_id': ObjectId('6887889713b2bc57a40b602f'),\n",
       "  'name': 'Paul',\n",
       "  'age': 32,\n",
       "  'weight': 79.3,\n",
       "  'is_employed': True,\n",
       "  'address': ['France', 'Nord', 'Lille']},\n",
       " {'_id': ObjectId('6887889713b2bc57a40b6033'),\n",
       "  'name': 'Jennifer',\n",
       "  'age': 16,\n",
       "  'weight': 59.8,\n",
       "  'is_employed': False,\n",
       "  'address': ['Suisse', 'Neuchâtel', 'Neuchâtel']}]"
      ]
     },
     "execution_count": 133,
     "metadata": {},
     "output_type": "execute_result"
    }
   ],
   "source": [
    "db_user.find({\"address\": {\"$gt\": [\"France\", \"Loiret\", \"Orléans\"]}}).to_list()"
   ]
  },
  {
   "cell_type": "code",
   "execution_count": 134,
   "id": "549d479e",
   "metadata": {},
   "outputs": [
    {
     "data": {
      "text/plain": [
       "[{'_id': ObjectId('6887889713b2bc57a40b602f'),\n",
       "  'name': 'Paul',\n",
       "  'age': 32,\n",
       "  'weight': 79.3,\n",
       "  'is_employed': True,\n",
       "  'address': ['France', 'Nord', 'Lille']},\n",
       " {'_id': ObjectId('6887889713b2bc57a40b6032'),\n",
       "  'name': 'Maeva',\n",
       "  'age': 78,\n",
       "  'weight': 54.3,\n",
       "  'is_employed': False,\n",
       "  'address': ['France', 'Loiret', 'Orléans']},\n",
       " {'_id': ObjectId('6887889713b2bc57a40b6033'),\n",
       "  'name': 'Jennifer',\n",
       "  'age': 16,\n",
       "  'weight': 59.8,\n",
       "  'is_employed': False,\n",
       "  'address': ['Suisse', 'Neuchâtel', 'Neuchâtel']}]"
      ]
     },
     "execution_count": 134,
     "metadata": {},
     "output_type": "execute_result"
    }
   ],
   "source": [
    "db_user.find({\"address\": {\"$gte\": [\"France\", \"Loiret\", \"Orléans\"]}}).to_list()"
   ]
  },
  {
   "cell_type": "code",
   "execution_count": 135,
   "id": "2b2bb900",
   "metadata": {},
   "outputs": [
    {
     "data": {
      "text/plain": [
       "[{'_id': ObjectId('6887889713b2bc57a40b602f'),\n",
       "  'name': 'Paul',\n",
       "  'age': 32,\n",
       "  'weight': 79.3,\n",
       "  'is_employed': True,\n",
       "  'address': ['France', 'Nord', 'Lille']},\n",
       " {'_id': ObjectId('6887889713b2bc57a40b6030'),\n",
       "  'name': 'Maria',\n",
       "  'age': 52,\n",
       "  'weight': 65.2,\n",
       "  'is_employed': True,\n",
       "  'address': ['France', 'Gironde', 'Bordeaux']},\n",
       " {'_id': ObjectId('6887889713b2bc57a40b6031'),\n",
       "  'name': 'James',\n",
       "  'age': 22,\n",
       "  'weight': 75.9,\n",
       "  'is_employed': False,\n",
       "  'address': ['France', 'Alpes Maritime', 'Nice']},\n",
       " {'_id': ObjectId('6887889713b2bc57a40b6032'),\n",
       "  'name': 'Maeva',\n",
       "  'age': 78,\n",
       "  'weight': 54.3,\n",
       "  'is_employed': False,\n",
       "  'address': ['France', 'Loiret', 'Orléans']},\n",
       " {'_id': ObjectId('6887889713b2bc57a40b6033'),\n",
       "  'name': 'Jennifer',\n",
       "  'age': 16,\n",
       "  'weight': 59.8,\n",
       "  'is_employed': False,\n",
       "  'address': ['Suisse', 'Neuchâtel', 'Neuchâtel']}]"
      ]
     },
     "execution_count": 135,
     "metadata": {},
     "output_type": "execute_result"
    }
   ],
   "source": [
    "db_user.find({\"address\": {\"$gt\": [\"France\"]}}).to_list()"
   ]
  },
  {
   "cell_type": "markdown",
   "id": "bc7245e3",
   "metadata": {},
   "source": [
    "## 4.2 Plus petit que `$lt`, plus petit que ou égal à `$lte`"
   ]
  },
  {
   "cell_type": "markdown",
   "id": "7f03b233",
   "metadata": {},
   "source": [
    "### Exemple sur une chaîne de caractères"
   ]
  },
  {
   "cell_type": "code",
   "execution_count": 136,
   "id": "6cd96c6d",
   "metadata": {},
   "outputs": [
    {
     "data": {
      "text/plain": [
       "[{'_id': ObjectId('6887889713b2bc57a40b6031'),\n",
       "  'name': 'James',\n",
       "  'age': 22,\n",
       "  'weight': 75.9,\n",
       "  'is_employed': False,\n",
       "  'address': ['France', 'Alpes Maritime', 'Nice']},\n",
       " {'_id': ObjectId('6887889713b2bc57a40b6033'),\n",
       "  'name': 'Jennifer',\n",
       "  'age': 16,\n",
       "  'weight': 59.8,\n",
       "  'is_employed': False,\n",
       "  'address': ['Suisse', 'Neuchâtel', 'Neuchâtel']}]"
      ]
     },
     "execution_count": 136,
     "metadata": {},
     "output_type": "execute_result"
    }
   ],
   "source": [
    "db_user.find({\"name\": {\"$lt\": \"Maeva\"}}).to_list()"
   ]
  },
  {
   "cell_type": "code",
   "execution_count": 137,
   "id": "760fdb82",
   "metadata": {},
   "outputs": [
    {
     "data": {
      "text/plain": [
       "[{'_id': ObjectId('6887889713b2bc57a40b6031'),\n",
       "  'name': 'James',\n",
       "  'age': 22,\n",
       "  'weight': 75.9,\n",
       "  'is_employed': False,\n",
       "  'address': ['France', 'Alpes Maritime', 'Nice']},\n",
       " {'_id': ObjectId('6887889713b2bc57a40b6032'),\n",
       "  'name': 'Maeva',\n",
       "  'age': 78,\n",
       "  'weight': 54.3,\n",
       "  'is_employed': False,\n",
       "  'address': ['France', 'Loiret', 'Orléans']},\n",
       " {'_id': ObjectId('6887889713b2bc57a40b6033'),\n",
       "  'name': 'Jennifer',\n",
       "  'age': 16,\n",
       "  'weight': 59.8,\n",
       "  'is_employed': False,\n",
       "  'address': ['Suisse', 'Neuchâtel', 'Neuchâtel']}]"
      ]
     },
     "execution_count": 137,
     "metadata": {},
     "output_type": "execute_result"
    }
   ],
   "source": [
    "db_user.find({\"name\": {\"$lte\": \"Maeva\"}}).to_list()"
   ]
  },
  {
   "cell_type": "markdown",
   "id": "bdc739d9",
   "metadata": {},
   "source": [
    "### Exemple sur un entier"
   ]
  },
  {
   "cell_type": "code",
   "execution_count": 138,
   "id": "beed625b",
   "metadata": {},
   "outputs": [
    {
     "data": {
      "text/plain": [
       "[{'_id': ObjectId('6887889713b2bc57a40b6031'),\n",
       "  'name': 'James',\n",
       "  'age': 22,\n",
       "  'weight': 75.9,\n",
       "  'is_employed': False,\n",
       "  'address': ['France', 'Alpes Maritime', 'Nice']},\n",
       " {'_id': ObjectId('6887889713b2bc57a40b6033'),\n",
       "  'name': 'Jennifer',\n",
       "  'age': 16,\n",
       "  'weight': 59.8,\n",
       "  'is_employed': False,\n",
       "  'address': ['Suisse', 'Neuchâtel', 'Neuchâtel']}]"
      ]
     },
     "execution_count": 138,
     "metadata": {},
     "output_type": "execute_result"
    }
   ],
   "source": [
    "db_user.find({\"age\": {\"$lt\": 32}}).to_list()"
   ]
  },
  {
   "cell_type": "code",
   "execution_count": 139,
   "id": "88b101e6",
   "metadata": {},
   "outputs": [
    {
     "data": {
      "text/plain": [
       "[{'_id': ObjectId('6887889713b2bc57a40b602f'),\n",
       "  'name': 'Paul',\n",
       "  'age': 32,\n",
       "  'weight': 79.3,\n",
       "  'is_employed': True,\n",
       "  'address': ['France', 'Nord', 'Lille']},\n",
       " {'_id': ObjectId('6887889713b2bc57a40b6031'),\n",
       "  'name': 'James',\n",
       "  'age': 22,\n",
       "  'weight': 75.9,\n",
       "  'is_employed': False,\n",
       "  'address': ['France', 'Alpes Maritime', 'Nice']},\n",
       " {'_id': ObjectId('6887889713b2bc57a40b6033'),\n",
       "  'name': 'Jennifer',\n",
       "  'age': 16,\n",
       "  'weight': 59.8,\n",
       "  'is_employed': False,\n",
       "  'address': ['Suisse', 'Neuchâtel', 'Neuchâtel']}]"
      ]
     },
     "execution_count": 139,
     "metadata": {},
     "output_type": "execute_result"
    }
   ],
   "source": [
    "db_user.find({\"age\": {\"$lte\": 32}}).to_list()"
   ]
  },
  {
   "cell_type": "markdown",
   "id": "39b47837",
   "metadata": {},
   "source": [
    "### Exemple sur un nombre réel"
   ]
  },
  {
   "cell_type": "code",
   "execution_count": 140,
   "id": "3b0665b3",
   "metadata": {},
   "outputs": [
    {
     "data": {
      "text/plain": [
       "[{'_id': ObjectId('6887889713b2bc57a40b6032'),\n",
       "  'name': 'Maeva',\n",
       "  'age': 78,\n",
       "  'weight': 54.3,\n",
       "  'is_employed': False,\n",
       "  'address': ['France', 'Loiret', 'Orléans']},\n",
       " {'_id': ObjectId('6887889713b2bc57a40b6033'),\n",
       "  'name': 'Jennifer',\n",
       "  'age': 16,\n",
       "  'weight': 59.8,\n",
       "  'is_employed': False,\n",
       "  'address': ['Suisse', 'Neuchâtel', 'Neuchâtel']}]"
      ]
     },
     "execution_count": 140,
     "metadata": {},
     "output_type": "execute_result"
    }
   ],
   "source": [
    "db_user.find({\"weight\": {\"$lt\": 65.2}}).to_list()"
   ]
  },
  {
   "cell_type": "code",
   "execution_count": 141,
   "id": "c83fbff5",
   "metadata": {},
   "outputs": [
    {
     "data": {
      "text/plain": [
       "[{'_id': ObjectId('6887889713b2bc57a40b6030'),\n",
       "  'name': 'Maria',\n",
       "  'age': 52,\n",
       "  'weight': 65.2,\n",
       "  'is_employed': True,\n",
       "  'address': ['France', 'Gironde', 'Bordeaux']},\n",
       " {'_id': ObjectId('6887889713b2bc57a40b6032'),\n",
       "  'name': 'Maeva',\n",
       "  'age': 78,\n",
       "  'weight': 54.3,\n",
       "  'is_employed': False,\n",
       "  'address': ['France', 'Loiret', 'Orléans']},\n",
       " {'_id': ObjectId('6887889713b2bc57a40b6033'),\n",
       "  'name': 'Jennifer',\n",
       "  'age': 16,\n",
       "  'weight': 59.8,\n",
       "  'is_employed': False,\n",
       "  'address': ['Suisse', 'Neuchâtel', 'Neuchâtel']}]"
      ]
     },
     "execution_count": 141,
     "metadata": {},
     "output_type": "execute_result"
    }
   ],
   "source": [
    "db_user.find({\"weight\": {\"$lte\": 65.2}}).to_list()"
   ]
  },
  {
   "cell_type": "markdown",
   "id": "69cdfbe4",
   "metadata": {},
   "source": [
    "### Exemple sur un booléen"
   ]
  },
  {
   "cell_type": "code",
   "execution_count": 142,
   "id": "cff69a3d",
   "metadata": {},
   "outputs": [
    {
     "data": {
      "text/plain": [
       "[]"
      ]
     },
     "execution_count": 142,
     "metadata": {},
     "output_type": "execute_result"
    }
   ],
   "source": [
    "db_user.find({\"is_employed\": {\"$lt\": False}}).to_list()"
   ]
  },
  {
   "cell_type": "code",
   "execution_count": 143,
   "id": "c1874b40",
   "metadata": {},
   "outputs": [
    {
     "data": {
      "text/plain": [
       "[{'_id': ObjectId('6887889713b2bc57a40b602f'),\n",
       "  'name': 'Paul',\n",
       "  'age': 32,\n",
       "  'weight': 79.3,\n",
       "  'is_employed': True,\n",
       "  'address': ['France', 'Nord', 'Lille']},\n",
       " {'_id': ObjectId('6887889713b2bc57a40b6030'),\n",
       "  'name': 'Maria',\n",
       "  'age': 52,\n",
       "  'weight': 65.2,\n",
       "  'is_employed': True,\n",
       "  'address': ['France', 'Gironde', 'Bordeaux']},\n",
       " {'_id': ObjectId('6887889713b2bc57a40b6031'),\n",
       "  'name': 'James',\n",
       "  'age': 22,\n",
       "  'weight': 75.9,\n",
       "  'is_employed': False,\n",
       "  'address': ['France', 'Alpes Maritime', 'Nice']},\n",
       " {'_id': ObjectId('6887889713b2bc57a40b6032'),\n",
       "  'name': 'Maeva',\n",
       "  'age': 78,\n",
       "  'weight': 54.3,\n",
       "  'is_employed': False,\n",
       "  'address': ['France', 'Loiret', 'Orléans']},\n",
       " {'_id': ObjectId('6887889713b2bc57a40b6033'),\n",
       "  'name': 'Jennifer',\n",
       "  'age': 16,\n",
       "  'weight': 59.8,\n",
       "  'is_employed': False,\n",
       "  'address': ['Suisse', 'Neuchâtel', 'Neuchâtel']}]"
      ]
     },
     "execution_count": 143,
     "metadata": {},
     "output_type": "execute_result"
    }
   ],
   "source": [
    "db_user.find({\"is_employed\": {\"$gte\": False}}).to_list()"
   ]
  },
  {
   "cell_type": "markdown",
   "id": "ec57a7c6",
   "metadata": {},
   "source": [
    "À noter que les booléens étant associé à False:0 et True:1, l'ordre est logiquement établi ainsi."
   ]
  },
  {
   "cell_type": "markdown",
   "id": "c29b1c5e",
   "metadata": {},
   "source": [
    "### Exemple sur un vecteur"
   ]
  },
  {
   "cell_type": "code",
   "execution_count": 144,
   "id": "f6d42787",
   "metadata": {},
   "outputs": [
    {
     "data": {
      "text/plain": [
       "[{'_id': ObjectId('6887889713b2bc57a40b6030'),\n",
       "  'name': 'Maria',\n",
       "  'age': 52,\n",
       "  'weight': 65.2,\n",
       "  'is_employed': True,\n",
       "  'address': ['France', 'Gironde', 'Bordeaux']},\n",
       " {'_id': ObjectId('6887889713b2bc57a40b6031'),\n",
       "  'name': 'James',\n",
       "  'age': 22,\n",
       "  'weight': 75.9,\n",
       "  'is_employed': False,\n",
       "  'address': ['France', 'Alpes Maritime', 'Nice']}]"
      ]
     },
     "execution_count": 144,
     "metadata": {},
     "output_type": "execute_result"
    }
   ],
   "source": [
    "db_user.find({\"address\": {\"$lt\": [\"France\", \"Loiret\", \"Orléans\"]}}).to_list()"
   ]
  },
  {
   "cell_type": "code",
   "execution_count": 145,
   "id": "13f580ba",
   "metadata": {},
   "outputs": [
    {
     "data": {
      "text/plain": [
       "[{'_id': ObjectId('6887889713b2bc57a40b6030'),\n",
       "  'name': 'Maria',\n",
       "  'age': 52,\n",
       "  'weight': 65.2,\n",
       "  'is_employed': True,\n",
       "  'address': ['France', 'Gironde', 'Bordeaux']},\n",
       " {'_id': ObjectId('6887889713b2bc57a40b6031'),\n",
       "  'name': 'James',\n",
       "  'age': 22,\n",
       "  'weight': 75.9,\n",
       "  'is_employed': False,\n",
       "  'address': ['France', 'Alpes Maritime', 'Nice']},\n",
       " {'_id': ObjectId('6887889713b2bc57a40b6032'),\n",
       "  'name': 'Maeva',\n",
       "  'age': 78,\n",
       "  'weight': 54.3,\n",
       "  'is_employed': False,\n",
       "  'address': ['France', 'Loiret', 'Orléans']}]"
      ]
     },
     "execution_count": 145,
     "metadata": {},
     "output_type": "execute_result"
    }
   ],
   "source": [
    "db_user.find({\"address\": {\"$lte\": [\"France\", \"Loiret\", \"Orléans\"]}}).to_list()"
   ]
  },
  {
   "cell_type": "code",
   "execution_count": 146,
   "id": "9a0a49d3",
   "metadata": {},
   "outputs": [
    {
     "data": {
      "text/plain": [
       "[]"
      ]
     },
     "execution_count": 146,
     "metadata": {},
     "output_type": "execute_result"
    }
   ],
   "source": [
    "db_user.find({\"address\": {\"$lt\": [\"France\"]}}).to_list()"
   ]
  },
  {
   "cell_type": "markdown",
   "id": "49c56419",
   "metadata": {},
   "source": [
    "## 5. Les opérateurs `$in` et `$nin`"
   ]
  },
  {
   "cell_type": "markdown",
   "id": "de1fc627",
   "metadata": {},
   "source": [
    "Ces deux opérateurs suivants sont un équivalent à `$eq` et `$ne` mais en permettant de spécifier plusieurs valeurs de référence en même temps. Ils s'invoquent via le schéma suivant:\n",
    "\n",
    "`{ <field>: { $in: [<value1>, <value2>, ...] } }`\n",
    "\n",
    "ou \n",
    "\n",
    "`{ <field>: { $nin: [<value1>, <value2>, ...] } }`\n"
   ]
  },
  {
   "cell_type": "markdown",
   "id": "4b896039",
   "metadata": {},
   "source": [
    "### Exemple sur une chaîne de caractères"
   ]
  },
  {
   "cell_type": "code",
   "execution_count": 147,
   "id": "acc1112e",
   "metadata": {},
   "outputs": [
    {
     "data": {
      "text/plain": [
       "[{'_id': ObjectId('6887889713b2bc57a40b602f'),\n",
       "  'name': 'Paul',\n",
       "  'age': 32,\n",
       "  'weight': 79.3,\n",
       "  'is_employed': True,\n",
       "  'address': ['France', 'Nord', 'Lille']},\n",
       " {'_id': ObjectId('6887889713b2bc57a40b6032'),\n",
       "  'name': 'Maeva',\n",
       "  'age': 78,\n",
       "  'weight': 54.3,\n",
       "  'is_employed': False,\n",
       "  'address': ['France', 'Loiret', 'Orléans']}]"
      ]
     },
     "execution_count": 147,
     "metadata": {},
     "output_type": "execute_result"
    }
   ],
   "source": [
    "db_user.find({\"name\": {\"$in\": [\"Paul\", \"Maeva\"]}}).to_list()"
   ]
  },
  {
   "cell_type": "code",
   "execution_count": 148,
   "id": "2df2f276",
   "metadata": {},
   "outputs": [
    {
     "data": {
      "text/plain": [
       "[{'_id': ObjectId('6887889713b2bc57a40b6030'),\n",
       "  'name': 'Maria',\n",
       "  'age': 52,\n",
       "  'weight': 65.2,\n",
       "  'is_employed': True,\n",
       "  'address': ['France', 'Gironde', 'Bordeaux']},\n",
       " {'_id': ObjectId('6887889713b2bc57a40b6031'),\n",
       "  'name': 'James',\n",
       "  'age': 22,\n",
       "  'weight': 75.9,\n",
       "  'is_employed': False,\n",
       "  'address': ['France', 'Alpes Maritime', 'Nice']},\n",
       " {'_id': ObjectId('6887889713b2bc57a40b6033'),\n",
       "  'name': 'Jennifer',\n",
       "  'age': 16,\n",
       "  'weight': 59.8,\n",
       "  'is_employed': False,\n",
       "  'address': ['Suisse', 'Neuchâtel', 'Neuchâtel']}]"
      ]
     },
     "execution_count": 148,
     "metadata": {},
     "output_type": "execute_result"
    }
   ],
   "source": [
    "db_user.find({\"name\": {\"$nin\": [\"Paul\", \"Maeva\"]}}).to_list()"
   ]
  },
  {
   "cell_type": "markdown",
   "id": "3a563f03",
   "metadata": {},
   "source": [
    "### Exemple sur un entier"
   ]
  },
  {
   "cell_type": "code",
   "execution_count": 149,
   "id": "fa0e62e8",
   "metadata": {},
   "outputs": [
    {
     "data": {
      "text/plain": [
       "[{'_id': ObjectId('6887889713b2bc57a40b602f'),\n",
       "  'name': 'Paul',\n",
       "  'age': 32,\n",
       "  'weight': 79.3,\n",
       "  'is_employed': True,\n",
       "  'address': ['France', 'Nord', 'Lille']},\n",
       " {'_id': ObjectId('6887889713b2bc57a40b6032'),\n",
       "  'name': 'Maeva',\n",
       "  'age': 78,\n",
       "  'weight': 54.3,\n",
       "  'is_employed': False,\n",
       "  'address': ['France', 'Loiret', 'Orléans']}]"
      ]
     },
     "execution_count": 149,
     "metadata": {},
     "output_type": "execute_result"
    }
   ],
   "source": [
    "db_user.find({\"age\": {\"$in\": [32, 78]}}).to_list()"
   ]
  },
  {
   "cell_type": "code",
   "execution_count": 150,
   "id": "01a71ca3",
   "metadata": {},
   "outputs": [
    {
     "data": {
      "text/plain": [
       "[{'_id': ObjectId('6887889713b2bc57a40b6030'),\n",
       "  'name': 'Maria',\n",
       "  'age': 52,\n",
       "  'weight': 65.2,\n",
       "  'is_employed': True,\n",
       "  'address': ['France', 'Gironde', 'Bordeaux']},\n",
       " {'_id': ObjectId('6887889713b2bc57a40b6031'),\n",
       "  'name': 'James',\n",
       "  'age': 22,\n",
       "  'weight': 75.9,\n",
       "  'is_employed': False,\n",
       "  'address': ['France', 'Alpes Maritime', 'Nice']},\n",
       " {'_id': ObjectId('6887889713b2bc57a40b6033'),\n",
       "  'name': 'Jennifer',\n",
       "  'age': 16,\n",
       "  'weight': 59.8,\n",
       "  'is_employed': False,\n",
       "  'address': ['Suisse', 'Neuchâtel', 'Neuchâtel']}]"
      ]
     },
     "execution_count": 150,
     "metadata": {},
     "output_type": "execute_result"
    }
   ],
   "source": [
    "db_user.find({\"age\": {\"$nin\": [32, 78]}}).to_list()"
   ]
  },
  {
   "cell_type": "markdown",
   "id": "ce2c6d72",
   "metadata": {},
   "source": [
    "### Exemple sur un nombre réel"
   ]
  },
  {
   "cell_type": "code",
   "execution_count": 151,
   "id": "6ab0dfbc",
   "metadata": {},
   "outputs": [
    {
     "data": {
      "text/plain": [
       "[{'_id': ObjectId('6887889713b2bc57a40b602f'),\n",
       "  'name': 'Paul',\n",
       "  'age': 32,\n",
       "  'weight': 79.3,\n",
       "  'is_employed': True,\n",
       "  'address': ['France', 'Nord', 'Lille']},\n",
       " {'_id': ObjectId('6887889713b2bc57a40b6032'),\n",
       "  'name': 'Maeva',\n",
       "  'age': 78,\n",
       "  'weight': 54.3,\n",
       "  'is_employed': False,\n",
       "  'address': ['France', 'Loiret', 'Orléans']}]"
      ]
     },
     "execution_count": 151,
     "metadata": {},
     "output_type": "execute_result"
    }
   ],
   "source": [
    "db_user.find({\"weight\": {\"$in\": [79.3, 54.3]}}).to_list()"
   ]
  },
  {
   "cell_type": "code",
   "execution_count": 152,
   "id": "cdc0eb0b",
   "metadata": {},
   "outputs": [
    {
     "data": {
      "text/plain": [
       "[{'_id': ObjectId('6887889713b2bc57a40b6030'),\n",
       "  'name': 'Maria',\n",
       "  'age': 52,\n",
       "  'weight': 65.2,\n",
       "  'is_employed': True,\n",
       "  'address': ['France', 'Gironde', 'Bordeaux']},\n",
       " {'_id': ObjectId('6887889713b2bc57a40b6031'),\n",
       "  'name': 'James',\n",
       "  'age': 22,\n",
       "  'weight': 75.9,\n",
       "  'is_employed': False,\n",
       "  'address': ['France', 'Alpes Maritime', 'Nice']},\n",
       " {'_id': ObjectId('6887889713b2bc57a40b6033'),\n",
       "  'name': 'Jennifer',\n",
       "  'age': 16,\n",
       "  'weight': 59.8,\n",
       "  'is_employed': False,\n",
       "  'address': ['Suisse', 'Neuchâtel', 'Neuchâtel']}]"
      ]
     },
     "execution_count": 152,
     "metadata": {},
     "output_type": "execute_result"
    }
   ],
   "source": [
    "db_user.find({\"weight\": {\"$nin\": [79.3, 54.3]}}).to_list()"
   ]
  },
  {
   "cell_type": "markdown",
   "id": "4098e06b",
   "metadata": {},
   "source": [
    "### Exemple sur un booléen"
   ]
  },
  {
   "cell_type": "code",
   "execution_count": 153,
   "id": "9d87fc12",
   "metadata": {},
   "outputs": [
    {
     "data": {
      "text/plain": [
       "[{'_id': ObjectId('6887889713b2bc57a40b602f'),\n",
       "  'name': 'Paul',\n",
       "  'age': 32,\n",
       "  'weight': 79.3,\n",
       "  'is_employed': True,\n",
       "  'address': ['France', 'Nord', 'Lille']},\n",
       " {'_id': ObjectId('6887889713b2bc57a40b6030'),\n",
       "  'name': 'Maria',\n",
       "  'age': 52,\n",
       "  'weight': 65.2,\n",
       "  'is_employed': True,\n",
       "  'address': ['France', 'Gironde', 'Bordeaux']},\n",
       " {'_id': ObjectId('6887889713b2bc57a40b6031'),\n",
       "  'name': 'James',\n",
       "  'age': 22,\n",
       "  'weight': 75.9,\n",
       "  'is_employed': False,\n",
       "  'address': ['France', 'Alpes Maritime', 'Nice']},\n",
       " {'_id': ObjectId('6887889713b2bc57a40b6032'),\n",
       "  'name': 'Maeva',\n",
       "  'age': 78,\n",
       "  'weight': 54.3,\n",
       "  'is_employed': False,\n",
       "  'address': ['France', 'Loiret', 'Orléans']},\n",
       " {'_id': ObjectId('6887889713b2bc57a40b6033'),\n",
       "  'name': 'Jennifer',\n",
       "  'age': 16,\n",
       "  'weight': 59.8,\n",
       "  'is_employed': False,\n",
       "  'address': ['Suisse', 'Neuchâtel', 'Neuchâtel']}]"
      ]
     },
     "execution_count": 153,
     "metadata": {},
     "output_type": "execute_result"
    }
   ],
   "source": [
    "db_user.find({\"is_employed\": {\"$in\": [True, False]}}).to_list()"
   ]
  },
  {
   "cell_type": "code",
   "execution_count": 154,
   "id": "773ad335",
   "metadata": {},
   "outputs": [
    {
     "data": {
      "text/plain": [
       "[]"
      ]
     },
     "execution_count": 154,
     "metadata": {},
     "output_type": "execute_result"
    }
   ],
   "source": [
    "db_user.find({\"is_employed\": {\"$nin\": [True, False]}}).to_list()"
   ]
  },
  {
   "cell_type": "markdown",
   "id": "51f11352",
   "metadata": {},
   "source": [
    "### Exemple sur un vecteur"
   ]
  },
  {
   "cell_type": "code",
   "execution_count": 155,
   "id": "8813f50d",
   "metadata": {},
   "outputs": [
    {
     "data": {
      "text/plain": [
       "[{'_id': ObjectId('6887889713b2bc57a40b602f'),\n",
       "  'name': 'Paul',\n",
       "  'age': 32,\n",
       "  'weight': 79.3,\n",
       "  'is_employed': True,\n",
       "  'address': ['France', 'Nord', 'Lille']},\n",
       " {'_id': ObjectId('6887889713b2bc57a40b6032'),\n",
       "  'name': 'Maeva',\n",
       "  'age': 78,\n",
       "  'weight': 54.3,\n",
       "  'is_employed': False,\n",
       "  'address': ['France', 'Loiret', 'Orléans']}]"
      ]
     },
     "execution_count": 155,
     "metadata": {},
     "output_type": "execute_result"
    }
   ],
   "source": [
    "db_user.find({\"address\": {\"$in\": [[\"France\", \"Nord\", \"Lille\"], [\"France\", \"Loiret\", \"Orléans\"]]}}).to_list()"
   ]
  },
  {
   "cell_type": "code",
   "execution_count": 156,
   "id": "cd2aa4c7",
   "metadata": {},
   "outputs": [
    {
     "data": {
      "text/plain": [
       "[{'_id': ObjectId('6887889713b2bc57a40b6030'),\n",
       "  'name': 'Maria',\n",
       "  'age': 52,\n",
       "  'weight': 65.2,\n",
       "  'is_employed': True,\n",
       "  'address': ['France', 'Gironde', 'Bordeaux']},\n",
       " {'_id': ObjectId('6887889713b2bc57a40b6031'),\n",
       "  'name': 'James',\n",
       "  'age': 22,\n",
       "  'weight': 75.9,\n",
       "  'is_employed': False,\n",
       "  'address': ['France', 'Alpes Maritime', 'Nice']},\n",
       " {'_id': ObjectId('6887889713b2bc57a40b6033'),\n",
       "  'name': 'Jennifer',\n",
       "  'age': 16,\n",
       "  'weight': 59.8,\n",
       "  'is_employed': False,\n",
       "  'address': ['Suisse', 'Neuchâtel', 'Neuchâtel']}]"
      ]
     },
     "execution_count": 156,
     "metadata": {},
     "output_type": "execute_result"
    }
   ],
   "source": [
    "db_user.find({\"address\": {\"$nin\": [[\"France\", \"Nord\", \"Lille\"], [\"France\", \"Loiret\", \"Orléans\"]]}}).to_list()"
   ]
  }
 ],
 "metadata": {
  "kernelspec": {
   "display_name": ".venv",
   "language": "python",
   "name": "python3"
  },
  "language_info": {
   "codemirror_mode": {
    "name": "ipython",
    "version": 3
   },
   "file_extension": ".py",
   "mimetype": "text/x-python",
   "name": "python",
   "nbconvert_exporter": "python",
   "pygments_lexer": "ipython3",
   "version": "3.12.3"
  }
 },
 "nbformat": 4,
 "nbformat_minor": 5
}
